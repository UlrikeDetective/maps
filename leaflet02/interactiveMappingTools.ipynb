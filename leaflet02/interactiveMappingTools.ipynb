{
 "cells": [
  {
   "cell_type": "markdown",
   "metadata": {},
   "source": [
    "# Creating Interactive Mapping Tools for 2025 in Divi Theme with Leaflet.js and OpenStreetMap"
   ]
  },
  {
   "cell_type": "markdown",
   "metadata": {},
   "source": [
    "npm install leaflet\n",
    "\n",
    "### Step 2: Basic Map Setup\n",
    "After installing Leaflet.js, let’s set up a simple interactive map. First, create a map.js file and include the following code:"
   ]
  }
 ],
 "metadata": {
  "kernelspec": {
   "display_name": "maps_env",
   "language": "python",
   "name": "python3"
  },
  "language_info": {
   "codemirror_mode": {
    "name": "ipython",
    "version": 3
   },
   "file_extension": ".py",
   "mimetype": "text/x-python",
   "name": "python",
   "nbconvert_exporter": "python",
   "pygments_lexer": "ipython3",
   "version": "3.11.8"
  }
 },
 "nbformat": 4,
 "nbformat_minor": 2
}
