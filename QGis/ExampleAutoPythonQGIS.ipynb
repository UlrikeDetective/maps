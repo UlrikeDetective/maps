{
 "cells": [
  {
   "cell_type": "markdown",
   "id": "65ee80ed",
   "metadata": {},
   "source": [
    "## Fully automated Python workflow for San Francisco. \n",
    "\n",
    "It will:\n",
    "\n",
    "Download the .osm.pbf data.\n",
    "\n",
    "Load it with pyrosm or quackosm.\n",
    "\n",
    "Extract parks, streets, and buildings as separate GeoDataFrames.\n",
    "\n",
    "Save them as GeoPackage files, ready to load into QGIS."
   ]
  },
  {
   "cell_type": "code",
   "execution_count": 2,
   "id": "d8ed5489",
   "metadata": {},
   "outputs": [],
   "source": [
    "# Install necessary packages if not already installed\n",
    "# %pip install pyrosm quackosm geopandas"
   ]
  },
  {
   "cell_type": "code",
   "execution_count": 4,
   "id": "0d1159ca",
   "metadata": {},
   "outputs": [
    {
     "data": {
      "application/vnd.jupyter.widget-view+json": {
       "model_id": "cd062a4bb5aa4006a07a88fc226e9832",
       "version_major": 2,
       "version_minor": 0
      },
      "text/plain": [
       "Output()"
      ]
     },
     "metadata": {},
     "output_type": "display_data"
    },
    {
     "name": "stdout",
     "output_type": "stream",
     "text": [
      "Download complete!\n",
      "Loading OSM data with quackosm...\n"
     ]
    },
    {
     "data": {
      "text/html": [
       "<pre style=\"white-space:pre;overflow-x:auto;line-height:normal;font-family:Menlo,'DejaVu Sans Mono',consolas,'Courier New',monospace\">Encountered MemoryError during operation. Retrying with lower number of rows per group <span style=\"font-weight: bold\">(</span><span style=\"color: #008080; text-decoration-color: #008080; font-weight: bold\">4000000</span><span style=\"font-weight: bold\">)</span>.\n",
       "</pre>\n"
      ],
      "text/plain": [
       "Encountered MemoryError during operation. Retrying with lower number of rows per group \u001b[1m(\u001b[0m\u001b[1;36m4000000\u001b[0m\u001b[1m)\u001b[0m.\n"
      ]
     },
     "metadata": {},
     "output_type": "display_data"
    },
    {
     "name": "stderr",
     "output_type": "stream",
     "text": [
      "libc++abi: terminating due to uncaught exception of type duckdb::OutOfMemoryException: {\"exception_type\":\"Out of Memory\",\"exception_message\":\"failed to pin block of size 256.0 KiB (12.7 GiB/12.7 GiB used)\\n\\nPossible solutions:\\n* Reducing the number of threads (SET threads=X)\\n* Disabling insertion-order preservation (SET preserve_insertion_order=false)\\n* Increasing the memory limit (SET memory_limit='...GB')\\n\\nSee also https://duckdb.org/docs/stable/guides/performance/how_to_tune_workloads\"}\n"
     ]
    },
    {
     "data": {
      "text/html": [
       "<pre style=\"white-space:pre;overflow-x:auto;line-height:normal;font-family:Menlo,'DejaVu Sans Mono',consolas,'Courier New',monospace\">Encountered MemoryError during operation. Retrying with lower number of rows per group <span style=\"font-weight: bold\">(</span><span style=\"color: #008080; text-decoration-color: #008080; font-weight: bold\">1000000</span><span style=\"font-weight: bold\">)</span>.\n",
       "</pre>\n"
      ],
      "text/plain": [
       "Encountered MemoryError during operation. Retrying with lower number of rows per group \u001b[1m(\u001b[0m\u001b[1;36m1000000\u001b[0m\u001b[1m)\u001b[0m.\n"
      ]
     },
     "metadata": {},
     "output_type": "display_data"
    },
    {
     "data": {
      "text/html": [
       "<pre style=\"white-space:pre;overflow-x:auto;line-height:normal;font-family:Menlo,'DejaVu Sans Mono',consolas,'Courier New',monospace\"></pre>\n"
      ],
      "text/plain": []
     },
     "metadata": {},
     "output_type": "display_data"
    },
    {
     "data": {
      "text/html": [
       "<pre style=\"white-space:pre;overflow-x:auto;line-height:normal;font-family:Menlo,'DejaVu Sans Mono',consolas,'Courier New',monospace\">\n",
       "</pre>\n"
      ],
      "text/plain": [
       "\n"
      ]
     },
     "metadata": {},
     "output_type": "display_data"
    },
    {
     "data": {
      "text/html": [
       "<pre style=\"white-space:pre;overflow-x:auto;line-height:normal;font-family:Menlo,'DejaVu Sans Mono',consolas,'Courier New',monospace\">Finished operation in <span style=\"color: #808000; text-decoration-color: #808000; font-weight: bold\">0:06:24</span>\n",
       "</pre>\n"
      ],
      "text/plain": [
       "Finished operation in \u001b[1;33m0:06:24\u001b[0m\n"
      ]
     },
     "metadata": {},
     "output_type": "display_data"
    },
    {
     "name": "stdout",
     "output_type": "stream",
     "text": [
      "OSM loaded: 9060584 features\n"
     ]
    },
    {
     "ename": "AttributeError",
     "evalue": "'str' object has no attribute 'fillna'",
     "output_type": "error",
     "traceback": [
      "\u001b[31m---------------------------------------------------------------------------\u001b[39m",
      "\u001b[31mAttributeError\u001b[39m                            Traceback (most recent call last)",
      "\u001b[36mCell\u001b[39m\u001b[36m \u001b[39m\u001b[32mIn[4]\u001b[39m\u001b[32m, line 37\u001b[39m\n\u001b[32m     29\u001b[39m \u001b[38;5;28mprint\u001b[39m(\u001b[33m\"\u001b[39m\u001b[33mOSM loaded:\u001b[39m\u001b[33m\"\u001b[39m, \u001b[38;5;28mlen\u001b[39m(gdf), \u001b[33m\"\u001b[39m\u001b[33mfeatures\u001b[39m\u001b[33m\"\u001b[39m)\n\u001b[32m     31\u001b[39m \u001b[38;5;66;03m# -------------------------------\u001b[39;00m\n\u001b[32m     32\u001b[39m \u001b[38;5;66;03m# 3️⃣ Extract features\u001b[39;00m\n\u001b[32m     33\u001b[39m \u001b[38;5;66;03m# -------------------------------\u001b[39;00m\n\u001b[32m     34\u001b[39m \u001b[38;5;66;03m# Parks\u001b[39;00m\n\u001b[32m     35\u001b[39m \u001b[38;5;66;03m# Ensure the keys exist\u001b[39;00m\n\u001b[32m     36\u001b[39m parks = gdf[\n\u001b[32m---> \u001b[39m\u001b[32m37\u001b[39m     \u001b[43mgdf\u001b[49m\u001b[43m.\u001b[49m\u001b[43mget\u001b[49m\u001b[43m(\u001b[49m\u001b[33;43m\"\u001b[39;49m\u001b[33;43mleisure\u001b[39;49m\u001b[33;43m\"\u001b[39;49m\u001b[43m,\u001b[49m\u001b[43m \u001b[49m\u001b[33;43m\"\u001b[39;49m\u001b[33;43m\"\u001b[39;49m\u001b[43m)\u001b[49m\u001b[43m.\u001b[49m\u001b[43mfillna\u001b[49m(\u001b[33m\"\u001b[39m\u001b[33m\"\u001b[39m).isin([\u001b[33m\"\u001b[39m\u001b[33mpark\u001b[39m\u001b[33m\"\u001b[39m]) |\n\u001b[32m     38\u001b[39m     gdf.get(\u001b[33m\"\u001b[39m\u001b[33mlanduse\u001b[39m\u001b[33m\"\u001b[39m, \u001b[33m\"\u001b[39m\u001b[33m\"\u001b[39m).fillna(\u001b[33m\"\u001b[39m\u001b[33m\"\u001b[39m).isin([\u001b[33m\"\u001b[39m\u001b[33mrecreation_ground\u001b[39m\u001b[33m\"\u001b[39m])\n\u001b[32m     39\u001b[39m ]\n\u001b[32m     41\u001b[39m \u001b[38;5;28mprint\u001b[39m(\u001b[33m\"\u001b[39m\u001b[33mParks:\u001b[39m\u001b[33m\"\u001b[39m, \u001b[38;5;28mlen\u001b[39m(parks))\n\u001b[32m     43\u001b[39m \u001b[38;5;66;03m# Buildings\u001b[39;00m\n",
      "\u001b[31mAttributeError\u001b[39m: 'str' object has no attribute 'fillna'"
     ]
    }
   ],
   "source": [
    "import os\n",
    "import quackosm as qosm\n",
    "from pyrosm import OSM, get_data\n",
    "import geopandas as gpd\n",
    "\n",
    "# -------------------------------\n",
    "# 1️⃣ Download San Francisco OSM data (Geofabrik)\n",
    "# -------------------------------\n",
    "# You can replace this with a local path if you already have the .osm.pbf\n",
    "import requests\n",
    "\n",
    "sf_pbf_url = \"https://download.geofabrik.de/north-america/us/california/norcal-latest.osm.pbf\"\n",
    "sf_pbf_file = \"san-francisco.osm.pbf\"\n",
    "\n",
    "with requests.get(sf_pbf_url, stream=True) as r:\n",
    "    r.raise_for_status()  # stop if download fails\n",
    "    with open(sf_pbf_file, \"wb\") as f:\n",
    "        for chunk in r.iter_content(chunk_size=1024*1024):\n",
    "            if chunk:\n",
    "                f.write(chunk)\n",
    "\n",
    "    print(\"Download complete!\")\n",
    "\n",
    "# -------------------------------\n",
    "# 2️⃣ Load OSM with quackosm\n",
    "# -------------------------------\n",
    "print(\"Loading OSM data with quackosm...\")\n",
    "gdf = qosm.convert_pbf_to_geodataframe(sf_pbf_file)\n",
    "print(\"OSM loaded:\", len(gdf), \"features\")\n",
    "\n",
    "# -------------------------------\n",
    "# 3️⃣ Extract features\n",
    "# -------------------------------\n",
    "# Parks\n",
    "# Ensure the keys exist\n",
    "parks = gdf[\n",
    "    gdf.get(\"leisure\", \"\").fillna(\"\").isin([\"park\"]) |\n",
    "    gdf.get(\"landuse\", \"\").fillna(\"\").isin([\"recreation_ground\"])\n",
    "]\n",
    "\n",
    "print(\"Parks:\", len(parks))\n",
    "\n",
    "# Buildings\n",
    "buildings = gdf[gdf[\"building\"].notna()]\n",
    "print(\"Buildings:\", len(buildings))\n",
    "\n",
    "# Streets (highways)\n",
    "streets = gdf[gdf[\"highway\"].notna()]\n",
    "print(\"Streets:\", len(streets))\n",
    "\n",
    "# -------------------------------\n",
    "# 4️⃣ Save to GeoPackage for QGIS\n",
    "# -------------------------------\n",
    "output_folder = \"san_francisco_layers\"\n",
    "os.makedirs(output_folder, exist_ok=True)\n",
    "\n",
    "parks.to_file(os.path.join(output_folder, \"parks.gpkg\"), layer=\"parks\", driver=\"GPKG\")\n",
    "buildings.to_file(os.path.join(output_folder, \"buildings.gpkg\"), layer=\"buildings\", driver=\"GPKG\")\n",
    "streets.to_file(os.path.join(output_folder, \"streets.gpkg\"), layer=\"streets\", driver=\"GPKG\")\n",
    "\n",
    "print(f\"Saved layers to folder: {output_folder}\")\n"
   ]
  },
  {
   "cell_type": "code",
   "execution_count": 3,
   "id": "8c6509c7",
   "metadata": {},
   "outputs": [
    {
     "data": {
      "text/html": [
       "<pre style=\"white-space:pre;overflow-x:auto;line-height:normal;font-family:Menlo,'DejaVu Sans Mono',consolas,'Courier New',monospace\">\n",
       "</pre>\n"
      ],
      "text/plain": [
       "\n"
      ]
     },
     "metadata": {},
     "output_type": "display_data"
    }
   ],
   "source": [
    "import quackosm as qosm\n",
    "gdf = qosm.convert_pbf_to_geodataframe(\"san-francisco.osm.pbf\")\n"
   ]
  },
  {
   "cell_type": "markdown",
   "id": "db8dc3f5",
   "metadata": {},
   "source": [
    "✅ How to use in QGIS\n",
    "\n",
    "Open QGIS.\n",
    "\n",
    "Layer → Add Layer → Add Vector Layer → GeoPackage.\n",
    "\n",
    "Select parks.gpkg, buildings.gpkg, and streets.gpkg.\n",
    "\n",
    "The layers are ready to style:\n",
    "\n",
    "Parks → green fill\n",
    "\n",
    "Buildings → gray fill\n",
    "\n",
    "Streets → black or colored lines\n",
    "\n",
    "🔹 Notes\n",
    "\n",
    "quackosm.convert_pbf_to_geodataframe() handles all OSM tags.\n",
    "\n",
    "You can filter by other tags (waterways, railways, landuse, etc.) the same way."
   ]
  },
  {
   "cell_type": "markdown",
   "id": "a1201ba8",
   "metadata": {},
   "source": [
    "### Let’s make an enhanced Python workflow for Paris OSM data that:\n",
    "\n",
    "Downloads the PBF (with automatic size check).\n",
    "\n",
    "Loads it using quackosm.\n",
    "\n",
    "Extracts parks, buildings, and streets.\n",
    "\n",
    "Saves them as GeoPackages.\n",
    "\n",
    "Applies nice default styles (colors, line widths, transparency) in QGIS-ready form."
   ]
  },
  {
   "cell_type": "code",
   "execution_count": null,
   "id": "782c46f0",
   "metadata": {},
   "outputs": [],
   "source": [
    "# Enhanced San Francisco OSM workflow\n",
    "# --------------------------------------------------\n",
    "# Install dependencies if needed:\n",
    "# !pip install quackosm geopandas\n",
    "\n",
    "import os\n",
    "import requests\n",
    "import quackosm as qosm\n",
    "import geopandas as gpd\n",
    "\n",
    "# -------------------------------\n",
    "# 1️⃣ Download San Francisco OSM data (with size check)\n",
    "# -------------------------------\n",
    "sf_pbf_url = \"https://download.geofabrik.de/europe/france/ile-de-france.osm.pbf\"\n",
    "sf_pbf_file = \"ile-de-france.osm.pbf\"\n",
    "expected_size_bytes = 96810294  # ~96 MB\n",
    "\n",
    "download_needed = True\n",
    "if os.path.exists(sf_pbf_file):\n",
    "    actual_size = os.path.getsize(sf_pbf_file)\n",
    "    if actual_size >= expected_size_bytes:\n",
    "        download_needed = False\n",
    "    else:\n",
    "        print(\"Existing file incomplete. Redownloading...\")\n",
    "        os.remove(sf_pbf_file)\n",
    "\n",
    "if download_needed:\n",
    "    print(\"Downloading Paris OSM data (~96MB)...\")\n",
    "    with requests.get(sf_pbf_url, stream=True) as r:\n",
    "        r.raise_for_status()\n",
    "        with open(sf_pbf_file, \"wb\") as f:\n",
    "            for chunk in r.iter_content(chunk_size=1024*1024):\n",
    "                if chunk:\n",
    "                    f.write(chunk)\n",
    "    print(\"Download complete!\")\n",
    "\n",
    "# -------------------------------\n",
    "# 2️⃣ Load OSM with quackosm\n",
    "# -------------------------------\n",
    "print(\"Loading OSM data with quackosm...\")\n",
    "gdf = qosm.convert_pbf_to_geodataframe(sf_pbf_file)\n",
    "print(\"OSM loaded:\", len(gdf), \"features\")\n",
    "\n",
    "# -------------------------------\n",
    "# 3️⃣ Extract feature layers\n",
    "# -------------------------------\n",
    "# Ensure the keys exist\n",
    "parks = gdf[\n",
    "    gdf.get(\"leisure\", \"\").fillna(\"\").isin([\"park\"]) |\n",
    "    gdf.get(\"landuse\", \"\").fillna(\"\").isin([\"recreation_ground\"])\n",
    "]\n",
    "\n",
    "buildings = gdf[gdf[\"building\"].notna()]\n",
    "streets = gdf[gdf[\"highway\"].notna()]\n",
    "\n",
    "print(\"Features extracted:\")\n",
    "print(\"Parks:\", len(parks))\n",
    "print(\"Buildings:\", len(buildings))\n",
    "print(\"Streets:\", len(streets))\n",
    "\n",
    "# -------------------------------\n",
    "# 4️⃣ Save to GeoPackage with styling hints\n",
    "# -------------------------------\n",
    "output_folder = \"paris_layers\"\n",
    "os.makedirs(output_folder, exist_ok=True)\n",
    "\n",
    "# Function to save with styling metadata\n",
    "def save_gpkg_with_style(gdf, filename, layer_name, style):\n",
    "    path = os.path.join(output_folder, filename)\n",
    "    gdf.to_file(path, layer=layer_name, driver=\"GPKG\")\n",
    "    # Save simple style metadata in a companion JSON (optional)\n",
    "    import json\n",
    "    style_file = path.replace(\".gpkg\", \"_style.json\")\n",
    "    with open(style_file, \"w\") as f:\n",
    "        json.dump(style, f, indent=2)\n",
    "\n",
    "# Define simple style dictionaries\n",
    "park_style = {\"fill_color\": \"#78C679\", \"outline_color\": \"#4FCE30\", \"fill_opacity\": 0.5}\n",
    "building_style = {\"fill_color\": \"#987E7E\", \"outline_color\": \"#666666\", \"fill_opacity\": 1.0}\n",
    "street_style = {\"line_color\": \"#271717\", \"line_width\": 0.8}\n",
    "\n",
    "save_gpkg_with_style(parks, \"parks.gpkg\", \"parks\", park_style)\n",
    "save_gpkg_with_style(buildings, \"buildings.gpkg\", \"buildings\", building_style)\n",
    "save_gpkg_with_style(streets, \"streets.gpkg\", \"streets\", street_style)\n",
    "\n",
    "print(f\"Layers saved to '{output_folder}' with styling hints. Ready for QGIS!\")\n"
   ]
  },
  {
   "cell_type": "markdown",
   "id": "cb600f05",
   "metadata": {},
   "source": [
    "✅ How it works\n",
    "\n",
    "Automatic download check: ensures the .osm.pbf file is complete before loading.\n",
    "\n",
    "Feature extraction: separates parks, buildings, streets into GeoDataFrames.\n",
    "\n",
    "GeoPackage export: saves each layer in a single .gpkg file.\n",
    "\n",
    "Styling hints: writes a companion JSON with colors and opacities. QGIS doesn’t read this automatically, but you can use it as reference for styling layers quickly.\n",
    "\n",
    "💡 Styling in QGIS\n",
    "\n",
    "Load each .gpkg layer.\n",
    "\n",
    "Open Layer → Properties → Symbology.\n",
    "\n",
    "Apply the colors from the JSON:\n",
    "\n",
    "Parks → green fill with transparency\n",
    "\n",
    "Buildings → gray fill\n",
    "\n",
    "Streets → thin dark lines"
   ]
  },
  {
   "cell_type": "markdown",
   "id": "73730e96",
   "metadata": {},
   "source": [
    "### fancier, fully automated workflow for QGIS using PyQGIS. This version:\n",
    "\n",
    "Downloads San Francisco OSM PBF (with file size check).\n",
    "\n",
    "Loads it using quackosm into GeoDataFrames.\n",
    "\n",
    "Extracts parks, buildings, streets safely (avoiding KeyErrors).\n",
    "\n",
    "Saves them as GeoPackages.\n",
    "\n",
    "Automatically loads them into QGIS and applies nice styles with PyQGIS.\n",
    "\n",
    "⚠️ This needs to be run inside the QGIS Python console or as a QGIS standalone script."
   ]
  },
  {
   "cell_type": "code",
   "execution_count": null,
   "id": "08af3d51",
   "metadata": {},
   "outputs": [],
   "source": [
    "# ------------------------------------------------------\n",
    "# Fully Automated San Francisco OSM Workflow with PyQGIS\n",
    "# ------------------------------------------------------\n",
    "\n",
    "import os\n",
    "import requests\n",
    "import quackosm as qosm\n",
    "import geopandas as gpd\n",
    "\n",
    "# -------------------------------\n",
    "# 1️⃣ Download Ibizs OSM data\n",
    "# -------------------------------\n",
    "sf_pbf_url = \"https://download.geofabrik.de/europe/spain/islas-baleares.osm.pbf\"\n",
    "sf_pbf_file = \"islas-baleares.osm.pbf\"\n",
    "expected_size_bytes = 96810294  # ~96 MB\n",
    "\n",
    "if not os.path.exists(sf_pbf_file) or os.path.getsize(sf_pbf_file) < expected_size_bytes:\n",
    "    print(\"Downloading Ibiza OSM data (~96MB)...\")\n",
    "    with requests.get(sf_pbf_url, stream=True) as r:\n",
    "        r.raise_for_status()\n",
    "        with open(sf_pbf_file, \"wb\") as f:\n",
    "            for chunk in r.iter_content(chunk_size=1024*1024):\n",
    "                if chunk:\n",
    "                    f.write(chunk)\n",
    "    print(\"Download complete!\")\n",
    "\n",
    "# -------------------------------\n",
    "# 2️⃣ Load OSM with quackosm\n",
    "# -------------------------------\n",
    "print(\"Loading OSM data with quackosm...\")\n",
    "gdf = qosm.convert_pbf_to_geodataframe(sf_pbf_file)\n",
    "print(\"OSM loaded:\", len(gdf), \"features\")\n",
    "\n",
    "# -------------------------------\n",
    "# 3️⃣ Extract features safely\n",
    "# -------------------------------\n",
    "def get_column_safe(gdf, col):\n",
    "    \"\"\"Return column if exists, otherwise empty string\"\"\"\n",
    "    if col in gdf.columns:\n",
    "        return gdf[col].fillna(\"\")\n",
    "    else:\n",
    "        return pd.Series([\"\"] * len(gdf))\n",
    "\n",
    "import pandas as pd\n",
    "\n",
    "parks = gdf[\n",
    "    gdf.get(\"leisure\", \"\").fillna(\"\").isin([\"park\"]) |\n",
    "    gdf.get(\"landuse\", \"\").fillna(\"\").isin([\"recreation_ground\"])\n",
    "]\n",
    "\n",
    "buildings = gdf[get_column_safe(gdf, \"building\") != \"\"]\n",
    "streets = gdf[get_column_safe(gdf, \"highway\") != \"\"]\n",
    "\n",
    "print(\"Features extracted:\")\n",
    "print(\"Parks:\", len(parks))\n",
    "print(\"Buildings:\", len(buildings))\n",
    "print(\"Streets:\", len(streets))\n",
    "\n",
    "# -------------------------------\n",
    "# 4️⃣ Save GeoPackages\n",
    "# -------------------------------\n",
    "output_folder = \"san_francisco_layers\"\n",
    "os.makedirs(output_folder, exist_ok=True)\n",
    "\n",
    "parks_fp = os.path.join(output_folder, \"parks.gpkg\")\n",
    "buildings_fp = os.path.join(output_folder, \"buildings.gpkg\")\n",
    "streets_fp = os.path.join(output_folder, \"streets.gpkg\")\n",
    "\n",
    "parks.to_file(parks_fp, layer=\"parks\", driver=\"GPKG\")\n",
    "buildings.to_file(buildings_fp, layer=\"buildings\", driver=\"GPKG\")\n",
    "streets.to_file(streets_fp, layer=\"streets\", driver=\"GPKG\")\n",
    "\n",
    "print(f\"Saved layers to {output_folder}\")\n",
    "\n",
    "# -------------------------------\n",
    "# 5️⃣ Load layers into QGIS and apply styles\n",
    "# -------------------------------\n",
    "from qgis.core import QgsProject, QgsVectorLayer, QgsFillSymbol, QgsLineSymbol, QgsSymbol\n",
    "\n",
    "project = QgsProject.instance()\n",
    "\n",
    "# Function to load layer and apply style\n",
    "def load_and_style(gpkg_path, layer_name, geom_type, style_dict):\n",
    "    vlayer = QgsVectorLayer(f\"{gpkg_path}|layername={layer_name}\", layer_name, \"ogr\")\n",
    "    if not vlayer.isValid():\n",
    "        print(f\"Failed to load {layer_name}\")\n",
    "        return None\n",
    "    project.addMapLayer(vlayer)\n",
    "    \n",
    "    if geom_type == \"polygon\":\n",
    "        symbol = QgsFillSymbol.createSimple({\n",
    "            \"color\": style_dict[\"fill_color\"],\n",
    "            \"outline_color\": style_dict.get(\"outline_color\", \"#000000\"),\n",
    "            \"outline_width\": str(style_dict.get(\"outline_width\", 0.26)),\n",
    "            \"style\": \"solid\"\n",
    "        })\n",
    "        vlayer.renderer().setSymbol(symbol)\n",
    "    elif geom_type == \"line\":\n",
    "        symbol = QgsLineSymbol.createSimple({\n",
    "            \"color\": style_dict[\"line_color\"],\n",
    "            \"width\": str(style_dict.get(\"line_width\", 0.5))\n",
    "        })\n",
    "        vlayer.renderer().setSymbol(symbol)\n",
    "    vlayer.triggerRepaint()\n",
    "    return vlayer\n",
    "\n",
    "# Define styles\n",
    "park_style = {\"fill_color\": \"#78C679\", \"outline_color\": \"#4B8B3B\", \"outline_width\": 0.3}\n",
    "building_style = {\"fill_color\": \"#B0B0B0\", \"outline_color\": \"#666666\", \"outline_width\": 0.2}\n",
    "street_style = {\"line_color\": \"#333333\", \"line_width\": 0.8}\n",
    "\n",
    "# Load and style\n",
    "load_and_style(parks_fp, \"parks\", \"polygon\", park_style)\n",
    "load_and_style(buildings_fp, \"buildings\", \"polygon\", building_style)\n",
    "load_and_style(streets_fp, \"streets\", \"line\", street_style)\n",
    "\n",
    "print(\"All layers loaded and styled in QGIS!\")\n"
   ]
  },
  {
   "cell_type": "markdown",
   "id": "863148f0",
   "metadata": {},
   "source": [
    "✅ Features of this script\n",
    "\n",
    "Automatic download of San Francisco .osm.pbf with size check.\n",
    "\n",
    "Safe tag extraction (avoids KeyErrors).\n",
    "\n",
    "GeoPackage export for easy QGIS import.\n",
    "\n",
    "Automatic loading into QGIS using PyQGIS.\n",
    "\n",
    "Custom styling applied (green parks, gray buildings, black streets).\n",
    "\n",
    "💡 How to run\n",
    "\n",
    "Option A: QGIS Python Console\n",
    "\n",
    "Open QGIS → Plugins → Python Console\n",
    "\n",
    "Copy-paste the script and run.\n",
    "\n",
    "Option B: Standalone QGIS script\n",
    "\n",
    "Save as san_francisco_qgis.py and run with QGIS Python environment:\n",
    "\n",
    "qgis_process run python3:san_francisco_qgis.py\n"
   ]
  }
 ],
 "metadata": {
  "kernelspec": {
   "display_name": "maps_env311",
   "language": "python",
   "name": "python3"
  },
  "language_info": {
   "codemirror_mode": {
    "name": "ipython",
    "version": 3
   },
   "file_extension": ".py",
   "mimetype": "text/x-python",
   "name": "python",
   "nbconvert_exporter": "python",
   "pygments_lexer": "ipython3",
   "version": "3.13.7"
  }
 },
 "nbformat": 4,
 "nbformat_minor": 5
}
