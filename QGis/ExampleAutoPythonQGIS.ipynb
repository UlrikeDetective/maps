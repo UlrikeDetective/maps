{
 "cells": [
  {
   "cell_type": "markdown",
   "id": "65ee80ed",
   "metadata": {},
   "source": [
    "## Fully automated Python workflow for San Francisco. \n",
    "\n",
    "It will:\n",
    "\n",
    "Download the .osm.pbf data.\n",
    "\n",
    "Load it with pyrosm or quackosm.\n",
    "\n",
    "Extract parks, streets, and buildings as separate GeoDataFrames.\n",
    "\n",
    "Save them as GeoPackage files, ready to load into QGIS."
   ]
  },
  {
   "cell_type": "code",
   "execution_count": 2,
   "id": "d8ed5489",
   "metadata": {},
   "outputs": [],
   "source": [
    "# Install necessary packages if not already installed\n",
    "# %pip install pyrosm quackosm geopandas"
   ]
  },
  {
   "cell_type": "code",
   "execution_count": 4,
   "id": "0d1159ca",
   "metadata": {},
   "outputs": [
    {
     "data": {
      "application/vnd.jupyter.widget-view+json": {
       "model_id": "cd062a4bb5aa4006a07a88fc226e9832",
       "version_major": 2,
       "version_minor": 0
      },
      "text/plain": [
       "Output()"
      ]
     },
     "metadata": {},
     "output_type": "display_data"
    },
    {
     "name": "stdout",
     "output_type": "stream",
     "text": [
      "Download complete!\n",
      "Loading OSM data with quackosm...\n"
     ]
    },
    {
     "data": {
      "text/html": [
       "<pre style=\"white-space:pre;overflow-x:auto;line-height:normal;font-family:Menlo,'DejaVu Sans Mono',consolas,'Courier New',monospace\">Encountered MemoryError during operation. Retrying with lower number of rows per group <span style=\"font-weight: bold\">(</span><span style=\"color: #008080; text-decoration-color: #008080; font-weight: bold\">4000000</span><span style=\"font-weight: bold\">)</span>.\n",
       "</pre>\n"
      ],
      "text/plain": [
       "Encountered MemoryError during operation. Retrying with lower number of rows per group \u001b[1m(\u001b[0m\u001b[1;36m4000000\u001b[0m\u001b[1m)\u001b[0m.\n"
      ]
     },
     "metadata": {},
     "output_type": "display_data"
    },
    {
     "name": "stderr",
     "output_type": "stream",
     "text": [
      "libc++abi: terminating due to uncaught exception of type duckdb::OutOfMemoryException: {\"exception_type\":\"Out of Memory\",\"exception_message\":\"failed to pin block of size 256.0 KiB (12.7 GiB/12.7 GiB used)\\n\\nPossible solutions:\\n* Reducing the number of threads (SET threads=X)\\n* Disabling insertion-order preservation (SET preserve_insertion_order=false)\\n* Increasing the memory limit (SET memory_limit='...GB')\\n\\nSee also https://duckdb.org/docs/stable/guides/performance/how_to_tune_workloads\"}\n"
     ]
    },
    {
     "data": {
      "text/html": [
       "<pre style=\"white-space:pre;overflow-x:auto;line-height:normal;font-family:Menlo,'DejaVu Sans Mono',consolas,'Courier New',monospace\">Encountered MemoryError during operation. Retrying with lower number of rows per group <span style=\"font-weight: bold\">(</span><span style=\"color: #008080; text-decoration-color: #008080; font-weight: bold\">1000000</span><span style=\"font-weight: bold\">)</span>.\n",
       "</pre>\n"
      ],
      "text/plain": [
       "Encountered MemoryError during operation. Retrying with lower number of rows per group \u001b[1m(\u001b[0m\u001b[1;36m1000000\u001b[0m\u001b[1m)\u001b[0m.\n"
      ]
     },
     "metadata": {},
     "output_type": "display_data"
    },
    {
     "data": {
      "text/html": [
       "<pre style=\"white-space:pre;overflow-x:auto;line-height:normal;font-family:Menlo,'DejaVu Sans Mono',consolas,'Courier New',monospace\"></pre>\n"
      ],
      "text/plain": []
     },
     "metadata": {},
     "output_type": "display_data"
    },
    {
     "data": {
      "text/html": [
       "<pre style=\"white-space:pre;overflow-x:auto;line-height:normal;font-family:Menlo,'DejaVu Sans Mono',consolas,'Courier New',monospace\">\n",
       "</pre>\n"
      ],
      "text/plain": [
       "\n"
      ]
     },
     "metadata": {},
     "output_type": "display_data"
    },
    {
     "data": {
      "text/html": [
       "<pre style=\"white-space:pre;overflow-x:auto;line-height:normal;font-family:Menlo,'DejaVu Sans Mono',consolas,'Courier New',monospace\">Finished operation in <span style=\"color: #808000; text-decoration-color: #808000; font-weight: bold\">0:06:24</span>\n",
       "</pre>\n"
      ],
      "text/plain": [
       "Finished operation in \u001b[1;33m0:06:24\u001b[0m\n"
      ]
     },
     "metadata": {},
     "output_type": "display_data"
    },
    {
     "name": "stdout",
     "output_type": "stream",
     "text": [
      "OSM loaded: 9060584 features\n"
     ]
    },
    {
     "ename": "AttributeError",
     "evalue": "'str' object has no attribute 'fillna'",
     "output_type": "error",
     "traceback": [
      "\u001b[31m---------------------------------------------------------------------------\u001b[39m",
      "\u001b[31mAttributeError\u001b[39m                            Traceback (most recent call last)",
      "\u001b[36mCell\u001b[39m\u001b[36m \u001b[39m\u001b[32mIn[4]\u001b[39m\u001b[32m, line 37\u001b[39m\n\u001b[32m     29\u001b[39m \u001b[38;5;28mprint\u001b[39m(\u001b[33m\"\u001b[39m\u001b[33mOSM loaded:\u001b[39m\u001b[33m\"\u001b[39m, \u001b[38;5;28mlen\u001b[39m(gdf), \u001b[33m\"\u001b[39m\u001b[33mfeatures\u001b[39m\u001b[33m\"\u001b[39m)\n\u001b[32m     31\u001b[39m \u001b[38;5;66;03m# -------------------------------\u001b[39;00m\n\u001b[32m     32\u001b[39m \u001b[38;5;66;03m# 3️⃣ Extract features\u001b[39;00m\n\u001b[32m     33\u001b[39m \u001b[38;5;66;03m# -------------------------------\u001b[39;00m\n\u001b[32m     34\u001b[39m \u001b[38;5;66;03m# Parks\u001b[39;00m\n\u001b[32m     35\u001b[39m \u001b[38;5;66;03m# Ensure the keys exist\u001b[39;00m\n\u001b[32m     36\u001b[39m parks = gdf[\n\u001b[32m---> \u001b[39m\u001b[32m37\u001b[39m     \u001b[43mgdf\u001b[49m\u001b[43m.\u001b[49m\u001b[43mget\u001b[49m\u001b[43m(\u001b[49m\u001b[33;43m\"\u001b[39;49m\u001b[33;43mleisure\u001b[39;49m\u001b[33;43m\"\u001b[39;49m\u001b[43m,\u001b[49m\u001b[43m \u001b[49m\u001b[33;43m\"\u001b[39;49m\u001b[33;43m\"\u001b[39;49m\u001b[43m)\u001b[49m\u001b[43m.\u001b[49m\u001b[43mfillna\u001b[49m(\u001b[33m\"\u001b[39m\u001b[33m\"\u001b[39m).isin([\u001b[33m\"\u001b[39m\u001b[33mpark\u001b[39m\u001b[33m\"\u001b[39m]) |\n\u001b[32m     38\u001b[39m     gdf.get(\u001b[33m\"\u001b[39m\u001b[33mlanduse\u001b[39m\u001b[33m\"\u001b[39m, \u001b[33m\"\u001b[39m\u001b[33m\"\u001b[39m).fillna(\u001b[33m\"\u001b[39m\u001b[33m\"\u001b[39m).isin([\u001b[33m\"\u001b[39m\u001b[33mrecreation_ground\u001b[39m\u001b[33m\"\u001b[39m])\n\u001b[32m     39\u001b[39m ]\n\u001b[32m     41\u001b[39m \u001b[38;5;28mprint\u001b[39m(\u001b[33m\"\u001b[39m\u001b[33mParks:\u001b[39m\u001b[33m\"\u001b[39m, \u001b[38;5;28mlen\u001b[39m(parks))\n\u001b[32m     43\u001b[39m \u001b[38;5;66;03m# Buildings\u001b[39;00m\n",
      "\u001b[31mAttributeError\u001b[39m: 'str' object has no attribute 'fillna'"
     ]
    }
   ],
   "source": [
    "import os\n",
    "import quackosm as qosm\n",
    "from pyrosm import OSM, get_data\n",
    "import geopandas as gpd\n",
    "\n",
    "# -------------------------------\n",
    "# 1️⃣ Download San Francisco OSM data (Geofabrik)\n",
    "# -------------------------------\n",
    "# You can replace this with a local path if you already have the .osm.pbf\n",
    "import requests\n",
    "\n",
    "sf_pbf_url = \"https://download.geofabrik.de/north-america/us/california/norcal-latest.osm.pbf\"\n",
    "sf_pbf_file = \"san-francisco.osm.pbf\"\n",
    "\n",
    "with requests.get(sf_pbf_url, stream=True) as r:\n",
    "    r.raise_for_status()  # stop if download fails\n",
    "    with open(sf_pbf_file, \"wb\") as f:\n",
    "        for chunk in r.iter_content(chunk_size=1024*1024):\n",
    "            if chunk:\n",
    "                f.write(chunk)\n",
    "\n",
    "    print(\"Download complete!\")\n",
    "\n",
    "# -------------------------------\n",
    "# 2️⃣ Load OSM with quackosm\n",
    "# -------------------------------\n",
    "print(\"Loading OSM data with quackosm...\")\n",
    "gdf = qosm.convert_pbf_to_geodataframe(sf_pbf_file)\n",
    "print(\"OSM loaded:\", len(gdf), \"features\")\n",
    "\n",
    "# -------------------------------\n",
    "# 3️⃣ Extract features\n",
    "# -------------------------------\n",
    "# Parks\n",
    "# Ensure the keys exist\n",
    "parks = gdf[\n",
    "    gdf.get(\"leisure\", \"\").fillna(\"\").isin([\"park\"]) |\n",
    "    gdf.get(\"landuse\", \"\").fillna(\"\").isin([\"recreation_ground\"])\n",
    "]\n",
    "\n",
    "print(\"Parks:\", len(parks))\n",
    "\n",
    "# Buildings\n",
    "buildings = gdf[gdf[\"building\"].notna()]\n",
    "print(\"Buildings:\", len(buildings))\n",
    "\n",
    "# Streets (highways)\n",
    "streets = gdf[gdf[\"highway\"].notna()]\n",
    "print(\"Streets:\", len(streets))\n",
    "\n",
    "# -------------------------------\n",
    "# 4️⃣ Save to GeoPackage for QGIS\n",
    "# -------------------------------\n",
    "output_folder = \"san_francisco_layers\"\n",
    "os.makedirs(output_folder, exist_ok=True)\n",
    "\n",
    "parks.to_file(os.path.join(output_folder, \"parks.gpkg\"), layer=\"parks\", driver=\"GPKG\")\n",
    "buildings.to_file(os.path.join(output_folder, \"buildings.gpkg\"), layer=\"buildings\", driver=\"GPKG\")\n",
    "streets.to_file(os.path.join(output_folder, \"streets.gpkg\"), layer=\"streets\", driver=\"GPKG\")\n",
    "\n",
    "print(f\"Saved layers to folder: {output_folder}\")\n"
   ]
  },
  {
   "cell_type": "code",
   "execution_count": null,
   "id": "8c6509c7",
   "metadata": {},
   "outputs": [
    {
     "data": {
      "application/vnd.jupyter.widget-view+json": {
       "model_id": "1a72d5979c484256a0486cf00d2cd1be",
       "version_major": 2,
       "version_minor": 0
      },
      "text/plain": [
       "Output()"
      ]
     },
     "metadata": {},
     "output_type": "display_data"
    },
    {
     "ename": "IOException",
     "evalue": "IO Error: Cannot open file \"san-francisco_quackosm.osm.pbf\": No such file or directory",
     "output_type": "error",
     "traceback": [
      "\u001b[31m---------------------------------------------------------------------------\u001b[39m",
      "\u001b[31mIOException\u001b[39m                               Traceback (most recent call last)",
      "\u001b[36mCell\u001b[39m\u001b[36m \u001b[39m\u001b[32mIn[5]\u001b[39m\u001b[32m, line 2\u001b[39m\n\u001b[32m      1\u001b[39m \u001b[38;5;28;01mimport\u001b[39;00m\u001b[38;5;250m \u001b[39m\u001b[34;01mquackosm\u001b[39;00m\u001b[38;5;250m \u001b[39m\u001b[38;5;28;01mas\u001b[39;00m\u001b[38;5;250m \u001b[39m\u001b[34;01mqosm\u001b[39;00m\n\u001b[32m----> \u001b[39m\u001b[32m2\u001b[39m gdf = \u001b[43mqosm\u001b[49m\u001b[43m.\u001b[49m\u001b[43mconvert_pbf_to_geodataframe\u001b[49m\u001b[43m(\u001b[49m\u001b[33;43m\"\u001b[39;49m\u001b[33;43msan-francisco_quackosm.osm.pbf\u001b[39;49m\u001b[33;43m\"\u001b[39;49m\u001b[43m)\u001b[49m\n",
      "\u001b[36mFile \u001b[39m\u001b[32m~/projects/maps/maps_env311/lib/python3.13/site-packages/pandas/util/_decorators.py:213\u001b[39m, in \u001b[36mdeprecate_kwarg.<locals>._deprecate_kwarg.<locals>.wrapper\u001b[39m\u001b[34m(*args, **kwargs)\u001b[39m\n\u001b[32m    211\u001b[39m         \u001b[38;5;28;01mraise\u001b[39;00m \u001b[38;5;167;01mTypeError\u001b[39;00m(msg)\n\u001b[32m    212\u001b[39m     kwargs[new_arg_name] = new_arg_value\n\u001b[32m--> \u001b[39m\u001b[32m213\u001b[39m \u001b[38;5;28;01mreturn\u001b[39;00m \u001b[43mfunc\u001b[49m\u001b[43m(\u001b[49m\u001b[43m*\u001b[49m\u001b[43margs\u001b[49m\u001b[43m,\u001b[49m\u001b[43m \u001b[49m\u001b[43m*\u001b[49m\u001b[43m*\u001b[49m\u001b[43mkwargs\u001b[49m\u001b[43m)\u001b[49m\n",
      "\u001b[36mFile \u001b[39m\u001b[32m~/projects/maps/maps_env311/lib/python3.13/site-packages/quackosm/functions.py:1627\u001b[39m, in \u001b[36mconvert_pbf_to_geodataframe\u001b[39m\u001b[34m(pbf_path, tags_filter, geometry_filter, keep_all_tags, explode_tags, sort_result, compression, compression_level, row_group_size, parquet_version, ignore_metadata_tags, ignore_cache, filter_osm_ids, custom_sql_filter, working_directory, osm_way_polygon_features_config, verbosity_mode, debug_memory, debug_times, cpu_limit)\u001b[39m\n\u001b[32m   1404\u001b[39m \u001b[38;5;129m@deprecate_kwarg\u001b[39m(old_arg_name=\u001b[33m\"\u001b[39m\u001b[33mfile_paths\u001b[39m\u001b[33m\"\u001b[39m, new_arg_name=\u001b[33m\"\u001b[39m\u001b[33mpbf_path\u001b[39m\u001b[33m\"\u001b[39m)  \u001b[38;5;66;03m# type: ignore\u001b[39;00m\n\u001b[32m   1405\u001b[39m \u001b[38;5;28;01mdef\u001b[39;00m\u001b[38;5;250m \u001b[39m\u001b[34mconvert_pbf_to_geodataframe\u001b[39m(\n\u001b[32m   1406\u001b[39m     pbf_path: Union[\u001b[38;5;28mstr\u001b[39m, Path, Iterable[Union[\u001b[38;5;28mstr\u001b[39m, Path]]],\n\u001b[32m   (...)\u001b[39m\u001b[32m   1425\u001b[39m     cpu_limit: Optional[\u001b[38;5;28mint\u001b[39m] = \u001b[38;5;28;01mNone\u001b[39;00m,\n\u001b[32m   1426\u001b[39m ) -> gpd.GeoDataFrame:\n\u001b[32m   1427\u001b[39m \u001b[38;5;250m    \u001b[39m\u001b[33;03m\"\"\"\u001b[39;00m\n\u001b[32m   1428\u001b[39m \u001b[33;03m    Get features GeoDataFrame from a PBF file or list of PBF files.\u001b[39;00m\n\u001b[32m   1429\u001b[39m \n\u001b[32m   (...)\u001b[39m\u001b[32m   1610\u001b[39m \u001b[33;03m        [3109 rows x 2 columns]\u001b[39;00m\n\u001b[32m   1611\u001b[39m \u001b[33;03m    \"\"\"\u001b[39;00m\n\u001b[32m   1612\u001b[39m     \u001b[38;5;28;01mreturn\u001b[39;00m \u001b[43mPbfFileReader\u001b[49m\u001b[43m(\u001b[49m\n\u001b[32m   1613\u001b[39m \u001b[43m        \u001b[49m\u001b[43mtags_filter\u001b[49m\u001b[43m=\u001b[49m\u001b[43mtags_filter\u001b[49m\u001b[43m,\u001b[49m\n\u001b[32m   1614\u001b[39m \u001b[43m        \u001b[49m\u001b[43mgeometry_filter\u001b[49m\u001b[43m=\u001b[49m\u001b[43mgeometry_filter\u001b[49m\u001b[43m,\u001b[49m\n\u001b[32m   1615\u001b[39m \u001b[43m        \u001b[49m\u001b[43mcustom_sql_filter\u001b[49m\u001b[43m=\u001b[49m\u001b[43mcustom_sql_filter\u001b[49m\u001b[43m,\u001b[49m\n\u001b[32m   1616\u001b[39m \u001b[43m        \u001b[49m\u001b[43mworking_directory\u001b[49m\u001b[43m=\u001b[49m\u001b[43mworking_directory\u001b[49m\u001b[43m,\u001b[49m\n\u001b[32m   1617\u001b[39m \u001b[43m        \u001b[49m\u001b[43mosm_way_polygon_features_config\u001b[49m\u001b[43m=\u001b[49m\u001b[43mosm_way_polygon_features_config\u001b[49m\u001b[43m,\u001b[49m\n\u001b[32m   1618\u001b[39m \u001b[43m        \u001b[49m\u001b[43mcompression\u001b[49m\u001b[43m=\u001b[49m\u001b[43mcompression\u001b[49m\u001b[43m,\u001b[49m\n\u001b[32m   1619\u001b[39m \u001b[43m        \u001b[49m\u001b[43mcompression_level\u001b[49m\u001b[43m=\u001b[49m\u001b[43mcompression_level\u001b[49m\u001b[43m,\u001b[49m\n\u001b[32m   1620\u001b[39m \u001b[43m        \u001b[49m\u001b[43mrow_group_size\u001b[49m\u001b[43m=\u001b[49m\u001b[43mrow_group_size\u001b[49m\u001b[43m,\u001b[49m\n\u001b[32m   1621\u001b[39m \u001b[43m        \u001b[49m\u001b[43mparquet_version\u001b[49m\u001b[43m=\u001b[49m\u001b[43mparquet_version\u001b[49m\u001b[43m,\u001b[49m\n\u001b[32m   1622\u001b[39m \u001b[43m        \u001b[49m\u001b[43mignore_metadata_tags\u001b[49m\u001b[43m=\u001b[49m\u001b[43mignore_metadata_tags\u001b[49m\u001b[43m,\u001b[49m\n\u001b[32m   1623\u001b[39m \u001b[43m        \u001b[49m\u001b[43mverbosity_mode\u001b[49m\u001b[43m=\u001b[49m\u001b[43mverbosity_mode\u001b[49m\u001b[43m,\u001b[49m\n\u001b[32m   1624\u001b[39m \u001b[43m        \u001b[49m\u001b[43mdebug_memory\u001b[49m\u001b[43m=\u001b[49m\u001b[43mdebug_memory\u001b[49m\u001b[43m,\u001b[49m\n\u001b[32m   1625\u001b[39m \u001b[43m        \u001b[49m\u001b[43mdebug_times\u001b[49m\u001b[43m=\u001b[49m\u001b[43mdebug_times\u001b[49m\u001b[43m,\u001b[49m\n\u001b[32m   1626\u001b[39m \u001b[43m        \u001b[49m\u001b[43mcpu_limit\u001b[49m\u001b[43m=\u001b[49m\u001b[43mcpu_limit\u001b[49m\u001b[43m,\u001b[49m\n\u001b[32m-> \u001b[39m\u001b[32m1627\u001b[39m \u001b[43m    \u001b[49m\u001b[43m)\u001b[49m\u001b[43m.\u001b[49m\u001b[43mconvert_pbf_to_geodataframe\u001b[49m\u001b[43m(\u001b[49m\n\u001b[32m   1628\u001b[39m \u001b[43m        \u001b[49m\u001b[43mpbf_path\u001b[49m\u001b[43m=\u001b[49m\u001b[43mpbf_path\u001b[49m\u001b[43m,\u001b[49m\n\u001b[32m   1629\u001b[39m \u001b[43m        \u001b[49m\u001b[43mkeep_all_tags\u001b[49m\u001b[43m=\u001b[49m\u001b[43mkeep_all_tags\u001b[49m\u001b[43m,\u001b[49m\n\u001b[32m   1630\u001b[39m \u001b[43m        \u001b[49m\u001b[43mexplode_tags\u001b[49m\u001b[43m=\u001b[49m\u001b[43mexplode_tags\u001b[49m\u001b[43m,\u001b[49m\n\u001b[32m   1631\u001b[39m \u001b[43m        \u001b[49m\u001b[43msort_result\u001b[49m\u001b[43m=\u001b[49m\u001b[43msort_result\u001b[49m\u001b[43m,\u001b[49m\n\u001b[32m   1632\u001b[39m \u001b[43m        \u001b[49m\u001b[43mignore_cache\u001b[49m\u001b[43m=\u001b[49m\u001b[43mignore_cache\u001b[49m\u001b[43m,\u001b[49m\n\u001b[32m   1633\u001b[39m \u001b[43m        \u001b[49m\u001b[43mfilter_osm_ids\u001b[49m\u001b[43m=\u001b[49m\u001b[43mfilter_osm_ids\u001b[49m\u001b[43m,\u001b[49m\n\u001b[32m   1634\u001b[39m \u001b[43m    \u001b[49m\u001b[43m)\u001b[49m\n",
      "\u001b[36mFile \u001b[39m\u001b[32m~/projects/maps/maps_env311/lib/python3.13/site-packages/pandas/util/_decorators.py:213\u001b[39m, in \u001b[36mdeprecate_kwarg.<locals>._deprecate_kwarg.<locals>.wrapper\u001b[39m\u001b[34m(*args, **kwargs)\u001b[39m\n\u001b[32m    211\u001b[39m         \u001b[38;5;28;01mraise\u001b[39;00m \u001b[38;5;167;01mTypeError\u001b[39;00m(msg)\n\u001b[32m    212\u001b[39m     kwargs[new_arg_name] = new_arg_value\n\u001b[32m--> \u001b[39m\u001b[32m213\u001b[39m \u001b[38;5;28;01mreturn\u001b[39;00m \u001b[43mfunc\u001b[49m\u001b[43m(\u001b[49m\u001b[43m*\u001b[49m\u001b[43margs\u001b[49m\u001b[43m,\u001b[49m\u001b[43m \u001b[49m\u001b[43m*\u001b[49m\u001b[43m*\u001b[49m\u001b[43mkwargs\u001b[49m\u001b[43m)\u001b[49m\n",
      "\u001b[36mFile \u001b[39m\u001b[32m~/projects/maps/maps_env311/lib/python3.13/site-packages/quackosm/pbf_file_reader.py:757\u001b[39m, in \u001b[36mPbfFileReader.convert_pbf_to_geodataframe\u001b[39m\u001b[34m(self, pbf_path, keep_all_tags, explode_tags, sort_result, ignore_cache, filter_osm_ids)\u001b[39m\n\u001b[32m    754\u001b[39m \u001b[38;5;28;01mif\u001b[39;00m \u001b[38;5;28misinstance\u001b[39m(pbf_path, (\u001b[38;5;28mstr\u001b[39m, Path)):\n\u001b[32m    755\u001b[39m     pbf_path = [pbf_path]\n\u001b[32m--> \u001b[39m\u001b[32m757\u001b[39m parsed_geoparquet_file = \u001b[38;5;28;43mself\u001b[39;49m\u001b[43m.\u001b[49m\u001b[43mconvert_pbf_to_parquet\u001b[49m\u001b[43m(\u001b[49m\n\u001b[32m    758\u001b[39m \u001b[43m    \u001b[49m\u001b[43mpbf_path\u001b[49m\u001b[43m=\u001b[49m\u001b[43mpbf_path\u001b[49m\u001b[43m,\u001b[49m\n\u001b[32m    759\u001b[39m \u001b[43m    \u001b[49m\u001b[43mkeep_all_tags\u001b[49m\u001b[43m=\u001b[49m\u001b[43mkeep_all_tags\u001b[49m\u001b[43m,\u001b[49m\n\u001b[32m    760\u001b[39m \u001b[43m    \u001b[49m\u001b[43mexplode_tags\u001b[49m\u001b[43m=\u001b[49m\u001b[43mexplode_tags\u001b[49m\u001b[43m,\u001b[49m\n\u001b[32m    761\u001b[39m \u001b[43m    \u001b[49m\u001b[43mignore_cache\u001b[49m\u001b[43m=\u001b[49m\u001b[43mignore_cache\u001b[49m\u001b[43m,\u001b[49m\n\u001b[32m    762\u001b[39m \u001b[43m    \u001b[49m\u001b[43mfilter_osm_ids\u001b[49m\u001b[43m=\u001b[49m\u001b[43mfilter_osm_ids\u001b[49m\u001b[43m,\u001b[49m\n\u001b[32m    763\u001b[39m \u001b[43m    \u001b[49m\u001b[43msort_result\u001b[49m\u001b[43m=\u001b[49m\u001b[43msort_result\u001b[49m\u001b[43m,\u001b[49m\n\u001b[32m    764\u001b[39m \u001b[43m\u001b[49m\u001b[43m)\u001b[49m\n\u001b[32m    765\u001b[39m joined_parquet_table = io.read_geoparquet_table(parsed_geoparquet_file)\n\u001b[32m    766\u001b[39m gdf_parquet = gpd.GeoDataFrame(\n\u001b[32m    767\u001b[39m     data=joined_parquet_table.drop(GEOMETRY_COLUMN).to_pandas(maps_as_pydicts=\u001b[33m\"\u001b[39m\u001b[33mstrict\u001b[39m\u001b[33m\"\u001b[39m),\n\u001b[32m    768\u001b[39m     geometry=ga.to_geopandas(joined_parquet_table.column(GEOMETRY_COLUMN)),\n\u001b[32m    769\u001b[39m ).set_index(FEATURES_INDEX)\n",
      "\u001b[36mFile \u001b[39m\u001b[32m~/projects/maps/maps_env311/lib/python3.13/site-packages/quackosm/pbf_file_reader.py:417\u001b[39m, in \u001b[36mPbfFileReader.convert_pbf_to_parquet\u001b[39m\u001b[34m(self, pbf_path, result_file_path, keep_all_tags, explode_tags, sort_result, ignore_cache, filter_osm_ids, save_as_wkt, pbf_extract_geometry)\u001b[39m\n\u001b[32m    415\u001b[39m \u001b[38;5;28;01mif\u001b[39;00m pbf_extract_geometry \u001b[38;5;129;01mis\u001b[39;00m \u001b[38;5;129;01mnot\u001b[39;00m \u001b[38;5;28;01mNone\u001b[39;00m:\n\u001b[32m    416\u001b[39m     single_pbf_extract_geometry = pbf_extract_geometry[\u001b[32m0\u001b[39m]\n\u001b[32m--> \u001b[39m\u001b[32m417\u001b[39m parsed_geoparquet_file = \u001b[38;5;28;43mself\u001b[39;49m\u001b[43m.\u001b[49m\u001b[43m_convert_single_pbf_to_parquet\u001b[49m\u001b[43m(\u001b[49m\n\u001b[32m    418\u001b[39m \u001b[43m    \u001b[49m\u001b[43mpbf_path\u001b[49m\u001b[43m[\u001b[49m\u001b[32;43m0\u001b[39;49m\u001b[43m]\u001b[49m\u001b[43m,\u001b[49m\n\u001b[32m    419\u001b[39m \u001b[43m    \u001b[49m\u001b[43mresult_file_path\u001b[49m\u001b[43m=\u001b[49m\u001b[43mresult_file_path\u001b[49m\u001b[43m,\u001b[49m\n\u001b[32m    420\u001b[39m \u001b[43m    \u001b[49m\u001b[43mkeep_all_tags\u001b[49m\u001b[43m=\u001b[49m\u001b[43mkeep_all_tags\u001b[49m\u001b[43m,\u001b[49m\n\u001b[32m    421\u001b[39m \u001b[43m    \u001b[49m\u001b[43mexplode_tags\u001b[49m\u001b[43m=\u001b[49m\u001b[43mexplode_tags\u001b[49m\u001b[43m,\u001b[49m\n\u001b[32m    422\u001b[39m \u001b[43m    \u001b[49m\u001b[43msort_result\u001b[49m\u001b[43m=\u001b[49m\u001b[43msort_result\u001b[49m\u001b[43m,\u001b[49m\n\u001b[32m    423\u001b[39m \u001b[43m    \u001b[49m\u001b[43mignore_cache\u001b[49m\u001b[43m=\u001b[49m\u001b[43mignore_cache\u001b[49m\u001b[43m,\u001b[49m\n\u001b[32m    424\u001b[39m \u001b[43m    \u001b[49m\u001b[43mfilter_osm_ids\u001b[49m\u001b[43m=\u001b[49m\u001b[43mfilter_osm_ids\u001b[49m\u001b[43m,\u001b[49m\n\u001b[32m    425\u001b[39m \u001b[43m    \u001b[49m\u001b[43msave_as_wkt\u001b[49m\u001b[43m=\u001b[49m\u001b[43msave_as_wkt\u001b[49m\u001b[43m,\u001b[49m\n\u001b[32m    426\u001b[39m \u001b[43m    \u001b[49m\u001b[43mpbf_extract_geometry\u001b[49m\u001b[43m=\u001b[49m\u001b[43msingle_pbf_extract_geometry\u001b[49m\u001b[43m,\u001b[49m\n\u001b[32m    427\u001b[39m \u001b[43m\u001b[49m\u001b[43m)\u001b[49m\n\u001b[32m    428\u001b[39m \u001b[38;5;28mself\u001b[39m.task_progress_tracker.stop()\n\u001b[32m    429\u001b[39m \u001b[38;5;28;01mreturn\u001b[39;00m parsed_geoparquet_file\n",
      "\u001b[36mFile \u001b[39m\u001b[32m~/projects/maps/maps_env311/lib/python3.13/site-packages/quackosm/pbf_file_reader.py:591\u001b[39m, in \u001b[36mPbfFileReader._convert_single_pbf_to_parquet\u001b[39m\u001b[34m(self, pbf_path, result_file_path, keep_all_tags, explode_tags, sort_result, ignore_cache, filter_osm_ids, save_as_wkt, pbf_extract_geometry)\u001b[39m\n\u001b[32m    579\u001b[39m     \u001b[38;5;28mself\u001b[39m.geometry_filter = cast(\u001b[33m\"\u001b[39m\u001b[33mBaseGeometry\u001b[39m\u001b[33m\"\u001b[39m, \u001b[38;5;28mself\u001b[39m.geometry_filter).intersection(\n\u001b[32m    580\u001b[39m         cast(\u001b[33m\"\u001b[39m\u001b[33mBaseGeometry\u001b[39m\u001b[33m\"\u001b[39m, pbf_extract_geometry)\n\u001b[32m    581\u001b[39m     )\n\u001b[32m    583\u001b[39m result_file_path = result_file_path \u001b[38;5;129;01mor\u001b[39;00m \u001b[38;5;28mself\u001b[39m._generate_result_file_path(\n\u001b[32m    584\u001b[39m     pbf_path,\n\u001b[32m    585\u001b[39m     filter_osm_ids=filter_osm_ids,\n\u001b[32m   (...)\u001b[39m\u001b[32m    589\u001b[39m     sort_result=sort_result,\n\u001b[32m    590\u001b[39m )\n\u001b[32m--> \u001b[39m\u001b[32m591\u001b[39m parsed_geoparquet_file = \u001b[38;5;28;43mself\u001b[39;49m\u001b[43m.\u001b[49m\u001b[43m_parse_pbf_file\u001b[49m\u001b[43m(\u001b[49m\n\u001b[32m    592\u001b[39m \u001b[43m    \u001b[49m\u001b[43mpbf_path\u001b[49m\u001b[43m=\u001b[49m\u001b[43mpbf_path\u001b[49m\u001b[43m,\u001b[49m\n\u001b[32m    593\u001b[39m \u001b[43m    \u001b[49m\u001b[43mresult_file_path\u001b[49m\u001b[43m=\u001b[49m\u001b[43mPath\u001b[49m\u001b[43m(\u001b[49m\u001b[43mresult_file_path\u001b[49m\u001b[43m)\u001b[49m\u001b[43m,\u001b[49m\n\u001b[32m    594\u001b[39m \u001b[43m    \u001b[49m\u001b[43mfilter_osm_ids\u001b[49m\u001b[43m=\u001b[49m\u001b[43mfilter_osm_ids\u001b[49m\u001b[43m,\u001b[49m\n\u001b[32m    595\u001b[39m \u001b[43m    \u001b[49m\u001b[43mkeep_all_tags\u001b[49m\u001b[43m=\u001b[49m\u001b[43mkeep_all_tags\u001b[49m\u001b[43m,\u001b[49m\n\u001b[32m    596\u001b[39m \u001b[43m    \u001b[49m\u001b[43mexplode_tags\u001b[49m\u001b[43m=\u001b[49m\u001b[43mexplode_tags\u001b[49m\u001b[43m,\u001b[49m\n\u001b[32m    597\u001b[39m \u001b[43m    \u001b[49m\u001b[43mignore_cache\u001b[49m\u001b[43m=\u001b[49m\u001b[43mignore_cache\u001b[49m\u001b[43m,\u001b[49m\n\u001b[32m    598\u001b[39m \u001b[43m    \u001b[49m\u001b[43msave_as_wkt\u001b[49m\u001b[43m=\u001b[49m\u001b[43msave_as_wkt\u001b[49m\u001b[43m,\u001b[49m\n\u001b[32m    599\u001b[39m \u001b[43m    \u001b[49m\u001b[43msort_result\u001b[49m\u001b[43m=\u001b[49m\u001b[43msort_result\u001b[49m\u001b[43m,\u001b[49m\n\u001b[32m    600\u001b[39m \u001b[43m\u001b[49m\u001b[43m)\u001b[49m\n\u001b[32m    602\u001b[39m \u001b[38;5;28mself\u001b[39m.geometry_filter = original_geometry_filter\n\u001b[32m    604\u001b[39m \u001b[38;5;28;01mreturn\u001b[39;00m parsed_geoparquet_file\n",
      "\u001b[36mFile \u001b[39m\u001b[32m~/projects/maps/maps_env311/lib/python3.13/site-packages/quackosm/pbf_file_reader.py:1141\u001b[39m, in \u001b[36mPbfFileReader._parse_pbf_file\u001b[39m\u001b[34m(self, pbf_path, result_file_path, filter_osm_ids, keep_all_tags, explode_tags, ignore_cache, save_as_wkt, sort_result)\u001b[39m\n\u001b[32m   1138\u001b[39m     \u001b[38;5;28mself\u001b[39m.expanded_tags_filter = \u001b[38;5;28mself\u001b[39m._expand_osm_tags_filter(elements)\n\u001b[32m   1139\u001b[39m     \u001b[38;5;28mself\u001b[39m.merged_tags_filter = merge_osm_tags_filter(\u001b[38;5;28mself\u001b[39m.expanded_tags_filter)\n\u001b[32m-> \u001b[39m\u001b[32m1141\u001b[39m converted_osm_parquet_files = \u001b[38;5;28;43mself\u001b[39;49m\u001b[43m.\u001b[49m\u001b[43m_prefilter_elements_ids\u001b[49m\u001b[43m(\u001b[49m\u001b[43melements\u001b[49m\u001b[43m,\u001b[49m\u001b[43m \u001b[49m\u001b[43mfilter_osm_ids\u001b[49m\u001b[43m)\u001b[49m\n\u001b[32m   1143\u001b[39m \u001b[38;5;28mself\u001b[39m._delete_directories(\n\u001b[32m   1144\u001b[39m     [\n\u001b[32m   1145\u001b[39m         \u001b[33m\"\u001b[39m\u001b[33mnodes_filtered_non_distinct_ids\u001b[39m\u001b[33m\"\u001b[39m,\n\u001b[32m   (...)\u001b[39m\u001b[32m   1151\u001b[39m     ],\n\u001b[32m   1152\u001b[39m )\n\u001b[32m   1154\u001b[39m filtered_nodes_with_geometry_path = \u001b[38;5;28mself\u001b[39m._get_filtered_nodes_with_geometry(\n\u001b[32m   1155\u001b[39m     converted_osm_parquet_files\n\u001b[32m   1156\u001b[39m )\n",
      "\u001b[36mFile \u001b[39m\u001b[32m~/projects/maps/maps_env311/lib/python3.13/site-packages/quackosm/pbf_file_reader.py:1479\u001b[39m, in \u001b[36mPbfFileReader._prefilter_elements_ids\u001b[39m\u001b[34m(self, elements, filter_osm_ids)\u001b[39m\n\u001b[32m   1473\u001b[39m is_intersecting = \u001b[38;5;28mself\u001b[39m.geometry_filter \u001b[38;5;129;01mis\u001b[39;00m \u001b[38;5;129;01mnot\u001b[39;00m \u001b[38;5;28;01mNone\u001b[39;00m\n\u001b[32m   1475\u001b[39m \u001b[38;5;28;01mwith\u001b[39;00m \u001b[38;5;28mself\u001b[39m.task_progress_tracker.get_spinner(\u001b[33m\"\u001b[39m\u001b[33mReading nodes\u001b[39m\u001b[33m\"\u001b[39m):\n\u001b[32m   1476\u001b[39m     \u001b[38;5;66;03m# NODES - VALID (NV)\u001b[39;00m\n\u001b[32m   1477\u001b[39m     \u001b[38;5;66;03m# - select all with kind = 'node'\u001b[39;00m\n\u001b[32m   1478\u001b[39m     \u001b[38;5;66;03m# - select all with lat and lon not empty\u001b[39;00m\n\u001b[32m-> \u001b[39m\u001b[32m1479\u001b[39m     nodes_valid_with_tags = \u001b[38;5;28;43mself\u001b[39;49m\u001b[43m.\u001b[49m\u001b[43m_sql_to_parquet_file\u001b[49m\u001b[43m(\u001b[49m\n\u001b[32m   1480\u001b[39m \u001b[43m        \u001b[49m\u001b[43msql_query\u001b[49m\u001b[43m=\u001b[49m\u001b[33;43mf\u001b[39;49m\u001b[33;43m\"\"\"\u001b[39;49m\n\u001b[32m   1481\u001b[39m \u001b[33;43m        SELECT\u001b[39;49m\n\u001b[32m   1482\u001b[39m \u001b[33;43m            id,\u001b[39;49m\n\u001b[32m   1483\u001b[39m \u001b[33;43m            \u001b[39;49m\u001b[38;5;132;43;01m{\u001b[39;49;00m\u001b[43mfiltered_tags_clause\u001b[49m\u001b[38;5;132;43;01m}\u001b[39;49;00m\u001b[33;43m,\u001b[39;49m\n\u001b[32m   1484\u001b[39m \u001b[33;43m            lon,\u001b[39;49m\n\u001b[32m   1485\u001b[39m \u001b[33;43m            lat\u001b[39;49m\n\u001b[32m   1486\u001b[39m \u001b[33;43m        FROM (\u001b[39;49m\u001b[38;5;132;43;01m{\u001b[39;49;00m\u001b[43melements\u001b[49m\u001b[43m.\u001b[49m\u001b[43msql_query\u001b[49m\u001b[43m(\u001b[49m\u001b[43m)\u001b[49m\u001b[38;5;132;43;01m}\u001b[39;49;00m\u001b[33;43m)\u001b[39;49m\n\u001b[32m   1487\u001b[39m \u001b[33;43m        WHERE kind = \u001b[39;49m\u001b[33;43m'\u001b[39;49m\u001b[33;43mnode\u001b[39;49m\u001b[33;43m'\u001b[39;49m\n\u001b[32m   1488\u001b[39m \u001b[33;43m        AND lat IS NOT NULL AND lon IS NOT NULL\u001b[39;49m\n\u001b[32m   1489\u001b[39m \u001b[33;43m        \u001b[39;49m\u001b[33;43m\"\"\"\u001b[39;49m\u001b[43m,\u001b[49m\n\u001b[32m   1490\u001b[39m \u001b[43m        \u001b[49m\u001b[43mfile_path\u001b[49m\u001b[43m=\u001b[49m\u001b[38;5;28;43mself\u001b[39;49m\u001b[43m.\u001b[49m\u001b[43mtmp_dir_path\u001b[49m\u001b[43m \u001b[49m\u001b[43m/\u001b[49m\u001b[43m \u001b[49m\u001b[33;43m\"\u001b[39;49m\u001b[33;43mnodes_valid_with_tags\u001b[39;49m\u001b[33;43m\"\u001b[39;49m\u001b[43m,\u001b[49m\n\u001b[32m   1491\u001b[39m \u001b[43m    \u001b[49m\u001b[43m)\u001b[49m\n\u001b[32m   1492\u001b[39m \u001b[38;5;66;03m# NODES - INTERSECTING (NI)\u001b[39;00m\n\u001b[32m   1493\u001b[39m \u001b[38;5;66;03m# - select all from NV which intersect given geometry filter\u001b[39;00m\n\u001b[32m   1494\u001b[39m \u001b[38;5;66;03m# NODES - FILTERED (NF)\u001b[39;00m\n\u001b[32m   1495\u001b[39m \u001b[38;5;66;03m# - select all from NI with tags filter\u001b[39;00m\n\u001b[32m   1496\u001b[39m filter_osm_node_ids_filter = \u001b[38;5;28mself\u001b[39m._generate_elements_filter(filter_osm_ids, \u001b[33m\"\u001b[39m\u001b[33mnode\u001b[39m\u001b[33m\"\u001b[39m)\n",
      "\u001b[36mFile \u001b[39m\u001b[32m~/projects/maps/maps_env311/lib/python3.13/site-packages/quackosm/pbf_file_reader.py:1892\u001b[39m, in \u001b[36mPbfFileReader._sql_to_parquet_file\u001b[39m\u001b[34m(self, sql_query, file_path)\u001b[39m\n\u001b[32m   1890\u001b[39m \u001b[38;5;28;01mdef\u001b[39;00m\u001b[38;5;250m \u001b[39m\u001b[34m_sql_to_parquet_file\u001b[39m(\u001b[38;5;28mself\u001b[39m, sql_query: \u001b[38;5;28mstr\u001b[39m, file_path: Path) -> \u001b[33m\"\u001b[39m\u001b[33mduckdb.DuckDBPyRelation\u001b[39m\u001b[33m\"\u001b[39m:\n\u001b[32m   1891\u001b[39m     relation = \u001b[38;5;28mself\u001b[39m.connection.sql(sql_query)\n\u001b[32m-> \u001b[39m\u001b[32m1892\u001b[39m     \u001b[38;5;28;01mreturn\u001b[39;00m \u001b[38;5;28;43mself\u001b[39;49m\u001b[43m.\u001b[49m\u001b[43m_save_parquet_file\u001b[49m\u001b[43m(\u001b[49m\u001b[43mrelation\u001b[49m\u001b[43m,\u001b[49m\u001b[43m \u001b[49m\u001b[43mfile_path\u001b[49m\u001b[43m)\u001b[49m\n",
      "\u001b[36mFile \u001b[39m\u001b[32m~/projects/maps/maps_env311/lib/python3.13/site-packages/quackosm/pbf_file_reader.py:1913\u001b[39m, in \u001b[36mPbfFileReader._save_parquet_file\u001b[39m\u001b[34m(self, relation, file_path, run_in_separate_process)\u001b[39m\n\u001b[32m   1894\u001b[39m \u001b[38;5;28;01mdef\u001b[39;00m\u001b[38;5;250m \u001b[39m\u001b[34m_save_parquet_file\u001b[39m(\n\u001b[32m   1895\u001b[39m     \u001b[38;5;28mself\u001b[39m,\n\u001b[32m   1896\u001b[39m     relation: \u001b[33m\"\u001b[39m\u001b[33mduckdb.DuckDBPyRelation\u001b[39m\u001b[33m\"\u001b[39m,\n\u001b[32m   1897\u001b[39m     file_path: Path,\n\u001b[32m   1898\u001b[39m     run_in_separate_process: \u001b[38;5;28mbool\u001b[39m = \u001b[38;5;28;01mFalse\u001b[39;00m,\n\u001b[32m   1899\u001b[39m ) -> \u001b[33m\"\u001b[39m\u001b[33mduckdb.DuckDBPyRelation\u001b[39m\u001b[33m\"\u001b[39m:\n\u001b[32m   1900\u001b[39m     query = \u001b[33mf\u001b[39m\u001b[33m\"\"\"\u001b[39m\n\u001b[32m   1901\u001b[39m \u001b[33m        COPY (\u001b[39m\n\u001b[32m   1902\u001b[39m \u001b[33m            \u001b[39m\u001b[38;5;132;01m{\u001b[39;00mrelation.sql_query()\u001b[38;5;132;01m}\u001b[39;00m\n\u001b[32m   (...)\u001b[39m\u001b[32m   1911\u001b[39m \u001b[33m        )\u001b[39m\n\u001b[32m   1912\u001b[39m \u001b[33m    \u001b[39m\u001b[33m\"\"\"\u001b[39m\n\u001b[32m-> \u001b[39m\u001b[32m1913\u001b[39m     \u001b[38;5;28;43mself\u001b[39;49m\u001b[43m.\u001b[49m\u001b[43m_run_query\u001b[49m\u001b[43m(\u001b[49m\u001b[43mquery\u001b[49m\u001b[43m,\u001b[49m\u001b[43m \u001b[49m\u001b[43mrun_in_separate_process\u001b[49m\u001b[43m)\u001b[49m\n\u001b[32m   1914\u001b[39m     \u001b[38;5;28;01mif\u001b[39;00m \u001b[38;5;28mself\u001b[39m.debug_memory:\n\u001b[32m   1915\u001b[39m         log_message(\u001b[33mf\u001b[39m\u001b[33m\"\u001b[39m\u001b[33mSaved to directory: \u001b[39m\u001b[38;5;132;01m{\u001b[39;00mfile_path\u001b[38;5;132;01m}\u001b[39;00m\u001b[33m\"\u001b[39m)\n",
      "\u001b[36mFile \u001b[39m\u001b[32m~/projects/maps/maps_env311/lib/python3.13/site-packages/quackosm/pbf_file_reader.py:1940\u001b[39m, in \u001b[36mPbfFileReader._run_query\u001b[39m\u001b[34m(self, sql_queries, run_in_separate_process, query_timeout_seconds, tmp_dir_path)\u001b[39m\n\u001b[32m   1934\u001b[39m     \u001b[38;5;28mself\u001b[39m._run_query_in_separate_process(\n\u001b[32m   1935\u001b[39m         sql_queries=sql_queries,\n\u001b[32m   1936\u001b[39m         query_timeout_seconds=query_timeout_seconds,\n\u001b[32m   1937\u001b[39m         tmp_dir_path=tmp_dir_path,\n\u001b[32m   1938\u001b[39m     )\n\u001b[32m   1939\u001b[39m \u001b[38;5;28;01melse\u001b[39;00m:\n\u001b[32m-> \u001b[39m\u001b[32m1940\u001b[39m     \u001b[38;5;28;43mself\u001b[39;49m\u001b[43m.\u001b[49m\u001b[43m_run_query_in_same_process\u001b[49m\u001b[43m(\u001b[49m\u001b[43msql_queries\u001b[49m\u001b[43m=\u001b[49m\u001b[43msql_queries\u001b[49m\u001b[43m)\u001b[49m\n",
      "\u001b[36mFile \u001b[39m\u001b[32m~/projects/maps/maps_env311/lib/python3.13/site-packages/quackosm/pbf_file_reader.py:1992\u001b[39m, in \u001b[36mPbfFileReader._run_query_in_same_process\u001b[39m\u001b[34m(self, sql_queries)\u001b[39m\n\u001b[32m   1990\u001b[39m \u001b[38;5;28;01mtry\u001b[39;00m:\n\u001b[32m   1991\u001b[39m     \u001b[38;5;28;01mfor\u001b[39;00m sql_query \u001b[38;5;129;01min\u001b[39;00m sql_queries:\n\u001b[32m-> \u001b[39m\u001b[32m1992\u001b[39m         \u001b[38;5;28;43mself\u001b[39;49m\u001b[43m.\u001b[49m\u001b[43mconnection\u001b[49m\u001b[43m.\u001b[49m\u001b[43msql\u001b[49m\u001b[43m(\u001b[49m\u001b[43msql_query\u001b[49m\u001b[43m)\u001b[49m\n\u001b[32m   1994\u001b[39m     finished_operation = \u001b[38;5;28;01mTrue\u001b[39;00m\n\u001b[32m   1995\u001b[39m \u001b[38;5;28;01mexcept\u001b[39;00m (duckdb.OutOfMemoryException, \u001b[38;5;167;01mMemoryError\u001b[39;00m) \u001b[38;5;28;01mas\u001b[39;00m ex:\n",
      "\u001b[31mIOException\u001b[39m: IO Error: Cannot open file \"san-francisco_quackosm.osm.pbf\": No such file or directory"
     ]
    }
   ],
   "source": [
    "import quackosm as qosm\n",
    "gdf = qosm.convert_pbf_to_geodataframe(\"san-francisco.osm.pbf\")\n"
   ]
  },
  {
   "cell_type": "markdown",
   "id": "db8dc3f5",
   "metadata": {},
   "source": [
    "✅ How to use in QGIS\n",
    "\n",
    "Open QGIS.\n",
    "\n",
    "Layer → Add Layer → Add Vector Layer → GeoPackage.\n",
    "\n",
    "Select parks.gpkg, buildings.gpkg, and streets.gpkg.\n",
    "\n",
    "The layers are ready to style:\n",
    "\n",
    "Parks → green fill\n",
    "\n",
    "Buildings → gray fill\n",
    "\n",
    "Streets → black or colored lines\n",
    "\n",
    "🔹 Notes\n",
    "\n",
    "quackosm.convert_pbf_to_geodataframe() handles all OSM tags.\n",
    "\n",
    "You can filter by other tags (waterways, railways, landuse, etc.) the same way."
   ]
  },
  {
   "cell_type": "markdown",
   "id": "a1201ba8",
   "metadata": {},
   "source": [
    "### Let’s make an enhanced Python workflow for Paris OSM data that:\n",
    "\n",
    "Downloads the PBF (with automatic size check).\n",
    "\n",
    "Loads it using quackosm.\n",
    "\n",
    "Extracts parks, buildings, and streets.\n",
    "\n",
    "Saves them as GeoPackages.\n",
    "\n",
    "Applies nice default styles (colors, line widths, transparency) in QGIS-ready form."
   ]
  },
  {
   "cell_type": "code",
   "execution_count": null,
   "id": "782c46f0",
   "metadata": {},
   "outputs": [],
   "source": [
    "# Enhanced Paris OSM workflow\n",
    "# --------------------------------------------------\n",
    "# Install dependencies if needed:\n",
    "# !pip install quackosm geopandas\n",
    "\n",
    "import os\n",
    "import requests\n",
    "import quackosm as qosm\n",
    "import geopandas as gpd\n",
    "\n",
    "# -------------------------------\n",
    "# 1️⃣ Download Paris OSM data (with size check)\n",
    "# -------------------------------\n",
    "sf_pbf_url = \"https://download.geofabrik.de/europe/france/ile-de-france.osm.pbf\"\n",
    "sf_pbf_file = \"ile-de-france.osm.pbf\"\n",
    "expected_size_bytes = 96810294  # ~96 MB\n",
    "\n",
    "download_needed = True\n",
    "if os.path.exists(sf_pbf_file):\n",
    "    actual_size = os.path.getsize(sf_pbf_file)\n",
    "    if actual_size >= expected_size_bytes:\n",
    "        download_needed = False\n",
    "    else:\n",
    "        print(\"Existing file incomplete. Redownloading...\")\n",
    "        os.remove(sf_pbf_file)\n",
    "\n",
    "if download_needed:\n",
    "    print(\"Downloading Paris OSM data (~96MB)...\")\n",
    "    with requests.get(sf_pbf_url, stream=True) as r:\n",
    "        r.raise_for_status()\n",
    "        with open(sf_pbf_file, \"wb\") as f:\n",
    "            for chunk in r.iter_content(chunk_size=1024*1024):\n",
    "                if chunk:\n",
    "                    f.write(chunk)\n",
    "    print(\"Download complete!\")\n",
    "\n",
    "# -------------------------------\n",
    "# 2️⃣ Load OSM with quackosm\n",
    "# -------------------------------\n",
    "print(\"Loading OSM data with quackosm...\")\n",
    "gdf = qosm.convert_pbf_to_geodataframe(sf_pbf_file)\n",
    "print(\"OSM loaded:\", len(gdf), \"features\")\n",
    "\n",
    "# -------------------------------\n",
    "# 3️⃣ Extract feature layers\n",
    "# -------------------------------\n",
    "# Ensure the keys exist\n",
    "parks = gdf[\n",
    "    gdf.get(\"leisure\", \"\").fillna(\"\").isin([\"park\"]) |\n",
    "    gdf.get(\"landuse\", \"\").fillna(\"\").isin([\"recreation_ground\"])\n",
    "]\n",
    "\n",
    "buildings = gdf[gdf[\"building\"].notna()]\n",
    "streets = gdf[gdf[\"highway\"].notna()]\n",
    "\n",
    "print(\"Features extracted:\")\n",
    "print(\"Parks:\", len(parks))\n",
    "print(\"Buildings:\", len(buildings))\n",
    "print(\"Streets:\", len(streets))\n",
    "\n",
    "# -------------------------------\n",
    "# 4️⃣ Save to GeoPackage with styling hints\n",
    "# -------------------------------\n",
    "output_folder = \"paris_layers\"\n",
    "os.makedirs(output_folder, exist_ok=True)\n",
    "\n",
    "# Function to save with styling metadata\n",
    "def save_gpkg_with_style(gdf, filename, layer_name, style):\n",
    "    path = os.path.join(output_folder, filename)\n",
    "    gdf.to_file(path, layer=layer_name, driver=\"GPKG\")\n",
    "    # Save simple style metadata in a companion JSON (optional)\n",
    "    import json\n",
    "    style_file = path.replace(\".gpkg\", \"_style.json\")\n",
    "    with open(style_file, \"w\") as f:\n",
    "        json.dump(style, f, indent=2)\n",
    "\n",
    "# Define simple style dictionaries\n",
    "park_style = {\"fill_color\": \"#78C679\", \"outline_color\": \"#4FCE30\", \"fill_opacity\": 0.5}\n",
    "building_style = {\"fill_color\": \"#987E7E\", \"outline_color\": \"#666666\", \"fill_opacity\": 1.0}\n",
    "street_style = {\"line_color\": \"#271717\", \"line_width\": 0.8}\n",
    "\n",
    "save_gpkg_with_style(parks, \"parks.gpkg\", \"parks\", park_style)\n",
    "save_gpkg_with_style(buildings, \"buildings.gpkg\", \"buildings\", building_style)\n",
    "save_gpkg_with_style(streets, \"streets.gpkg\", \"streets\", street_style)\n",
    "\n",
    "print(f\"Layers saved to '{output_folder}' with styling hints. Ready for QGIS!\")\n"
   ]
  },
  {
   "cell_type": "markdown",
   "id": "cb600f05",
   "metadata": {},
   "source": [
    "✅ How it works\n",
    "\n",
    "Automatic download check: ensures the .osm.pbf file is complete before loading.\n",
    "\n",
    "Feature extraction: separates parks, buildings, streets into GeoDataFrames.\n",
    "\n",
    "GeoPackage export: saves each layer in a single .gpkg file.\n",
    "\n",
    "Styling hints: writes a companion JSON with colors and opacities. QGIS doesn’t read this automatically, but you can use it as reference for styling layers quickly.\n",
    "\n",
    "💡 Styling in QGIS\n",
    "\n",
    "Load each .gpkg layer.\n",
    "\n",
    "Open Layer → Properties → Symbology.\n",
    "\n",
    "Apply the colors from the JSON:\n",
    "\n",
    "Parks → green fill with transparency\n",
    "\n",
    "Buildings → gray fill\n",
    "\n",
    "Streets → thin dark lines"
   ]
  },
  {
   "cell_type": "markdown",
   "id": "73730e96",
   "metadata": {},
   "source": [
    "### fancier, fully automated workflow for QGIS using PyQGIS. This version:\n",
    "\n",
    "Downloads San Francisco OSM PBF (with file size check).\n",
    "\n",
    "Loads it using quackosm into GeoDataFrames.\n",
    "\n",
    "Extracts parks, buildings, streets safely (avoiding KeyErrors).\n",
    "\n",
    "Saves them as GeoPackages.\n",
    "\n",
    "Automatically loads them into QGIS and applies nice styles with PyQGIS.\n",
    "\n",
    "⚠️ This needs to be run inside the QGIS Python console or as a QGIS standalone script."
   ]
  },
  {
   "cell_type": "code",
   "execution_count": null,
   "id": "08af3d51",
   "metadata": {},
   "outputs": [],
   "source": [
    "# ------------------------------------------------------\n",
    "# Fully Automated San Francisco OSM Workflow with PyQGIS\n",
    "# ------------------------------------------------------\n",
    "\n",
    "import os\n",
    "import requests\n",
    "import quackosm as qosm\n",
    "import geopandas as gpd\n",
    "\n",
    "# -------------------------------\n",
    "# 1️⃣ Download Ibizs OSM data\n",
    "# -------------------------------\n",
    "sf_pbf_url = \"https://download.geofabrik.de/europe/spain/islas-baleares.osm.pbf\"\n",
    "sf_pbf_file = \"islas-baleares.osm.pbf\"\n",
    "expected_size_bytes = 96810294  # ~96 MB\n",
    "\n",
    "if not os.path.exists(sf_pbf_file) or os.path.getsize(sf_pbf_file) < expected_size_bytes:\n",
    "    print(\"Downloading Ibiza OSM data (~96MB)...\")\n",
    "    with requests.get(sf_pbf_url, stream=True) as r:\n",
    "        r.raise_for_status()\n",
    "        with open(sf_pbf_file, \"wb\") as f:\n",
    "            for chunk in r.iter_content(chunk_size=1024*1024):\n",
    "                if chunk:\n",
    "                    f.write(chunk)\n",
    "    print(\"Download complete!\")\n",
    "\n",
    "# -------------------------------\n",
    "# 2️⃣ Load OSM with quackosm\n",
    "# -------------------------------\n",
    "print(\"Loading OSM data with quackosm...\")\n",
    "gdf = qosm.convert_pbf_to_geodataframe(sf_pbf_file)\n",
    "print(\"OSM loaded:\", len(gdf), \"features\")\n",
    "\n",
    "# -------------------------------\n",
    "# 3️⃣ Extract features safely\n",
    "# -------------------------------\n",
    "def get_column_safe(gdf, col):\n",
    "    \"\"\"Return column if exists, otherwise empty string\"\"\"\n",
    "    if col in gdf.columns:\n",
    "        return gdf[col].fillna(\"\")\n",
    "    else:\n",
    "        return pd.Series([\"\"] * len(gdf))\n",
    "\n",
    "import pandas as pd\n",
    "\n",
    "parks = gdf[\n",
    "    gdf.get(\"leisure\", \"\").fillna(\"\").isin([\"park\"]) |\n",
    "    gdf.get(\"landuse\", \"\").fillna(\"\").isin([\"recreation_ground\"])\n",
    "]\n",
    "\n",
    "buildings = gdf[get_column_safe(gdf, \"building\") != \"\"]\n",
    "streets = gdf[get_column_safe(gdf, \"highway\") != \"\"]\n",
    "\n",
    "print(\"Features extracted:\")\n",
    "print(\"Parks:\", len(parks))\n",
    "print(\"Buildings:\", len(buildings))\n",
    "print(\"Streets:\", len(streets))\n",
    "\n",
    "# -------------------------------\n",
    "# 4️⃣ Save GeoPackages\n",
    "# -------------------------------\n",
    "output_folder = \"san_francisco_layers\"\n",
    "os.makedirs(output_folder, exist_ok=True)\n",
    "\n",
    "parks_fp = os.path.join(output_folder, \"parks.gpkg\")\n",
    "buildings_fp = os.path.join(output_folder, \"buildings.gpkg\")\n",
    "streets_fp = os.path.join(output_folder, \"streets.gpkg\")\n",
    "\n",
    "parks.to_file(parks_fp, layer=\"parks\", driver=\"GPKG\")\n",
    "buildings.to_file(buildings_fp, layer=\"buildings\", driver=\"GPKG\")\n",
    "streets.to_file(streets_fp, layer=\"streets\", driver=\"GPKG\")\n",
    "\n",
    "print(f\"Saved layers to {output_folder}\")\n",
    "\n",
    "# -------------------------------\n",
    "# 5️⃣ Load layers into QGIS and apply styles\n",
    "# -------------------------------\n",
    "from qgis.core import QgsProject, QgsVectorLayer, QgsFillSymbol, QgsLineSymbol, QgsSymbol\n",
    "\n",
    "project = QgsProject.instance()\n",
    "\n",
    "# Function to load layer and apply style\n",
    "def load_and_style(gpkg_path, layer_name, geom_type, style_dict):\n",
    "    vlayer = QgsVectorLayer(f\"{gpkg_path}|layername={layer_name}\", layer_name, \"ogr\")\n",
    "    if not vlayer.isValid():\n",
    "        print(f\"Failed to load {layer_name}\")\n",
    "        return None\n",
    "    project.addMapLayer(vlayer)\n",
    "    \n",
    "    if geom_type == \"polygon\":\n",
    "        symbol = QgsFillSymbol.createSimple({\n",
    "            \"color\": style_dict[\"fill_color\"],\n",
    "            \"outline_color\": style_dict.get(\"outline_color\", \"#000000\"),\n",
    "            \"outline_width\": str(style_dict.get(\"outline_width\", 0.26)),\n",
    "            \"style\": \"solid\"\n",
    "        })\n",
    "        vlayer.renderer().setSymbol(symbol)\n",
    "    elif geom_type == \"line\":\n",
    "        symbol = QgsLineSymbol.createSimple({\n",
    "            \"color\": style_dict[\"line_color\"],\n",
    "            \"width\": str(style_dict.get(\"line_width\", 0.5))\n",
    "        })\n",
    "        vlayer.renderer().setSymbol(symbol)\n",
    "    vlayer.triggerRepaint()\n",
    "    return vlayer\n",
    "\n",
    "# Define styles\n",
    "park_style = {\"fill_color\": \"#78C679\", \"outline_color\": \"#4B8B3B\", \"outline_width\": 0.3}\n",
    "building_style = {\"fill_color\": \"#B0B0B0\", \"outline_color\": \"#666666\", \"outline_width\": 0.2}\n",
    "street_style = {\"line_color\": \"#333333\", \"line_width\": 0.8}\n",
    "\n",
    "# Load and style\n",
    "load_and_style(parks_fp, \"parks\", \"polygon\", park_style)\n",
    "load_and_style(buildings_fp, \"buildings\", \"polygon\", building_style)\n",
    "load_and_style(streets_fp, \"streets\", \"line\", street_style)\n",
    "\n",
    "print(\"All layers loaded and styled in QGIS!\")\n"
   ]
  },
  {
   "cell_type": "markdown",
   "id": "863148f0",
   "metadata": {},
   "source": [
    "✅ Features of this script\n",
    "\n",
    "Automatic download of San Francisco .osm.pbf with size check.\n",
    "\n",
    "Safe tag extraction (avoids KeyErrors).\n",
    "\n",
    "GeoPackage export for easy QGIS import.\n",
    "\n",
    "Automatic loading into QGIS using PyQGIS.\n",
    "\n",
    "Custom styling applied (green parks, gray buildings, black streets).\n",
    "\n",
    "💡 How to run\n",
    "\n",
    "Option A: QGIS Python Console\n",
    "\n",
    "Open QGIS → Plugins → Python Console\n",
    "\n",
    "Copy-paste the script and run.\n",
    "\n",
    "Option B: Standalone QGIS script\n",
    "\n",
    "Save as san_francisco_qgis.py and run with QGIS Python environment:\n",
    "\n",
    "qgis_process run python3:san_francisco_qgis.py\n"
   ]
  }
 ],
 "metadata": {
  "kernelspec": {
   "display_name": "maps_env311",
   "language": "python",
   "name": "python3"
  },
  "language_info": {
   "codemirror_mode": {
    "name": "ipython",
    "version": 3
   },
   "file_extension": ".py",
   "mimetype": "text/x-python",
   "name": "python",
   "nbconvert_exporter": "python",
   "pygments_lexer": "ipython3",
   "version": "3.13.7"
  }
 },
 "nbformat": 4,
 "nbformat_minor": 5
}
