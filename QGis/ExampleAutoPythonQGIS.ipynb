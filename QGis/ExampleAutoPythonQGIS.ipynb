{
 "cells": [
  {
   "cell_type": "markdown",
   "id": "65ee80ed",
   "metadata": {},
   "source": [
    "## Fully automated Python workflow for San Francisco. \n",
    "\n",
    "It will:\n",
    "\n",
    "Download the .osm.pbf data.\n",
    "\n",
    "Load it with pyrosm or quackosm.\n",
    "\n",
    "Extract parks, streets, and buildings as separate GeoDataFrames.\n",
    "\n",
    "Save them as GeoPackage files, ready to load into QGIS."
   ]
  },
  {
   "cell_type": "code",
   "execution_count": 2,
   "id": "d8ed5489",
   "metadata": {},
   "outputs": [],
   "source": [
    "# Install necessary packages if not already installed\n",
    "# %pip install pyrosm quackosm geopandas"
   ]
  },
  {
   "cell_type": "code",
   "execution_count": 2,
   "id": "0d1159ca",
   "metadata": {},
   "outputs": [
    {
     "name": "stdout",
     "output_type": "stream",
     "text": [
      "Download complete!\n",
      "Loading OSM data with quackosm...\n"
     ]
    },
    {
     "data": {
      "application/vnd.jupyter.widget-view+json": {
       "model_id": "8519c615e6a446e582d0d60d9c5a4d96",
       "version_major": 2,
       "version_minor": 0
      },
      "text/plain": [
       "Output()"
      ]
     },
     "metadata": {},
     "output_type": "display_data"
    },
    {
     "data": {
      "text/html": [
       "<pre style=\"white-space:pre;overflow-x:auto;line-height:normal;font-family:Menlo,'DejaVu Sans Mono',consolas,'Courier New',monospace\">Encountered OutOfMemoryException during operation. Retrying with lower number of rows per group <span style=\"font-weight: bold\">(</span><span style=\"color: #008080; text-decoration-color: #008080; font-weight: bold\">4000000</span><span style=\"font-weight: bold\">)</span>.\n",
       "</pre>\n"
      ],
      "text/plain": [
       "Encountered OutOfMemoryException during operation. Retrying with lower number of rows per group \u001b[1m(\u001b[0m\u001b[1;36m4000000\u001b[0m\u001b[1m)\u001b[0m.\n"
      ]
     },
     "metadata": {},
     "output_type": "display_data"
    },
    {
     "data": {
      "text/html": [
       "<pre style=\"white-space:pre;overflow-x:auto;line-height:normal;font-family:Menlo,'DejaVu Sans Mono',consolas,'Courier New',monospace\">Encountered OutOfMemoryException during operation. Retrying with lower number of rows per group <span style=\"font-weight: bold\">(</span><span style=\"color: #008080; text-decoration-color: #008080; font-weight: bold\">1000000</span><span style=\"font-weight: bold\">)</span>.\n",
       "</pre>\n"
      ],
      "text/plain": [
       "Encountered OutOfMemoryException during operation. Retrying with lower number of rows per group \u001b[1m(\u001b[0m\u001b[1;36m1000000\u001b[0m\u001b[1m)\u001b[0m.\n"
      ]
     },
     "metadata": {},
     "output_type": "display_data"
    },
    {
     "data": {
      "text/html": [
       "<pre style=\"white-space:pre;overflow-x:auto;line-height:normal;font-family:Menlo,'DejaVu Sans Mono',consolas,'Courier New',monospace\"></pre>\n"
      ],
      "text/plain": []
     },
     "metadata": {},
     "output_type": "display_data"
    },
    {
     "data": {
      "text/html": [
       "<pre style=\"white-space:pre;overflow-x:auto;line-height:normal;font-family:Menlo,'DejaVu Sans Mono',consolas,'Courier New',monospace\">\n",
       "</pre>\n"
      ],
      "text/plain": [
       "\n"
      ]
     },
     "metadata": {},
     "output_type": "display_data"
    },
    {
     "data": {
      "text/html": [
       "<pre style=\"white-space:pre;overflow-x:auto;line-height:normal;font-family:Menlo,'DejaVu Sans Mono',consolas,'Courier New',monospace\">Finished operation in <span style=\"color: #808000; text-decoration-color: #808000; font-weight: bold\">0:05:53</span>\n",
       "</pre>\n"
      ],
      "text/plain": [
       "Finished operation in \u001b[1;33m0:05:53\u001b[0m\n"
      ]
     },
     "metadata": {},
     "output_type": "display_data"
    },
    {
     "name": "stdout",
     "output_type": "stream",
     "text": [
      "OSM loaded: 9060584 features\n"
     ]
    },
    {
     "ename": "KeyError",
     "evalue": "'leisure'",
     "output_type": "error",
     "traceback": [
      "\u001b[31m---------------------------------------------------------------------------\u001b[39m",
      "\u001b[31mKeyError\u001b[39m                                  Traceback (most recent call last)",
      "\u001b[36mFile \u001b[39m\u001b[32m~/projects/maps/maps_env311/lib/python3.13/site-packages/pandas/core/indexes/base.py:3812\u001b[39m, in \u001b[36mIndex.get_loc\u001b[39m\u001b[34m(self, key)\u001b[39m\n\u001b[32m   3811\u001b[39m \u001b[38;5;28;01mtry\u001b[39;00m:\n\u001b[32m-> \u001b[39m\u001b[32m3812\u001b[39m     \u001b[38;5;28;01mreturn\u001b[39;00m \u001b[38;5;28;43mself\u001b[39;49m\u001b[43m.\u001b[49m\u001b[43m_engine\u001b[49m\u001b[43m.\u001b[49m\u001b[43mget_loc\u001b[49m\u001b[43m(\u001b[49m\u001b[43mcasted_key\u001b[49m\u001b[43m)\u001b[49m\n\u001b[32m   3813\u001b[39m \u001b[38;5;28;01mexcept\u001b[39;00m \u001b[38;5;167;01mKeyError\u001b[39;00m \u001b[38;5;28;01mas\u001b[39;00m err:\n",
      "\u001b[36mFile \u001b[39m\u001b[32mpandas/_libs/index.pyx:167\u001b[39m, in \u001b[36mpandas._libs.index.IndexEngine.get_loc\u001b[39m\u001b[34m()\u001b[39m\n",
      "\u001b[36mFile \u001b[39m\u001b[32mpandas/_libs/index.pyx:196\u001b[39m, in \u001b[36mpandas._libs.index.IndexEngine.get_loc\u001b[39m\u001b[34m()\u001b[39m\n",
      "\u001b[36mFile \u001b[39m\u001b[32mpandas/_libs/hashtable_class_helper.pxi:7088\u001b[39m, in \u001b[36mpandas._libs.hashtable.PyObjectHashTable.get_item\u001b[39m\u001b[34m()\u001b[39m\n",
      "\u001b[36mFile \u001b[39m\u001b[32mpandas/_libs/hashtable_class_helper.pxi:7096\u001b[39m, in \u001b[36mpandas._libs.hashtable.PyObjectHashTable.get_item\u001b[39m\u001b[34m()\u001b[39m\n",
      "\u001b[31mKeyError\u001b[39m: 'leisure'",
      "\nThe above exception was the direct cause of the following exception:\n",
      "\u001b[31mKeyError\u001b[39m                                  Traceback (most recent call last)",
      "\u001b[36mCell\u001b[39m\u001b[36m \u001b[39m\u001b[32mIn[2]\u001b[39m\u001b[32m, line 35\u001b[39m\n\u001b[32m     29\u001b[39m \u001b[38;5;28mprint\u001b[39m(\u001b[33m\"\u001b[39m\u001b[33mOSM loaded:\u001b[39m\u001b[33m\"\u001b[39m, \u001b[38;5;28mlen\u001b[39m(gdf), \u001b[33m\"\u001b[39m\u001b[33mfeatures\u001b[39m\u001b[33m\"\u001b[39m)\n\u001b[32m     31\u001b[39m \u001b[38;5;66;03m# -------------------------------\u001b[39;00m\n\u001b[32m     32\u001b[39m \u001b[38;5;66;03m# 3️⃣ Extract features\u001b[39;00m\n\u001b[32m     33\u001b[39m \u001b[38;5;66;03m# -------------------------------\u001b[39;00m\n\u001b[32m     34\u001b[39m \u001b[38;5;66;03m# Parks\u001b[39;00m\n\u001b[32m---> \u001b[39m\u001b[32m35\u001b[39m parks = gdf[(\u001b[43mgdf\u001b[49m\u001b[43m[\u001b[49m\u001b[33;43m\"\u001b[39;49m\u001b[33;43mleisure\u001b[39;49m\u001b[33;43m\"\u001b[39;49m\u001b[43m]\u001b[49m == \u001b[33m\"\u001b[39m\u001b[33mpark\u001b[39m\u001b[33m\"\u001b[39m) | (gdf[\u001b[33m\"\u001b[39m\u001b[33mlanduse\u001b[39m\u001b[33m\"\u001b[39m] == \u001b[33m\"\u001b[39m\u001b[33mrecreation_ground\u001b[39m\u001b[33m\"\u001b[39m)]\n\u001b[32m     36\u001b[39m \u001b[38;5;28mprint\u001b[39m(\u001b[33m\"\u001b[39m\u001b[33mParks:\u001b[39m\u001b[33m\"\u001b[39m, \u001b[38;5;28mlen\u001b[39m(parks))\n\u001b[32m     38\u001b[39m \u001b[38;5;66;03m# Buildings\u001b[39;00m\n",
      "\u001b[36mFile \u001b[39m\u001b[32m~/projects/maps/maps_env311/lib/python3.13/site-packages/geopandas/geodataframe.py:1896\u001b[39m, in \u001b[36mGeoDataFrame.__getitem__\u001b[39m\u001b[34m(self, key)\u001b[39m\n\u001b[32m   1890\u001b[39m \u001b[38;5;28;01mdef\u001b[39;00m\u001b[38;5;250m \u001b[39m\u001b[34m__getitem__\u001b[39m(\u001b[38;5;28mself\u001b[39m, key):\n\u001b[32m   1891\u001b[39m \u001b[38;5;250m    \u001b[39m\u001b[33;03m\"\"\"\u001b[39;00m\n\u001b[32m   1892\u001b[39m \u001b[33;03m    If the result is a column containing only 'geometry', return a\u001b[39;00m\n\u001b[32m   1893\u001b[39m \u001b[33;03m    GeoSeries. If it's a DataFrame with any columns of GeometryDtype,\u001b[39;00m\n\u001b[32m   1894\u001b[39m \u001b[33;03m    return a GeoDataFrame.\u001b[39;00m\n\u001b[32m   1895\u001b[39m \u001b[33;03m    \"\"\"\u001b[39;00m\n\u001b[32m-> \u001b[39m\u001b[32m1896\u001b[39m     result = \u001b[38;5;28;43msuper\u001b[39;49m\u001b[43m(\u001b[49m\u001b[43m)\u001b[49m\u001b[43m.\u001b[49m\u001b[34;43m__getitem__\u001b[39;49m\u001b[43m(\u001b[49m\u001b[43mkey\u001b[49m\u001b[43m)\u001b[49m\n\u001b[32m   1897\u001b[39m     \u001b[38;5;66;03m# Custom logic to avoid waiting for pandas GH51895\u001b[39;00m\n\u001b[32m   1898\u001b[39m     \u001b[38;5;66;03m# result is not geometry dtype for multi-indexes\u001b[39;00m\n\u001b[32m   1899\u001b[39m     \u001b[38;5;28;01mif\u001b[39;00m (\n\u001b[32m   1900\u001b[39m         pd.api.types.is_scalar(key)\n\u001b[32m   1901\u001b[39m         \u001b[38;5;129;01mand\u001b[39;00m key == \u001b[33m\"\u001b[39m\u001b[33m\"\u001b[39m\n\u001b[32m   (...)\u001b[39m\u001b[32m   1904\u001b[39m         \u001b[38;5;129;01mand\u001b[39;00m \u001b[38;5;129;01mnot\u001b[39;00m is_geometry_type(result)\n\u001b[32m   1905\u001b[39m     ):\n",
      "\u001b[36mFile \u001b[39m\u001b[32m~/projects/maps/maps_env311/lib/python3.13/site-packages/pandas/core/frame.py:4107\u001b[39m, in \u001b[36mDataFrame.__getitem__\u001b[39m\u001b[34m(self, key)\u001b[39m\n\u001b[32m   4105\u001b[39m \u001b[38;5;28;01mif\u001b[39;00m \u001b[38;5;28mself\u001b[39m.columns.nlevels > \u001b[32m1\u001b[39m:\n\u001b[32m   4106\u001b[39m     \u001b[38;5;28;01mreturn\u001b[39;00m \u001b[38;5;28mself\u001b[39m._getitem_multilevel(key)\n\u001b[32m-> \u001b[39m\u001b[32m4107\u001b[39m indexer = \u001b[38;5;28;43mself\u001b[39;49m\u001b[43m.\u001b[49m\u001b[43mcolumns\u001b[49m\u001b[43m.\u001b[49m\u001b[43mget_loc\u001b[49m\u001b[43m(\u001b[49m\u001b[43mkey\u001b[49m\u001b[43m)\u001b[49m\n\u001b[32m   4108\u001b[39m \u001b[38;5;28;01mif\u001b[39;00m is_integer(indexer):\n\u001b[32m   4109\u001b[39m     indexer = [indexer]\n",
      "\u001b[36mFile \u001b[39m\u001b[32m~/projects/maps/maps_env311/lib/python3.13/site-packages/pandas/core/indexes/base.py:3819\u001b[39m, in \u001b[36mIndex.get_loc\u001b[39m\u001b[34m(self, key)\u001b[39m\n\u001b[32m   3814\u001b[39m     \u001b[38;5;28;01mif\u001b[39;00m \u001b[38;5;28misinstance\u001b[39m(casted_key, \u001b[38;5;28mslice\u001b[39m) \u001b[38;5;129;01mor\u001b[39;00m (\n\u001b[32m   3815\u001b[39m         \u001b[38;5;28misinstance\u001b[39m(casted_key, abc.Iterable)\n\u001b[32m   3816\u001b[39m         \u001b[38;5;129;01mand\u001b[39;00m \u001b[38;5;28many\u001b[39m(\u001b[38;5;28misinstance\u001b[39m(x, \u001b[38;5;28mslice\u001b[39m) \u001b[38;5;28;01mfor\u001b[39;00m x \u001b[38;5;129;01min\u001b[39;00m casted_key)\n\u001b[32m   3817\u001b[39m     ):\n\u001b[32m   3818\u001b[39m         \u001b[38;5;28;01mraise\u001b[39;00m InvalidIndexError(key)\n\u001b[32m-> \u001b[39m\u001b[32m3819\u001b[39m     \u001b[38;5;28;01mraise\u001b[39;00m \u001b[38;5;167;01mKeyError\u001b[39;00m(key) \u001b[38;5;28;01mfrom\u001b[39;00m\u001b[38;5;250m \u001b[39m\u001b[34;01merr\u001b[39;00m\n\u001b[32m   3820\u001b[39m \u001b[38;5;28;01mexcept\u001b[39;00m \u001b[38;5;167;01mTypeError\u001b[39;00m:\n\u001b[32m   3821\u001b[39m     \u001b[38;5;66;03m# If we have a listlike key, _check_indexing_error will raise\u001b[39;00m\n\u001b[32m   3822\u001b[39m     \u001b[38;5;66;03m#  InvalidIndexError. Otherwise we fall through and re-raise\u001b[39;00m\n\u001b[32m   3823\u001b[39m     \u001b[38;5;66;03m#  the TypeError.\u001b[39;00m\n\u001b[32m   3824\u001b[39m     \u001b[38;5;28mself\u001b[39m._check_indexing_error(key)\n",
      "\u001b[31mKeyError\u001b[39m: 'leisure'"
     ]
    }
   ],
   "source": [
    "import os\n",
    "import quackosm as qosm\n",
    "from pyrosm import OSM, get_data\n",
    "import geopandas as gpd\n",
    "\n",
    "# -------------------------------\n",
    "# 1️⃣ Download San Francisco OSM data (Geofabrik)\n",
    "# -------------------------------\n",
    "# You can replace this with a local path if you already have the .osm.pbf\n",
    "import requests\n",
    "\n",
    "sf_pbf_url = \"https://download.geofabrik.de/north-america/us/california/norcal-latest.osm.pbf\"\n",
    "sf_pbf_file = \"san-francisco.osm.pbf\"\n",
    "\n",
    "with requests.get(sf_pbf_url, stream=True) as r:\n",
    "    r.raise_for_status()  # stop if download fails\n",
    "    with open(sf_pbf_file, \"wb\") as f:\n",
    "        for chunk in r.iter_content(chunk_size=1024*1024):\n",
    "            if chunk:\n",
    "                f.write(chunk)\n",
    "\n",
    "    print(\"Download complete!\")\n",
    "\n",
    "# -------------------------------\n",
    "# 2️⃣ Load OSM with quackosm\n",
    "# -------------------------------\n",
    "print(\"Loading OSM data with quackosm...\")\n",
    "gdf = qosm.convert_pbf_to_geodataframe(sf_pbf_file)\n",
    "print(\"OSM loaded:\", len(gdf), \"features\")\n",
    "\n",
    "# -------------------------------\n",
    "# 3️⃣ Extract features\n",
    "# -------------------------------\n",
    "# Parks\n",
    "parks = gdf[(gdf[\"leisure\"] == \"park\") | (gdf[\"landuse\"] == \"recreation_ground\")]\n",
    "print(\"Parks:\", len(parks))\n",
    "\n",
    "# Buildings\n",
    "buildings = gdf[gdf[\"building\"].notna()]\n",
    "print(\"Buildings:\", len(buildings))\n",
    "\n",
    "# Streets (highways)\n",
    "streets = gdf[gdf[\"highway\"].notna()]\n",
    "print(\"Streets:\", len(streets))\n",
    "\n",
    "# -------------------------------\n",
    "# 4️⃣ Save to GeoPackage for QGIS\n",
    "# -------------------------------\n",
    "output_folder = \"san_francisco_layers\"\n",
    "os.makedirs(output_folder, exist_ok=True)\n",
    "\n",
    "parks.to_file(os.path.join(output_folder, \"parks.gpkg\"), layer=\"parks\", driver=\"GPKG\")\n",
    "buildings.to_file(os.path.join(output_folder, \"buildings.gpkg\"), layer=\"buildings\", driver=\"GPKG\")\n",
    "streets.to_file(os.path.join(output_folder, \"streets.gpkg\"), layer=\"streets\", driver=\"GPKG\")\n",
    "\n",
    "print(f\"Saved layers to folder: {output_folder}\")\n"
   ]
  },
  {
   "cell_type": "code",
   "execution_count": 3,
   "id": "8c6509c7",
   "metadata": {},
   "outputs": [
    {
     "data": {
      "text/html": [
       "<pre style=\"white-space:pre;overflow-x:auto;line-height:normal;font-family:Menlo,'DejaVu Sans Mono',consolas,'Courier New',monospace\">\n",
       "</pre>\n"
      ],
      "text/plain": [
       "\n"
      ]
     },
     "metadata": {},
     "output_type": "display_data"
    }
   ],
   "source": [
    "import quackosm as qosm\n",
    "gdf = qosm.convert_pbf_to_geodataframe(\"san-francisco.osm.pbf\")\n"
   ]
  },
  {
   "cell_type": "markdown",
   "id": "db8dc3f5",
   "metadata": {},
   "source": [
    "✅ How to use in QGIS\n",
    "\n",
    "Open QGIS.\n",
    "\n",
    "Layer → Add Layer → Add Vector Layer → GeoPackage.\n",
    "\n",
    "Select parks.gpkg, buildings.gpkg, and streets.gpkg.\n",
    "\n",
    "The layers are ready to style:\n",
    "\n",
    "Parks → green fill\n",
    "\n",
    "Buildings → gray fill\n",
    "\n",
    "Streets → black or colored lines\n",
    "\n",
    "🔹 Notes\n",
    "\n",
    "quackosm.convert_pbf_to_geodataframe() handles all OSM tags.\n",
    "\n",
    "You can filter by other tags (waterways, railways, landuse, etc.) the same way."
   ]
  },
  {
   "cell_type": "markdown",
   "id": "a1201ba8",
   "metadata": {},
   "source": [
    "### Let’s make an enhanced Python workflow for Paris OSM data that:\n",
    "\n",
    "Downloads the PBF (with automatic size check).\n",
    "\n",
    "Loads it using quackosm.\n",
    "\n",
    "Extracts parks, buildings, and streets.\n",
    "\n",
    "Saves them as GeoPackages.\n",
    "\n",
    "Applies nice default styles (colors, line widths, transparency) in QGIS-ready form."
   ]
  },
  {
   "cell_type": "code",
   "execution_count": null,
   "id": "782c46f0",
   "metadata": {},
   "outputs": [],
   "source": [
    "# Enhanced San Francisco OSM workflow\n",
    "# --------------------------------------------------\n",
    "# Install dependencies if needed:\n",
    "# !pip install quackosm geopandas\n",
    "\n",
    "import os\n",
    "import requests\n",
    "import quackosm as qosm\n",
    "import geopandas as gpd\n",
    "\n",
    "# -------------------------------\n",
    "# 1️⃣ Download San Francisco OSM data (with size check)\n",
    "# -------------------------------\n",
    "sf_pbf_url = \"https://download.geofabrik.de/europe/france/ile-de-france.osm.pbf\"\n",
    "sf_pbf_file = \"ile-de-france.osm.pbf\"\n",
    "expected_size_bytes = 96810294  # ~96 MB\n",
    "\n",
    "download_needed = True\n",
    "if os.path.exists(sf_pbf_file):\n",
    "    actual_size = os.path.getsize(sf_pbf_file)\n",
    "    if actual_size >= expected_size_bytes:\n",
    "        download_needed = False\n",
    "    else:\n",
    "        print(\"Existing file incomplete. Redownloading...\")\n",
    "        os.remove(sf_pbf_file)\n",
    "\n",
    "if download_needed:\n",
    "    print(\"Downloading Paris OSM data (~96MB)...\")\n",
    "    with requests.get(sf_pbf_url, stream=True) as r:\n",
    "        r.raise_for_status()\n",
    "        with open(sf_pbf_file, \"wb\") as f:\n",
    "            for chunk in r.iter_content(chunk_size=1024*1024):\n",
    "                if chunk:\n",
    "                    f.write(chunk)\n",
    "    print(\"Download complete!\")\n",
    "\n",
    "# -------------------------------\n",
    "# 2️⃣ Load OSM with quackosm\n",
    "# -------------------------------\n",
    "print(\"Loading OSM data with quackosm...\")\n",
    "gdf = qosm.convert_pbf_to_geodataframe(sf_pbf_file)\n",
    "print(\"OSM loaded:\", len(gdf), \"features\")\n",
    "\n",
    "# -------------------------------\n",
    "# 3️⃣ Extract feature layers\n",
    "# -------------------------------\n",
    "parks = gdf[(gdf[\"leisure\"] == \"park\") | (gdf[\"landuse\"] == \"recreation_ground\")]\n",
    "buildings = gdf[gdf[\"building\"].notna()]\n",
    "streets = gdf[gdf[\"highway\"].notna()]\n",
    "\n",
    "print(\"Features extracted:\")\n",
    "print(\"Parks:\", len(parks))\n",
    "print(\"Buildings:\", len(buildings))\n",
    "print(\"Streets:\", len(streets))\n",
    "\n",
    "# -------------------------------\n",
    "# 4️⃣ Save to GeoPackage with styling hints\n",
    "# -------------------------------\n",
    "output_folder = \"paris_layers\"\n",
    "os.makedirs(output_folder, exist_ok=True)\n",
    "\n",
    "# Function to save with styling metadata\n",
    "def save_gpkg_with_style(gdf, filename, layer_name, style):\n",
    "    path = os.path.join(output_folder, filename)\n",
    "    gdf.to_file(path, layer=layer_name, driver=\"GPKG\")\n",
    "    # Save simple style metadata in a companion JSON (optional)\n",
    "    import json\n",
    "    style_file = path.replace(\".gpkg\", \"_style.json\")\n",
    "    with open(style_file, \"w\") as f:\n",
    "        json.dump(style, f, indent=2)\n",
    "\n",
    "# Define simple style dictionaries\n",
    "park_style = {\"fill_color\": \"#78C679\", \"outline_color\": \"#4FCE30\", \"fill_opacity\": 0.5}\n",
    "building_style = {\"fill_color\": \"#987E7E\", \"outline_color\": \"#666666\", \"fill_opacity\": 1.0}\n",
    "street_style = {\"line_color\": \"#271717\", \"line_width\": 0.8}\n",
    "\n",
    "save_gpkg_with_style(parks, \"parks.gpkg\", \"parks\", park_style)\n",
    "save_gpkg_with_style(buildings, \"buildings.gpkg\", \"buildings\", building_style)\n",
    "save_gpkg_with_style(streets, \"streets.gpkg\", \"streets\", street_style)\n",
    "\n",
    "print(f\"Layers saved to '{output_folder}' with styling hints. Ready for QGIS!\")\n"
   ]
  },
  {
   "cell_type": "markdown",
   "id": "cb600f05",
   "metadata": {},
   "source": [
    "✅ How it works\n",
    "\n",
    "Automatic download check: ensures the .osm.pbf file is complete before loading.\n",
    "\n",
    "Feature extraction: separates parks, buildings, streets into GeoDataFrames.\n",
    "\n",
    "GeoPackage export: saves each layer in a single .gpkg file.\n",
    "\n",
    "Styling hints: writes a companion JSON with colors and opacities. QGIS doesn’t read this automatically, but you can use it as reference for styling layers quickly.\n",
    "\n",
    "💡 Styling in QGIS\n",
    "\n",
    "Load each .gpkg layer.\n",
    "\n",
    "Open Layer → Properties → Symbology.\n",
    "\n",
    "Apply the colors from the JSON:\n",
    "\n",
    "Parks → green fill with transparency\n",
    "\n",
    "Buildings → gray fill\n",
    "\n",
    "Streets → thin dark lines"
   ]
  }
 ],
 "metadata": {
  "kernelspec": {
   "display_name": "maps_env311",
   "language": "python",
   "name": "python3"
  },
  "language_info": {
   "codemirror_mode": {
    "name": "ipython",
    "version": 3
   },
   "file_extension": ".py",
   "mimetype": "text/x-python",
   "name": "python",
   "nbconvert_exporter": "python",
   "pygments_lexer": "ipython3",
   "version": "3.13.7"
  }
 },
 "nbformat": 4,
 "nbformat_minor": 5
}
