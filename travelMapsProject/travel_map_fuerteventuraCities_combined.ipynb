{
 "cells": [
  {
   "cell_type": "code",
   "execution_count": 46,
   "id": "1c1d8f79",
   "metadata": {},
   "outputs": [],
   "source": [
    "import os\n",
    "import requests\n",
    "import matplotlib.pyplot as plt\n",
    "from matplotlib.offsetbox import OffsetImage, AnnotationBbox\n",
    "from dotenv import load_dotenv\n",
    "import pandas as pd\n",
    "from shapely.geometry import Point\n",
    "import geopandas as gpd\n",
    "import folium"
   ]
  },
  {
   "cell_type": "code",
   "execution_count": 47,
   "id": "850e94b8",
   "metadata": {},
   "outputs": [],
   "source": [
    "# Load API key from .env file\n",
    "load_dotenv()\n",
    "GOOGLE_MAPS_API_KEY = os.getenv('GOOGLE_MAPS_API_KEY')\n",
    "if not GOOGLE_MAPS_API_KEY:\n",
    "    raise ValueError(\"Google Maps API key not found. Please set it in the .env file.\")\n",
    "\n",
    "# List of places with GPS coordinates\n",
    "places = [\n",
    "    (28.7400646, -13.8693225, \"Corralejo\"),\n",
    "    (28.6827004, -14.0101076, \"El Cotillo\"),\n",
    "    (28.6802009, -13.9340479, \"Lajares\"),\n",
    "    (28.7501766, -13.8217035, \"Isla de Lobos\")\n",
    "]"
   ]
  },
  {
   "cell_type": "code",
   "execution_count": 48,
   "id": "92ef32dc",
   "metadata": {},
   "outputs": [
    {
     "name": "stdout",
     "output_type": "stream",
     "text": [
      "Available fonts:  ['.Aqua Kana', '.Keyboard', '.New York', '.New York', '.SF Arabic', '.SF Arabic Rounded', '.SF Armenian', '.SF Armenian Rounded', '.SF Camera', '.SF Compact', '.SF Compact', '.SF Compact Rounded', '.SF Georgian', '.SF Georgian Rounded', '.SF Hebrew', '.SF Hebrew Rounded', '.SF NS Mono', '.SF NS Mono', '.SF NS Rounded', '.SF Soft Numeric', '.ThonburiUI', 'Abolition', 'Academy Engraved LET', 'Al Bayan', 'Al Nile', 'Al Tarikh', 'Alegreya', 'Alegreya', 'Alegreya', 'American Typewriter', 'Andale Mono', 'Apple Braille', 'Apple Braille', 'Apple Braille', 'Apple Braille', 'Apple Braille', 'Apple Chancery', 'Apple SD Gothic Neo', 'Apple Symbols', 'AppleGothic', 'AppleMyungjo', 'Arial', 'Arial', 'Arial', 'Arial', 'Arial Black', 'Arial Hebrew', 'Arial Narrow', 'Arial Narrow', 'Arial Narrow', 'Arial Narrow', 'Arial Rounded MT Bold', 'Arial Unicode MS', 'Arial Unicode MS', 'Athelas', 'Avenir', 'Avenir Next', 'Avenir Next Condensed', 'Ayuthaya', 'Baghdad', 'Bangla MN', 'Bangla Sangam MN', 'Baskerville', 'Beirut', 'Big Caslon', 'Bodoni 72', 'Bodoni 72 Oldstyle', 'Bodoni 72 Smallcaps', 'Bodoni Ornaments', 'Bradley Hand', 'Brush Script MT', 'Calibri', 'Capitana', 'Capitana', 'Chalkboard', 'Chalkboard SE', 'Chalkduster', 'Charter', 'Classico URW', 'Cochin', 'Comic Sans MS', 'Comic Sans MS', 'Copperplate', 'Corsiva Hebrew', 'Courier', 'Courier New', 'Courier New', 'Courier New', 'Courier New', 'DIN Alternate', 'DIN Condensed', 'Damascus', 'DecoType Naskh', 'DejaVu Sans', 'DejaVu Sans', 'DejaVu Sans', 'DejaVu Sans', 'DejaVu Sans Display', 'DejaVu Sans Mono', 'DejaVu Sans Mono', 'DejaVu Sans Mono', 'DejaVu Sans Mono', 'DejaVu Serif', 'DejaVu Serif', 'DejaVu Serif', 'DejaVu Serif', 'DejaVu Serif Display', 'Devanagari MT', 'Devanagari Sangam MN', 'Didot', 'Diwan Kufi', 'Diwan Thuluth', 'Economica', 'Euphemia UCAS', 'Farah', 'Farisi', 'Futura', 'Galvji', 'Geeza Pro', 'Geneva', 'Georgia', 'Georgia', 'Georgia', 'Georgia', 'Gill Sans', 'Gujarati MT', 'Gujarati Sangam MN', 'Gurmukhi MN', 'Gurmukhi MT', 'Gurmukhi Sangam MN', 'Hack', 'Heiti TC', 'Heiti TC', 'Helvetica', 'Helvetica Neue', 'Herculanum', 'Hiragino Maru Gothic Pro', 'Hiragino Mincho ProN', 'Hiragino Sans', 'Hiragino Sans', 'Hiragino Sans', 'Hiragino Sans', 'Hiragino Sans', 'Hiragino Sans', 'Hiragino Sans', 'Hiragino Sans', 'Hiragino Sans', 'Hiragino Sans', 'Hiragino Sans GB', 'Hoefler Text', 'Hoefler Text', 'ITF Devanagari', 'Impact', 'InaiMathi', 'Iowan Old Style', 'Kailasa', 'Kannada MN', 'Kannada Sangam MN', 'Kefa', 'Khmer MN', 'Khmer Sangam MN', 'Kohinoor Bangla', 'Kohinoor Devanagari', 'Kohinoor Gujarati', 'Kohinoor Telugu', 'Kokonor', 'Krungthep', 'KufiStandardGK', 'LTC Broadway', 'Lao MN', 'Lao Sangam MN', 'LoRes 9 OT', 'Lucida Grande', 'Luminari', 'Malayalam MN', 'Malayalam Sangam MN', 'Marion', 'Marker Felt', 'Menlo', 'MesloLGS NF', 'MesloLGS NF', 'MesloLGS NF', 'MesloLGS NF', 'Microsoft Sans Serif', 'MinervaModern', 'Mishafi', 'Mishafi Gold', 'Monaco', 'Mshtakan', 'Mukta Mahee', 'Muna', 'Myanmar MN', 'Myanmar Sangam MN', 'Nadeem', 'New Peninim MT', 'Noteworthy', 'Noto Nastaliq Urdu', 'Noto Sans', 'Noto Sans Adlam', 'Noto Sans Armenian', 'Noto Sans Avestan', 'Noto Sans Bamum', 'Noto Sans Bassa Vah', 'Noto Sans Batak', 'Noto Sans Bhaiksuki', 'Noto Sans Brahmi', 'Noto Sans Buginese', 'Noto Sans Buhid', 'Noto Sans Canadian Aboriginal', 'Noto Sans Carian', 'Noto Sans Caucasian Albanian', 'Noto Sans Chakma', 'Noto Sans Cham', 'Noto Sans Coptic', 'Noto Sans Cuneiform', 'Noto Sans Cypriot', 'Noto Sans Duployan', 'Noto Sans Egyptian Hieroglyphs', 'Noto Sans Elbasan', 'Noto Sans Glagolitic', 'Noto Sans Gothic', 'Noto Sans Gunjala Gondi', 'Noto Sans Hanifi Rohingya', 'Noto Sans Hanunoo', 'Noto Sans Hatran', 'Noto Sans Imperial Aramaic', 'Noto Sans Inscriptional Pahlavi', 'Noto Sans Inscriptional Parthian', 'Noto Sans Javanese', 'Noto Sans Kaithi', 'Noto Sans Kannada', 'Noto Sans Kayah Li', 'Noto Sans Kharoshthi', 'Noto Sans Khojki', 'Noto Sans Khudawadi', 'Noto Sans Lepcha', 'Noto Sans Limbu', 'Noto Sans Linear A', 'Noto Sans Linear B', 'Noto Sans Lisu', 'Noto Sans Lycian', 'Noto Sans Lydian', 'Noto Sans Mahajani', 'Noto Sans Mandaic', 'Noto Sans Manichaean', 'Noto Sans Marchen', 'Noto Sans Masaram Gondi', 'Noto Sans Meetei Mayek', 'Noto Sans Mende Kikakui', 'Noto Sans Meroitic', 'Noto Sans Miao', 'Noto Sans Modi', 'Noto Sans Mongolian', 'Noto Sans Mro', 'Noto Sans Multani', 'Noto Sans Myanmar', 'Noto Sans NKo', 'Noto Sans Nabataean', 'Noto Sans New Tai Lue', 'Noto Sans Newa', 'Noto Sans Ol Chiki', 'Noto Sans Old Hungarian', 'Noto Sans Old Italic', 'Noto Sans Old North Arabian', 'Noto Sans Old Permic', 'Noto Sans Old Persian', 'Noto Sans Old South Arabian', 'Noto Sans Old Turkic', 'Noto Sans Oriya', 'Noto Sans Osage', 'Noto Sans Osmanya', 'Noto Sans Pahawh Hmong', 'Noto Sans Palmyrene', 'Noto Sans Pau Cin Hau', 'Noto Sans PhagsPa', 'Noto Sans Phoenician', 'Noto Sans Psalter Pahlavi', 'Noto Sans Rejang', 'Noto Sans Samaritan', 'Noto Sans Saurashtra', 'Noto Sans Sharada', 'Noto Sans Siddham', 'Noto Sans Sora Sompeng', 'Noto Sans Sundanese', 'Noto Sans Syloti Nagri', 'Noto Sans Syriac', 'Noto Sans Tagalog', 'Noto Sans Tagbanwa', 'Noto Sans Tai Le', 'Noto Sans Tai Tham', 'Noto Sans Tai Viet', 'Noto Sans Takri', 'Noto Sans Thaana', 'Noto Sans Tifinagh', 'Noto Sans Tirhuta', 'Noto Sans Ugaritic', 'Noto Sans Vai', 'Noto Sans Wancho', 'Noto Sans Warang Citi', 'Noto Sans Yi', 'Noto Serif Ahom', 'Noto Serif Balinese', 'Noto Serif Hmong Nyiakeng', 'Noto Serif Myanmar', 'Noto Serif Yezidi', 'Optima', 'Oriya MN', 'Oriya Sangam MN', 'PT Mono', 'PT Sans', 'PT Serif', 'PT Serif Caption', 'Palatino', 'Papyrus', 'Party LET', 'Phosphate', 'PingFang HK', 'Plantagenet Cherokee', 'Playfair Display', 'Poppins', 'Raanana', 'Roboto', 'Rockwell', 'Rounded M+ 1m', 'STIX Two Math', 'STIX Two Text', 'STIX Two Text', 'STIXGeneral', 'STIXGeneral', 'STIXGeneral', 'STIXGeneral', 'STIXGeneral', 'STIXGeneral', 'STIXGeneral', 'STIXGeneral', 'STIXIntegralsD', 'STIXIntegralsD', 'STIXIntegralsSm', 'STIXIntegralsSm', 'STIXIntegralsUp', 'STIXIntegralsUp', 'STIXIntegralsUpD', 'STIXIntegralsUpD', 'STIXIntegralsUpSm', 'STIXIntegralsUpSm', 'STIXNonUnicode', 'STIXNonUnicode', 'STIXNonUnicode', 'STIXNonUnicode', 'STIXNonUnicode', 'STIXNonUnicode', 'STIXNonUnicode', 'STIXNonUnicode', 'STIXSizeFiveSym', 'STIXSizeFiveSym', 'STIXSizeFourSym', 'STIXSizeFourSym', 'STIXSizeFourSym', 'STIXSizeFourSym', 'STIXSizeOneSym', 'STIXSizeOneSym', 'STIXSizeOneSym', 'STIXSizeOneSym', 'STIXSizeThreeSym', 'STIXSizeThreeSym', 'STIXSizeThreeSym', 'STIXSizeThreeSym', 'STIXSizeTwoSym', 'STIXSizeTwoSym', 'STIXSizeTwoSym', 'STIXSizeTwoSym', 'STIXVariants', 'STIXVariants', 'Sana', 'Sarina', 'Sathu', 'Savoye LET', 'Seravek', 'Shree Devanagari 714', 'SignPainter', 'Signo', 'Silom', 'Sinhala MN', 'Sinhala Sangam MN', 'Skia', 'Smoothy', 'Snell Roundhand', 'Sniglet', 'Songti SC', 'Source Code Pro', 'Source Code Pro', 'Source Code Pro', 'Source Code Pro', 'Source Code Pro', 'Source Code Pro', 'Source Code Pro', 'Source Serif 4', 'Sukhumvit Set', 'Superclarendon', 'Symbol', 'System Font', 'System Font', 'Tahoma', 'Tahoma', 'Tamil MN', 'Tamil Sangam MN', 'Telugu MN', 'Telugu Sangam MN', 'Thonburi', 'Times', 'Times New Roman', 'Times New Roman', 'Times New Roman', 'Times New Roman', 'Trattatello', 'Trebuchet MS', 'Trebuchet MS', 'Trebuchet MS', 'Trebuchet MS', 'Verdana', 'Verdana', 'Verdana', 'Verdana', 'Vortice', 'Waseem', 'Webdings', 'Wingdings', 'Wingdings 2', 'Wingdings 3', 'Yanone Kaffeesatz', 'Zapf Dingbats', 'Zapfino', 'cmb10', 'cmex10', 'cmmi10', 'cmr10', 'cmss10', 'cmsy10', 'cmtt10']\n"
     ]
    }
   ],
   "source": [
    "# Check available fonts\n",
    "available_fonts = sorted([f.name for f in fontManager.ttflist])\n",
    "print(\"Available fonts: \", available_fonts)\n",
    "\n",
    "# Set the font properties (use a different font if Nanum Gothic is not available)\n",
    "font_properties_city = FontProperties(family='.aqua kana', size=30)  # Font for city name\n",
    "font_properties_country = FontProperties(family='.aqua kana', size=20)  # Font for country name"
   ]
  },
  {
   "cell_type": "code",
   "execution_count": 49,
   "id": "0d3aa0e5",
   "metadata": {},
   "outputs": [],
   "source": [
    "from shapely.geometry import Point\n",
    "\n",
    "# Assuming df_cleaned has 'lat' and 'lon' columns\n",
    "df_cleaned['geometry'] = df_cleaned.apply(lambda row: Point(row['lon'], row['lat']), axis=1)"
   ]
  },
  {
   "cell_type": "code",
   "execution_count": 50,
   "id": "24a0669f",
   "metadata": {},
   "outputs": [
    {
     "name": "stdout",
     "output_type": "stream",
     "text": [
      "Map for Corralejo saved as Corralejo_map.html\n",
      "Map for El Cotillo saved as El_Cotillo_map.html\n",
      "Map for Lajares saved as Lajares_map.html\n",
      "Map for Isla de Lobos saved as Isla_de_Lobos_map.html\n",
      "Map for Isla de Lobos saved as Isla_de_Lobos_map.html\n"
     ]
    }
   ],
   "source": [
    "for lat, lon, place_name in places:\n",
    "    # Create a folium map centered at the place\n",
    "    m = folium.Map(location=[lat, lon], zoom_start=14, tiles='OpenStreetMap')\n",
    "\n",
    "    # Add a marker for the center point\n",
    "    folium.Marker([lat, lon], popup=f\"Center: {place_name}\", icon=folium.Icon(color='blue')).add_to(m)\n",
    "\n",
    "    # Load GPS data from CSV\n",
    "    csv_path = 'Fuerteventura2025_cleaned_info.csv'\n",
    "    try:\n",
    "        df = pd.read_csv(csv_path)\n",
    "        df_cleaned = df.dropna(subset=['lat', 'lon'])\n",
    "    except FileNotFoundError:\n",
    "        print(f\"CSV file not found: {csv_path}. Skipping GPS points.\")\n",
    "        continue\n",
    "\n",
    "    # Filter GPS points within proximity of the center point\n",
    "    proximity_threshold = 0.05  # Approx. 4km radius\n",
    "    df_cleaned = df_cleaned[(df_cleaned['lat'] >= lat - proximity_threshold) &\n",
    "                            (df_cleaned['lat'] <= lat + proximity_threshold) &\n",
    "                            (df_cleaned['lon'] >= lon - proximity_threshold) &\n",
    "                            (df_cleaned['lon'] <= lon + proximity_threshold)]\n",
    "\n",
    "    # Add GPS points to the map\n",
    "    for _, row in df_cleaned.iterrows():\n",
    "        folium.CircleMarker(location=[row['lat'], row['lon']],\n",
    "                            radius=5, color='red', fill=True, fill_opacity=0.7,\n",
    "                            popup=f\"Lat: {row['lat']}, Lon: {row['lon']}\").add_to(m)\n",
    "\n",
    "    # Save the map to an HTML file\n",
    "    html_filename = f\"{place_name.replace(' ', '_')}_map.html\"\n",
    "    m.save(html_filename)\n",
    "    print(f\"Map for {place_name} saved as {html_filename}\")"
   ]
  }
 ],
 "metadata": {
  "kernelspec": {
   "display_name": "maps_env",
   "language": "python",
   "name": "python3"
  },
  "language_info": {
   "codemirror_mode": {
    "name": "ipython",
    "version": 3
   },
   "file_extension": ".py",
   "mimetype": "text/x-python",
   "name": "python",
   "nbconvert_exporter": "python",
   "pygments_lexer": "ipython3",
   "version": "3.11.8"
  }
 },
 "nbformat": 4,
 "nbformat_minor": 5
}
