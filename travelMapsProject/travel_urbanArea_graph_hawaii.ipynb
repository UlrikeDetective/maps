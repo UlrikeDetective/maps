{
 "cells": [
  {
   "cell_type": "code",
   "execution_count": 15,
   "metadata": {},
   "outputs": [],
   "source": [
    "# !pip install --upgrade osmnx\n",
    "import osmnx as ox\n",
    "import matplotlib.pyplot as plt\n",
    "from matplotlib.font_manager import FontProperties, fontManager\n",
    "\n",
    "# List of places (cities) you want to visualize\n",
    "places = [\n",
    "    \"Furteventura, Spain\",\n",
    "    \"Lanzarote, Spain\",\n",
    "]\n",
    "\n",
    "# Define color palette pairs\n",
    "color_palette_actual = [\n",
    "    ('#f4f1de', '#e07a5f'), \n",
    "    ('#ff0f7b', '#f89b29'),  \n",
    "    ('#60efff', '#0061ff')   \n",
    "]\n",
    "\n",
    "# Extend with additional colors if necessary\n",
    "additional_colors = [\n",
    "    ('#45caff', '#ff1b6b'),  \n",
    "    ('#f8acff', '#696eff'),  \n",
    "    ('#9bafd9', '#103783'),  \n",
    "    ('#95f9c3', '#0b3866'),  \n",
    "    ('#613232', '#ffc8c8'),  \n",
    "    ('#f4f1de', '#e07a5f'),  \n",
    "    ('#6ff7e8', '#1f7ea1'),  \n",
    "    ('#00f59b', '#7014f2'), \n",
    "    ('#07f49e', '#42047e'),  \n",
    "    ('#faf0ca', '#0d3b66')   \n",
    "]"
   ]
  },
  {
   "cell_type": "code",
   "execution_count": null,
   "metadata": {},
   "outputs": [
    {
     "name": "stdout",
     "output_type": "stream",
     "text": [
      "Available fonts:  ['.Aqua Kana', '.Keyboard', '.New York', '.New York', '.SF Arabic', '.SF Arabic Rounded', '.SF Armenian', '.SF Armenian Rounded', '.SF Camera', '.SF Compact', '.SF Compact', '.SF Compact Rounded', '.SF Georgian', '.SF Georgian Rounded', '.SF Hebrew', '.SF Hebrew Rounded', '.SF NS Mono', '.SF NS Mono', '.SF NS Rounded', '.SF Soft Numeric', '.ThonburiUI', 'Abolition', 'Academy Engraved LET', 'Al Bayan', 'Al Nile', 'Al Tarikh', 'Alegreya', 'Alegreya', 'Alegreya', 'American Typewriter', 'Andale Mono', 'Apple Braille', 'Apple Braille', 'Apple Braille', 'Apple Braille', 'Apple Braille', 'Apple Chancery', 'Apple SD Gothic Neo', 'Apple Symbols', 'AppleGothic', 'AppleMyungjo', 'Arial', 'Arial', 'Arial', 'Arial', 'Arial Black', 'Arial Hebrew', 'Arial Narrow', 'Arial Narrow', 'Arial Narrow', 'Arial Narrow', 'Arial Rounded MT Bold', 'Arial Unicode MS', 'Arial Unicode MS', 'Athelas', 'Avenir', 'Avenir Next', 'Avenir Next Condensed', 'Ayuthaya', 'Baghdad', 'Bangla MN', 'Bangla Sangam MN', 'Baskerville', 'Beirut', 'Big Caslon', 'Bodoni 72', 'Bodoni 72 Oldstyle', 'Bodoni 72 Smallcaps', 'Bodoni Ornaments', 'Bradley Hand', 'Brush Script MT', 'Calibri', 'Capitana', 'Capitana', 'Chalkboard', 'Chalkboard SE', 'Chalkduster', 'Charter', 'Classico URW', 'Cochin', 'Comic Sans MS', 'Comic Sans MS', 'Copperplate', 'Corsiva Hebrew', 'Courier', 'Courier New', 'Courier New', 'Courier New', 'Courier New', 'DIN Alternate', 'DIN Condensed', 'Damascus', 'DecoType Naskh', 'DejaVu Sans', 'DejaVu Sans', 'DejaVu Sans', 'DejaVu Sans', 'DejaVu Sans Display', 'DejaVu Sans Mono', 'DejaVu Sans Mono', 'DejaVu Sans Mono', 'DejaVu Sans Mono', 'DejaVu Serif', 'DejaVu Serif', 'DejaVu Serif', 'DejaVu Serif', 'DejaVu Serif Display', 'Devanagari MT', 'Devanagari Sangam MN', 'Didot', 'Diwan Kufi', 'Diwan Thuluth', 'Economica', 'Euphemia UCAS', 'Farah', 'Farisi', 'Futura', 'Galvji', 'Geeza Pro', 'Geneva', 'Georgia', 'Georgia', 'Georgia', 'Georgia', 'Gill Sans', 'Gujarati MT', 'Gujarati Sangam MN', 'Gurmukhi MN', 'Gurmukhi MT', 'Gurmukhi Sangam MN', 'Hack', 'Heiti TC', 'Heiti TC', 'Helvetica', 'Helvetica Neue', 'Herculanum', 'Hiragino Maru Gothic Pro', 'Hiragino Mincho ProN', 'Hiragino Sans', 'Hiragino Sans', 'Hiragino Sans', 'Hiragino Sans', 'Hiragino Sans', 'Hiragino Sans', 'Hiragino Sans', 'Hiragino Sans', 'Hiragino Sans', 'Hiragino Sans', 'Hiragino Sans GB', 'Hoefler Text', 'Hoefler Text', 'ITF Devanagari', 'Impact', 'InaiMathi', 'Iowan Old Style', 'Kailasa', 'Kannada MN', 'Kannada Sangam MN', 'Kefa', 'Khmer MN', 'Khmer Sangam MN', 'Kohinoor Bangla', 'Kohinoor Devanagari', 'Kohinoor Gujarati', 'Kohinoor Telugu', 'Kokonor', 'Krungthep', 'KufiStandardGK', 'LTC Broadway', 'Lao MN', 'Lao Sangam MN', 'LoRes 9 OT', 'Lucida Grande', 'Luminari', 'Malayalam MN', 'Malayalam Sangam MN', 'Marion', 'Marker Felt', 'Menlo', 'MesloLGS NF', 'MesloLGS NF', 'MesloLGS NF', 'MesloLGS NF', 'Microsoft Sans Serif', 'MinervaModern', 'Mishafi', 'Mishafi Gold', 'Monaco', 'Mshtakan', 'Mukta Mahee', 'Muna', 'Myanmar MN', 'Myanmar Sangam MN', 'Nadeem', 'New Peninim MT', 'Noteworthy', 'Noto Nastaliq Urdu', 'Noto Sans', 'Noto Sans Adlam', 'Noto Sans Armenian', 'Noto Sans Avestan', 'Noto Sans Bamum', 'Noto Sans Bassa Vah', 'Noto Sans Batak', 'Noto Sans Bhaiksuki', 'Noto Sans Brahmi', 'Noto Sans Buginese', 'Noto Sans Buhid', 'Noto Sans Canadian Aboriginal', 'Noto Sans Carian', 'Noto Sans Caucasian Albanian', 'Noto Sans Chakma', 'Noto Sans Cham', 'Noto Sans Coptic', 'Noto Sans Cuneiform', 'Noto Sans Cypriot', 'Noto Sans Duployan', 'Noto Sans Egyptian Hieroglyphs', 'Noto Sans Elbasan', 'Noto Sans Glagolitic', 'Noto Sans Gothic', 'Noto Sans Gunjala Gondi', 'Noto Sans Hanifi Rohingya', 'Noto Sans Hanunoo', 'Noto Sans Hatran', 'Noto Sans Imperial Aramaic', 'Noto Sans Inscriptional Pahlavi', 'Noto Sans Inscriptional Parthian', 'Noto Sans Javanese', 'Noto Sans Kaithi', 'Noto Sans Kannada', 'Noto Sans Kayah Li', 'Noto Sans Kharoshthi', 'Noto Sans Khojki', 'Noto Sans Khudawadi', 'Noto Sans Lepcha', 'Noto Sans Limbu', 'Noto Sans Linear A', 'Noto Sans Linear B', 'Noto Sans Lisu', 'Noto Sans Lycian', 'Noto Sans Lydian', 'Noto Sans Mahajani', 'Noto Sans Mandaic', 'Noto Sans Manichaean', 'Noto Sans Marchen', 'Noto Sans Masaram Gondi', 'Noto Sans Meetei Mayek', 'Noto Sans Mende Kikakui', 'Noto Sans Meroitic', 'Noto Sans Miao', 'Noto Sans Modi', 'Noto Sans Mongolian', 'Noto Sans Mro', 'Noto Sans Multani', 'Noto Sans Myanmar', 'Noto Sans NKo', 'Noto Sans Nabataean', 'Noto Sans New Tai Lue', 'Noto Sans Newa', 'Noto Sans Ol Chiki', 'Noto Sans Old Hungarian', 'Noto Sans Old Italic', 'Noto Sans Old North Arabian', 'Noto Sans Old Permic', 'Noto Sans Old Persian', 'Noto Sans Old South Arabian', 'Noto Sans Old Turkic', 'Noto Sans Oriya', 'Noto Sans Osage', 'Noto Sans Osmanya', 'Noto Sans Pahawh Hmong', 'Noto Sans Palmyrene', 'Noto Sans Pau Cin Hau', 'Noto Sans PhagsPa', 'Noto Sans Phoenician', 'Noto Sans Psalter Pahlavi', 'Noto Sans Rejang', 'Noto Sans Samaritan', 'Noto Sans Saurashtra', 'Noto Sans Sharada', 'Noto Sans Siddham', 'Noto Sans Sora Sompeng', 'Noto Sans Sundanese', 'Noto Sans Syloti Nagri', 'Noto Sans Syriac', 'Noto Sans Tagalog', 'Noto Sans Tagbanwa', 'Noto Sans Tai Le', 'Noto Sans Tai Tham', 'Noto Sans Tai Viet', 'Noto Sans Takri', 'Noto Sans Thaana', 'Noto Sans Tifinagh', 'Noto Sans Tirhuta', 'Noto Sans Ugaritic', 'Noto Sans Vai', 'Noto Sans Wancho', 'Noto Sans Warang Citi', 'Noto Sans Yi', 'Noto Serif Ahom', 'Noto Serif Balinese', 'Noto Serif Hmong Nyiakeng', 'Noto Serif Myanmar', 'Noto Serif Yezidi', 'Optima', 'Oriya MN', 'Oriya Sangam MN', 'PT Mono', 'PT Sans', 'PT Serif', 'PT Serif Caption', 'Palatino', 'Papyrus', 'Party LET', 'Phosphate', 'PingFang HK', 'Plantagenet Cherokee', 'Playfair Display', 'Poppins', 'Raanana', 'Roboto', 'Rockwell', 'Rounded M+ 1m', 'STIX Two Math', 'STIX Two Text', 'STIX Two Text', 'STIXGeneral', 'STIXGeneral', 'STIXGeneral', 'STIXGeneral', 'STIXGeneral', 'STIXGeneral', 'STIXGeneral', 'STIXGeneral', 'STIXIntegralsD', 'STIXIntegralsD', 'STIXIntegralsSm', 'STIXIntegralsSm', 'STIXIntegralsUp', 'STIXIntegralsUp', 'STIXIntegralsUpD', 'STIXIntegralsUpD', 'STIXIntegralsUpSm', 'STIXIntegralsUpSm', 'STIXNonUnicode', 'STIXNonUnicode', 'STIXNonUnicode', 'STIXNonUnicode', 'STIXNonUnicode', 'STIXNonUnicode', 'STIXNonUnicode', 'STIXNonUnicode', 'STIXSizeFiveSym', 'STIXSizeFiveSym', 'STIXSizeFourSym', 'STIXSizeFourSym', 'STIXSizeFourSym', 'STIXSizeFourSym', 'STIXSizeOneSym', 'STIXSizeOneSym', 'STIXSizeOneSym', 'STIXSizeOneSym', 'STIXSizeThreeSym', 'STIXSizeThreeSym', 'STIXSizeThreeSym', 'STIXSizeThreeSym', 'STIXSizeTwoSym', 'STIXSizeTwoSym', 'STIXSizeTwoSym', 'STIXSizeTwoSym', 'STIXVariants', 'STIXVariants', 'Sana', 'Sarina', 'Sathu', 'Savoye LET', 'Seravek', 'Shree Devanagari 714', 'SignPainter', 'Signo', 'Silom', 'Sinhala MN', 'Sinhala Sangam MN', 'Skia', 'Smoothy', 'Snell Roundhand', 'Sniglet', 'Songti SC', 'Source Code Pro', 'Source Code Pro', 'Source Code Pro', 'Source Code Pro', 'Source Code Pro', 'Source Code Pro', 'Source Code Pro', 'Source Serif 4', 'Sukhumvit Set', 'Superclarendon', 'Symbol', 'System Font', 'System Font', 'Tahoma', 'Tahoma', 'Tamil MN', 'Tamil Sangam MN', 'Telugu MN', 'Telugu Sangam MN', 'Thonburi', 'Times', 'Times New Roman', 'Times New Roman', 'Times New Roman', 'Times New Roman', 'Trattatello', 'Trebuchet MS', 'Trebuchet MS', 'Trebuchet MS', 'Trebuchet MS', 'Verdana', 'Verdana', 'Verdana', 'Verdana', 'Vortice', 'Waseem', 'Webdings', 'Wingdings', 'Wingdings 2', 'Wingdings 3', 'Yanone Kaffeesatz', 'Zapf Dingbats', 'Zapfino', 'cmb10', 'cmex10', 'cmmi10', 'cmr10', 'cmss10', 'cmsy10', 'cmtt10']\n"
     ]
    },
    {
     "ename": "TypeError",
     "evalue": "Nominatim did not geocode query 'Furteventura, Spain' to a geometry of type (Multi)Polygon.",
     "output_type": "error",
     "traceback": [
      "\u001b[0;31m---------------------------------------------------------------------------\u001b[0m",
      "\u001b[0;31mTypeError\u001b[0m                                 Traceback (most recent call last)",
      "File \u001b[0;32m~/projects/maps/maps_env/lib/python3.11/site-packages/osmnx/geocoder.py:173\u001b[0m, in \u001b[0;36m_geocode_query_to_gdf\u001b[0;34m(query, which_result, by_osmid)\u001b[0m\n\u001b[1;32m    172\u001b[0m \u001b[38;5;28;01mtry\u001b[39;00m:\n\u001b[0;32m--> 173\u001b[0m     result \u001b[38;5;241m=\u001b[39m \u001b[43m_get_first_polygon\u001b[49m\u001b[43m(\u001b[49m\u001b[43mresults\u001b[49m\u001b[43m)\u001b[49m\n\u001b[1;32m    174\u001b[0m \u001b[38;5;28;01mexcept\u001b[39;00m \u001b[38;5;167;01mTypeError\u001b[39;00m \u001b[38;5;28;01mas\u001b[39;00m e:\n",
      "File \u001b[0;32m~/projects/maps/maps_env/lib/python3.11/site-packages/osmnx/geocoder.py:239\u001b[0m, in \u001b[0;36m_get_first_polygon\u001b[0;34m(results)\u001b[0m\n\u001b[1;32m    238\u001b[0m \u001b[38;5;66;03m# if we never found a polygon, raise an error\u001b[39;00m\n\u001b[0;32m--> 239\u001b[0m \u001b[38;5;28;01mraise\u001b[39;00m \u001b[38;5;167;01mTypeError\u001b[39;00m\n",
      "\u001b[0;31mTypeError\u001b[0m: ",
      "\nThe above exception was the direct cause of the following exception:\n",
      "\u001b[0;31mTypeError\u001b[0m                                 Traceback (most recent call last)",
      "Cell \u001b[0;32mIn[16], line 19\u001b[0m\n\u001b[1;32m     17\u001b[0m \u001b[38;5;66;03m# Use the `geometries_from_place` function to get the geometries of the island\u001b[39;00m\n\u001b[1;32m     18\u001b[0m tags \u001b[38;5;241m=\u001b[39m {\u001b[38;5;124m'\u001b[39m\u001b[38;5;124mplace\u001b[39m\u001b[38;5;124m'\u001b[39m: [\u001b[38;5;124m'\u001b[39m\u001b[38;5;124misland\u001b[39m\u001b[38;5;124m'\u001b[39m, \u001b[38;5;124m'\u001b[39m\u001b[38;5;124mislet\u001b[39m\u001b[38;5;124m'\u001b[39m]}\n\u001b[0;32m---> 19\u001b[0m gdf \u001b[38;5;241m=\u001b[39m \u001b[43mox\u001b[49m\u001b[38;5;241;43m.\u001b[39;49m\u001b[43mgeocode_to_gdf\u001b[49m\u001b[43m(\u001b[49m\u001b[43mplace_name\u001b[49m\u001b[43m)\u001b[49m\n\u001b[1;32m     21\u001b[0m \u001b[38;5;66;03m# Download the street network data for the place\u001b[39;00m\n\u001b[1;32m     22\u001b[0m graph \u001b[38;5;241m=\u001b[39m ox\u001b[38;5;241m.\u001b[39mgraph_from_place(place_name, network_type\u001b[38;5;241m=\u001b[39m\u001b[38;5;124m'\u001b[39m\u001b[38;5;124mall\u001b[39m\u001b[38;5;124m'\u001b[39m)\n",
      "File \u001b[0;32m~/projects/maps/maps_env/lib/python3.11/site-packages/osmnx/geocoder.py:125\u001b[0m, in \u001b[0;36mgeocode_to_gdf\u001b[0;34m(query, which_result, by_osmid)\u001b[0m\n\u001b[1;32m    123\u001b[0m \u001b[38;5;66;03m# geocode each query, concat as GeoDataFrame rows, then set the CRS\u001b[39;00m\n\u001b[1;32m    124\u001b[0m results \u001b[38;5;241m=\u001b[39m (_geocode_query_to_gdf(q, wr, by_osmid) \u001b[38;5;28;01mfor\u001b[39;00m q, wr \u001b[38;5;129;01min\u001b[39;00m \u001b[38;5;28mzip\u001b[39m(q_list, wr_list))\n\u001b[0;32m--> 125\u001b[0m gdf \u001b[38;5;241m=\u001b[39m \u001b[43mpd\u001b[49m\u001b[38;5;241;43m.\u001b[39;49m\u001b[43mconcat\u001b[49m\u001b[43m(\u001b[49m\u001b[43mresults\u001b[49m\u001b[43m,\u001b[49m\u001b[43m \u001b[49m\u001b[43mignore_index\u001b[49m\u001b[38;5;241;43m=\u001b[39;49m\u001b[38;5;28;43;01mTrue\u001b[39;49;00m\u001b[43m)\u001b[49m\u001b[38;5;241m.\u001b[39mset_crs(settings\u001b[38;5;241m.\u001b[39mdefault_crs)\n\u001b[1;32m    127\u001b[0m msg \u001b[38;5;241m=\u001b[39m \u001b[38;5;124mf\u001b[39m\u001b[38;5;124m\"\u001b[39m\u001b[38;5;124mCreated GeoDataFrame with \u001b[39m\u001b[38;5;132;01m{\u001b[39;00m\u001b[38;5;28mlen\u001b[39m(gdf)\u001b[38;5;132;01m}\u001b[39;00m\u001b[38;5;124m rows from \u001b[39m\u001b[38;5;132;01m{\u001b[39;00m\u001b[38;5;28mlen\u001b[39m(q_list)\u001b[38;5;132;01m}\u001b[39;00m\u001b[38;5;124m queries\u001b[39m\u001b[38;5;124m\"\u001b[39m\n\u001b[1;32m    128\u001b[0m utils\u001b[38;5;241m.\u001b[39mlog(msg, level\u001b[38;5;241m=\u001b[39mlg\u001b[38;5;241m.\u001b[39mINFO)\n",
      "File \u001b[0;32m~/projects/maps/maps_env/lib/python3.11/site-packages/pandas/core/reshape/concat.py:382\u001b[0m, in \u001b[0;36mconcat\u001b[0;34m(objs, axis, join, ignore_index, keys, levels, names, verify_integrity, sort, copy)\u001b[0m\n\u001b[1;32m    379\u001b[0m \u001b[38;5;28;01melif\u001b[39;00m copy \u001b[38;5;129;01mand\u001b[39;00m using_copy_on_write():\n\u001b[1;32m    380\u001b[0m     copy \u001b[38;5;241m=\u001b[39m \u001b[38;5;28;01mFalse\u001b[39;00m\n\u001b[0;32m--> 382\u001b[0m op \u001b[38;5;241m=\u001b[39m \u001b[43m_Concatenator\u001b[49m\u001b[43m(\u001b[49m\n\u001b[1;32m    383\u001b[0m \u001b[43m    \u001b[49m\u001b[43mobjs\u001b[49m\u001b[43m,\u001b[49m\n\u001b[1;32m    384\u001b[0m \u001b[43m    \u001b[49m\u001b[43maxis\u001b[49m\u001b[38;5;241;43m=\u001b[39;49m\u001b[43maxis\u001b[49m\u001b[43m,\u001b[49m\n\u001b[1;32m    385\u001b[0m \u001b[43m    \u001b[49m\u001b[43mignore_index\u001b[49m\u001b[38;5;241;43m=\u001b[39;49m\u001b[43mignore_index\u001b[49m\u001b[43m,\u001b[49m\n\u001b[1;32m    386\u001b[0m \u001b[43m    \u001b[49m\u001b[43mjoin\u001b[49m\u001b[38;5;241;43m=\u001b[39;49m\u001b[43mjoin\u001b[49m\u001b[43m,\u001b[49m\n\u001b[1;32m    387\u001b[0m \u001b[43m    \u001b[49m\u001b[43mkeys\u001b[49m\u001b[38;5;241;43m=\u001b[39;49m\u001b[43mkeys\u001b[49m\u001b[43m,\u001b[49m\n\u001b[1;32m    388\u001b[0m \u001b[43m    \u001b[49m\u001b[43mlevels\u001b[49m\u001b[38;5;241;43m=\u001b[39;49m\u001b[43mlevels\u001b[49m\u001b[43m,\u001b[49m\n\u001b[1;32m    389\u001b[0m \u001b[43m    \u001b[49m\u001b[43mnames\u001b[49m\u001b[38;5;241;43m=\u001b[39;49m\u001b[43mnames\u001b[49m\u001b[43m,\u001b[49m\n\u001b[1;32m    390\u001b[0m \u001b[43m    \u001b[49m\u001b[43mverify_integrity\u001b[49m\u001b[38;5;241;43m=\u001b[39;49m\u001b[43mverify_integrity\u001b[49m\u001b[43m,\u001b[49m\n\u001b[1;32m    391\u001b[0m \u001b[43m    \u001b[49m\u001b[43mcopy\u001b[49m\u001b[38;5;241;43m=\u001b[39;49m\u001b[43mcopy\u001b[49m\u001b[43m,\u001b[49m\n\u001b[1;32m    392\u001b[0m \u001b[43m    \u001b[49m\u001b[43msort\u001b[49m\u001b[38;5;241;43m=\u001b[39;49m\u001b[43msort\u001b[49m\u001b[43m,\u001b[49m\n\u001b[1;32m    393\u001b[0m \u001b[43m\u001b[49m\u001b[43m)\u001b[49m\n\u001b[1;32m    395\u001b[0m \u001b[38;5;28;01mreturn\u001b[39;00m op\u001b[38;5;241m.\u001b[39mget_result()\n",
      "File \u001b[0;32m~/projects/maps/maps_env/lib/python3.11/site-packages/pandas/core/reshape/concat.py:445\u001b[0m, in \u001b[0;36m_Concatenator.__init__\u001b[0;34m(self, objs, axis, join, keys, levels, names, ignore_index, verify_integrity, copy, sort)\u001b[0m\n\u001b[1;32m    442\u001b[0m \u001b[38;5;28mself\u001b[39m\u001b[38;5;241m.\u001b[39mverify_integrity \u001b[38;5;241m=\u001b[39m verify_integrity\n\u001b[1;32m    443\u001b[0m \u001b[38;5;28mself\u001b[39m\u001b[38;5;241m.\u001b[39mcopy \u001b[38;5;241m=\u001b[39m copy\n\u001b[0;32m--> 445\u001b[0m objs, keys \u001b[38;5;241m=\u001b[39m \u001b[38;5;28;43mself\u001b[39;49m\u001b[38;5;241;43m.\u001b[39;49m\u001b[43m_clean_keys_and_objs\u001b[49m\u001b[43m(\u001b[49m\u001b[43mobjs\u001b[49m\u001b[43m,\u001b[49m\u001b[43m \u001b[49m\u001b[43mkeys\u001b[49m\u001b[43m)\u001b[49m\n\u001b[1;32m    447\u001b[0m \u001b[38;5;66;03m# figure out what our result ndim is going to be\u001b[39;00m\n\u001b[1;32m    448\u001b[0m ndims \u001b[38;5;241m=\u001b[39m \u001b[38;5;28mself\u001b[39m\u001b[38;5;241m.\u001b[39m_get_ndims(objs)\n",
      "File \u001b[0;32m~/projects/maps/maps_env/lib/python3.11/site-packages/pandas/core/reshape/concat.py:504\u001b[0m, in \u001b[0;36m_Concatenator._clean_keys_and_objs\u001b[0;34m(self, objs, keys)\u001b[0m\n\u001b[1;32m    502\u001b[0m     objs_list \u001b[38;5;241m=\u001b[39m [objs[k] \u001b[38;5;28;01mfor\u001b[39;00m k \u001b[38;5;129;01min\u001b[39;00m keys]\n\u001b[1;32m    503\u001b[0m \u001b[38;5;28;01melse\u001b[39;00m:\n\u001b[0;32m--> 504\u001b[0m     objs_list \u001b[38;5;241m=\u001b[39m \u001b[38;5;28;43mlist\u001b[39;49m\u001b[43m(\u001b[49m\u001b[43mobjs\u001b[49m\u001b[43m)\u001b[49m\n\u001b[1;32m    506\u001b[0m \u001b[38;5;28;01mif\u001b[39;00m \u001b[38;5;28mlen\u001b[39m(objs_list) \u001b[38;5;241m==\u001b[39m \u001b[38;5;241m0\u001b[39m:\n\u001b[1;32m    507\u001b[0m     \u001b[38;5;28;01mraise\u001b[39;00m \u001b[38;5;167;01mValueError\u001b[39;00m(\u001b[38;5;124m\"\u001b[39m\u001b[38;5;124mNo objects to concatenate\u001b[39m\u001b[38;5;124m\"\u001b[39m)\n",
      "File \u001b[0;32m~/projects/maps/maps_env/lib/python3.11/site-packages/osmnx/geocoder.py:124\u001b[0m, in \u001b[0;36m<genexpr>\u001b[0;34m(.0)\u001b[0m\n\u001b[1;32m    121\u001b[0m     \u001b[38;5;28;01mraise\u001b[39;00m \u001b[38;5;167;01mValueError\u001b[39;00m(msg)\n\u001b[1;32m    123\u001b[0m \u001b[38;5;66;03m# geocode each query, concat as GeoDataFrame rows, then set the CRS\u001b[39;00m\n\u001b[0;32m--> 124\u001b[0m results \u001b[38;5;241m=\u001b[39m (\u001b[43m_geocode_query_to_gdf\u001b[49m\u001b[43m(\u001b[49m\u001b[43mq\u001b[49m\u001b[43m,\u001b[49m\u001b[43m \u001b[49m\u001b[43mwr\u001b[49m\u001b[43m,\u001b[49m\u001b[43m \u001b[49m\u001b[43mby_osmid\u001b[49m\u001b[43m)\u001b[49m \u001b[38;5;28;01mfor\u001b[39;00m q, wr \u001b[38;5;129;01min\u001b[39;00m \u001b[38;5;28mzip\u001b[39m(q_list, wr_list))\n\u001b[1;32m    125\u001b[0m gdf \u001b[38;5;241m=\u001b[39m pd\u001b[38;5;241m.\u001b[39mconcat(results, ignore_index\u001b[38;5;241m=\u001b[39m\u001b[38;5;28;01mTrue\u001b[39;00m)\u001b[38;5;241m.\u001b[39mset_crs(settings\u001b[38;5;241m.\u001b[39mdefault_crs)\n\u001b[1;32m    127\u001b[0m msg \u001b[38;5;241m=\u001b[39m \u001b[38;5;124mf\u001b[39m\u001b[38;5;124m\"\u001b[39m\u001b[38;5;124mCreated GeoDataFrame with \u001b[39m\u001b[38;5;132;01m{\u001b[39;00m\u001b[38;5;28mlen\u001b[39m(gdf)\u001b[38;5;132;01m}\u001b[39;00m\u001b[38;5;124m rows from \u001b[39m\u001b[38;5;132;01m{\u001b[39;00m\u001b[38;5;28mlen\u001b[39m(q_list)\u001b[38;5;132;01m}\u001b[39;00m\u001b[38;5;124m queries\u001b[39m\u001b[38;5;124m\"\u001b[39m\n",
      "File \u001b[0;32m~/projects/maps/maps_env/lib/python3.11/site-packages/osmnx/geocoder.py:176\u001b[0m, in \u001b[0;36m_geocode_query_to_gdf\u001b[0;34m(query, which_result, by_osmid)\u001b[0m\n\u001b[1;32m    174\u001b[0m     \u001b[38;5;28;01mexcept\u001b[39;00m \u001b[38;5;167;01mTypeError\u001b[39;00m \u001b[38;5;28;01mas\u001b[39;00m e:\n\u001b[1;32m    175\u001b[0m         msg \u001b[38;5;241m=\u001b[39m \u001b[38;5;124mf\u001b[39m\u001b[38;5;124m\"\u001b[39m\u001b[38;5;124mNominatim did not geocode query \u001b[39m\u001b[38;5;132;01m{\u001b[39;00mquery\u001b[38;5;132;01m!r}\u001b[39;00m\u001b[38;5;124m to a geometry of type (Multi)Polygon.\u001b[39m\u001b[38;5;124m\"\u001b[39m\n\u001b[0;32m--> 176\u001b[0m         \u001b[38;5;28;01mraise\u001b[39;00m \u001b[38;5;167;01mTypeError\u001b[39;00m(msg) \u001b[38;5;28;01mfrom\u001b[39;00m\u001b[38;5;250m \u001b[39m\u001b[38;5;21;01me\u001b[39;00m\n\u001b[1;32m    178\u001b[0m \u001b[38;5;28;01melif\u001b[39;00m \u001b[38;5;28mlen\u001b[39m(results) \u001b[38;5;241m>\u001b[39m\u001b[38;5;241m=\u001b[39m which_result:\n\u001b[1;32m    179\u001b[0m     \u001b[38;5;66;03m# else, if we got at least which_result results, choose that one\u001b[39;00m\n\u001b[1;32m    180\u001b[0m     result \u001b[38;5;241m=\u001b[39m results[which_result \u001b[38;5;241m-\u001b[39m \u001b[38;5;241m1\u001b[39m]\n",
      "\u001b[0;31mTypeError\u001b[0m: Nominatim did not geocode query 'Furteventura, Spain' to a geometry of type (Multi)Polygon."
     ]
    }
   ],
   "source": [
    "# Combine the colors to make 12 pairs\n",
    "color_palette_actual.extend(additional_colors[:len(places) - len(color_palette_actual)])\n",
    "\n",
    "# Check available fonts\n",
    "available_fonts = sorted([f.name for f in fontManager.ttflist])\n",
    "print(\"Available fonts: \", available_fonts)\n",
    "\n",
    "# Set the font properties (use a different font if Nanum Gothic is not available)\n",
    "font_properties_city = FontProperties(family='.aqua kana', size=30)  # Font for city name\n",
    "font_properties_country = FontProperties(family='.aqua kana', size=20)  # Font for country name\n",
    "\n",
    "for i, place_name in enumerate(places):\n",
    "    # Split the place name into city and country\n",
    "    city, country = place_name.split(', ')\n",
    "    title_text = f\"{city}\\n{country}\"\n",
    "\n",
    "    # Use the `geocode_to_gdf` function to get the geometries of the island\n",
    "    tags = {'place': ['island', 'islet']}\n",
    "    try:\n",
    "        gdf = ox.geocode_to_gdf(place_name)\n",
    "    except TypeError as e:\n",
    "        print(f\"TypeError: {e}. Skipping {place_name}.\")\n",
    "        continue\n",
    "\n",
    "    # Download the street network data for the place\n",
    "    graph = ox.graph_from_place(place_name, network_type='all')\n",
    "\n",
    "    # Select a color pair (cycling through the list)\n",
    "    background_color, edge_color = color_palette_actual[i % len(color_palette_actual)]\n",
    "\n",
    "    # Create a figure and axis\n",
    "    fig, ax = plt.subplots(figsize=(10, 10))\n",
    "    plt.subplots_adjust(top=0.92)  # Adjust to create space at the top\n",
    "\n",
    "    # Plot the geometries on the axis with the background color\n",
    "    ax.set_facecolor(background_color)\n",
    "    gdf.plot(ax=ax, facecolor=edge_color, edgecolor='k', linewidth=0.5)\n",
    "\n",
    "    # Plot the street network on the same axis\n",
    "    ox.plot_graph(graph, ax=ax, node_size=0, edge_color='black', edge_linewidth=1.5, show=False, close=False)\n",
    "\n",
    "    # Add the city and country name above the visualization\n",
    "    fig.suptitle(city, fontsize=30, fontproperties=font_properties_city, color='black', ha='center', y=1.02)\n",
    "    fig.text(0.5, 0.95, country, fontsize=20, fontproperties=font_properties_country, color='black', ha='center')\n",
    "\n",
    "    # Save the plot to a file\n",
    "    filename = f'urban_area_{place_name.replace(\", \", \"_\").replace(\" \", \"_\")}.png'\n",
    "    plt.savefig(filename, dpi=300, bbox_inches='tight')\n",
    "    plt.show()"
   ]
  }
 ],
 "metadata": {
  "kernelspec": {
   "display_name": "maps_env",
   "language": "python",
   "name": "python3"
  },
  "language_info": {
   "codemirror_mode": {
    "name": "ipython",
    "version": 3
   },
   "file_extension": ".py",
   "mimetype": "text/x-python",
   "name": "python",
   "nbconvert_exporter": "python",
   "pygments_lexer": "ipython3",
   "version": "3.11.8"
  }
 },
 "nbformat": 4,
 "nbformat_minor": 2
}
