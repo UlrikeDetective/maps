{
 "cells": [
  {
   "cell_type": "markdown",
   "id": "adf3ba69",
   "metadata": {},
   "source": [
    "### 10 Folium/Altair Maps for Geospatial Analytics in Minutes\n",
    "\n",
    "Practical, copy-paste map recipes that turn raw lat/longs and polygons into decisions — without becoming a GIS expert."
   ]
  },
  {
   "cell_type": "code",
   "execution_count": null,
   "id": "5567efbb",
   "metadata": {
    "vscode": {
     "languageId": "plaintext"
    }
   },
   "outputs": [],
   "source": [
    "# Setup & Tiny Dataset (once)\n",
    "\n",
    "import pandas as pd\n",
    "import numpy as np\n",
    "\n",
    "# 1) Random points roughly around Bengaluru\n",
    "rng = np.random.default_rng(42)\n",
    "N = 1000\n",
    "df_points = pd.DataFrame({\n",
    "    \"lat\": 12.9 + rng.normal(0, 0.12, N),\n",
    "    \"lon\": 77.6 + rng.normal(0, 0.12, N),\n",
    "    \"value\": rng.integers(1, 100, N),\n",
    "    \"category\": rng.choice([\"A\",\"B\",\"C\"], N, p=[0.5,0.3,0.2])\n",
    "})\n",
    "\n",
    "# 2) Minimal GeoJSON-like polygon (pretend districts; keep small)\n",
    "districts = {\n",
    "  \"type\":\"FeatureCollection\",\n",
    "  \"features\":[\n",
    "    {\"type\":\"Feature\",\"properties\":{\"name\":\"North\"},\"geometry\":{\"type\":\"Polygon\",\"coordinates\":[[[77.45,13.02],[77.9,13.02],[77.9,13.25],[77.45,13.25],[77.45,13.02]]]}},\n",
    "    {\"type\":\"Feature\",\"properties\":{\"name\":\"South\"},\"geometry\":{\"type\":\"Polygon\",\"coordinates\":[[[77.45,12.55],[77.9,12.55],[77.9,12.9],[77.45,12.9],[77.45,12.55]]]}},\n",
    "  ]\n",
    "}"
   ]
  }
 ],
 "metadata": {
  "language_info": {
   "name": "python"
  }
 },
 "nbformat": 4,
 "nbformat_minor": 5
}
