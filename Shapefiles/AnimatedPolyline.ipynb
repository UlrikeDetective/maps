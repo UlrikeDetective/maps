{
 "cells": [
  {
   "cell_type": "markdown",
   "id": "2abcea18",
   "metadata": {},
   "source": [
    "## How to Create an Animated Polyline with a Basemap in Python: A Step-by-Step Tutorial\n",
    "by A Baig\n",
    "\n",
    "In this tutorial, you’ll learn how to create an animated polyline overlaid on a basemap using Python. This process involves using libraries such as geopandas, matplotlib, contextily, and FuncAnimation.\n",
    "\n",
    "### Step 1: Pre Requisites (Software & Python Libraries)\n",
    "\n",
    "I have made this code in Spyder, Anaconda. You can either install it using pip, or if you are in an Anaconda Environment, you can use conda. After installation, import the required libraries into your python editor.\n",
    "\n"
   ]
  },
  {
   "cell_type": "code",
   "execution_count": 1,
   "id": "dd5861b6",
   "metadata": {},
   "outputs": [
    {
     "name": "stdout",
     "output_type": "stream",
     "text": [
      "Requirement already satisfied: geopandas in /Users/ulrike_imac_air/projects/maps/maps_env/lib/python3.11/site-packages (1.0.1)\n",
      "Requirement already satisfied: matplotlib in /Users/ulrike_imac_air/projects/maps/maps_env/lib/python3.11/site-packages (3.10.0)\n",
      "Requirement already satisfied: contextily in /Users/ulrike_imac_air/projects/maps/maps_env/lib/python3.11/site-packages (1.6.2)\n",
      "Collecting ffmpeg-python\n",
      "  Downloading ffmpeg_python-0.2.0-py3-none-any.whl.metadata (1.7 kB)\n",
      "Requirement already satisfied: numpy>=1.22 in /Users/ulrike_imac_air/projects/maps/maps_env/lib/python3.11/site-packages (from geopandas) (2.2.2)\n",
      "Requirement already satisfied: pyogrio>=0.7.2 in /Users/ulrike_imac_air/projects/maps/maps_env/lib/python3.11/site-packages (from geopandas) (0.10.0)\n",
      "Requirement already satisfied: packaging in /Users/ulrike_imac_air/projects/maps/maps_env/lib/python3.11/site-packages (from geopandas) (24.2)\n",
      "Requirement already satisfied: pandas>=1.4.0 in /Users/ulrike_imac_air/projects/maps/maps_env/lib/python3.11/site-packages (from geopandas) (2.2.3)\n",
      "Requirement already satisfied: pyproj>=3.3.0 in /Users/ulrike_imac_air/projects/maps/maps_env/lib/python3.11/site-packages (from geopandas) (3.7.0)\n",
      "Requirement already satisfied: shapely>=2.0.0 in /Users/ulrike_imac_air/projects/maps/maps_env/lib/python3.11/site-packages (from geopandas) (2.0.6)\n",
      "Requirement already satisfied: contourpy>=1.0.1 in /Users/ulrike_imac_air/projects/maps/maps_env/lib/python3.11/site-packages (from matplotlib) (1.3.1)\n",
      "Requirement already satisfied: cycler>=0.10 in /Users/ulrike_imac_air/projects/maps/maps_env/lib/python3.11/site-packages (from matplotlib) (0.12.1)\n",
      "Requirement already satisfied: fonttools>=4.22.0 in /Users/ulrike_imac_air/projects/maps/maps_env/lib/python3.11/site-packages (from matplotlib) (4.55.6)\n",
      "Requirement already satisfied: kiwisolver>=1.3.1 in /Users/ulrike_imac_air/projects/maps/maps_env/lib/python3.11/site-packages (from matplotlib) (1.4.8)\n",
      "Requirement already satisfied: pillow>=8 in /Users/ulrike_imac_air/projects/maps/maps_env/lib/python3.11/site-packages (from matplotlib) (11.1.0)\n",
      "Requirement already satisfied: pyparsing>=2.3.1 in /Users/ulrike_imac_air/projects/maps/maps_env/lib/python3.11/site-packages (from matplotlib) (3.2.1)\n",
      "Requirement already satisfied: python-dateutil>=2.7 in /Users/ulrike_imac_air/projects/maps/maps_env/lib/python3.11/site-packages (from matplotlib) (2.9.0.post0)\n",
      "Requirement already satisfied: geopy in /Users/ulrike_imac_air/projects/maps/maps_env/lib/python3.11/site-packages (from contextily) (2.4.1)\n",
      "Requirement already satisfied: mercantile in /Users/ulrike_imac_air/projects/maps/maps_env/lib/python3.11/site-packages (from contextily) (1.2.1)\n",
      "Requirement already satisfied: rasterio in /Users/ulrike_imac_air/projects/maps/maps_env/lib/python3.11/site-packages (from contextily) (1.4.3)\n",
      "Requirement already satisfied: requests in /Users/ulrike_imac_air/projects/maps/maps_env/lib/python3.11/site-packages (from contextily) (2.32.3)\n",
      "Requirement already satisfied: joblib in /Users/ulrike_imac_air/projects/maps/maps_env/lib/python3.11/site-packages (from contextily) (1.4.2)\n",
      "Requirement already satisfied: xyzservices in /Users/ulrike_imac_air/projects/maps/maps_env/lib/python3.11/site-packages (from contextily) (2025.1.0)\n",
      "Requirement already satisfied: future in /Users/ulrike_imac_air/projects/maps/maps_env/lib/python3.11/site-packages (from ffmpeg-python) (1.0.0)\n",
      "Requirement already satisfied: pytz>=2020.1 in /Users/ulrike_imac_air/projects/maps/maps_env/lib/python3.11/site-packages (from pandas>=1.4.0->geopandas) (2024.2)\n",
      "Requirement already satisfied: tzdata>=2022.7 in /Users/ulrike_imac_air/projects/maps/maps_env/lib/python3.11/site-packages (from pandas>=1.4.0->geopandas) (2025.1)\n",
      "Requirement already satisfied: certifi in /Users/ulrike_imac_air/projects/maps/maps_env/lib/python3.11/site-packages (from pyogrio>=0.7.2->geopandas) (2024.12.14)\n",
      "Requirement already satisfied: six>=1.5 in /Users/ulrike_imac_air/projects/maps/maps_env/lib/python3.11/site-packages (from python-dateutil>=2.7->matplotlib) (1.17.0)\n",
      "Requirement already satisfied: geographiclib<3,>=1.52 in /Users/ulrike_imac_air/projects/maps/maps_env/lib/python3.11/site-packages (from geopy->contextily) (2.0)\n",
      "Requirement already satisfied: click>=3.0 in /Users/ulrike_imac_air/projects/maps/maps_env/lib/python3.11/site-packages (from mercantile->contextily) (8.1.8)\n",
      "Requirement already satisfied: affine in /Users/ulrike_imac_air/projects/maps/maps_env/lib/python3.11/site-packages (from rasterio->contextily) (2.4.0)\n",
      "Requirement already satisfied: attrs in /Users/ulrike_imac_air/projects/maps/maps_env/lib/python3.11/site-packages (from rasterio->contextily) (25.1.0)\n",
      "Requirement already satisfied: cligj>=0.5 in /Users/ulrike_imac_air/projects/maps/maps_env/lib/python3.11/site-packages (from rasterio->contextily) (0.7.2)\n",
      "Requirement already satisfied: click-plugins in /Users/ulrike_imac_air/projects/maps/maps_env/lib/python3.11/site-packages (from rasterio->contextily) (1.1.1)\n",
      "Requirement already satisfied: charset-normalizer<4,>=2 in /Users/ulrike_imac_air/projects/maps/maps_env/lib/python3.11/site-packages (from requests->contextily) (3.4.1)\n",
      "Requirement already satisfied: idna<4,>=2.5 in /Users/ulrike_imac_air/projects/maps/maps_env/lib/python3.11/site-packages (from requests->contextily) (3.10)\n",
      "Requirement already satisfied: urllib3<3,>=1.21.1 in /Users/ulrike_imac_air/projects/maps/maps_env/lib/python3.11/site-packages (from requests->contextily) (2.3.0)\n",
      "Downloading ffmpeg_python-0.2.0-py3-none-any.whl (25 kB)\n",
      "Installing collected packages: ffmpeg-python\n",
      "Successfully installed ffmpeg-python-0.2.0\n",
      "\n",
      "\u001b[1m[\u001b[0m\u001b[34;49mnotice\u001b[0m\u001b[1;39;49m]\u001b[0m\u001b[39;49m A new release of pip is available: \u001b[0m\u001b[31;49m25.0.1\u001b[0m\u001b[39;49m -> \u001b[0m\u001b[32;49m25.1.1\u001b[0m\n",
      "\u001b[1m[\u001b[0m\u001b[34;49mnotice\u001b[0m\u001b[1;39;49m]\u001b[0m\u001b[39;49m To update, run: \u001b[0m\u001b[32;49mpip install --upgrade pip\u001b[0m\n",
      "Note: you may need to restart the kernel to use updated packages.\n"
     ]
    }
   ],
   "source": [
    "%pip install geopandas matplotlib contextily ffmpeg-python"
   ]
  }
 ],
 "metadata": {
  "kernelspec": {
   "display_name": "maps_env",
   "language": "python",
   "name": "python3"
  },
  "language_info": {
   "codemirror_mode": {
    "name": "ipython",
    "version": 3
   },
   "file_extension": ".py",
   "mimetype": "text/x-python",
   "name": "python",
   "nbconvert_exporter": "python",
   "pygments_lexer": "ipython3",
   "version": "3.11.8"
  }
 },
 "nbformat": 4,
 "nbformat_minor": 5
}
