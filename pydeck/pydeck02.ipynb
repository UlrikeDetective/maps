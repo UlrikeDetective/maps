{
 "cells": [
  {
   "cell_type": "markdown",
   "id": "9153affc",
   "metadata": {},
   "source": [
    "### Pydeck supports several other layer types besides ScatterplotLayer. Here are some commonly used ones:\n",
    "\n",
    "ArcLayer: Draws arcs between pairs of points.\n",
    "ColumnLayer: Renders extruded columns (3D bars).\n",
    "GeoJsonLayer: Visualizes GeoJSON data.\n",
    "HexagonLayer: Aggregates points into hexagonal bins.\n",
    "LineLayer: Draws lines between points.\n",
    "PathLayer: Draws lines along paths (multi-segment lines).\n",
    "PolygonLayer: Renders filled polygons.\n",
    "TextLayer: Displays text labels at given coordinates.\n",
    "GridLayer: Aggregates points into a grid of rectangular bins.\n",
    "BitmapLayer: Renders images as bitmap overlays.\n",
    "IconLayer: Places icons at specified coordinates.\n",
    "\n",
    "\n",
    "You can find the full list and documentation here:\n",
    "https://deckgl.readthedocs.io/en/latest/layer.html\n",
    "\n"
   ]
  },
  {
   "cell_type": "code",
   "execution_count": null,
   "id": "41da1b88",
   "metadata": {
    "vscode": {
     "languageId": "plaintext"
    }
   },
   "outputs": [],
   "source": [
    "import pydeck as pdk\n",
    "import pandas as pd\n",
    "\n",
    "# Read the CSV file and clean up column names\n",
    "df = pd.read_csv('SitzungsorteOR.csv', sep=',')\n",
    "df.columns = df.columns.str.strip()  # Remove leading/trailing spaces from column names\n",
    "\n",
    "layer = pdk.Layer(\n",
    "    \"ScatterplotLayer\",\n",
    "    df,\n",
    "    get_position='[lon, lat]',\n",
    "    get_radius=500,\n",
    "    get_fill_color='[180, 0, 200, 140]',\n",
    "    pickable=True\n",
    ")\n",
    "view_state = pdk.ViewState(\n",
    "    latitude=df['lat'].mean(),\n",
    "    longitude=df['lon'].mean(),\n",
    "    zoom=11,\n",
    "    bearing=0,\n",
    "    pitch=0\n",
    ")\n",
    "deck = pdk.Deck(\n",
    "    layers=[layer],\n",
    "    initial_view_state=view_state,\n",
    "    tooltip={\"text\": \"Gremium: {Gremium}\\nLat: {lat}\\nLon: {lon}\"}\n",
    ")\n",
    "deck.to_html('deck1.html')\n",
    "deck.show()"
   ]
  }
 ],
 "metadata": {
  "language_info": {
   "name": "python"
  }
 },
 "nbformat": 4,
 "nbformat_minor": 5
}
