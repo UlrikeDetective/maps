{
 "cells": [
  {
   "cell_type": "markdown",
   "metadata": {},
   "source": [
    "# From OpenStreetMap to Minimalistic City Maps\n",
    "\n",
    "How to make minimalistic city maps from OpenStreetMap data\n",
    "\n",
    "In this post, I’ll walk through how to download street network data from OpenStreetMap and visualize it with Python. At the heart of the operations lies the OSMnx, GeoPandas and MatPlotLib, so let’s start with importing the necessary libraries."
   ]
  },
  {
   "cell_type": "code",
   "execution_count": 1,
   "metadata": {},
   "outputs": [],
   "source": [
    "from functools import partial\n",
    "import geopandas as gpd\n",
    "from geopandas.tools import geocode\n",
    "from geopy.geocoders import Nominatim\n",
    "import matplotlib.pyplot as plt\n",
    "import networkx as nx\n",
    "import osmnx as ox"
   ]
  },
  {
   "cell_type": "markdown",
   "metadata": {},
   "source": [
    "## Geocoding our City\n",
    "We need to select a city that we want to map, and define coordinate reference system to use. In this example, we will also use a buffer to define the area that we later want to retrieve OpenStreetMap data from. Buffering the geocoded coordinates of our city allows us to get an area of interest, and that area will be circular, which gives a nice looking visualization. We can first define our parameters:"
   ]
  },
  {
   "cell_type": "code",
   "execution_count": 37,
   "metadata": {},
   "outputs": [],
   "source": [
    "city_name = \"Oulu, Finland\"\n",
    "buffer = 5000\n",
    "crs = 3035"
   ]
  },
  {
   "cell_type": "markdown",
   "metadata": {},
   "source": [
    "Next, we can use Nominatim through the geopy library together with partial from functools to geocode the given city name, in our case Amsterdam in the Netherlands."
   ]
  },
  {
   "cell_type": "code",
   "execution_count": 38,
   "metadata": {},
   "outputs": [],
   "source": [
    "geolocator = Nominatim(user_agent=\"OSM_map\")\n",
    "geocode2 = partial(geolocator.geocode, language=\"en\")\n",
    "cities_df = geocode(city_name, provider='nominatim', user_agent='OSM_map', timeout=4)\n",
    "cities_df = cities_df.to_crs(epsg=crs)"
   ]
  },
  {
   "cell_type": "markdown",
   "metadata": {},
   "source": [
    "Now, we have a geocoded point based on the city name we provided earlier. What we can do next, is then to buffer around this point, using the buffer variable we defined earlier. This number is the distance in meters that we buffer around the point. We also change the active geometry column to the buffer-column, as this is what we want to use to retrieve data later on. And lastly here, we reproject the GeoDataFrame to work with OSMnx."
   ]
  },
  {
   "cell_type": "code",
   "execution_count": 39,
   "metadata": {},
   "outputs": [],
   "source": [
    "cities_df['buffer'] = cities_df['geometry'].buffer(buffer)\n",
    "# Set the active geometry column to 'buffer'\n",
    "cities_df = cities_df.set_geometry('buffer')\n",
    "cities_df = cities_df.to_crs(epsg=4326)"
   ]
  },
  {
   "cell_type": "markdown",
   "metadata": {},
   "source": [
    "## OpenStreetMap data\n",
    "Now that we have an area polygon, we can go ahead and use OSMnx to download the road network within that area. In our case, we can download both the networks that are drivable by car and by bikes and then combine them."
   ]
  },
  {
   "cell_type": "code",
   "execution_count": 40,
   "metadata": {},
   "outputs": [],
   "source": [
    "drive_graph = ox.graph_from_polygon(cities_df['buffer'].iloc[0], network_type='drive')\n",
    "bike_graph = ox.graph_from_polygon(cities_df['buffer'].iloc[0], network_type='bike')\n",
    "graph = nx.compose(drive_graph, bike_graph)\n",
    "nodes, edges = ox.graph_to_gdfs(graph)"
   ]
  },
  {
   "cell_type": "markdown",
   "metadata": {},
   "source": [
    "This code creates a graph with OSMnx, one for the drivable network and one for the bikeable network. They are then combined into one graph, before splitting the nodes and edges into separate variables. We can now use the edges to visualize the street network of Amsterdam.\n",
    "\n",
    "## Visualizing the Street Network\n",
    "For the visualization, we can use matplotlib to make a simple plot with the edges visualized with white lines. This plot can now either be saved and taken into a different photo editing program, or you could add a background color using the ax.facecolor setting like below."
   ]
  },
  {
   "cell_type": "code",
   "execution_count": 42,
   "metadata": {},
   "outputs": [],
   "source": [
    "fig, ax = plt.subplots(figsize=(100,100))\n",
    "fig.patch.set_facecolor('#2B4246')\n",
    "edges.plot(ax=ax, color='white', linewidth=4)\n",
    "ax.set_axis_off()\n",
    "# Save the plot\n",
    "plt.savefig(\"maps/oulu_map.png\", format='png', dpi=150)\n",
    "plt.close()"
   ]
  }
 ],
 "metadata": {
  "kernelspec": {
   "display_name": "maps_env",
   "language": "python",
   "name": "python3"
  },
  "language_info": {
   "codemirror_mode": {
    "name": "ipython",
    "version": 3
   },
   "file_extension": ".py",
   "mimetype": "text/x-python",
   "name": "python",
   "nbconvert_exporter": "python",
   "pygments_lexer": "ipython3",
   "version": "3.11.8"
  }
 },
 "nbformat": 4,
 "nbformat_minor": 2
}
