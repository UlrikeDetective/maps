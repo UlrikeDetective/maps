{
 "cells": [
  {
   "cell_type": "markdown",
   "id": "2abcea18",
   "metadata": {},
   "source": [
    "## How to Create an Animated Polyline with a Basemap in Python: A Step-by-Step Tutorial\n",
    "by A Baig\n",
    "\n",
    "In this tutorial, you’ll learn how to create an animated polyline overlaid on a basemap using Python. This process involves using libraries such as geopandas, matplotlib, contextily, and FuncAnimation.\n",
    "\n",
    "### Step 1: Pre Requisites (Software & Python Libraries)\n",
    "\n",
    "I have made this code in Spyder, Anaconda. You can either install it using pip, or if you are in an Anaconda Environment, you can use conda. After installation, import the required libraries into your python editor.\n",
    "\n"
   ]
  },
  {
   "cell_type": "code",
   "execution_count": 3,
   "id": "dd5861b6",
   "metadata": {},
   "outputs": [
    {
     "name": "stdout",
     "output_type": "stream",
     "text": [
      "Requirement already satisfied: geopandas in /Users/ulrike_imac_air/projects/maps/maps_env/lib/python3.11/site-packages (1.0.1)\n",
      "Requirement already satisfied: matplotlib in /Users/ulrike_imac_air/projects/maps/maps_env/lib/python3.11/site-packages (3.10.0)\n",
      "Requirement already satisfied: contextily in /Users/ulrike_imac_air/projects/maps/maps_env/lib/python3.11/site-packages (1.6.2)\n",
      "Requirement already satisfied: ffmpeg-python in /Users/ulrike_imac_air/projects/maps/maps_env/lib/python3.11/site-packages (0.2.0)\n",
      "Requirement already satisfied: numpy>=1.22 in /Users/ulrike_imac_air/projects/maps/maps_env/lib/python3.11/site-packages (from geopandas) (2.2.2)\n",
      "Requirement already satisfied: pyogrio>=0.7.2 in /Users/ulrike_imac_air/projects/maps/maps_env/lib/python3.11/site-packages (from geopandas) (0.10.0)\n",
      "Requirement already satisfied: packaging in /Users/ulrike_imac_air/projects/maps/maps_env/lib/python3.11/site-packages (from geopandas) (24.2)\n",
      "Requirement already satisfied: pandas>=1.4.0 in /Users/ulrike_imac_air/projects/maps/maps_env/lib/python3.11/site-packages (from geopandas) (2.2.3)\n",
      "Requirement already satisfied: pyproj>=3.3.0 in /Users/ulrike_imac_air/projects/maps/maps_env/lib/python3.11/site-packages (from geopandas) (3.7.0)\n",
      "Requirement already satisfied: shapely>=2.0.0 in /Users/ulrike_imac_air/projects/maps/maps_env/lib/python3.11/site-packages (from geopandas) (2.0.6)\n",
      "Requirement already satisfied: contourpy>=1.0.1 in /Users/ulrike_imac_air/projects/maps/maps_env/lib/python3.11/site-packages (from matplotlib) (1.3.1)\n",
      "Requirement already satisfied: cycler>=0.10 in /Users/ulrike_imac_air/projects/maps/maps_env/lib/python3.11/site-packages (from matplotlib) (0.12.1)\n",
      "Requirement already satisfied: fonttools>=4.22.0 in /Users/ulrike_imac_air/projects/maps/maps_env/lib/python3.11/site-packages (from matplotlib) (4.55.6)\n",
      "Requirement already satisfied: kiwisolver>=1.3.1 in /Users/ulrike_imac_air/projects/maps/maps_env/lib/python3.11/site-packages (from matplotlib) (1.4.8)\n",
      "Requirement already satisfied: pillow>=8 in /Users/ulrike_imac_air/projects/maps/maps_env/lib/python3.11/site-packages (from matplotlib) (11.1.0)\n",
      "Requirement already satisfied: pyparsing>=2.3.1 in /Users/ulrike_imac_air/projects/maps/maps_env/lib/python3.11/site-packages (from matplotlib) (3.2.1)\n",
      "Requirement already satisfied: python-dateutil>=2.7 in /Users/ulrike_imac_air/projects/maps/maps_env/lib/python3.11/site-packages (from matplotlib) (2.9.0.post0)\n",
      "Requirement already satisfied: geopy in /Users/ulrike_imac_air/projects/maps/maps_env/lib/python3.11/site-packages (from contextily) (2.4.1)\n",
      "Requirement already satisfied: mercantile in /Users/ulrike_imac_air/projects/maps/maps_env/lib/python3.11/site-packages (from contextily) (1.2.1)\n",
      "Requirement already satisfied: rasterio in /Users/ulrike_imac_air/projects/maps/maps_env/lib/python3.11/site-packages (from contextily) (1.4.3)\n",
      "Requirement already satisfied: requests in /Users/ulrike_imac_air/projects/maps/maps_env/lib/python3.11/site-packages (from contextily) (2.32.3)\n",
      "Requirement already satisfied: joblib in /Users/ulrike_imac_air/projects/maps/maps_env/lib/python3.11/site-packages (from contextily) (1.4.2)\n",
      "Requirement already satisfied: xyzservices in /Users/ulrike_imac_air/projects/maps/maps_env/lib/python3.11/site-packages (from contextily) (2025.1.0)\n",
      "Requirement already satisfied: future in /Users/ulrike_imac_air/projects/maps/maps_env/lib/python3.11/site-packages (from ffmpeg-python) (1.0.0)\n",
      "Requirement already satisfied: pytz>=2020.1 in /Users/ulrike_imac_air/projects/maps/maps_env/lib/python3.11/site-packages (from pandas>=1.4.0->geopandas) (2024.2)\n",
      "Requirement already satisfied: tzdata>=2022.7 in /Users/ulrike_imac_air/projects/maps/maps_env/lib/python3.11/site-packages (from pandas>=1.4.0->geopandas) (2025.1)\n",
      "Requirement already satisfied: certifi in /Users/ulrike_imac_air/projects/maps/maps_env/lib/python3.11/site-packages (from pyogrio>=0.7.2->geopandas) (2024.12.14)\n",
      "Requirement already satisfied: six>=1.5 in /Users/ulrike_imac_air/projects/maps/maps_env/lib/python3.11/site-packages (from python-dateutil>=2.7->matplotlib) (1.17.0)\n",
      "Requirement already satisfied: geographiclib<3,>=1.52 in /Users/ulrike_imac_air/projects/maps/maps_env/lib/python3.11/site-packages (from geopy->contextily) (2.0)\n",
      "Requirement already satisfied: click>=3.0 in /Users/ulrike_imac_air/projects/maps/maps_env/lib/python3.11/site-packages (from mercantile->contextily) (8.1.8)\n",
      "Requirement already satisfied: affine in /Users/ulrike_imac_air/projects/maps/maps_env/lib/python3.11/site-packages (from rasterio->contextily) (2.4.0)\n",
      "Requirement already satisfied: attrs in /Users/ulrike_imac_air/projects/maps/maps_env/lib/python3.11/site-packages (from rasterio->contextily) (25.1.0)\n",
      "Requirement already satisfied: cligj>=0.5 in /Users/ulrike_imac_air/projects/maps/maps_env/lib/python3.11/site-packages (from rasterio->contextily) (0.7.2)\n",
      "Requirement already satisfied: click-plugins in /Users/ulrike_imac_air/projects/maps/maps_env/lib/python3.11/site-packages (from rasterio->contextily) (1.1.1)\n",
      "Requirement already satisfied: charset-normalizer<4,>=2 in /Users/ulrike_imac_air/projects/maps/maps_env/lib/python3.11/site-packages (from requests->contextily) (3.4.1)\n",
      "Requirement already satisfied: idna<4,>=2.5 in /Users/ulrike_imac_air/projects/maps/maps_env/lib/python3.11/site-packages (from requests->contextily) (3.10)\n",
      "Requirement already satisfied: urllib3<3,>=1.21.1 in /Users/ulrike_imac_air/projects/maps/maps_env/lib/python3.11/site-packages (from requests->contextily) (2.3.0)\n",
      "Note: you may need to restart the kernel to use updated packages.\n"
     ]
    }
   ],
   "source": [
    "%pip install geopandas matplotlib contextily ffmpeg-python"
   ]
  },
  {
   "cell_type": "code",
   "execution_count": 2,
   "id": "8bcd31fd",
   "metadata": {},
   "outputs": [],
   "source": [
    "import geopandas as gpd\n",
    "import matplotlib.pyplot as plt\n",
    "from matplotlib.animation import FuncAnimation\n",
    "import contextily as ctx"
   ]
  },
  {
   "cell_type": "markdown",
   "id": "d14a149f",
   "metadata": {},
   "source": [
    "### Step 2: Load the Shapefile\n",
    "A shapefile containing the polyline data is required. Use geopandas to load it:"
   ]
  },
  {
   "cell_type": "code",
   "execution_count": 9,
   "id": "fc923b9d",
   "metadata": {},
   "outputs": [],
   "source": [
    "import fiona\n",
    "\n",
    "# Enable SHAPE_RESTORE_SHX to recreate the .shx file if missing\n",
    "fiona.Env().options.update(SHAPE_RESTORE_SHX=\"YES\")\n",
    "\n",
    "# Attempt to load the shapefile directly\n",
    "gdf = gpd.read_file('san_francisco_locations copy.shp')"
   ]
  },
  {
   "cell_type": "markdown",
   "id": "4ce09d76",
   "metadata": {},
   "source": [
    "### Step 3: Convert the Coordinate Reference System (CRS)\n",
    "To overlay the polyline on a basemap, the shapefile’s CRS must match the basemap’s CRS. Transform the CRS to EPSG:4326 (WGS84):"
   ]
  },
  {
   "cell_type": "code",
   "execution_count": 11,
   "id": "e1675830",
   "metadata": {},
   "outputs": [],
   "source": [
    "# Set the CRS of the GeoDataFrame to match the input shapefile\n",
    "gdf = gdf.set_crs(epsg=4326)\n",
    "\n",
    "# Transform to Web Mercator for the basemap\n",
    "gdf = gdf.to_crs(epsg=3857)"
   ]
  },
  {
   "cell_type": "markdown",
   "id": "d8f05bd6",
   "metadata": {},
   "source": [
    "### Step 4: Extract Polyline Coordinates\n",
    "Make sure your polyline shapefile is a single polyline. If it has multiple sections, you may merge it before using it. Now, we will extract its coordinates for animation:"
   ]
  },
  {
   "cell_type": "code",
   "execution_count": 12,
   "id": "2ff1799f",
   "metadata": {},
   "outputs": [],
   "source": [
    "# Extract coordinates\n",
    "polyline = gdf.geometry[0]  # assuming you have a single polyline\n",
    "x, y = polyline.xy"
   ]
  },
  {
   "cell_type": "markdown",
   "id": "b1b80aa9",
   "metadata": {},
   "source": [
    "### Step 5: Set Up the Plot\n",
    "Define a high-resolution figure and set the plot limits to the shapefile’s bounds:"
   ]
  },
  {
   "cell_type": "code",
   "execution_count": 13,
   "id": "ae0d334c",
   "metadata": {},
   "outputs": [
    {
     "data": {
      "text/plain": [
       "(4544788.631635373, 4554973.178715968)"
      ]
     },
     "execution_count": 13,
     "metadata": {},
     "output_type": "execute_result"
    },
    {
     "data": {
      "image/png": "[encoded data removed]",
      "text/plain": [
       "<Figure size 1920x1080 with 1 Axes>"
      ]
     },
     "metadata": {},
     "output_type": "display_data"
    }
   ],
   "source": [
    "fig, ax = plt.subplots(figsize=(19.2, 10.8))  # 1080p resolution\n",
    "\n",
    "# Zoom to the shapefile extent\n",
    "minx, miny, maxx, maxy = gdf.total_bounds\n",
    "ax.set_xlim(minx, maxx)\n",
    "ax.set_ylim(miny, maxy)"
   ]
  },
  {
   "cell_type": "markdown",
   "id": "bc4152dd",
   "metadata": {},
   "source": [
    "### Step 6: Add a Basemap\n",
    "Use the contextily library to add an OpenStreetMap basemap. You can change the basemap type (Read more — https://contextily.readthedocs.io/en/latest/index.html):"
   ]
  },
  {
   "cell_type": "code",
   "execution_count": 14,
   "id": "8d71acaf",
   "metadata": {},
   "outputs": [
    {
     "data": {
      "text/plain": [
       "(np.float64(-13634800.850577924),\n",
       " np.float64(-13625060.395133512),\n",
       " np.float64(4544788.631635373),\n",
       " np.float64(4554973.178715968))"
      ]
     },
     "execution_count": 14,
     "metadata": {},
     "output_type": "execute_result"
    },
    {
     "data": {
      "text/plain": [
       "<Figure size 640x480 with 0 Axes>"
      ]
     },
     "metadata": {},
     "output_type": "display_data"
    }
   ],
   "source": [
    "# Add a basemap\n",
    "ctx.add_basemap(ax, crs=gdf.crs.to_string(), source=ctx.providers.OpenStreetMap.Mapnik)\n",
    "\n",
    "# Remove x and y axis\n",
    "ax.axis('off')"
   ]
  },
  {
   "cell_type": "markdown",
   "id": "02a63ad0",
   "metadata": {},
   "source": [
    "### Step 7: Initialize the Animation\n",
    "Set up an empty line object that will be updated during the animation:"
   ]
  },
  {
   "cell_type": "code",
   "execution_count": 15,
   "id": "e6fdbfb6",
   "metadata": {},
   "outputs": [],
   "source": [
    "# Initialize an empty line object\n",
    "line, = ax.plot([], [], lw=2, color='blue')\n",
    "\n",
    "# Initialization function\n",
    "def init():\n",
    "    line.set_data([], [])\n",
    "    return line,"
   ]
  },
  {
   "cell_type": "markdown",
   "id": "75711ccd",
   "metadata": {},
   "source": [
    "### Step 8: Define the Animation Function\n",
    "Define how the polyline should update frame by frame:"
   ]
  },
  {
   "cell_type": "code",
   "execution_count": 16,
   "id": "09b38e00",
   "metadata": {},
   "outputs": [],
   "source": [
    "# Animation function\n",
    "def animate(i):\n",
    "    line.set_data(x[:i], y[:i])\n",
    "    return line,"
   ]
  },
  {
   "cell_type": "markdown",
   "id": "da91c915",
   "metadata": {},
   "source": [
    "### Step 9: Create and Save the Animation\n",
    "Generate the animation using FuncAnimation and save it as a high-resolution video. You must note that higher the dpi value, more time it will take to render the animation and save video. The rendered video will be saved in the same folder as of your python file.:"
   ]
  },
  {
   "cell_type": "code",
   "execution_count": null,
   "id": "ce2c595a",
   "metadata": {},
   "outputs": [
    {
     "name": "stderr",
     "output_type": "stream",
     "text": [
      "MovieWriter ffmpeg unavailable; using Pillow instead.\n"
     ]
    },
    {
     "ename": "ValueError",
     "evalue": "unknown file extension: .mp4",
     "output_type": "error",
     "traceback": [
      "\u001b[0;31m---------------------------------------------------------------------------\u001b[0m",
      "\u001b[0;31mKeyError\u001b[0m                                  Traceback (most recent call last)",
      "File \u001b[0;32m~/projects/maps/maps_env/lib/python3.11/site-packages/PIL/Image.py:2571\u001b[0m, in \u001b[0;36mImage.save\u001b[0;34m(self, fp, format, **params)\u001b[0m\n\u001b[1;32m   2570\u001b[0m \u001b[38;5;28;01mtry\u001b[39;00m:\n\u001b[0;32m-> 2571\u001b[0m     \u001b[38;5;28mformat\u001b[39m \u001b[38;5;241m=\u001b[39m \u001b[43mEXTENSION\u001b[49m\u001b[43m[\u001b[49m\u001b[43mext\u001b[49m\u001b[43m]\u001b[49m\n\u001b[1;32m   2572\u001b[0m \u001b[38;5;28;01mexcept\u001b[39;00m \u001b[38;5;167;01mKeyError\u001b[39;00m \u001b[38;5;28;01mas\u001b[39;00m e:\n",
      "\u001b[0;31mKeyError\u001b[0m: '.mp4'",
      "\nThe above exception was the direct cause of the following exception:\n",
      "\u001b[0;31mValueError\u001b[0m                                Traceback (most recent call last)",
      "Cell \u001b[0;32mIn[17], line 6\u001b[0m\n\u001b[1;32m      2\u001b[0m anim \u001b[38;5;241m=\u001b[39m FuncAnimation(fig, animate, init_func\u001b[38;5;241m=\u001b[39minit,\n\u001b[1;32m      3\u001b[0m                      frames\u001b[38;5;241m=\u001b[39m\u001b[38;5;28mlen\u001b[39m(x), interval\u001b[38;5;241m=\u001b[39m\u001b[38;5;241m15\u001b[39m, blit\u001b[38;5;241m=\u001b[39m\u001b[38;5;28;01mTrue\u001b[39;00m)  \u001b[38;5;66;03m# Decrease interval to speed up\u001b[39;00m\n\u001b[1;32m      5\u001b[0m \u001b[38;5;66;03m# Save the animation as a high-resolution video\u001b[39;00m\n\u001b[0;32m----> 6\u001b[0m \u001b[43manim\u001b[49m\u001b[38;5;241;43m.\u001b[39;49m\u001b[43msave\u001b[49m\u001b[43m(\u001b[49m\u001b[38;5;124;43m'\u001b[39;49m\u001b[38;5;124;43mpolyline_animation_context.mp4\u001b[39;49m\u001b[38;5;124;43m'\u001b[39;49m\u001b[43m,\u001b[49m\u001b[43m \u001b[49m\u001b[43mwriter\u001b[49m\u001b[38;5;241;43m=\u001b[39;49m\u001b[38;5;124;43m'\u001b[39;49m\u001b[38;5;124;43mffmpeg\u001b[39;49m\u001b[38;5;124;43m'\u001b[39;49m\u001b[43m,\u001b[49m\u001b[43m \u001b[49m\u001b[43mdpi\u001b[49m\u001b[38;5;241;43m=\u001b[39;49m\u001b[38;5;241;43m200\u001b[39;49m\u001b[43m)\u001b[49m\n",
      "File \u001b[0;32m~/projects/maps/maps_env/lib/python3.11/site-packages/matplotlib/animation.py:1098\u001b[0m, in \u001b[0;36mAnimation.save\u001b[0;34m(self, filename, writer, fps, dpi, codec, bitrate, extra_args, metadata, extra_anim, savefig_kwargs, progress_callback)\u001b[0m\n\u001b[1;32m   1093\u001b[0m     \u001b[38;5;28;01mreturn\u001b[39;00m a \u001b[38;5;241m*\u001b[39m np\u001b[38;5;241m.\u001b[39marray([r, g, b]) \u001b[38;5;241m+\u001b[39m \u001b[38;5;241m1\u001b[39m \u001b[38;5;241m-\u001b[39m a\n\u001b[1;32m   1095\u001b[0m \u001b[38;5;66;03m# canvas._is_saving = True makes the draw_event animation-starting\u001b[39;00m\n\u001b[1;32m   1096\u001b[0m \u001b[38;5;66;03m# callback a no-op; canvas.manager = None prevents resizing the GUI\u001b[39;00m\n\u001b[1;32m   1097\u001b[0m \u001b[38;5;66;03m# widget (both are likewise done in savefig()).\u001b[39;00m\n\u001b[0;32m-> 1098\u001b[0m \u001b[43m\u001b[49m\u001b[38;5;28;43;01mwith\u001b[39;49;00m\u001b[43m \u001b[49m\u001b[43m(\u001b[49m\u001b[43mwriter\u001b[49m\u001b[38;5;241;43m.\u001b[39;49m\u001b[43msaving\u001b[49m\u001b[43m(\u001b[49m\u001b[38;5;28;43mself\u001b[39;49m\u001b[38;5;241;43m.\u001b[39;49m\u001b[43m_fig\u001b[49m\u001b[43m,\u001b[49m\u001b[43m \u001b[49m\u001b[43mfilename\u001b[49m\u001b[43m,\u001b[49m\u001b[43m \u001b[49m\u001b[43mdpi\u001b[49m\u001b[43m)\u001b[49m\u001b[43m,\u001b[49m\n\u001b[1;32m   1099\u001b[0m \u001b[43m      \u001b[49m\u001b[43mcbook\u001b[49m\u001b[38;5;241;43m.\u001b[39;49m\u001b[43m_setattr_cm\u001b[49m\u001b[43m(\u001b[49m\u001b[38;5;28;43mself\u001b[39;49m\u001b[38;5;241;43m.\u001b[39;49m\u001b[43m_fig\u001b[49m\u001b[38;5;241;43m.\u001b[39;49m\u001b[43mcanvas\u001b[49m\u001b[43m,\u001b[49m\u001b[43m \u001b[49m\u001b[43m_is_saving\u001b[49m\u001b[38;5;241;43m=\u001b[39;49m\u001b[38;5;28;43;01mTrue\u001b[39;49;00m\u001b[43m,\u001b[49m\u001b[43m \u001b[49m\u001b[43mmanager\u001b[49m\u001b[38;5;241;43m=\u001b[39;49m\u001b[38;5;28;43;01mNone\u001b[39;49;00m\u001b[43m)\u001b[49m\u001b[43m)\u001b[49m\u001b[43m:\u001b[49m\n\u001b[1;32m   1100\u001b[0m \u001b[43m    \u001b[49m\u001b[38;5;28;43;01mif\u001b[39;49;00m\u001b[43m \u001b[49m\u001b[38;5;129;43;01mnot\u001b[39;49;00m\u001b[43m \u001b[49m\u001b[43mwriter\u001b[49m\u001b[38;5;241;43m.\u001b[39;49m\u001b[43m_supports_transparency\u001b[49m\u001b[43m(\u001b[49m\u001b[43m)\u001b[49m\u001b[43m:\u001b[49m\n\u001b[1;32m   1101\u001b[0m \u001b[43m        \u001b[49m\u001b[43mfacecolor\u001b[49m\u001b[43m \u001b[49m\u001b[38;5;241;43m=\u001b[39;49m\u001b[43m \u001b[49m\u001b[43msavefig_kwargs\u001b[49m\u001b[38;5;241;43m.\u001b[39;49m\u001b[43mget\u001b[49m\u001b[43m(\u001b[49m\u001b[38;5;124;43m'\u001b[39;49m\u001b[38;5;124;43mfacecolor\u001b[39;49m\u001b[38;5;124;43m'\u001b[39;49m\u001b[43m,\u001b[49m\n\u001b[1;32m   1102\u001b[0m \u001b[43m                                       \u001b[49m\u001b[43mmpl\u001b[49m\u001b[38;5;241;43m.\u001b[39;49m\u001b[43mrcParams\u001b[49m\u001b[43m[\u001b[49m\u001b[38;5;124;43m'\u001b[39;49m\u001b[38;5;124;43msavefig.facecolor\u001b[39;49m\u001b[38;5;124;43m'\u001b[39;49m\u001b[43m]\u001b[49m\u001b[43m)\u001b[49m\n",
      "File \u001b[0;32m/opt/anaconda3/lib/python3.11/contextlib.py:144\u001b[0m, in \u001b[0;36m_GeneratorContextManager.__exit__\u001b[0;34m(self, typ, value, traceback)\u001b[0m\n\u001b[1;32m    142\u001b[0m \u001b[38;5;28;01mif\u001b[39;00m typ \u001b[38;5;129;01mis\u001b[39;00m \u001b[38;5;28;01mNone\u001b[39;00m:\n\u001b[1;32m    143\u001b[0m     \u001b[38;5;28;01mtry\u001b[39;00m:\n\u001b[0;32m--> 144\u001b[0m         \u001b[38;5;28mnext\u001b[39m(\u001b[38;5;28mself\u001b[39m\u001b[38;5;241m.\u001b[39mgen)\n\u001b[1;32m    145\u001b[0m     \u001b[38;5;28;01mexcept\u001b[39;00m \u001b[38;5;167;01mStopIteration\u001b[39;00m:\n\u001b[1;32m    146\u001b[0m         \u001b[38;5;28;01mreturn\u001b[39;00m \u001b[38;5;28;01mFalse\u001b[39;00m\n",
      "File \u001b[0;32m~/projects/maps/maps_env/lib/python3.11/site-packages/matplotlib/animation.py:226\u001b[0m, in \u001b[0;36mAbstractMovieWriter.saving\u001b[0;34m(self, fig, outfile, dpi, *args, **kwargs)\u001b[0m\n\u001b[1;32m    224\u001b[0m     \u001b[38;5;28;01myield\u001b[39;00m \u001b[38;5;28mself\u001b[39m\n\u001b[1;32m    225\u001b[0m \u001b[38;5;28;01mfinally\u001b[39;00m:\n\u001b[0;32m--> 226\u001b[0m     \u001b[38;5;28;43mself\u001b[39;49m\u001b[38;5;241;43m.\u001b[39;49m\u001b[43mfinish\u001b[49m\u001b[43m(\u001b[49m\u001b[43m)\u001b[49m\n",
      "File \u001b[0;32m~/projects/maps/maps_env/lib/python3.11/site-packages/matplotlib/animation.py:506\u001b[0m, in \u001b[0;36mPillowWriter.finish\u001b[0;34m(self)\u001b[0m\n\u001b[1;32m    505\u001b[0m \u001b[38;5;28;01mdef\u001b[39;00m\u001b[38;5;250m \u001b[39m\u001b[38;5;21mfinish\u001b[39m(\u001b[38;5;28mself\u001b[39m):\n\u001b[0;32m--> 506\u001b[0m     \u001b[38;5;28;43mself\u001b[39;49m\u001b[38;5;241;43m.\u001b[39;49m\u001b[43m_frames\u001b[49m\u001b[43m[\u001b[49m\u001b[38;5;241;43m0\u001b[39;49m\u001b[43m]\u001b[49m\u001b[38;5;241;43m.\u001b[39;49m\u001b[43msave\u001b[49m\u001b[43m(\u001b[49m\n\u001b[1;32m    507\u001b[0m \u001b[43m        \u001b[49m\u001b[38;5;28;43mself\u001b[39;49m\u001b[38;5;241;43m.\u001b[39;49m\u001b[43moutfile\u001b[49m\u001b[43m,\u001b[49m\u001b[43m \u001b[49m\u001b[43msave_all\u001b[49m\u001b[38;5;241;43m=\u001b[39;49m\u001b[38;5;28;43;01mTrue\u001b[39;49;00m\u001b[43m,\u001b[49m\u001b[43m \u001b[49m\u001b[43mappend_images\u001b[49m\u001b[38;5;241;43m=\u001b[39;49m\u001b[38;5;28;43mself\u001b[39;49m\u001b[38;5;241;43m.\u001b[39;49m\u001b[43m_frames\u001b[49m\u001b[43m[\u001b[49m\u001b[38;5;241;43m1\u001b[39;49m\u001b[43m:\u001b[49m\u001b[43m]\u001b[49m\u001b[43m,\u001b[49m\n\u001b[1;32m    508\u001b[0m \u001b[43m        \u001b[49m\u001b[43mduration\u001b[49m\u001b[38;5;241;43m=\u001b[39;49m\u001b[38;5;28;43mint\u001b[39;49m\u001b[43m(\u001b[49m\u001b[38;5;241;43m1000\u001b[39;49m\u001b[43m \u001b[49m\u001b[38;5;241;43m/\u001b[39;49m\u001b[43m \u001b[49m\u001b[38;5;28;43mself\u001b[39;49m\u001b[38;5;241;43m.\u001b[39;49m\u001b[43mfps\u001b[49m\u001b[43m)\u001b[49m\u001b[43m,\u001b[49m\u001b[43m \u001b[49m\u001b[43mloop\u001b[49m\u001b[38;5;241;43m=\u001b[39;49m\u001b[38;5;241;43m0\u001b[39;49m\u001b[43m)\u001b[49m\n",
      "File \u001b[0;32m~/projects/maps/maps_env/lib/python3.11/site-packages/PIL/Image.py:2574\u001b[0m, in \u001b[0;36mImage.save\u001b[0;34m(self, fp, format, **params)\u001b[0m\n\u001b[1;32m   2572\u001b[0m     \u001b[38;5;28;01mexcept\u001b[39;00m \u001b[38;5;167;01mKeyError\u001b[39;00m \u001b[38;5;28;01mas\u001b[39;00m e:\n\u001b[1;32m   2573\u001b[0m         msg \u001b[38;5;241m=\u001b[39m \u001b[38;5;124mf\u001b[39m\u001b[38;5;124m\"\u001b[39m\u001b[38;5;124munknown file extension: \u001b[39m\u001b[38;5;132;01m{\u001b[39;00mext\u001b[38;5;132;01m}\u001b[39;00m\u001b[38;5;124m\"\u001b[39m\n\u001b[0;32m-> 2574\u001b[0m         \u001b[38;5;28;01mraise\u001b[39;00m \u001b[38;5;167;01mValueError\u001b[39;00m(msg) \u001b[38;5;28;01mfrom\u001b[39;00m\u001b[38;5;250m \u001b[39m\u001b[38;5;21;01me\u001b[39;00m\n\u001b[1;32m   2576\u001b[0m \u001b[38;5;28;01mif\u001b[39;00m \u001b[38;5;28mformat\u001b[39m\u001b[38;5;241m.\u001b[39mupper() \u001b[38;5;129;01mnot\u001b[39;00m \u001b[38;5;129;01min\u001b[39;00m SAVE:\n\u001b[1;32m   2577\u001b[0m     init()\n",
      "\u001b[0;31mValueError\u001b[0m: unknown file extension: .mp4"
     ]
    }
   ],
   "source": [
    "# filepath: /Users/ulrike_imac_air/projects/maps/matplotlibs/AnimatedPolyline.ipynb\n",
    "from matplotlib.animation import FFMpegWriter\n",
    "\n",
    "# Create the animation with a higher frame rate to increase speed\n",
    "anim = FuncAnimation(fig, animate, init_func=init,\n",
    "                     frames=len(x), interval=15, blit=True)  # Decrease interval to speed up\n",
    "\n",
    "# Save the animation as a high-resolution video using FFMpegWriter\n",
    "writer = FFMpegWriter(fps=30, metadata=dict(artist='Me'), bitrate=1800)\n",
    "anim.save('polyline_animation_context.mp4', writer=writer, dpi=200)"
   ]
  },
  {
   "cell_type": "markdown",
   "id": "48152233",
   "metadata": {},
   "source": [
    "### Step 10: Optional — Display the Animation\n",
    "If you’d like to preview the animation in your Python environment:"
   ]
  }
 ],
 "metadata": {
  "kernelspec": {
   "display_name": "maps_env",
   "language": "python",
   "name": "python3"
  },
  "language_info": {
   "codemirror_mode": {
    "name": "ipython",
    "version": 3
   },
   "file_extension": ".py",
   "mimetype": "text/x-python",
   "name": "python",
   "nbconvert_exporter": "python",
   "pygments_lexer": "ipython3",
   "version": "3.11.8"
  }
 },
 "nbformat": 4,
 "nbformat_minor": 5
}
