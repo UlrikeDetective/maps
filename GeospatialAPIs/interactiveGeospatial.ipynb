{
 "cells": [
  {
   "cell_type": "markdown",
   "metadata": {},
   "source": [
    "## Creating Interactive Geospatial Visualizations with Plotly"
   ]
  },
  {
   "cell_type": "code",
   "execution_count": 2,
   "metadata": {},
   "outputs": [
    {
     "name": "stdout",
     "output_type": "stream",
     "text": [
      "Collecting plotly\n",
      "  Downloading plotly-6.0.0-py3-none-any.whl.metadata (5.6 kB)\n",
      "Requirement already satisfied: geopandas in /Users/ulrike_imac_air/projects/maps/maps_env/lib/python3.11/site-packages (1.0.1)\n",
      "Collecting narwhals>=1.15.1 (from plotly)\n",
      "  Downloading narwhals-1.29.1-py3-none-any.whl.metadata (10 kB)\n",
      "Requirement already satisfied: packaging in /Users/ulrike_imac_air/projects/maps/maps_env/lib/python3.11/site-packages (from plotly) (24.2)\n",
      "Requirement already satisfied: numpy>=1.22 in /Users/ulrike_imac_air/projects/maps/maps_env/lib/python3.11/site-packages (from geopandas) (2.2.2)\n",
      "Requirement already satisfied: pyogrio>=0.7.2 in /Users/ulrike_imac_air/projects/maps/maps_env/lib/python3.11/site-packages (from geopandas) (0.10.0)\n",
      "Requirement already satisfied: pandas>=1.4.0 in /Users/ulrike_imac_air/projects/maps/maps_env/lib/python3.11/site-packages (from geopandas) (2.2.3)\n",
      "Requirement already satisfied: pyproj>=3.3.0 in /Users/ulrike_imac_air/projects/maps/maps_env/lib/python3.11/site-packages (from geopandas) (3.7.0)\n",
      "Requirement already satisfied: shapely>=2.0.0 in /Users/ulrike_imac_air/projects/maps/maps_env/lib/python3.11/site-packages (from geopandas) (2.0.6)\n",
      "Requirement already satisfied: python-dateutil>=2.8.2 in /Users/ulrike_imac_air/projects/maps/maps_env/lib/python3.11/site-packages (from pandas>=1.4.0->geopandas) (2.9.0.post0)\n",
      "Requirement already satisfied: pytz>=2020.1 in /Users/ulrike_imac_air/projects/maps/maps_env/lib/python3.11/site-packages (from pandas>=1.4.0->geopandas) (2024.2)\n",
      "Requirement already satisfied: tzdata>=2022.7 in /Users/ulrike_imac_air/projects/maps/maps_env/lib/python3.11/site-packages (from pandas>=1.4.0->geopandas) (2025.1)\n",
      "Requirement already satisfied: certifi in /Users/ulrike_imac_air/projects/maps/maps_env/lib/python3.11/site-packages (from pyogrio>=0.7.2->geopandas) (2024.12.14)\n",
      "Requirement already satisfied: six>=1.5 in /Users/ulrike_imac_air/projects/maps/maps_env/lib/python3.11/site-packages (from python-dateutil>=2.8.2->pandas>=1.4.0->geopandas) (1.17.0)\n",
      "Downloading plotly-6.0.0-py3-none-any.whl (14.8 MB)\n",
      "\u001b[2K   \u001b[90m━━━━━━━━━━━━━━━━━━━━━━━━━━━━━━━━━━━━━━━━\u001b[0m \u001b[32m14.8/14.8 MB\u001b[0m \u001b[31m2.6 MB/s\u001b[0m eta \u001b[36m0:00:00\u001b[0ma \u001b[36m0:00:01\u001b[0m\n",
      "\u001b[?25hDownloading narwhals-1.29.1-py3-none-any.whl (308 kB)\n",
      "Installing collected packages: narwhals, plotly\n",
      "Successfully installed narwhals-1.29.1 plotly-6.0.0\n",
      "Note: you may need to restart the kernel to use updated packages.\n"
     ]
    }
   ],
   "source": [
    "%pip install plotly geopandas"
   ]
  },
  {
   "cell_type": "code",
   "execution_count": 19,
   "metadata": {},
   "outputs": [
    {
     "name": "stdout",
     "output_type": "stream",
     "text": [
      "Requirement already satisfied: nbformat in /Users/ulrike_imac_air/projects/maps/maps_env/lib/python3.11/site-packages (5.10.4)\n",
      "Requirement already satisfied: fastjsonschema>=2.15 in /Users/ulrike_imac_air/projects/maps/maps_env/lib/python3.11/site-packages (from nbformat) (2.21.1)\n",
      "Requirement already satisfied: jsonschema>=2.6 in /Users/ulrike_imac_air/projects/maps/maps_env/lib/python3.11/site-packages (from nbformat) (4.23.0)\n",
      "Requirement already satisfied: jupyter-core!=5.0.*,>=4.12 in /Users/ulrike_imac_air/projects/maps/maps_env/lib/python3.11/site-packages (from nbformat) (5.7.2)\n",
      "Requirement already satisfied: traitlets>=5.1 in /Users/ulrike_imac_air/projects/maps/maps_env/lib/python3.11/site-packages (from nbformat) (5.14.3)\n",
      "Requirement already satisfied: attrs>=22.2.0 in /Users/ulrike_imac_air/projects/maps/maps_env/lib/python3.11/site-packages (from jsonschema>=2.6->nbformat) (25.1.0)\n",
      "Requirement already satisfied: jsonschema-specifications>=2023.03.6 in /Users/ulrike_imac_air/projects/maps/maps_env/lib/python3.11/site-packages (from jsonschema>=2.6->nbformat) (2024.10.1)\n",
      "Requirement already satisfied: referencing>=0.28.4 in /Users/ulrike_imac_air/projects/maps/maps_env/lib/python3.11/site-packages (from jsonschema>=2.6->nbformat) (0.36.2)\n",
      "Requirement already satisfied: rpds-py>=0.7.1 in /Users/ulrike_imac_air/projects/maps/maps_env/lib/python3.11/site-packages (from jsonschema>=2.6->nbformat) (0.23.1)\n",
      "Requirement already satisfied: platformdirs>=2.5 in /Users/ulrike_imac_air/projects/maps/maps_env/lib/python3.11/site-packages (from jupyter-core!=5.0.*,>=4.12->nbformat) (4.3.6)\n",
      "Requirement already satisfied: typing-extensions>=4.4.0 in /Users/ulrike_imac_air/projects/maps/maps_env/lib/python3.11/site-packages (from referencing>=0.28.4->jsonschema>=2.6->nbformat) (4.12.2)\n",
      "Note: you may need to restart the kernel to use updated packages.\n"
     ]
    }
   ],
   "source": [
    "%pip install nbformat"
   ]
  },
  {
   "cell_type": "code",
   "execution_count": 17,
   "metadata": {},
   "outputs": [
    {
     "name": "stdout",
     "output_type": "stream",
     "text": [
      "                 County   Year        Pop  PercentChn  Source Area_sq_km  \\\n",
      "0        Alameda County  2,021  1,656,591       1.824  DOF_E5      1,914   \n",
      "1   Contra Costa County  2,021  1,153,854       2.821  DOF_E5      2,045   \n",
      "2          Marin County  2,021    257,774       1.756  DOF_E5      2,145   \n",
      "3           Napa County  2,021    137,637       2.089  DOF_E5      1,789   \n",
      "4  San Francisco County  2,021    875,010       1.182  DOF_E5        121   \n",
      "5      San Mateo County  2,021    765,245       1.722  DOF_E5      1,919   \n",
      "6    Santa Clara County  2,021  1,934,171       3.011  DOF_E5      3,377   \n",
      "7         Solano County  2,021    438,527       3.258  DOF_E5      2,235   \n",
      "8         Sonoma County  2,021    484,207       3.286  DOF_E5      4,576   \n",
      "\n",
      "  Pop_Densit  Latitude  Longitude                   geometry  \n",
      "0      865.6   37.6017  -121.7195  POINT (-121.7195 37.6017)  \n",
      "1      564.2   37.8534  -121.9018  POINT (-121.9018 37.8534)  \n",
      "2      120.2   38.0834  -122.7633  POINT (-122.7633 38.0834)  \n",
      "3       77.0   38.5025  -122.2654  POINT (-122.2654 38.5025)  \n",
      "4    7,231.5   37.7749  -122.4194  POINT (-122.4194 37.7749)  \n",
      "5      398.8   37.4337  -122.4014  POINT (-122.4014 37.4337)  \n",
      "6      573.0   37.3337  -121.8907  POINT (-121.8907 37.3337)  \n",
      "7      196.2   38.3105  -121.9018  POINT (-121.9018 38.3105)  \n",
      "8      105.8   38.5780  -122.9888   POINT (-122.9888 38.578)  \n"
     ]
    }
   ],
   "source": [
    "# prepare the data\n",
    "\n",
    "import geopandas as gpd\n",
    "\n",
    "# Load a GeoJSON or shapefile with geographical boundaries (e.g., country borders)\n",
    "gdf = gpd.read_file('/Users/ulrike_imac_air/projects/maps/Shapefiles/SFPopulationDensity2021.shp')\n",
    "\n",
    "# Inspect the data to see what columns are available for visualization\n",
    "print(gdf.head(10))"
   ]
  },
  {
   "cell_type": "code",
   "execution_count": 20,
   "metadata": {},
   "outputs": [
    {
     "ename": "ValueError",
     "evalue": "Mime type rendering requires nbformat>=4.2.0 but it is not installed",
     "output_type": "error",
     "traceback": [
      "\u001b[0;31m---------------------------------------------------------------------------\u001b[0m",
      "\u001b[0;31mValueError\u001b[0m                                Traceback (most recent call last)",
      "Cell \u001b[0;32mIn[20], line 19\u001b[0m\n\u001b[1;32m     16\u001b[0m fig\u001b[38;5;241m.\u001b[39mupdate_layout(title\u001b[38;5;241m=\u001b[39m\u001b[38;5;124m\"\u001b[39m\u001b[38;5;124mPopulation Density by Region\u001b[39m\u001b[38;5;124m\"\u001b[39m, title_x\u001b[38;5;241m=\u001b[39m\u001b[38;5;241m0.5\u001b[39m)\n\u001b[1;32m     18\u001b[0m \u001b[38;5;66;03m# Show the plot\u001b[39;00m\n\u001b[0;32m---> 19\u001b[0m \u001b[43mfig\u001b[49m\u001b[38;5;241;43m.\u001b[39;49m\u001b[43mshow\u001b[49m\u001b[43m(\u001b[49m\u001b[43m)\u001b[49m\n",
      "File \u001b[0;32m~/projects/maps/maps_env/lib/python3.11/site-packages/plotly/basedatatypes.py:3414\u001b[0m, in \u001b[0;36mBaseFigure.show\u001b[0;34m(self, *args, **kwargs)\u001b[0m\n\u001b[1;32m   3381\u001b[0m \u001b[38;5;250m\u001b[39m\u001b[38;5;124;03m\"\"\"\u001b[39;00m\n\u001b[1;32m   3382\u001b[0m \u001b[38;5;124;03mShow a figure using either the default renderer(s) or the renderer(s)\u001b[39;00m\n\u001b[1;32m   3383\u001b[0m \u001b[38;5;124;03mspecified by the renderer argument\u001b[39;00m\n\u001b[0;32m   (...)\u001b[0m\n\u001b[1;32m   3410\u001b[0m \u001b[38;5;124;03mNone\u001b[39;00m\n\u001b[1;32m   3411\u001b[0m \u001b[38;5;124;03m\"\"\"\u001b[39;00m\n\u001b[1;32m   3412\u001b[0m \u001b[38;5;28;01mimport\u001b[39;00m\u001b[38;5;250m \u001b[39m\u001b[38;5;21;01mplotly\u001b[39;00m\u001b[38;5;21;01m.\u001b[39;00m\u001b[38;5;21;01mio\u001b[39;00m\u001b[38;5;250m \u001b[39m\u001b[38;5;28;01mas\u001b[39;00m\u001b[38;5;250m \u001b[39m\u001b[38;5;21;01mpio\u001b[39;00m\n\u001b[0;32m-> 3414\u001b[0m \u001b[38;5;28;01mreturn\u001b[39;00m \u001b[43mpio\u001b[49m\u001b[38;5;241;43m.\u001b[39;49m\u001b[43mshow\u001b[49m\u001b[43m(\u001b[49m\u001b[38;5;28;43mself\u001b[39;49m\u001b[43m,\u001b[49m\u001b[43m \u001b[49m\u001b[38;5;241;43m*\u001b[39;49m\u001b[43margs\u001b[49m\u001b[43m,\u001b[49m\u001b[43m \u001b[49m\u001b[38;5;241;43m*\u001b[39;49m\u001b[38;5;241;43m*\u001b[39;49m\u001b[43mkwargs\u001b[49m\u001b[43m)\u001b[49m\n",
      "File \u001b[0;32m~/projects/maps/maps_env/lib/python3.11/site-packages/plotly/io/_renderers.py:425\u001b[0m, in \u001b[0;36mshow\u001b[0;34m(fig, renderer, validate, **kwargs)\u001b[0m\n\u001b[1;32m    420\u001b[0m     \u001b[38;5;28;01mraise\u001b[39;00m \u001b[38;5;167;01mValueError\u001b[39;00m(\n\u001b[1;32m    421\u001b[0m         \u001b[38;5;124m\"\u001b[39m\u001b[38;5;124mMime type rendering requires ipython but it is not installed\u001b[39m\u001b[38;5;124m\"\u001b[39m\n\u001b[1;32m    422\u001b[0m     )\n\u001b[1;32m    424\u001b[0m \u001b[38;5;28;01mif\u001b[39;00m \u001b[38;5;129;01mnot\u001b[39;00m nbformat \u001b[38;5;129;01mor\u001b[39;00m Version(nbformat\u001b[38;5;241m.\u001b[39m__version__) \u001b[38;5;241m<\u001b[39m Version(\u001b[38;5;124m\"\u001b[39m\u001b[38;5;124m4.2.0\u001b[39m\u001b[38;5;124m\"\u001b[39m):\n\u001b[0;32m--> 425\u001b[0m     \u001b[38;5;28;01mraise\u001b[39;00m \u001b[38;5;167;01mValueError\u001b[39;00m(\n\u001b[1;32m    426\u001b[0m         \u001b[38;5;124m\"\u001b[39m\u001b[38;5;124mMime type rendering requires nbformat>=4.2.0 but it is not installed\u001b[39m\u001b[38;5;124m\"\u001b[39m\n\u001b[1;32m    427\u001b[0m     )\n\u001b[1;32m    429\u001b[0m display_jupyter_version_warnings()\n\u001b[1;32m    431\u001b[0m ipython_display\u001b[38;5;241m.\u001b[39mdisplay(bundle, raw\u001b[38;5;241m=\u001b[39m\u001b[38;5;28;01mTrue\u001b[39;00m)\n",
      "\u001b[0;31mValueError\u001b[0m: Mime type rendering requires nbformat>=4.2.0 but it is not installed"
     ]
    }
   ],
   "source": [
    "# Create a Choropleth Map Using Plotly\n",
    "\n",
    "import plotly.express as px\n",
    "\n",
    "# Create a choropleth map to visualize population density (example column)\n",
    "fig = px.choropleth(gdf,\n",
    "                    geojson=gdf.geometry,\n",
    "                    locations=gdf.index,\n",
    "                    color='Pop_Densit',  # Column representing the data to visualize\n",
    "                    hover_name='County',  # Column for hover text\n",
    "                    color_continuous_scale=\"Viridis\",\n",
    "                    labels={'Pop_Densit': 'Density (per sq km)'})\n",
    "\n",
    "# Update layout for better visualization\n",
    "fig.update_geos(fitbounds=\"locations\", visible=False)\n",
    "fig.update_layout(title=\"Population Density by Region\", title_x=0.5)\n",
    "\n",
    "# Show the plot\n",
    "fig.show()"
   ]
  },
  {
   "cell_type": "code",
   "execution_count": null,
   "metadata": {},
   "outputs": [],
   "source": [
    "# Create a Scatter Plot on the Map\n",
    "\n",
    "# Assuming we have columns for latitude and longitude of city locations\n",
    "fig = px.scatter_geo(gdf,\n",
    "                     lat='latitude',  # Column with latitude values\n",
    "                     lon='longitude',  # Column with longitude values\n",
    "                     hover_name='city_name',  # Column for hover text\n",
    "                     size='population',  # Column for point size (e.g., population)\n",
    "                     color='region',  # Column to color the points\n",
    "                     projection=\"natural earth\",  # Choose the map projection\n",
    "                     title=\"City Locations and Population\")\n",
    "\n",
    "# Show the plot\n",
    "fig.show()"
   ]
  }
 ],
 "metadata": {
  "kernelspec": {
   "display_name": "maps_env",
   "language": "python",
   "name": "python3"
  },
  "language_info": {
   "codemirror_mode": {
    "name": "ipython",
    "version": 3
   },
   "file_extension": ".py",
   "mimetype": "text/x-python",
   "name": "python",
   "nbconvert_exporter": "python",
   "pygments_lexer": "ipython3",
   "version": "3.11.8"
  }
 },
 "nbformat": 4,
 "nbformat_minor": 2
}
