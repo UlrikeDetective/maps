{
 "cells": [
  {
   "cell_type": "markdown",
   "metadata": {},
   "source": [
    "## Creating Interactive Geospatial Visualizations with Plotly"
   ]
  },
  {
   "cell_type": "code",
   "execution_count": 2,
   "metadata": {},
   "outputs": [
    {
     "name": "stdout",
     "output_type": "stream",
     "text": [
      "Collecting plotly\n",
      "  Downloading plotly-6.0.0-py3-none-any.whl.metadata (5.6 kB)\n",
      "Requirement already satisfied: geopandas in /Users/ulrike_imac_air/projects/maps/maps_env/lib/python3.11/site-packages (1.0.1)\n",
      "Collecting narwhals>=1.15.1 (from plotly)\n",
      "  Downloading narwhals-1.29.1-py3-none-any.whl.metadata (10 kB)\n",
      "Requirement already satisfied: packaging in /Users/ulrike_imac_air/projects/maps/maps_env/lib/python3.11/site-packages (from plotly) (24.2)\n",
      "Requirement already satisfied: numpy>=1.22 in /Users/ulrike_imac_air/projects/maps/maps_env/lib/python3.11/site-packages (from geopandas) (2.2.2)\n",
      "Requirement already satisfied: pyogrio>=0.7.2 in /Users/ulrike_imac_air/projects/maps/maps_env/lib/python3.11/site-packages (from geopandas) (0.10.0)\n",
      "Requirement already satisfied: pandas>=1.4.0 in /Users/ulrike_imac_air/projects/maps/maps_env/lib/python3.11/site-packages (from geopandas) (2.2.3)\n",
      "Requirement already satisfied: pyproj>=3.3.0 in /Users/ulrike_imac_air/projects/maps/maps_env/lib/python3.11/site-packages (from geopandas) (3.7.0)\n",
      "Requirement already satisfied: shapely>=2.0.0 in /Users/ulrike_imac_air/projects/maps/maps_env/lib/python3.11/site-packages (from geopandas) (2.0.6)\n",
      "Requirement already satisfied: python-dateutil>=2.8.2 in /Users/ulrike_imac_air/projects/maps/maps_env/lib/python3.11/site-packages (from pandas>=1.4.0->geopandas) (2.9.0.post0)\n",
      "Requirement already satisfied: pytz>=2020.1 in /Users/ulrike_imac_air/projects/maps/maps_env/lib/python3.11/site-packages (from pandas>=1.4.0->geopandas) (2024.2)\n",
      "Requirement already satisfied: tzdata>=2022.7 in /Users/ulrike_imac_air/projects/maps/maps_env/lib/python3.11/site-packages (from pandas>=1.4.0->geopandas) (2025.1)\n",
      "Requirement already satisfied: certifi in /Users/ulrike_imac_air/projects/maps/maps_env/lib/python3.11/site-packages (from pyogrio>=0.7.2->geopandas) (2024.12.14)\n",
      "Requirement already satisfied: six>=1.5 in /Users/ulrike_imac_air/projects/maps/maps_env/lib/python3.11/site-packages (from python-dateutil>=2.8.2->pandas>=1.4.0->geopandas) (1.17.0)\n",
      "Downloading plotly-6.0.0-py3-none-any.whl (14.8 MB)\n",
      "\u001b[2K   \u001b[90m━━━━━━━━━━━━━━━━━━━━━━━━━━━━━━━━━━━━━━━━\u001b[0m \u001b[32m14.8/14.8 MB\u001b[0m \u001b[31m2.6 MB/s\u001b[0m eta \u001b[36m0:00:00\u001b[0ma \u001b[36m0:00:01\u001b[0m\n",
      "\u001b[?25hDownloading narwhals-1.29.1-py3-none-any.whl (308 kB)\n",
      "Installing collected packages: narwhals, plotly\n",
      "Successfully installed narwhals-1.29.1 plotly-6.0.0\n",
      "Note: you may need to restart the kernel to use updated packages.\n"
     ]
    }
   ],
   "source": [
    "%pip install plotly geopandas"
   ]
  },
  {
   "cell_type": "code",
   "execution_count": 19,
   "metadata": {},
   "outputs": [
    {
     "name": "stdout",
     "output_type": "stream",
     "text": [
      "Requirement already satisfied: nbformat in /Users/ulrike_imac_air/projects/maps/maps_env/lib/python3.11/site-packages (5.10.4)\n",
      "Requirement already satisfied: fastjsonschema>=2.15 in /Users/ulrike_imac_air/projects/maps/maps_env/lib/python3.11/site-packages (from nbformat) (2.21.1)\n",
      "Requirement already satisfied: jsonschema>=2.6 in /Users/ulrike_imac_air/projects/maps/maps_env/lib/python3.11/site-packages (from nbformat) (4.23.0)\n",
      "Requirement already satisfied: jupyter-core!=5.0.*,>=4.12 in /Users/ulrike_imac_air/projects/maps/maps_env/lib/python3.11/site-packages (from nbformat) (5.7.2)\n",
      "Requirement already satisfied: traitlets>=5.1 in /Users/ulrike_imac_air/projects/maps/maps_env/lib/python3.11/site-packages (from nbformat) (5.14.3)\n",
      "Requirement already satisfied: attrs>=22.2.0 in /Users/ulrike_imac_air/projects/maps/maps_env/lib/python3.11/site-packages (from jsonschema>=2.6->nbformat) (25.1.0)\n",
      "Requirement already satisfied: jsonschema-specifications>=2023.03.6 in /Users/ulrike_imac_air/projects/maps/maps_env/lib/python3.11/site-packages (from jsonschema>=2.6->nbformat) (2024.10.1)\n",
      "Requirement already satisfied: referencing>=0.28.4 in /Users/ulrike_imac_air/projects/maps/maps_env/lib/python3.11/site-packages (from jsonschema>=2.6->nbformat) (0.36.2)\n",
      "Requirement already satisfied: rpds-py>=0.7.1 in /Users/ulrike_imac_air/projects/maps/maps_env/lib/python3.11/site-packages (from jsonschema>=2.6->nbformat) (0.23.1)\n",
      "Requirement already satisfied: platformdirs>=2.5 in /Users/ulrike_imac_air/projects/maps/maps_env/lib/python3.11/site-packages (from jupyter-core!=5.0.*,>=4.12->nbformat) (4.3.6)\n",
      "Requirement already satisfied: typing-extensions>=4.4.0 in /Users/ulrike_imac_air/projects/maps/maps_env/lib/python3.11/site-packages (from referencing>=0.28.4->jsonschema>=2.6->nbformat) (4.12.2)\n",
      "Note: you may need to restart the kernel to use updated packages.\n"
     ]
    }
   ],
   "source": [
    "%pip install nbformat"
   ]
  },
  {
   "cell_type": "code",
   "execution_count": 1,
   "metadata": {},
   "outputs": [
    {
     "name": "stdout",
     "output_type": "stream",
     "text": [
      "                 County   Year        Pop  PercentChn  Source Area_sq_km  \\\n",
      "0        Alameda County  2,021  1,656,591       1.824  DOF_E5      1,914   \n",
      "1   Contra Costa County  2,021  1,153,854       2.821  DOF_E5      2,045   \n",
      "2          Marin County  2,021    257,774       1.756  DOF_E5      2,145   \n",
      "3           Napa County  2,021    137,637       2.089  DOF_E5      1,789   \n",
      "4  San Francisco County  2,021    875,010       1.182  DOF_E5        121   \n",
      "5      San Mateo County  2,021    765,245       1.722  DOF_E5      1,919   \n",
      "6    Santa Clara County  2,021  1,934,171       3.011  DOF_E5      3,377   \n",
      "7         Solano County  2,021    438,527       3.258  DOF_E5      2,235   \n",
      "8         Sonoma County  2,021    484,207       3.286  DOF_E5      4,576   \n",
      "\n",
      "  Pop_Densit  Latitude  Longitude                   geometry  \n",
      "0      865.6   37.6017  -121.7195  POINT (-121.7195 37.6017)  \n",
      "1      564.2   37.8534  -121.9018  POINT (-121.9018 37.8534)  \n",
      "2      120.2   38.0834  -122.7633  POINT (-122.7633 38.0834)  \n",
      "3       77.0   38.5025  -122.2654  POINT (-122.2654 38.5025)  \n",
      "4    7,231.5   37.7749  -122.4194  POINT (-122.4194 37.7749)  \n",
      "5      398.8   37.4337  -122.4014  POINT (-122.4014 37.4337)  \n",
      "6      573.0   37.3337  -121.8907  POINT (-121.8907 37.3337)  \n",
      "7      196.2   38.3105  -121.9018  POINT (-121.9018 38.3105)  \n",
      "8      105.8   38.5780  -122.9888   POINT (-122.9888 38.578)  \n"
     ]
    }
   ],
   "source": [
    "# prepare the data\n",
    "\n",
    "import geopandas as gpd\n",
    "\n",
    "# Load a GeoJSON or shapefile with geographical boundaries (e.g., country borders)\n",
    "gdf = gpd.read_file('/Users/ulrike_imac_air/projects/maps/Shapefiles/SFPopulationDensity2021.shp')\n",
    "\n",
    "# Inspect the data to see what columns are available for visualization\n",
    "print(gdf.head(10))"
   ]
  },
  {
   "cell_type": "code",
   "execution_count": 5,
   "metadata": {},
   "outputs": [
    {
     "data": {
      "application/vnd.plotly.v1+json": {
       "config": {
        "plotlyServerURL": "https://plot.ly"
       },
       "data": [
        {
         "colorscale": [
          [
           0,
           "#636efa"
          ],
          [
           1,
           "#636efa"
          ]
         ],
         "geo": "geo",
         "geojson": {
          "bbox": [
           -122.9888,
           37.3337,
           -121.7195,
           38.578
          ],
          "features": [
           {
            "bbox": [
             -121.7195,
             37.6017,
             -121.7195,
             37.6017
            ],
            "geometry": {
             "coordinates": [
              -121.7195,
              37.6017
             ],
             "type": "Point"
            },
            "id": "0",
            "properties": {},
            "type": "Feature"
           },
           {
            "bbox": [
             -121.9018,
             37.8534,
             -121.9018,
             37.8534
            ],
            "geometry": {
             "coordinates": [
              -121.9018,
              37.8534
             ],
             "type": "Point"
            },
            "id": "1",
            "properties": {},
            "type": "Feature"
           },
           {
            "bbox": [
             -122.7633,
             38.0834,
             -122.7633,
             38.0834
            ],
            "geometry": {
             "coordinates": [
              -122.7633,
              38.0834
             ],
             "type": "Point"
            },
            "id": "2",
            "properties": {},
            "type": "Feature"
           },
           {
            "bbox": [
             -122.2654,
             38.5025,
             -122.2654,
             38.5025
            ],
            "geometry": {
             "coordinates": [
              -122.2654,
              38.5025
             ],
             "type": "Point"
            },
            "id": "3",
            "properties": {},
            "type": "Feature"
           },
           {
            "bbox": [
             -122.4194,
             37.7749,
             -122.4194,
             37.7749
            ],
            "geometry": {
             "coordinates": [
              -122.4194,
              37.7749
             ],
             "type": "Point"
            },
            "id": "4",
            "properties": {},
            "type": "Feature"
           },
           {
            "bbox": [
             -122.4014,
             37.4337,
             -122.4014,
             37.4337
            ],
            "geometry": {
             "coordinates": [
              -122.4014,
              37.4337
             ],
             "type": "Point"
            },
            "id": "5",
            "properties": {},
            "type": "Feature"
           },
           {
            "bbox": [
             -121.8907,
             37.3337,
             -121.8907,
             37.3337
            ],
            "geometry": {
             "coordinates": [
              -121.8907,
              37.3337
             ],
             "type": "Point"
            },
            "id": "6",
            "properties": {},
            "type": "Feature"
           },
           {
            "bbox": [
             -121.9018,
             38.3105,
             -121.9018,
             38.3105
            ],
            "geometry": {
             "coordinates": [
              -121.9018,
              38.3105
             ],
             "type": "Point"
            },
            "id": "7",
            "properties": {},
            "type": "Feature"
           },
           {
            "bbox": [
             -122.9888,
             38.578,
             -122.9888,
             38.578
            ],
            "geometry": {
             "coordinates": [
              -122.9888,
              38.578
             ],
             "type": "Point"
            },
            "id": "8",
            "properties": {},
            "type": "Feature"
           }
          ],
          "type": "FeatureCollection"
         },
         "hovertemplate": "<b>%{hovertext}</b><br><br>Density (per sq km)=865.6<br>index=%{location}<extra></extra>",
         "hovertext": [
          "Alameda County"
         ],
         "locations": {
          "bdata": "AA==",
          "dtype": "i1"
         },
         "name": "865.6",
         "showlegend": true,
         "showscale": false,
         "type": "choropleth",
         "z": [
          1
         ]
        },
        {
         "colorscale": [
          [
           0,
           "#EF553B"
          ],
          [
           1,
           "#EF553B"
          ]
         ],
         "geo": "geo",
         "geojson": {
          "bbox": [
           -122.9888,
           37.3337,
           -121.7195,
           38.578
          ],
          "features": [
           {
            "bbox": [
             -121.7195,
             37.6017,
             -121.7195,
             37.6017
            ],
            "geometry": {
             "coordinates": [
              -121.7195,
              37.6017
             ],
             "type": "Point"
            },
            "id": "0",
            "properties": {},
            "type": "Feature"
           },
           {
            "bbox": [
             -121.9018,
             37.8534,
             -121.9018,
             37.8534
            ],
            "geometry": {
             "coordinates": [
              -121.9018,
              37.8534
             ],
             "type": "Point"
            },
            "id": "1",
            "properties": {},
            "type": "Feature"
           },
           {
            "bbox": [
             -122.7633,
             38.0834,
             -122.7633,
             38.0834
            ],
            "geometry": {
             "coordinates": [
              -122.7633,
              38.0834
             ],
             "type": "Point"
            },
            "id": "2",
            "properties": {},
            "type": "Feature"
           },
           {
            "bbox": [
             -122.2654,
             38.5025,
             -122.2654,
             38.5025
            ],
            "geometry": {
             "coordinates": [
              -122.2654,
              38.5025
             ],
             "type": "Point"
            },
            "id": "3",
            "properties": {},
            "type": "Feature"
           },
           {
            "bbox": [
             -122.4194,
             37.7749,
             -122.4194,
             37.7749
            ],
            "geometry": {
             "coordinates": [
              -122.4194,
              37.7749
             ],
             "type": "Point"
            },
            "id": "4",
            "properties": {},
            "type": "Feature"
           },
           {
            "bbox": [
             -122.4014,
             37.4337,
             -122.4014,
             37.4337
            ],
            "geometry": {
             "coordinates": [
              -122.4014,
              37.4337
             ],
             "type": "Point"
            },
            "id": "5",
            "properties": {},
            "type": "Feature"
           },
           {
            "bbox": [
             -121.8907,
             37.3337,
             -121.8907,
             37.3337
            ],
            "geometry": {
             "coordinates": [
              -121.8907,
              37.3337
             ],
             "type": "Point"
            },
            "id": "6",
            "properties": {},
            "type": "Feature"
           },
           {
            "bbox": [
             -121.9018,
             38.3105,
             -121.9018,
             38.3105
            ],
            "geometry": {
             "coordinates": [
              -121.9018,
              38.3105
             ],
             "type": "Point"
            },
            "id": "7",
            "properties": {},
            "type": "Feature"
           },
           {
            "bbox": [
             -122.9888,
             38.578,
             -122.9888,
             38.578
            ],
            "geometry": {
             "coordinates": [
              -122.9888,
              38.578
             ],
             "type": "Point"
            },
            "id": "8",
            "properties": {},
            "type": "Feature"
           }
          ],
          "type": "FeatureCollection"
         },
         "hovertemplate": "<b>%{hovertext}</b><br><br>Density (per sq km)=564.2<br>index=%{location}<extra></extra>",
         "hovertext": [
          "Contra Costa County"
         ],
         "locations": {
          "bdata": "AQ==",
          "dtype": "i1"
         },
         "name": "564.2",
         "showlegend": true,
         "showscale": false,
         "type": "choropleth",
         "z": [
          1
         ]
        },
        {
         "colorscale": [
          [
           0,
           "#00cc96"
          ],
          [
           1,
           "#00cc96"
          ]
         ],
         "geo": "geo",
         "geojson": {
          "bbox": [
           -122.9888,
           37.3337,
           -121.7195,
           38.578
          ],
          "features": [
           {
            "bbox": [
             -121.7195,
             37.6017,
             -121.7195,
             37.6017
            ],
            "geometry": {
             "coordinates": [
              -121.7195,
              37.6017
             ],
             "type": "Point"
            },
            "id": "0",
            "properties": {},
            "type": "Feature"
           },
           {
            "bbox": [
             -121.9018,
             37.8534,
             -121.9018,
             37.8534
            ],
            "geometry": {
             "coordinates": [
              -121.9018,
              37.8534
             ],
             "type": "Point"
            },
            "id": "1",
            "properties": {},
            "type": "Feature"
           },
           {
            "bbox": [
             -122.7633,
             38.0834,
             -122.7633,
             38.0834
            ],
            "geometry": {
             "coordinates": [
              -122.7633,
              38.0834
             ],
             "type": "Point"
            },
            "id": "2",
            "properties": {},
            "type": "Feature"
           },
           {
            "bbox": [
             -122.2654,
             38.5025,
             -122.2654,
             38.5025
            ],
            "geometry": {
             "coordinates": [
              -122.2654,
              38.5025
             ],
             "type": "Point"
            },
            "id": "3",
            "properties": {},
            "type": "Feature"
           },
           {
            "bbox": [
             -122.4194,
             37.7749,
             -122.4194,
             37.7749
            ],
            "geometry": {
             "coordinates": [
              -122.4194,
              37.7749
             ],
             "type": "Point"
            },
            "id": "4",
            "properties": {},
            "type": "Feature"
           },
           {
            "bbox": [
             -122.4014,
             37.4337,
             -122.4014,
             37.4337
            ],
            "geometry": {
             "coordinates": [
              -122.4014,
              37.4337
             ],
             "type": "Point"
            },
            "id": "5",
            "properties": {},
            "type": "Feature"
           },
           {
            "bbox": [
             -121.8907,
             37.3337,
             -121.8907,
             37.3337
            ],
            "geometry": {
             "coordinates": [
              -121.8907,
              37.3337
             ],
             "type": "Point"
            },
            "id": "6",
            "properties": {},
            "type": "Feature"
           },
           {
            "bbox": [
             -121.9018,
             38.3105,
             -121.9018,
             38.3105
            ],
            "geometry": {
             "coordinates": [
              -121.9018,
              38.3105
             ],
             "type": "Point"
            },
            "id": "7",
            "properties": {},
            "type": "Feature"
           },
           {
            "bbox": [
             -122.9888,
             38.578,
             -122.9888,
             38.578
            ],
            "geometry": {
             "coordinates": [
              -122.9888,
              38.578
             ],
             "type": "Point"
            },
            "id": "8",
            "properties": {},
            "type": "Feature"
           }
          ],
          "type": "FeatureCollection"
         },
         "hovertemplate": "<b>%{hovertext}</b><br><br>Density (per sq km)=120.2<br>index=%{location}<extra></extra>",
         "hovertext": [
          "Marin County"
         ],
         "locations": {
          "bdata": "Ag==",
          "dtype": "i1"
         },
         "name": "120.2",
         "showlegend": true,
         "showscale": false,
         "type": "choropleth",
         "z": [
          1
         ]
        },
        {
         "colorscale": [
          [
           0,
           "#ab63fa"
          ],
          [
           1,
           "#ab63fa"
          ]
         ],
         "geo": "geo",
         "geojson": {
          "bbox": [
           -122.9888,
           37.3337,
           -121.7195,
           38.578
          ],
          "features": [
           {
            "bbox": [
             -121.7195,
             37.6017,
             -121.7195,
             37.6017
            ],
            "geometry": {
             "coordinates": [
              -121.7195,
              37.6017
             ],
             "type": "Point"
            },
            "id": "0",
            "properties": {},
            "type": "Feature"
           },
           {
            "bbox": [
             -121.9018,
             37.8534,
             -121.9018,
             37.8534
            ],
            "geometry": {
             "coordinates": [
              -121.9018,
              37.8534
             ],
             "type": "Point"
            },
            "id": "1",
            "properties": {},
            "type": "Feature"
           },
           {
            "bbox": [
             -122.7633,
             38.0834,
             -122.7633,
             38.0834
            ],
            "geometry": {
             "coordinates": [
              -122.7633,
              38.0834
             ],
             "type": "Point"
            },
            "id": "2",
            "properties": {},
            "type": "Feature"
           },
           {
            "bbox": [
             -122.2654,
             38.5025,
             -122.2654,
             38.5025
            ],
            "geometry": {
             "coordinates": [
              -122.2654,
              38.5025
             ],
             "type": "Point"
            },
            "id": "3",
            "properties": {},
            "type": "Feature"
           },
           {
            "bbox": [
             -122.4194,
             37.7749,
             -122.4194,
             37.7749
            ],
            "geometry": {
             "coordinates": [
              -122.4194,
              37.7749
             ],
             "type": "Point"
            },
            "id": "4",
            "properties": {},
            "type": "Feature"
           },
           {
            "bbox": [
             -122.4014,
             37.4337,
             -122.4014,
             37.4337
            ],
            "geometry": {
             "coordinates": [
              -122.4014,
              37.4337
             ],
             "type": "Point"
            },
            "id": "5",
            "properties": {},
            "type": "Feature"
           },
           {
            "bbox": [
             -121.8907,
             37.3337,
             -121.8907,
             37.3337
            ],
            "geometry": {
             "coordinates": [
              -121.8907,
              37.3337
             ],
             "type": "Point"
            },
            "id": "6",
            "properties": {},
            "type": "Feature"
           },
           {
            "bbox": [
             -121.9018,
             38.3105,
             -121.9018,
             38.3105
            ],
            "geometry": {
             "coordinates": [
              -121.9018,
              38.3105
             ],
             "type": "Point"
            },
            "id": "7",
            "properties": {},
            "type": "Feature"
           },
           {
            "bbox": [
             -122.9888,
             38.578,
             -122.9888,
             38.578
            ],
            "geometry": {
             "coordinates": [
              -122.9888,
              38.578
             ],
             "type": "Point"
            },
            "id": "8",
            "properties": {},
            "type": "Feature"
           }
          ],
          "type": "FeatureCollection"
         },
         "hovertemplate": "<b>%{hovertext}</b><br><br>Density (per sq km)=77.0<br>index=%{location}<extra></extra>",
         "hovertext": [
          "Napa County"
         ],
         "locations": {
          "bdata": "Aw==",
          "dtype": "i1"
         },
         "name": "77.0",
         "showlegend": true,
         "showscale": false,
         "type": "choropleth",
         "z": [
          1
         ]
        },
        {
         "colorscale": [
          [
           0,
           "#FFA15A"
          ],
          [
           1,
           "#FFA15A"
          ]
         ],
         "geo": "geo",
         "geojson": {
          "bbox": [
           -122.9888,
           37.3337,
           -121.7195,
           38.578
          ],
          "features": [
           {
            "bbox": [
             -121.7195,
             37.6017,
             -121.7195,
             37.6017
            ],
            "geometry": {
             "coordinates": [
              -121.7195,
              37.6017
             ],
             "type": "Point"
            },
            "id": "0",
            "properties": {},
            "type": "Feature"
           },
           {
            "bbox": [
             -121.9018,
             37.8534,
             -121.9018,
             37.8534
            ],
            "geometry": {
             "coordinates": [
              -121.9018,
              37.8534
             ],
             "type": "Point"
            },
            "id": "1",
            "properties": {},
            "type": "Feature"
           },
           {
            "bbox": [
             -122.7633,
             38.0834,
             -122.7633,
             38.0834
            ],
            "geometry": {
             "coordinates": [
              -122.7633,
              38.0834
             ],
             "type": "Point"
            },
            "id": "2",
            "properties": {},
            "type": "Feature"
           },
           {
            "bbox": [
             -122.2654,
             38.5025,
             -122.2654,
             38.5025
            ],
            "geometry": {
             "coordinates": [
              -122.2654,
              38.5025
             ],
             "type": "Point"
            },
            "id": "3",
            "properties": {},
            "type": "Feature"
           },
           {
            "bbox": [
             -122.4194,
             37.7749,
             -122.4194,
             37.7749
            ],
            "geometry": {
             "coordinates": [
              -122.4194,
              37.7749
             ],
             "type": "Point"
            },
            "id": "4",
            "properties": {},
            "type": "Feature"
           },
           {
            "bbox": [
             -122.4014,
             37.4337,
             -122.4014,
             37.4337
            ],
            "geometry": {
             "coordinates": [
              -122.4014,
              37.4337
             ],
             "type": "Point"
            },
            "id": "5",
            "properties": {},
            "type": "Feature"
           },
           {
            "bbox": [
             -121.8907,
             37.3337,
             -121.8907,
             37.3337
            ],
            "geometry": {
             "coordinates": [
              -121.8907,
              37.3337
             ],
             "type": "Point"
            },
            "id": "6",
            "properties": {},
            "type": "Feature"
           },
           {
            "bbox": [
             -121.9018,
             38.3105,
             -121.9018,
             38.3105
            ],
            "geometry": {
             "coordinates": [
              -121.9018,
              38.3105
             ],
             "type": "Point"
            },
            "id": "7",
            "properties": {},
            "type": "Feature"
           },
           {
            "bbox": [
             -122.9888,
             38.578,
             -122.9888,
             38.578
            ],
            "geometry": {
             "coordinates": [
              -122.9888,
              38.578
             ],
             "type": "Point"
            },
            "id": "8",
            "properties": {},
            "type": "Feature"
           }
          ],
          "type": "FeatureCollection"
         },
         "hovertemplate": "<b>%{hovertext}</b><br><br>Density (per sq km)=7,231.5<br>index=%{location}<extra></extra>",
         "hovertext": [
          "San Francisco County"
         ],
         "locations": {
          "bdata": "BA==",
          "dtype": "i1"
         },
         "name": "7,231.5",
         "showlegend": true,
         "showscale": false,
         "type": "choropleth",
         "z": [
          1
         ]
        },
        {
         "colorscale": [
          [
           0,
           "#19d3f3"
          ],
          [
           1,
           "#19d3f3"
          ]
         ],
         "geo": "geo",
         "geojson": {
          "bbox": [
           -122.9888,
           37.3337,
           -121.7195,
           38.578
          ],
          "features": [
           {
            "bbox": [
             -121.7195,
             37.6017,
             -121.7195,
             37.6017
            ],
            "geometry": {
             "coordinates": [
              -121.7195,
              37.6017
             ],
             "type": "Point"
            },
            "id": "0",
            "properties": {},
            "type": "Feature"
           },
           {
            "bbox": [
             -121.9018,
             37.8534,
             -121.9018,
             37.8534
            ],
            "geometry": {
             "coordinates": [
              -121.9018,
              37.8534
             ],
             "type": "Point"
            },
            "id": "1",
            "properties": {},
            "type": "Feature"
           },
           {
            "bbox": [
             -122.7633,
             38.0834,
             -122.7633,
             38.0834
            ],
            "geometry": {
             "coordinates": [
              -122.7633,
              38.0834
             ],
             "type": "Point"
            },
            "id": "2",
            "properties": {},
            "type": "Feature"
           },
           {
            "bbox": [
             -122.2654,
             38.5025,
             -122.2654,
             38.5025
            ],
            "geometry": {
             "coordinates": [
              -122.2654,
              38.5025
             ],
             "type": "Point"
            },
            "id": "3",
            "properties": {},
            "type": "Feature"
           },
           {
            "bbox": [
             -122.4194,
             37.7749,
             -122.4194,
             37.7749
            ],
            "geometry": {
             "coordinates": [
              -122.4194,
              37.7749
             ],
             "type": "Point"
            },
            "id": "4",
            "properties": {},
            "type": "Feature"
           },
           {
            "bbox": [
             -122.4014,
             37.4337,
             -122.4014,
             37.4337
            ],
            "geometry": {
             "coordinates": [
              -122.4014,
              37.4337
             ],
             "type": "Point"
            },
            "id": "5",
            "properties": {},
            "type": "Feature"
           },
           {
            "bbox": [
             -121.8907,
             37.3337,
             -121.8907,
             37.3337
            ],
            "geometry": {
             "coordinates": [
              -121.8907,
              37.3337
             ],
             "type": "Point"
            },
            "id": "6",
            "properties": {},
            "type": "Feature"
           },
           {
            "bbox": [
             -121.9018,
             38.3105,
             -121.9018,
             38.3105
            ],
            "geometry": {
             "coordinates": [
              -121.9018,
              38.3105
             ],
             "type": "Point"
            },
            "id": "7",
            "properties": {},
            "type": "Feature"
           },
           {
            "bbox": [
             -122.9888,
             38.578,
             -122.9888,
             38.578
            ],
            "geometry": {
             "coordinates": [
              -122.9888,
              38.578
             ],
             "type": "Point"
            },
            "id": "8",
            "properties": {},
            "type": "Feature"
           }
          ],
          "type": "FeatureCollection"
         },
         "hovertemplate": "<b>%{hovertext}</b><br><br>Density (per sq km)=398.8<br>index=%{location}<extra></extra>",
         "hovertext": [
          "San Mateo County"
         ],
         "locations": {
          "bdata": "BQ==",
          "dtype": "i1"
         },
         "name": "398.8",
         "showlegend": true,
         "showscale": false,
         "type": "choropleth",
         "z": [
          1
         ]
        },
        {
         "colorscale": [
          [
           0,
           "#FF6692"
          ],
          [
           1,
           "#FF6692"
          ]
         ],
         "geo": "geo",
         "geojson": {
          "bbox": [
           -122.9888,
           37.3337,
           -121.7195,
           38.578
          ],
          "features": [
           {
            "bbox": [
             -121.7195,
             37.6017,
             -121.7195,
             37.6017
            ],
            "geometry": {
             "coordinates": [
              -121.7195,
              37.6017
             ],
             "type": "Point"
            },
            "id": "0",
            "properties": {},
            "type": "Feature"
           },
           {
            "bbox": [
             -121.9018,
             37.8534,
             -121.9018,
             37.8534
            ],
            "geometry": {
             "coordinates": [
              -121.9018,
              37.8534
             ],
             "type": "Point"
            },
            "id": "1",
            "properties": {},
            "type": "Feature"
           },
           {
            "bbox": [
             -122.7633,
             38.0834,
             -122.7633,
             38.0834
            ],
            "geometry": {
             "coordinates": [
              -122.7633,
              38.0834
             ],
             "type": "Point"
            },
            "id": "2",
            "properties": {},
            "type": "Feature"
           },
           {
            "bbox": [
             -122.2654,
             38.5025,
             -122.2654,
             38.5025
            ],
            "geometry": {
             "coordinates": [
              -122.2654,
              38.5025
             ],
             "type": "Point"
            },
            "id": "3",
            "properties": {},
            "type": "Feature"
           },
           {
            "bbox": [
             -122.4194,
             37.7749,
             -122.4194,
             37.7749
            ],
            "geometry": {
             "coordinates": [
              -122.4194,
              37.7749
             ],
             "type": "Point"
            },
            "id": "4",
            "properties": {},
            "type": "Feature"
           },
           {
            "bbox": [
             -122.4014,
             37.4337,
             -122.4014,
             37.4337
            ],
            "geometry": {
             "coordinates": [
              -122.4014,
              37.4337
             ],
             "type": "Point"
            },
            "id": "5",
            "properties": {},
            "type": "Feature"
           },
           {
            "bbox": [
             -121.8907,
             37.3337,
             -121.8907,
             37.3337
            ],
            "geometry": {
             "coordinates": [
              -121.8907,
              37.3337
             ],
             "type": "Point"
            },
            "id": "6",
            "properties": {},
            "type": "Feature"
           },
           {
            "bbox": [
             -121.9018,
             38.3105,
             -121.9018,
             38.3105
            ],
            "geometry": {
             "coordinates": [
              -121.9018,
              38.3105
             ],
             "type": "Point"
            },
            "id": "7",
            "properties": {},
            "type": "Feature"
           },
           {
            "bbox": [
             -122.9888,
             38.578,
             -122.9888,
             38.578
            ],
            "geometry": {
             "coordinates": [
              -122.9888,
              38.578
             ],
             "type": "Point"
            },
            "id": "8",
            "properties": {},
            "type": "Feature"
           }
          ],
          "type": "FeatureCollection"
         },
         "hovertemplate": "<b>%{hovertext}</b><br><br>Density (per sq km)=573.0<br>index=%{location}<extra></extra>",
         "hovertext": [
          "Santa Clara County"
         ],
         "locations": {
          "bdata": "Bg==",
          "dtype": "i1"
         },
         "name": "573.0",
         "showlegend": true,
         "showscale": false,
         "type": "choropleth",
         "z": [
          1
         ]
        },
        {
         "colorscale": [
          [
           0,
           "#B6E880"
          ],
          [
           1,
           "#B6E880"
          ]
         ],
         "geo": "geo",
         "geojson": {
          "bbox": [
           -122.9888,
           37.3337,
           -121.7195,
           38.578
          ],
          "features": [
           {
            "bbox": [
             -121.7195,
             37.6017,
             -121.7195,
             37.6017
            ],
            "geometry": {
             "coordinates": [
              -121.7195,
              37.6017
             ],
             "type": "Point"
            },
            "id": "0",
            "properties": {},
            "type": "Feature"
           },
           {
            "bbox": [
             -121.9018,
             37.8534,
             -121.9018,
             37.8534
            ],
            "geometry": {
             "coordinates": [
              -121.9018,
              37.8534
             ],
             "type": "Point"
            },
            "id": "1",
            "properties": {},
            "type": "Feature"
           },
           {
            "bbox": [
             -122.7633,
             38.0834,
             -122.7633,
             38.0834
            ],
            "geometry": {
             "coordinates": [
              -122.7633,
              38.0834
             ],
             "type": "Point"
            },
            "id": "2",
            "properties": {},
            "type": "Feature"
           },
           {
            "bbox": [
             -122.2654,
             38.5025,
             -122.2654,
             38.5025
            ],
            "geometry": {
             "coordinates": [
              -122.2654,
              38.5025
             ],
             "type": "Point"
            },
            "id": "3",
            "properties": {},
            "type": "Feature"
           },
           {
            "bbox": [
             -122.4194,
             37.7749,
             -122.4194,
             37.7749
            ],
            "geometry": {
             "coordinates": [
              -122.4194,
              37.7749
             ],
             "type": "Point"
            },
            "id": "4",
            "properties": {},
            "type": "Feature"
           },
           {
            "bbox": [
             -122.4014,
             37.4337,
             -122.4014,
             37.4337
            ],
            "geometry": {
             "coordinates": [
              -122.4014,
              37.4337
             ],
             "type": "Point"
            },
            "id": "5",
            "properties": {},
            "type": "Feature"
           },
           {
            "bbox": [
             -121.8907,
             37.3337,
             -121.8907,
             37.3337
            ],
            "geometry": {
             "coordinates": [
              -121.8907,
              37.3337
             ],
             "type": "Point"
            },
            "id": "6",
            "properties": {},
            "type": "Feature"
           },
           {
            "bbox": [
             -121.9018,
             38.3105,
             -121.9018,
             38.3105
            ],
            "geometry": {
             "coordinates": [
              -121.9018,
              38.3105
             ],
             "type": "Point"
            },
            "id": "7",
            "properties": {},
            "type": "Feature"
           },
           {
            "bbox": [
             -122.9888,
             38.578,
             -122.9888,
             38.578
            ],
            "geometry": {
             "coordinates": [
              -122.9888,
              38.578
             ],
             "type": "Point"
            },
            "id": "8",
            "properties": {},
            "type": "Feature"
           }
          ],
          "type": "FeatureCollection"
         },
         "hovertemplate": "<b>%{hovertext}</b><br><br>Density (per sq km)=196.2<br>index=%{location}<extra></extra>",
         "hovertext": [
          "Solano County"
         ],
         "locations": {
          "bdata": "Bw==",
          "dtype": "i1"
         },
         "name": "196.2",
         "showlegend": true,
         "showscale": false,
         "type": "choropleth",
         "z": [
          1
         ]
        },
        {
         "colorscale": [
          [
           0,
           "#FF97FF"
          ],
          [
           1,
           "#FF97FF"
          ]
         ],
         "geo": "geo",
         "geojson": {
          "bbox": [
           -122.9888,
           37.3337,
           -121.7195,
           38.578
          ],
          "features": [
           {
            "bbox": [
             -121.7195,
             37.6017,
             -121.7195,
             37.6017
            ],
            "geometry": {
             "coordinates": [
              -121.7195,
              37.6017
             ],
             "type": "Point"
            },
            "id": "0",
            "properties": {},
            "type": "Feature"
           },
           {
            "bbox": [
             -121.9018,
             37.8534,
             -121.9018,
             37.8534
            ],
            "geometry": {
             "coordinates": [
              -121.9018,
              37.8534
             ],
             "type": "Point"
            },
            "id": "1",
            "properties": {},
            "type": "Feature"
           },
           {
            "bbox": [
             -122.7633,
             38.0834,
             -122.7633,
             38.0834
            ],
            "geometry": {
             "coordinates": [
              -122.7633,
              38.0834
             ],
             "type": "Point"
            },
            "id": "2",
            "properties": {},
            "type": "Feature"
           },
           {
            "bbox": [
             -122.2654,
             38.5025,
             -122.2654,
             38.5025
            ],
            "geometry": {
             "coordinates": [
              -122.2654,
              38.5025
             ],
             "type": "Point"
            },
            "id": "3",
            "properties": {},
            "type": "Feature"
           },
           {
            "bbox": [
             -122.4194,
             37.7749,
             -122.4194,
             37.7749
            ],
            "geometry": {
             "coordinates": [
              -122.4194,
              37.7749
             ],
             "type": "Point"
            },
            "id": "4",
            "properties": {},
            "type": "Feature"
           },
           {
            "bbox": [
             -122.4014,
             37.4337,
             -122.4014,
             37.4337
            ],
            "geometry": {
             "coordinates": [
              -122.4014,
              37.4337
             ],
             "type": "Point"
            },
            "id": "5",
            "properties": {},
            "type": "Feature"
           },
           {
            "bbox": [
             -121.8907,
             37.3337,
             -121.8907,
             37.3337
            ],
            "geometry": {
             "coordinates": [
              -121.8907,
              37.3337
             ],
             "type": "Point"
            },
            "id": "6",
            "properties": {},
            "type": "Feature"
           },
           {
            "bbox": [
             -121.9018,
             38.3105,
             -121.9018,
             38.3105
            ],
            "geometry": {
             "coordinates": [
              -121.9018,
              38.3105
             ],
             "type": "Point"
            },
            "id": "7",
            "properties": {},
            "type": "Feature"
           },
           {
            "bbox": [
             -122.9888,
             38.578,
             -122.9888,
             38.578
            ],
            "geometry": {
             "coordinates": [
              -122.9888,
              38.578
             ],
             "type": "Point"
            },
            "id": "8",
            "properties": {},
            "type": "Feature"
           }
          ],
          "type": "FeatureCollection"
         },
         "hovertemplate": "<b>%{hovertext}</b><br><br>Density (per sq km)=105.8<br>index=%{location}<extra></extra>",
         "hovertext": [
          "Sonoma County"
         ],
         "locations": {
          "bdata": "CA==",
          "dtype": "i1"
         },
         "name": "105.8",
         "showlegend": true,
         "showscale": false,
         "type": "choropleth",
         "z": [
          1
         ]
        }
       ],
       "layout": {
        "geo": {
         "center": {},
         "domain": {
          "x": [
           0,
           1
          ],
          "y": [
           0,
           1
          ]
         },
         "fitbounds": "locations",
         "visible": false
        },
        "legend": {
         "title": {
          "text": "Density (per sq km)"
         },
         "tracegroupgap": 0
        },
        "margin": {
         "t": 60
        },
        "template": {
         "data": {
          "bar": [
           {
            "error_x": {
             "color": "#2a3f5f"
            },
            "error_y": {
             "color": "#2a3f5f"
            },
            "marker": {
             "line": {
              "color": "#E5ECF6",
              "width": 0.5
             },
             "pattern": {
              "fillmode": "overlay",
              "size": 10,
              "solidity": 0.2
             }
            },
            "type": "bar"
           }
          ],
          "barpolar": [
           {
            "marker": {
             "line": {
              "color": "#E5ECF6",
              "width": 0.5
             },
             "pattern": {
              "fillmode": "overlay",
              "size": 10,
              "solidity": 0.2
             }
            },
            "type": "barpolar"
           }
          ],
          "carpet": [
           {
            "aaxis": {
             "endlinecolor": "#2a3f5f",
             "gridcolor": "white",
             "linecolor": "white",
             "minorgridcolor": "white",
             "startlinecolor": "#2a3f5f"
            },
            "baxis": {
             "endlinecolor": "#2a3f5f",
             "gridcolor": "white",
             "linecolor": "white",
             "minorgridcolor": "white",
             "startlinecolor": "#2a3f5f"
            },
            "type": "carpet"
           }
          ],
          "choropleth": [
           {
            "colorbar": {
             "outlinewidth": 0,
             "ticks": ""
            },
            "type": "choropleth"
           }
          ],
          "contour": [
           {
            "colorbar": {
             "outlinewidth": 0,
             "ticks": ""
            },
            "colorscale": [
             [
              0,
              "#0d0887"
             ],
             [
              0.1111111111111111,
              "#46039f"
             ],
             [
              0.2222222222222222,
              "#7201a8"
             ],
             [
              0.3333333333333333,
              "#9c179e"
             ],
             [
              0.4444444444444444,
              "#bd3786"
             ],
             [
              0.5555555555555556,
              "#d8576b"
             ],
             [
              0.6666666666666666,
              "#ed7953"
             ],
             [
              0.7777777777777778,
              "#fb9f3a"
             ],
             [
              0.8888888888888888,
              "#fdca26"
             ],
             [
              1,
              "#f0f921"
             ]
            ],
            "type": "contour"
           }
          ],
          "contourcarpet": [
           {
            "colorbar": {
             "outlinewidth": 0,
             "ticks": ""
            },
            "type": "contourcarpet"
           }
          ],
          "heatmap": [
           {
            "colorbar": {
             "outlinewidth": 0,
             "ticks": ""
            },
            "colorscale": [
             [
              0,
              "#0d0887"
             ],
             [
              0.1111111111111111,
              "#46039f"
             ],
             [
              0.2222222222222222,
              "#7201a8"
             ],
             [
              0.3333333333333333,
              "#9c179e"
             ],
             [
              0.4444444444444444,
              "#bd3786"
             ],
             [
              0.5555555555555556,
              "#d8576b"
             ],
             [
              0.6666666666666666,
              "#ed7953"
             ],
             [
              0.7777777777777778,
              "#fb9f3a"
             ],
             [
              0.8888888888888888,
              "#fdca26"
             ],
             [
              1,
              "#f0f921"
             ]
            ],
            "type": "heatmap"
           }
          ],
          "histogram": [
           {
            "marker": {
             "pattern": {
              "fillmode": "overlay",
              "size": 10,
              "solidity": 0.2
             }
            },
            "type": "histogram"
           }
          ],
          "histogram2d": [
           {
            "colorbar": {
             "outlinewidth": 0,
             "ticks": ""
            },
            "colorscale": [
             [
              0,
              "#0d0887"
             ],
             [
              0.1111111111111111,
              "#46039f"
             ],
             [
              0.2222222222222222,
              "#7201a8"
             ],
             [
              0.3333333333333333,
              "#9c179e"
             ],
             [
              0.4444444444444444,
              "#bd3786"
             ],
             [
              0.5555555555555556,
              "#d8576b"
             ],
             [
              0.6666666666666666,
              "#ed7953"
             ],
             [
              0.7777777777777778,
              "#fb9f3a"
             ],
             [
              0.8888888888888888,
              "#fdca26"
             ],
             [
              1,
              "#f0f921"
             ]
            ],
            "type": "histogram2d"
           }
          ],
          "histogram2dcontour": [
           {
            "colorbar": {
             "outlinewidth": 0,
             "ticks": ""
            },
            "colorscale": [
             [
              0,
              "#0d0887"
             ],
             [
              0.1111111111111111,
              "#46039f"
             ],
             [
              0.2222222222222222,
              "#7201a8"
             ],
             [
              0.3333333333333333,
              "#9c179e"
             ],
             [
              0.4444444444444444,
              "#bd3786"
             ],
             [
              0.5555555555555556,
              "#d8576b"
             ],
             [
              0.6666666666666666,
              "#ed7953"
             ],
             [
              0.7777777777777778,
              "#fb9f3a"
             ],
             [
              0.8888888888888888,
              "#fdca26"
             ],
             [
              1,
              "#f0f921"
             ]
            ],
            "type": "histogram2dcontour"
           }
          ],
          "mesh3d": [
           {
            "colorbar": {
             "outlinewidth": 0,
             "ticks": ""
            },
            "type": "mesh3d"
           }
          ],
          "parcoords": [
           {
            "line": {
             "colorbar": {
              "outlinewidth": 0,
              "ticks": ""
             }
            },
            "type": "parcoords"
           }
          ],
          "pie": [
           {
            "automargin": true,
            "type": "pie"
           }
          ],
          "scatter": [
           {
            "fillpattern": {
             "fillmode": "overlay",
             "size": 10,
             "solidity": 0.2
            },
            "type": "scatter"
           }
          ],
          "scatter3d": [
           {
            "line": {
             "colorbar": {
              "outlinewidth": 0,
              "ticks": ""
             }
            },
            "marker": {
             "colorbar": {
              "outlinewidth": 0,
              "ticks": ""
             }
            },
            "type": "scatter3d"
           }
          ],
          "scattercarpet": [
           {
            "marker": {
             "colorbar": {
              "outlinewidth": 0,
              "ticks": ""
             }
            },
            "type": "scattercarpet"
           }
          ],
          "scattergeo": [
           {
            "marker": {
             "colorbar": {
              "outlinewidth": 0,
              "ticks": ""
             }
            },
            "type": "scattergeo"
           }
          ],
          "scattergl": [
           {
            "marker": {
             "colorbar": {
              "outlinewidth": 0,
              "ticks": ""
             }
            },
            "type": "scattergl"
           }
          ],
          "scattermap": [
           {
            "marker": {
             "colorbar": {
              "outlinewidth": 0,
              "ticks": ""
             }
            },
            "type": "scattermap"
           }
          ],
          "scattermapbox": [
           {
            "marker": {
             "colorbar": {
              "outlinewidth": 0,
              "ticks": ""
             }
            },
            "type": "scattermapbox"
           }
          ],
          "scatterpolar": [
           {
            "marker": {
             "colorbar": {
              "outlinewidth": 0,
              "ticks": ""
             }
            },
            "type": "scatterpolar"
           }
          ],
          "scatterpolargl": [
           {
            "marker": {
             "colorbar": {
              "outlinewidth": 0,
              "ticks": ""
             }
            },
            "type": "scatterpolargl"
           }
          ],
          "scatterternary": [
           {
            "marker": {
             "colorbar": {
              "outlinewidth": 0,
              "ticks": ""
             }
            },
            "type": "scatterternary"
           }
          ],
          "surface": [
           {
            "colorbar": {
             "outlinewidth": 0,
             "ticks": ""
            },
            "colorscale": [
             [
              0,
              "#0d0887"
             ],
             [
              0.1111111111111111,
              "#46039f"
             ],
             [
              0.2222222222222222,
              "#7201a8"
             ],
             [
              0.3333333333333333,
              "#9c179e"
             ],
             [
              0.4444444444444444,
              "#bd3786"
             ],
             [
              0.5555555555555556,
              "#d8576b"
             ],
             [
              0.6666666666666666,
              "#ed7953"
             ],
             [
              0.7777777777777778,
              "#fb9f3a"
             ],
             [
              0.8888888888888888,
              "#fdca26"
             ],
             [
              1,
              "#f0f921"
             ]
            ],
            "type": "surface"
           }
          ],
          "table": [
           {
            "cells": {
             "fill": {
              "color": "#EBF0F8"
             },
             "line": {
              "color": "white"
             }
            },
            "header": {
             "fill": {
              "color": "#C8D4E3"
             },
             "line": {
              "color": "white"
             }
            },
            "type": "table"
           }
          ]
         },
         "layout": {
          "annotationdefaults": {
           "arrowcolor": "#2a3f5f",
           "arrowhead": 0,
           "arrowwidth": 1
          },
          "autotypenumbers": "strict",
          "coloraxis": {
           "colorbar": {
            "outlinewidth": 0,
            "ticks": ""
           }
          },
          "colorscale": {
           "diverging": [
            [
             0,
             "#8e0152"
            ],
            [
             0.1,
             "#c51b7d"
            ],
            [
             0.2,
             "#de77ae"
            ],
            [
             0.3,
             "#f1b6da"
            ],
            [
             0.4,
             "#fde0ef"
            ],
            [
             0.5,
             "#f7f7f7"
            ],
            [
             0.6,
             "#e6f5d0"
            ],
            [
             0.7,
             "#b8e186"
            ],
            [
             0.8,
             "#7fbc41"
            ],
            [
             0.9,
             "#4d9221"
            ],
            [
             1,
             "#276419"
            ]
           ],
           "sequential": [
            [
             0,
             "#0d0887"
            ],
            [
             0.1111111111111111,
             "#46039f"
            ],
            [
             0.2222222222222222,
             "#7201a8"
            ],
            [
             0.3333333333333333,
             "#9c179e"
            ],
            [
             0.4444444444444444,
             "#bd3786"
            ],
            [
             0.5555555555555556,
             "#d8576b"
            ],
            [
             0.6666666666666666,
             "#ed7953"
            ],
            [
             0.7777777777777778,
             "#fb9f3a"
            ],
            [
             0.8888888888888888,
             "#fdca26"
            ],
            [
             1,
             "#f0f921"
            ]
           ],
           "sequentialminus": [
            [
             0,
             "#0d0887"
            ],
            [
             0.1111111111111111,
             "#46039f"
            ],
            [
             0.2222222222222222,
             "#7201a8"
            ],
            [
             0.3333333333333333,
             "#9c179e"
            ],
            [
             0.4444444444444444,
             "#bd3786"
            ],
            [
             0.5555555555555556,
             "#d8576b"
            ],
            [
             0.6666666666666666,
             "#ed7953"
            ],
            [
             0.7777777777777778,
             "#fb9f3a"
            ],
            [
             0.8888888888888888,
             "#fdca26"
            ],
            [
             1,
             "#f0f921"
            ]
           ]
          },
          "colorway": [
           "#636efa",
           "#EF553B",
           "#00cc96",
           "#ab63fa",
           "#FFA15A",
           "#19d3f3",
           "#FF6692",
           "#B6E880",
           "#FF97FF",
           "#FECB52"
          ],
          "font": {
           "color": "#2a3f5f"
          },
          "geo": {
           "bgcolor": "white",
           "lakecolor": "white",
           "landcolor": "#E5ECF6",
           "showlakes": true,
           "showland": true,
           "subunitcolor": "white"
          },
          "hoverlabel": {
           "align": "left"
          },
          "hovermode": "closest",
          "mapbox": {
           "style": "light"
          },
          "paper_bgcolor": "white",
          "plot_bgcolor": "#E5ECF6",
          "polar": {
           "angularaxis": {
            "gridcolor": "white",
            "linecolor": "white",
            "ticks": ""
           },
           "bgcolor": "#E5ECF6",
           "radialaxis": {
            "gridcolor": "white",
            "linecolor": "white",
            "ticks": ""
           }
          },
          "scene": {
           "xaxis": {
            "backgroundcolor": "#E5ECF6",
            "gridcolor": "white",
            "gridwidth": 2,
            "linecolor": "white",
            "showbackground": true,
            "ticks": "",
            "zerolinecolor": "white"
           },
           "yaxis": {
            "backgroundcolor": "#E5ECF6",
            "gridcolor": "white",
            "gridwidth": 2,
            "linecolor": "white",
            "showbackground": true,
            "ticks": "",
            "zerolinecolor": "white"
           },
           "zaxis": {
            "backgroundcolor": "#E5ECF6",
            "gridcolor": "white",
            "gridwidth": 2,
            "linecolor": "white",
            "showbackground": true,
            "ticks": "",
            "zerolinecolor": "white"
           }
          },
          "shapedefaults": {
           "line": {
            "color": "#2a3f5f"
           }
          },
          "ternary": {
           "aaxis": {
            "gridcolor": "white",
            "linecolor": "white",
            "ticks": ""
           },
           "baxis": {
            "gridcolor": "white",
            "linecolor": "white",
            "ticks": ""
           },
           "bgcolor": "#E5ECF6",
           "caxis": {
            "gridcolor": "white",
            "linecolor": "white",
            "ticks": ""
           }
          },
          "title": {
           "x": 0.05
          },
          "xaxis": {
           "automargin": true,
           "gridcolor": "white",
           "linecolor": "white",
           "ticks": "",
           "title": {
            "standoff": 15
           },
           "zerolinecolor": "white",
           "zerolinewidth": 2
          },
          "yaxis": {
           "automargin": true,
           "gridcolor": "white",
           "linecolor": "white",
           "ticks": "",
           "title": {
            "standoff": 15
           },
           "zerolinecolor": "white",
           "zerolinewidth": 2
          }
         }
        },
        "title": {
         "text": "Population Density by Region",
         "x": 0.5
        }
       }
      }
     },
     "metadata": {},
     "output_type": "display_data"
    }
   ],
   "source": [
    "# Create a Choropleth Map Using Plotly\n",
    "\n",
    "import plotly.express as px\n",
    "\n",
    "# Create a choropleth map to visualize population density (example column)\n",
    "fig = px.choropleth(gdf,\n",
    "                    geojson=gdf.geometry,\n",
    "                    locations=gdf.index,\n",
    "                    color='Pop_Densit',  # Column representing the data to visualize\n",
    "                    hover_name='County',  # Column for hover text\n",
    "                    color_continuous_scale=\"Viridis\",\n",
    "                    labels={'Pop_Densit': 'Density (per sq km)'})\n",
    "\n",
    "# Update layout for better visualization\n",
    "fig.update_geos(fitbounds=\"locations\", visible=False)\n",
    "fig.update_layout(title=\"Population Density by Region\", title_x=0.5)\n",
    "\n",
    "# Show the plot\n",
    "fig.show()"
   ]
  },
  {
   "cell_type": "code",
   "execution_count": 3,
   "metadata": {},
   "outputs": [
    {
     "name": "stdout",
     "output_type": "stream",
     "text": [
      "Requirement already satisfied: nbformat in /Users/ulrike_imac_air/projects/maps/maps_env/lib/python3.11/site-packages (5.10.4)\n",
      "Requirement already satisfied: fastjsonschema>=2.15 in /Users/ulrike_imac_air/projects/maps/maps_env/lib/python3.11/site-packages (from nbformat) (2.21.1)\n",
      "Requirement already satisfied: jsonschema>=2.6 in /Users/ulrike_imac_air/projects/maps/maps_env/lib/python3.11/site-packages (from nbformat) (4.23.0)\n",
      "Requirement already satisfied: jupyter-core!=5.0.*,>=4.12 in /Users/ulrike_imac_air/projects/maps/maps_env/lib/python3.11/site-packages (from nbformat) (5.7.2)\n",
      "Requirement already satisfied: traitlets>=5.1 in /Users/ulrike_imac_air/projects/maps/maps_env/lib/python3.11/site-packages (from nbformat) (5.14.3)\n",
      "Requirement already satisfied: attrs>=22.2.0 in /Users/ulrike_imac_air/projects/maps/maps_env/lib/python3.11/site-packages (from jsonschema>=2.6->nbformat) (25.1.0)\n",
      "Requirement already satisfied: jsonschema-specifications>=2023.03.6 in /Users/ulrike_imac_air/projects/maps/maps_env/lib/python3.11/site-packages (from jsonschema>=2.6->nbformat) (2024.10.1)\n",
      "Requirement already satisfied: referencing>=0.28.4 in /Users/ulrike_imac_air/projects/maps/maps_env/lib/python3.11/site-packages (from jsonschema>=2.6->nbformat) (0.36.2)\n",
      "Requirement already satisfied: rpds-py>=0.7.1 in /Users/ulrike_imac_air/projects/maps/maps_env/lib/python3.11/site-packages (from jsonschema>=2.6->nbformat) (0.23.1)\n",
      "Requirement already satisfied: platformdirs>=2.5 in /Users/ulrike_imac_air/projects/maps/maps_env/lib/python3.11/site-packages (from jupyter-core!=5.0.*,>=4.12->nbformat) (4.3.6)\n",
      "Requirement already satisfied: typing-extensions>=4.4.0 in /Users/ulrike_imac_air/projects/maps/maps_env/lib/python3.11/site-packages (from referencing>=0.28.4->jsonschema>=2.6->nbformat) (4.12.2)\n",
      "Note: you may need to restart the kernel to use updated packages.\n"
     ]
    }
   ],
   "source": [
    "%pip install --upgrade nbformat"
   ]
  },
  {
   "cell_type": "code",
   "execution_count": 6,
   "metadata": {},
   "outputs": [
    {
     "ename": "TypeError",
     "evalue": "unsupported operand type(s) for /: 'str' and 'int'",
     "output_type": "error",
     "traceback": [
      "\u001b[0;31m---------------------------------------------------------------------------\u001b[0m",
      "\u001b[0;31mTypeError\u001b[0m                                 Traceback (most recent call last)",
      "Cell \u001b[0;32mIn[6], line 4\u001b[0m\n\u001b[1;32m      1\u001b[0m \u001b[38;5;66;03m# Create a Scatter Plot on the Map\u001b[39;00m\n\u001b[1;32m      2\u001b[0m \n\u001b[1;32m      3\u001b[0m \u001b[38;5;66;03m# Assuming we have columns for latitude and longitude of city locations\u001b[39;00m\n\u001b[0;32m----> 4\u001b[0m fig \u001b[38;5;241m=\u001b[39m \u001b[43mpx\u001b[49m\u001b[38;5;241;43m.\u001b[39;49m\u001b[43mscatter_geo\u001b[49m\u001b[43m(\u001b[49m\u001b[43mgdf\u001b[49m\u001b[43m,\u001b[49m\n\u001b[1;32m      5\u001b[0m \u001b[43m                     \u001b[49m\u001b[43mlat\u001b[49m\u001b[38;5;241;43m=\u001b[39;49m\u001b[38;5;124;43m'\u001b[39;49m\u001b[38;5;124;43mLatitude\u001b[39;49m\u001b[38;5;124;43m'\u001b[39;49m\u001b[43m,\u001b[49m\u001b[43m  \u001b[49m\u001b[38;5;66;43;03m# Column with latitude values\u001b[39;49;00m\n\u001b[1;32m      6\u001b[0m \u001b[43m                     \u001b[49m\u001b[43mlon\u001b[49m\u001b[38;5;241;43m=\u001b[39;49m\u001b[38;5;124;43m'\u001b[39;49m\u001b[38;5;124;43mLongitude\u001b[39;49m\u001b[38;5;124;43m'\u001b[39;49m\u001b[43m,\u001b[49m\u001b[43m  \u001b[49m\u001b[38;5;66;43;03m# Column with longitude values\u001b[39;49;00m\n\u001b[1;32m      7\u001b[0m \u001b[43m                     \u001b[49m\u001b[43mhover_name\u001b[49m\u001b[38;5;241;43m=\u001b[39;49m\u001b[38;5;124;43m'\u001b[39;49m\u001b[38;5;124;43mCounty\u001b[39;49m\u001b[38;5;124;43m'\u001b[39;49m\u001b[43m,\u001b[49m\u001b[43m  \u001b[49m\u001b[38;5;66;43;03m# Column for hover text\u001b[39;49;00m\n\u001b[1;32m      8\u001b[0m \u001b[43m                     \u001b[49m\u001b[43msize\u001b[49m\u001b[38;5;241;43m=\u001b[39;49m\u001b[38;5;124;43m'\u001b[39;49m\u001b[38;5;124;43mPop\u001b[39;49m\u001b[38;5;124;43m'\u001b[39;49m\u001b[43m,\u001b[49m\u001b[43m  \u001b[49m\u001b[38;5;66;43;03m# Column for point size (e.g., population)\u001b[39;49;00m\n\u001b[1;32m      9\u001b[0m \u001b[43m                     \u001b[49m\u001b[43mcolor\u001b[49m\u001b[38;5;241;43m=\u001b[39;49m\u001b[38;5;124;43m'\u001b[39;49m\u001b[38;5;124;43mCounty\u001b[39;49m\u001b[38;5;124;43m'\u001b[39;49m\u001b[43m,\u001b[49m\u001b[43m  \u001b[49m\u001b[38;5;66;43;03m# Column to color the points\u001b[39;49;00m\n\u001b[1;32m     10\u001b[0m \u001b[43m                     \u001b[49m\u001b[43mprojection\u001b[49m\u001b[38;5;241;43m=\u001b[39;49m\u001b[38;5;124;43m\"\u001b[39;49m\u001b[38;5;124;43mnatural earth\u001b[39;49m\u001b[38;5;124;43m\"\u001b[39;49m\u001b[43m,\u001b[49m\u001b[43m  \u001b[49m\u001b[38;5;66;43;03m# Choose the map projection\u001b[39;49;00m\n\u001b[1;32m     11\u001b[0m \u001b[43m                     \u001b[49m\u001b[43mtitle\u001b[49m\u001b[38;5;241;43m=\u001b[39;49m\u001b[38;5;124;43m\"\u001b[39;49m\u001b[38;5;124;43mCity Locations and Population\u001b[39;49m\u001b[38;5;124;43m\"\u001b[39;49m\u001b[43m)\u001b[49m\n\u001b[1;32m     13\u001b[0m \u001b[38;5;66;03m# Show the plot\u001b[39;00m\n\u001b[1;32m     14\u001b[0m fig\u001b[38;5;241m.\u001b[39mshow()\n",
      "File \u001b[0;32m~/projects/maps/maps_env/lib/python3.11/site-packages/plotly/express/_chart_types.py:1171\u001b[0m, in \u001b[0;36mscatter_geo\u001b[0;34m(data_frame, lat, lon, locations, locationmode, geojson, featureidkey, color, text, symbol, facet_row, facet_col, facet_col_wrap, facet_row_spacing, facet_col_spacing, hover_name, hover_data, custom_data, size, animation_frame, animation_group, category_orders, labels, color_discrete_sequence, color_discrete_map, color_continuous_scale, range_color, color_continuous_midpoint, symbol_sequence, symbol_map, opacity, size_max, projection, scope, center, fitbounds, basemap_visible, title, subtitle, template, width, height)\u001b[0m\n\u001b[1;32m   1123\u001b[0m \u001b[38;5;28;01mdef\u001b[39;00m\u001b[38;5;250m \u001b[39m\u001b[38;5;21mscatter_geo\u001b[39m(\n\u001b[1;32m   1124\u001b[0m     data_frame\u001b[38;5;241m=\u001b[39m\u001b[38;5;28;01mNone\u001b[39;00m,\n\u001b[1;32m   1125\u001b[0m     lat\u001b[38;5;241m=\u001b[39m\u001b[38;5;28;01mNone\u001b[39;00m,\n\u001b[0;32m   (...)\u001b[0m\n\u001b[1;32m   1165\u001b[0m     height\u001b[38;5;241m=\u001b[39m\u001b[38;5;28;01mNone\u001b[39;00m,\n\u001b[1;32m   1166\u001b[0m ) \u001b[38;5;241m-\u001b[39m\u001b[38;5;241m>\u001b[39m go\u001b[38;5;241m.\u001b[39mFigure:\n\u001b[1;32m   1167\u001b[0m \u001b[38;5;250m    \u001b[39m\u001b[38;5;124;03m\"\"\"\u001b[39;00m\n\u001b[1;32m   1168\u001b[0m \u001b[38;5;124;03m    In a geographic scatter plot, each row of `data_frame` is represented\u001b[39;00m\n\u001b[1;32m   1169\u001b[0m \u001b[38;5;124;03m    by a symbol mark on a map.\u001b[39;00m\n\u001b[1;32m   1170\u001b[0m \u001b[38;5;124;03m    \"\"\"\u001b[39;00m\n\u001b[0;32m-> 1171\u001b[0m     \u001b[38;5;28;01mreturn\u001b[39;00m \u001b[43mmake_figure\u001b[49m\u001b[43m(\u001b[49m\n\u001b[1;32m   1172\u001b[0m \u001b[43m        \u001b[49m\u001b[43margs\u001b[49m\u001b[38;5;241;43m=\u001b[39;49m\u001b[38;5;28;43mlocals\u001b[39;49m\u001b[43m(\u001b[49m\u001b[43m)\u001b[49m\u001b[43m,\u001b[49m\n\u001b[1;32m   1173\u001b[0m \u001b[43m        \u001b[49m\u001b[43mconstructor\u001b[49m\u001b[38;5;241;43m=\u001b[39;49m\u001b[43mgo\u001b[49m\u001b[38;5;241;43m.\u001b[39;49m\u001b[43mScattergeo\u001b[49m\u001b[43m,\u001b[49m\n\u001b[1;32m   1174\u001b[0m \u001b[43m        \u001b[49m\u001b[43mtrace_patch\u001b[49m\u001b[38;5;241;43m=\u001b[39;49m\u001b[38;5;28;43mdict\u001b[39;49m\u001b[43m(\u001b[49m\u001b[43mlocationmode\u001b[49m\u001b[38;5;241;43m=\u001b[39;49m\u001b[43mlocationmode\u001b[49m\u001b[43m)\u001b[49m\u001b[43m,\u001b[49m\n\u001b[1;32m   1175\u001b[0m \u001b[43m    \u001b[49m\u001b[43m)\u001b[49m\n",
      "File \u001b[0;32m~/projects/maps/maps_env/lib/python3.11/site-packages/plotly/express/_core.py:2490\u001b[0m, in \u001b[0;36mmake_figure\u001b[0;34m(args, constructor, trace_patch, layout_patch)\u001b[0m\n\u001b[1;32m   2487\u001b[0m \u001b[38;5;28;01mif\u001b[39;00m \u001b[38;5;124m\"\u001b[39m\u001b[38;5;124mhistogram\u001b[39m\u001b[38;5;124m\"\u001b[39m \u001b[38;5;129;01min\u001b[39;00m [args\u001b[38;5;241m.\u001b[39mget(\u001b[38;5;124m\"\u001b[39m\u001b[38;5;124mmarginal_x\u001b[39m\u001b[38;5;124m\"\u001b[39m), args\u001b[38;5;241m.\u001b[39mget(\u001b[38;5;124m\"\u001b[39m\u001b[38;5;124mmarginal_y\u001b[39m\u001b[38;5;124m\"\u001b[39m)]:\n\u001b[1;32m   2488\u001b[0m     layout_patch[\u001b[38;5;124m\"\u001b[39m\u001b[38;5;124mbarmode\u001b[39m\u001b[38;5;124m\"\u001b[39m] \u001b[38;5;241m=\u001b[39m \u001b[38;5;124m\"\u001b[39m\u001b[38;5;124moverlay\u001b[39m\u001b[38;5;124m\"\u001b[39m\n\u001b[0;32m-> 2490\u001b[0m trace_specs, grouped_mappings, sizeref, show_colorbar \u001b[38;5;241m=\u001b[39m \u001b[43minfer_config\u001b[49m\u001b[43m(\u001b[49m\n\u001b[1;32m   2491\u001b[0m \u001b[43m    \u001b[49m\u001b[43margs\u001b[49m\u001b[43m,\u001b[49m\u001b[43m \u001b[49m\u001b[43mconstructor\u001b[49m\u001b[43m,\u001b[49m\u001b[43m \u001b[49m\u001b[43mtrace_patch\u001b[49m\u001b[43m,\u001b[49m\u001b[43m \u001b[49m\u001b[43mlayout_patch\u001b[49m\n\u001b[1;32m   2492\u001b[0m \u001b[43m\u001b[49m\u001b[43m)\u001b[49m\n\u001b[1;32m   2493\u001b[0m grouper \u001b[38;5;241m=\u001b[39m [x\u001b[38;5;241m.\u001b[39mgrouper \u001b[38;5;129;01mor\u001b[39;00m one_group \u001b[38;5;28;01mfor\u001b[39;00m x \u001b[38;5;129;01min\u001b[39;00m grouped_mappings] \u001b[38;5;129;01mor\u001b[39;00m [one_group]\n\u001b[1;32m   2494\u001b[0m groups, orders \u001b[38;5;241m=\u001b[39m get_groups_and_orders(args, grouper)\n",
      "File \u001b[0;32m~/projects/maps/maps_env/lib/python3.11/site-packages/plotly/express/_core.py:2185\u001b[0m, in \u001b[0;36minfer_config\u001b[0;34m(args, constructor, trace_patch, layout_patch)\u001b[0m\n\u001b[1;32m   2182\u001b[0m sizeref \u001b[38;5;241m=\u001b[39m \u001b[38;5;241m0\u001b[39m\n\u001b[1;32m   2183\u001b[0m \u001b[38;5;28;01mif\u001b[39;00m \u001b[38;5;124m\"\u001b[39m\u001b[38;5;124msize\u001b[39m\u001b[38;5;124m\"\u001b[39m \u001b[38;5;129;01min\u001b[39;00m args \u001b[38;5;129;01mand\u001b[39;00m args[\u001b[38;5;124m\"\u001b[39m\u001b[38;5;124msize\u001b[39m\u001b[38;5;124m\"\u001b[39m]:\n\u001b[1;32m   2184\u001b[0m     sizeref \u001b[38;5;241m=\u001b[39m (\n\u001b[0;32m-> 2185\u001b[0m         \u001b[43mnw\u001b[49m\u001b[38;5;241;43m.\u001b[39;49m\u001b[43mto_py_scalar\u001b[49m\u001b[43m(\u001b[49m\u001b[43mdf\u001b[49m\u001b[38;5;241;43m.\u001b[39;49m\u001b[43mget_column\u001b[49m\u001b[43m(\u001b[49m\u001b[43margs\u001b[49m\u001b[43m[\u001b[49m\u001b[38;5;124;43m\"\u001b[39;49m\u001b[38;5;124;43msize\u001b[39;49m\u001b[38;5;124;43m\"\u001b[39;49m\u001b[43m]\u001b[49m\u001b[43m)\u001b[49m\u001b[38;5;241;43m.\u001b[39;49m\u001b[43mmax\u001b[49m\u001b[43m(\u001b[49m\u001b[43m)\u001b[49m\u001b[43m)\u001b[49m\u001b[43m \u001b[49m\u001b[38;5;241;43m/\u001b[39;49m\u001b[43m \u001b[49m\u001b[43margs\u001b[49m\u001b[43m[\u001b[49m\u001b[38;5;124;43m\"\u001b[39;49m\u001b[38;5;124;43msize_max\u001b[39;49m\u001b[38;5;124;43m\"\u001b[39;49m\u001b[43m]\u001b[49m\u001b[43m \u001b[49m\u001b[38;5;241;43m*\u001b[39;49m\u001b[38;5;241;43m*\u001b[39;49m\u001b[43m \u001b[49m\u001b[38;5;241;43m2\u001b[39;49m\n\u001b[1;32m   2186\u001b[0m     )\n\u001b[1;32m   2188\u001b[0m \u001b[38;5;66;03m# Compute color attributes and grouping attributes\u001b[39;00m\n\u001b[1;32m   2189\u001b[0m \u001b[38;5;28;01mif\u001b[39;00m \u001b[38;5;124m\"\u001b[39m\u001b[38;5;124mcolor\u001b[39m\u001b[38;5;124m\"\u001b[39m \u001b[38;5;129;01min\u001b[39;00m args:\n",
      "\u001b[0;31mTypeError\u001b[0m: unsupported operand type(s) for /: 'str' and 'int'"
     ]
    }
   ],
   "source": [
    "# Create a Scatter Plot on the Map\n",
    "\n",
    "# Assuming we have columns for latitude and longitude of city locations\n",
    "fig = px.scatter_geo(gdf,\n",
    "                     lat='Latitude',  # Column with latitude values\n",
    "                     lon='Longitude',  # Column with longitude values\n",
    "                     hover_name='County',  # Column for hover text\n",
    "                     size='Pop',  # Column for point size (e.g., population)\n",
    "                     color='County',  # Column to color the points\n",
    "                     projection=\"natural earth\",  # Choose the map projection\n",
    "                     title=\"City Locations and Population\")\n",
    "\n",
    "# Show the plot\n",
    "fig.show()"
   ]
  }
 ],
 "metadata": {
  "kernelspec": {
   "display_name": "maps_env",
   "language": "python",
   "name": "python3"
  },
  "language_info": {
   "codemirror_mode": {
    "name": "ipython",
    "version": 3
   },
   "file_extension": ".py",
   "mimetype": "text/x-python",
   "name": "python",
   "nbconvert_exporter": "python",
   "pygments_lexer": "ipython3",
   "version": "3.11.8"
  }
 },
 "nbformat": 4,
 "nbformat_minor": 2
}
