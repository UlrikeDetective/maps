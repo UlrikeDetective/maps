{
 "cells": [
  {
   "cell_type": "markdown",
   "metadata": {},
   "source": [
    "## Project 4: Geospatial Data Analysis with Raster Data"
   ]
  },
  {
   "cell_type": "code",
   "execution_count": null,
   "metadata": {},
   "outputs": [],
   "source": [
    "%pip install rasterio matplotlib numpy"
   ]
  },
  {
   "cell_type": "markdown",
   "metadata": {},
   "source": [
    "### Create a Sample GeoTIFF File:"
   ]
  },
  {
   "cell_type": "code",
   "execution_count": null,
   "metadata": {},
   "outputs": [],
   "source": [
    "import numpy as np\n",
    "import rasterio\n",
    "from rasterio.transform import from_origin\n",
    "\n",
    "# Define raster size\n",
    "width, height = 100, 100  # 100x100 pixels\n",
    "\n",
    "# Create synthetic raster data (e.g., a gradient)\n",
    "raster_data = np.linspace(0, 255, width * height, dtype=np.uint8).reshape((height, width))\n",
    "\n",
    "# Define spatial transformation (arbitrary values)\n",
    "transform = from_origin(0, 0, 1, 1)  # (origin_x, origin_y, pixel_size_x, pixel_size_y)\n",
    "\n",
    "# Create and save the GeoTIFF file\n",
    "with rasterio.open(\n",
    "    'sample_raster.tif', 'w',\n",
    "    driver='GTiff',\n",
    "    height=height, width=width,\n",
    "    count=1, dtype=raster_data.dtype,\n",
    "    crs='+proj=latlong',\n",
    "    transform=transform\n",
    ") as dst:\n",
    "    dst.write(raster_data, 1)\n",
    "\n",
    "print(\"Raster file 'sample_raster.tif' created successfully.\")\n"
   ]
  },
  {
   "cell_type": "code",
   "execution_count": null,
   "metadata": {},
   "outputs": [],
   "source": [
    "import rasterio\n",
    "import matplotlib.pyplot as plt\n",
    "\n",
    "# Open a raster file\n",
    "with rasterio.open('sample_raster.tif') as src:\n",
    "    # Read the raster data as a 2D array\n",
    "    raster_data = src.read(1)  # Reading the first band\n",
    "    \n",
    "    # Plot the raster data\n",
    "    plt.imshow(raster_data, cmap='viridis')\n",
    "    plt.colorbar()\n",
    "    plt.title('Raster Data Visualization')\n",
    "    plt.show()"
   ]
  },
  {
   "cell_type": "code",
   "execution_count": null,
   "metadata": {},
   "outputs": [],
   "source": [
    "import numpy as np\n",
    "\n",
    "# Perform basic analysis: Calculate the mean value of the raster\n",
    "mean_value = np.mean(raster_data)\n",
    "print(f\"Mean value of the raster: {mean_value}\")\n",
    "\n",
    "# Apply a simple threshold: e.g., identify areas above a certain elevation (1000 meters)\n",
    "threshold = 100\n",
    "raster_data_binary = raster_data > threshold\n",
    "\n",
    "# Plot the thresholded result\n",
    "plt.imshow(raster_data_binary, cmap='binary')\n",
    "plt.title(f\"Areas above {threshold} meters\")\n",
    "plt.show()"
   ]
  },
  {
   "cell_type": "code",
   "execution_count": null,
   "metadata": {},
   "outputs": [],
   "source": [
    "import numpy as np\n",
    "import rasterio\n",
    "from rasterio.plot import show\n",
    "\n",
    "# Open the raster file\n",
    "with rasterio.open('path/to/your/raster.tif') as src:\n",
    "    # Read the data\n",
    "    raster_data = src.read(1)\n",
    "    \n",
    "    # Convert the data type to accommodate the fill value\n",
    "    raster_data = raster_data.astype(np.float32)\n",
    "    \n",
    "    # Mask areas with no data (commonly represented by NaN or a specific value)\n",
    "    raster_data_masked = np.ma.masked_equal(raster_data, -9999)  # Assuming -9999 is no data\n",
    "    \n",
    "    # Calculate basic statistics (mean, min, max) for valid (non-masked) values\n",
    "    mean_masked = raster_data_masked.mean()\n",
    "    min_masked = raster_data_masked.min()\n",
    "    max_masked = raster_data_masked.max()\n",
    "    \n",
    "    print(f\"Masked Data - Mean: {mean_masked}, Min: {min_masked}, Max: {max_masked}\")\n",
    "    \n",
    "    # Plot the data\n",
    "    show(raster_data_masked, cmap='viridis')"
   ]
  }
 ],
 "metadata": {
  "language_info": {
   "name": "python"
  }
 },
 "nbformat": 4,
 "nbformat_minor": 2
}
