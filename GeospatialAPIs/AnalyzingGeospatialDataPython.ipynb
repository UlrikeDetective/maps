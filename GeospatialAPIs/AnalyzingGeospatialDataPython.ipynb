{
 "cells": [
  {
   "cell_type": "code",
   "execution_count": 6,
   "metadata": {},
   "outputs": [
    {
     "name": "stdout",
     "output_type": "stream",
     "text": [
      "Collecting fiona\n",
      "  Using cached fiona-1.10.1-cp311-cp311-macosx_11_0_arm64.whl.metadata (56 kB)\n",
      "Collecting attrs>=19.2.0 (from fiona)\n",
      "  Using cached attrs-25.1.0-py3-none-any.whl.metadata (10 kB)\n",
      "Requirement already satisfied: certifi in /Users/ulrike_imac_air/projects/maps/maps_env/lib/python3.11/site-packages (from fiona) (2024.12.14)\n",
      "Collecting click~=8.0 (from fiona)\n",
      "  Using cached click-8.1.8-py3-none-any.whl.metadata (2.3 kB)\n",
      "Collecting click-plugins>=1.0 (from fiona)\n",
      "  Using cached click_plugins-1.1.1-py2.py3-none-any.whl.metadata (6.4 kB)\n",
      "Collecting cligj>=0.5 (from fiona)\n",
      "  Using cached cligj-0.7.2-py3-none-any.whl.metadata (5.0 kB)\n",
      "Downloading fiona-1.10.1-cp311-cp311-macosx_11_0_arm64.whl (14.8 MB)\n",
      "\u001b[2K   \u001b[90m━━━━━━━━━━━━━━━━━━━━━━━━━━━━━━━━━━━━━━━━\u001b[0m \u001b[32m14.8/14.8 MB\u001b[0m \u001b[31m135.5 kB/s\u001b[0m eta \u001b[36m0:00:00\u001b[0m00:01\u001b[0m00:05\u001b[0m\n",
      "\u001b[?25hDownloading attrs-25.1.0-py3-none-any.whl (63 kB)\n",
      "Downloading click-8.1.8-py3-none-any.whl (98 kB)\n",
      "Downloading click_plugins-1.1.1-py2.py3-none-any.whl (7.5 kB)\n",
      "Downloading cligj-0.7.2-py3-none-any.whl (7.1 kB)\n",
      "Installing collected packages: click, attrs, cligj, click-plugins, fiona\n",
      "Successfully installed attrs-25.1.0 click-8.1.8 click-plugins-1.1.1 cligj-0.7.2 fiona-1.10.1\n",
      "Note: you may need to restart the kernel to use updated packages.\n"
     ]
    }
   ],
   "source": [
    "%pip install fiona"
   ]
  },
  {
   "cell_type": "code",
   "execution_count": null,
   "metadata": {},
   "outputs": [
    {
     "name": "stdout",
     "output_type": "stream",
     "text": [
      "                                            geometry\n",
      "0  POLYGON ((-123.02146 38.81852, -123.02158 38.8...\n",
      "1  POLYGON ((-122.69068 38.31983, -122.6918 38.32...\n",
      "2  MULTIPOLYGON (((-122.90154 38.65693, -122.9016...\n",
      "3  MULTIPOLYGON (((-122.57571 38.29709, -122.5754...\n",
      "4  POLYGON ((-122.69068 38.31983, -122.68842 38.3...\n"
     ]
    },
    {
     "name": "stderr",
     "output_type": "stream",
     "text": [
      "/Users/ulrike_imac_air/projects/maps/maps_env/lib/python3.11/site-packages/pyogrio/raw.py:198: RuntimeWarning: sfBay.shp contains polygon(s) with rings with invalid winding order. Autocorrecting them, but that shapefile should be corrected using ogr2ogr for example.\n",
      "  return ogr_read(\n"
     ]
    }
   ],
   "source": [
    "import os\n",
    "import fiona\n",
    "import geopandas as gpd\n",
    "\n",
    "# Set SHAPE_RESTORE_SHX config option\n",
    "os.environ['SHAPE_RESTORE_SHX'] = 'YES'\n",
    "\n",
    "# Path to the shapefile\n",
    "shapefile_path = 'sfBay.shp'\n",
    "\n",
    "# Load the shapefile\n",
    "gdf = gpd.read_file(shapefile_path)\n",
    "print(gdf.head())"
   ]
  },
  {
   "cell_type": "markdown",
   "metadata": {},
   "source": [
    "### Basic Spatial Analysis"
   ]
  },
  {
   "cell_type": "code",
   "execution_count": null,
   "metadata": {},
   "outputs": [],
   "source": [
    "import matplotlib.pyplot as plt\n",
    "\n",
    "# Plot the geospatial data\n",
    "gdf.plot()\n",
    "plt.title('Geospatial Data')\n",
    "plt.show()\n",
    "\n",
    "# Calculate the area of each polygon\n",
    "gdf['area'] = gdf['geometry'].area\n",
    "print(gdf[['geometry', 'area']].head())\n",
    "\n",
    "# Calculate the centroid of each polygon\n",
    "gdf['centroid'] = gdf['geometry'].centroid\n",
    "print(gdf[['geometry', 'centroid']].head())\n",
    "\n",
    "# Buffer each polygon by 0.01 degrees\n",
    "gdf['buffered'] = gdf['geometry'].buffer(0.01)\n",
    "print(gdf[['geometry', 'buffered']].head())"
   ]
  },
  {
   "cell_type": "code",
   "execution_count": 8,
   "metadata": {},
   "outputs": [
    {
     "name": "stdout",
     "output_type": "stream",
     "text": [
      "Requirement already satisfied: geopandas in /Users/ulrike_imac_air/projects/maps/maps_env/lib/python3.11/site-packages (1.0.1)\n",
      "Requirement already satisfied: shapely in /Users/ulrike_imac_air/projects/maps/maps_env/lib/python3.11/site-packages (2.0.6)\n",
      "Requirement already satisfied: numpy>=1.22 in /Users/ulrike_imac_air/projects/maps/maps_env/lib/python3.11/site-packages (from geopandas) (2.2.2)\n",
      "Requirement already satisfied: pyogrio>=0.7.2 in /Users/ulrike_imac_air/projects/maps/maps_env/lib/python3.11/site-packages (from geopandas) (0.10.0)\n",
      "Requirement already satisfied: packaging in /Users/ulrike_imac_air/projects/maps/maps_env/lib/python3.11/site-packages (from geopandas) (24.2)\n",
      "Requirement already satisfied: pandas>=1.4.0 in /Users/ulrike_imac_air/projects/maps/maps_env/lib/python3.11/site-packages (from geopandas) (2.2.3)\n",
      "Requirement already satisfied: pyproj>=3.3.0 in /Users/ulrike_imac_air/projects/maps/maps_env/lib/python3.11/site-packages (from geopandas) (3.7.0)\n",
      "Requirement already satisfied: python-dateutil>=2.8.2 in /Users/ulrike_imac_air/projects/maps/maps_env/lib/python3.11/site-packages (from pandas>=1.4.0->geopandas) (2.9.0.post0)\n",
      "Requirement already satisfied: pytz>=2020.1 in /Users/ulrike_imac_air/projects/maps/maps_env/lib/python3.11/site-packages (from pandas>=1.4.0->geopandas) (2024.2)\n",
      "Requirement already satisfied: tzdata>=2022.7 in /Users/ulrike_imac_air/projects/maps/maps_env/lib/python3.11/site-packages (from pandas>=1.4.0->geopandas) (2025.1)\n",
      "Requirement already satisfied: certifi in /Users/ulrike_imac_air/projects/maps/maps_env/lib/python3.11/site-packages (from pyogrio>=0.7.2->geopandas) (2024.12.14)\n",
      "Requirement already satisfied: six>=1.5 in /Users/ulrike_imac_air/projects/maps/maps_env/lib/python3.11/site-packages (from python-dateutil>=2.8.2->pandas>=1.4.0->geopandas) (1.17.0)\n",
      "Note: you may need to restart the kernel to use updated packages.\n"
     ]
    }
   ],
   "source": [
    "%pip install geopandas shapely\n"
   ]
  },
  {
   "cell_type": "code",
   "execution_count": 9,
   "metadata": {},
   "outputs": [
    {
     "name": "stdout",
     "output_type": "stream",
     "text": [
      "Shapefile created successfully!\n"
     ]
    }
   ],
   "source": [
    "import geopandas as gpd\n",
    "from shapely.geometry import Point\n",
    "\n",
    "# Define locations of interest in San Francisco\n",
    "data = {\n",
    "    \"name\": [\n",
    "        \"Golden Gate Bridge\", \"Alcatraz Island\", \"Fisherman's Wharf\", \"Union Square\", \"Chinatown\",\n",
    "        \"Baker Beach\", \"Castro District\", \"Hidden Garden Steps\", \"Twin Peaks\", \"Clarion Alley\",\n",
    "        \"Mission Dolores Park\", \"Nob Hill\", \"Lombard Street\", \"Transamerica Pyramid\", \"Salesforce Tower\"\n",
    "    ],\n",
    "    \"latitude\": [\n",
    "        37.8199, 37.8267, 37.8080, 37.7879, 37.7941,\n",
    "        37.7936, 37.7609, 37.7563, 37.7544, 37.7616,\n",
    "        37.7596, 37.7930, 37.8021, 37.7952, 37.7897\n",
    "    ],\n",
    "    \"longitude\": [\n",
    "        -122.4783, -122.4230, -122.4177, -122.4074, -122.4078,\n",
    "        -122.4835, -122.4350, -122.4661, -122.4477, -122.4216,\n",
    "        -122.4270, -122.4160, -122.4187, -122.4022, -122.3960\n",
    "    ]\n",
    "}\n",
    "\n",
    "# Create a GeoDataFrame\n",
    "geometry = [Point(xy) for xy in zip(data[\"longitude\"], data[\"latitude\"])]\n",
    "gdf = gpd.GeoDataFrame(data, geometry=geometry, crs=\"EPSG:4326\")  # WGS 84 projection\n",
    "\n",
    "# Save as a shapefile\n",
    "gdf.to_file(\"san_francisco_locations.shp\", driver=\"ESRI Shapefile\")\n",
    "\n",
    "print(\"Shapefile created successfully!\")\n"
   ]
  },
  {
   "cell_type": "markdown",
   "metadata": {},
   "source": [
    "#### Spatial Join Example"
   ]
  },
  {
   "cell_type": "code",
   "execution_count": 12,
   "metadata": {},
   "outputs": [
    {
     "name": "stdout",
     "output_type": "stream",
     "text": [
      "                    name  latitude  longitude                   geometry  \\\n",
      "0     Golden Gate Bridge   37.8199  -122.4783  POINT (-122.4783 37.8199)   \n",
      "1        Alcatraz Island   37.8267  -122.4230   POINT (-122.423 37.8267)   \n",
      "2      Fisherman's Wharf   37.8080  -122.4177   POINT (-122.4177 37.808)   \n",
      "3           Union Square   37.7879  -122.4074  POINT (-122.4074 37.7879)   \n",
      "4              Chinatown   37.7941  -122.4078  POINT (-122.4078 37.7941)   \n",
      "5            Baker Beach   37.7936  -122.4835  POINT (-122.4835 37.7936)   \n",
      "6        Castro District   37.7609  -122.4350   POINT (-122.435 37.7609)   \n",
      "7    Hidden Garden Steps   37.7563  -122.4661  POINT (-122.4661 37.7563)   \n",
      "8             Twin Peaks   37.7544  -122.4477  POINT (-122.4477 37.7544)   \n",
      "9          Clarion Alley   37.7616  -122.4216  POINT (-122.4216 37.7616)   \n",
      "10  Mission Dolores Park   37.7596  -122.4270   POINT (-122.427 37.7596)   \n",
      "11              Nob Hill   37.7930  -122.4160    POINT (-122.416 37.793)   \n",
      "12        Lombard Street   37.8021  -122.4187  POINT (-122.4187 37.8021)   \n",
      "13  Transamerica Pyramid   37.7952  -122.4022  POINT (-122.4022 37.7952)   \n",
      "14      Salesforce Tower   37.7897  -122.3960   POINT (-122.396 37.7897)   \n",
      "\n",
      "    index_right  \n",
      "0             9  \n",
      "1             9  \n",
      "2             9  \n",
      "3             9  \n",
      "4             9  \n",
      "5             9  \n",
      "6             9  \n",
      "7             9  \n",
      "8             9  \n",
      "9             9  \n",
      "10            9  \n",
      "11            9  \n",
      "12            9  \n",
      "13            9  \n",
      "14            9  \n"
     ]
    },
    {
     "name": "stderr",
     "output_type": "stream",
     "text": [
      "/Users/ulrike_imac_air/projects/maps/maps_env/lib/python3.11/site-packages/pyogrio/raw.py:198: RuntimeWarning: sfBay.shp contains polygon(s) with rings with invalid winding order. Autocorrecting them, but that shapefile should be corrected using ogr2ogr for example.\n",
      "  return ogr_read(\n",
      "/var/folders/1_/6h4xg3ts1cd8htbp9t8wjyh40000gn/T/ipykernel_29685/107034905.py:10: UserWarning: CRS mismatch between the CRS of left geometries and the CRS of right geometries.\n",
      "Use `to_crs()` to reproject one of the input geometries to match the CRS of the other.\n",
      "\n",
      "Left CRS: EPSG:4326\n",
      "Right CRS: None\n",
      "\n",
      "  joined = gpd.sjoin(points, polygons, how=\"inner\", predicate=\"within\")\n"
     ]
    }
   ],
   "source": [
    "import geopandas as gpd\n",
    "\n",
    "# Load the points shapefile (locations of interest)\n",
    "points = gpd.read_file(\"san_francisco_locations.shp\")\n",
    "\n",
    "# Load the polygons shapefile (assuming this represents different city districts or areas)\n",
    "polygons = gpd.read_file(\"sfBay.shp\")  # Replace with actual polygon file\n",
    "\n",
    "# Perform a spatial join to find which points fall within polygons\n",
    "joined = gpd.sjoin(points, polygons, how=\"inner\", predicate=\"within\")\n",
    "\n",
    "# Display the result\n",
    "print(joined)\n"
   ]
  }
 ],
 "metadata": {
  "language_info": {
   "name": "python"
  }
 },
 "nbformat": 4,
 "nbformat_minor": 2
}
