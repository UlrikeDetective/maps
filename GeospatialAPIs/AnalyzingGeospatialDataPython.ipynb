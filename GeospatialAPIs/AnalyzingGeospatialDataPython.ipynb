{
 "cells": [
  {
   "cell_type": "code",
   "execution_count": 6,
   "metadata": {},
   "outputs": [
    {
     "name": "stdout",
     "output_type": "stream",
     "text": [
      "Collecting fiona\n",
      "  Using cached fiona-1.10.1-cp311-cp311-macosx_11_0_arm64.whl.metadata (56 kB)\n",
      "Collecting attrs>=19.2.0 (from fiona)\n",
      "  Using cached attrs-25.1.0-py3-none-any.whl.metadata (10 kB)\n",
      "Requirement already satisfied: certifi in /Users/ulrike_imac_air/projects/maps/maps_env/lib/python3.11/site-packages (from fiona) (2024.12.14)\n",
      "Collecting click~=8.0 (from fiona)\n",
      "  Using cached click-8.1.8-py3-none-any.whl.metadata (2.3 kB)\n",
      "Collecting click-plugins>=1.0 (from fiona)\n",
      "  Using cached click_plugins-1.1.1-py2.py3-none-any.whl.metadata (6.4 kB)\n",
      "Collecting cligj>=0.5 (from fiona)\n",
      "  Using cached cligj-0.7.2-py3-none-any.whl.metadata (5.0 kB)\n",
      "Downloading fiona-1.10.1-cp311-cp311-macosx_11_0_arm64.whl (14.8 MB)\n",
      "\u001b[2K   \u001b[90m━━━━━━━━━━━━━━━━━━━━━━━━━━━━━━━━━━━━━━━━\u001b[0m \u001b[32m14.8/14.8 MB\u001b[0m \u001b[31m135.5 kB/s\u001b[0m eta \u001b[36m0:00:00\u001b[0m00:01\u001b[0m00:05\u001b[0m\n",
      "\u001b[?25hDownloading attrs-25.1.0-py3-none-any.whl (63 kB)\n",
      "Downloading click-8.1.8-py3-none-any.whl (98 kB)\n",
      "Downloading click_plugins-1.1.1-py2.py3-none-any.whl (7.5 kB)\n",
      "Downloading cligj-0.7.2-py3-none-any.whl (7.1 kB)\n",
      "Installing collected packages: click, attrs, cligj, click-plugins, fiona\n",
      "Successfully installed attrs-25.1.0 click-8.1.8 click-plugins-1.1.1 cligj-0.7.2 fiona-1.10.1\n",
      "Note: you may need to restart the kernel to use updated packages.\n"
     ]
    }
   ],
   "source": [
    "%pip install fiona"
   ]
  },
  {
   "cell_type": "code",
   "execution_count": null,
   "metadata": {},
   "outputs": [
    {
     "name": "stdout",
     "output_type": "stream",
     "text": [
      "                                            geometry\n",
      "0  POLYGON ((-123.02146 38.81852, -123.02158 38.8...\n",
      "1  POLYGON ((-122.69068 38.31983, -122.6918 38.32...\n",
      "2  MULTIPOLYGON (((-122.90154 38.65693, -122.9016...\n",
      "3  MULTIPOLYGON (((-122.57571 38.29709, -122.5754...\n",
      "4  POLYGON ((-122.69068 38.31983, -122.68842 38.3...\n"
     ]
    },
    {
     "name": "stderr",
     "output_type": "stream",
     "text": [
      "/Users/ulrike_imac_air/projects/maps/maps_env/lib/python3.11/site-packages/pyogrio/raw.py:198: RuntimeWarning: sfBay.shp contains polygon(s) with rings with invalid winding order. Autocorrecting them, but that shapefile should be corrected using ogr2ogr for example.\n",
      "  return ogr_read(\n"
     ]
    }
   ],
   "source": [
    "import os\n",
    "import fiona\n",
    "import geopandas as gpd\n",
    "\n",
    "# Set SHAPE_RESTORE_SHX config option\n",
    "os.environ['SHAPE_RESTORE_SHX'] = 'YES'\n",
    "\n",
    "# Path to the shapefile\n",
    "shapefile_path = 'sfBay.shp'\n",
    "\n",
    "# Load the shapefile\n",
    "gdf = gpd.read_file(shapefile_path)\n",
    "print(gdf.head())"
   ]
  },
  {
   "cell_type": "markdown",
   "metadata": {},
   "source": [
    "### Basic Spatial Analysis"
   ]
  },
  {
   "cell_type": "code",
   "execution_count": null,
   "metadata": {},
   "outputs": [],
   "source": [
    "import matplotlib.pyplot as plt\n",
    "\n",
    "# Plot the geospatial data\n",
    "gdf.plot()\n",
    "plt.title('Geospatial Data')\n",
    "plt.show()\n",
    "\n",
    "# Calculate the area of each polygon\n",
    "gdf['area'] = gdf['geometry'].area\n",
    "print(gdf[['geometry', 'area']].head())\n",
    "\n",
    "# Calculate the centroid of each polygon\n",
    "gdf['centroid'] = gdf['geometry'].centroid\n",
    "print(gdf[['geometry', 'centroid']].head())\n",
    "\n",
    "# Buffer each polygon by 0.01 degrees\n",
    "gdf['buffered'] = gdf['geometry'].buffer(0.01)\n",
    "print(gdf[['geometry', 'buffered']].head())"
   ]
  },
  {
   "cell_type": "code",
   "execution_count": 8,
   "metadata": {},
   "outputs": [
    {
     "name": "stdout",
     "output_type": "stream",
     "text": [
      "Requirement already satisfied: geopandas in /Users/ulrike_imac_air/projects/maps/maps_env/lib/python3.11/site-packages (1.0.1)\n",
      "Requirement already satisfied: shapely in /Users/ulrike_imac_air/projects/maps/maps_env/lib/python3.11/site-packages (2.0.6)\n",
      "Requirement already satisfied: numpy>=1.22 in /Users/ulrike_imac_air/projects/maps/maps_env/lib/python3.11/site-packages (from geopandas) (2.2.2)\n",
      "Requirement already satisfied: pyogrio>=0.7.2 in /Users/ulrike_imac_air/projects/maps/maps_env/lib/python3.11/site-packages (from geopandas) (0.10.0)\n",
      "Requirement already satisfied: packaging in /Users/ulrike_imac_air/projects/maps/maps_env/lib/python3.11/site-packages (from geopandas) (24.2)\n",
      "Requirement already satisfied: pandas>=1.4.0 in /Users/ulrike_imac_air/projects/maps/maps_env/lib/python3.11/site-packages (from geopandas) (2.2.3)\n",
      "Requirement already satisfied: pyproj>=3.3.0 in /Users/ulrike_imac_air/projects/maps/maps_env/lib/python3.11/site-packages (from geopandas) (3.7.0)\n",
      "Requirement already satisfied: python-dateutil>=2.8.2 in /Users/ulrike_imac_air/projects/maps/maps_env/lib/python3.11/site-packages (from pandas>=1.4.0->geopandas) (2.9.0.post0)\n",
      "Requirement already satisfied: pytz>=2020.1 in /Users/ulrike_imac_air/projects/maps/maps_env/lib/python3.11/site-packages (from pandas>=1.4.0->geopandas) (2024.2)\n",
      "Requirement already satisfied: tzdata>=2022.7 in /Users/ulrike_imac_air/projects/maps/maps_env/lib/python3.11/site-packages (from pandas>=1.4.0->geopandas) (2025.1)\n",
      "Requirement already satisfied: certifi in /Users/ulrike_imac_air/projects/maps/maps_env/lib/python3.11/site-packages (from pyogrio>=0.7.2->geopandas) (2024.12.14)\n",
      "Requirement already satisfied: six>=1.5 in /Users/ulrike_imac_air/projects/maps/maps_env/lib/python3.11/site-packages (from python-dateutil>=2.8.2->pandas>=1.4.0->geopandas) (1.17.0)\n",
      "Note: you may need to restart the kernel to use updated packages.\n"
     ]
    }
   ],
   "source": [
    "%pip install geopandas shapely\n"
   ]
  },
  {
   "cell_type": "code",
   "execution_count": 9,
   "metadata": {},
   "outputs": [
    {
     "name": "stdout",
     "output_type": "stream",
     "text": [
      "Shapefile created successfully!\n"
     ]
    }
   ],
   "source": [
    "import geopandas as gpd\n",
    "from shapely.geometry import Point\n",
    "\n",
    "# Define locations of interest in San Francisco\n",
    "data = {\n",
    "    \"name\": [\n",
    "        \"Golden Gate Bridge\", \"Alcatraz Island\", \"Fisherman's Wharf\", \"Union Square\", \"Chinatown\",\n",
    "        \"Baker Beach\", \"Castro District\", \"Hidden Garden Steps\", \"Twin Peaks\", \"Clarion Alley\",\n",
    "        \"Mission Dolores Park\", \"Nob Hill\", \"Lombard Street\", \"Transamerica Pyramid\", \"Salesforce Tower\"\n",
    "    ],\n",
    "    \"latitude\": [\n",
    "        37.8199, 37.8267, 37.8080, 37.7879, 37.7941,\n",
    "        37.7936, 37.7609, 37.7563, 37.7544, 37.7616,\n",
    "        37.7596, 37.7930, 37.8021, 37.7952, 37.7897\n",
    "    ],\n",
    "    \"longitude\": [\n",
    "        -122.4783, -122.4230, -122.4177, -122.4074, -122.4078,\n",
    "        -122.4835, -122.4350, -122.4661, -122.4477, -122.4216,\n",
    "        -122.4270, -122.4160, -122.4187, -122.4022, -122.3960\n",
    "    ]\n",
    "}\n",
    "\n",
    "# Create a GeoDataFrame\n",
    "geometry = [Point(xy) for xy in zip(data[\"longitude\"], data[\"latitude\"])]\n",
    "gdf = gpd.GeoDataFrame(data, geometry=geometry, crs=\"EPSG:4326\")  # WGS 84 projection\n",
    "\n",
    "# Save as a shapefile\n",
    "gdf.to_file(\"san_francisco_locations.shp\", driver=\"ESRI Shapefile\")\n",
    "\n",
    "print(\"Shapefile created successfully!\")\n"
   ]
  },
  {
   "cell_type": "markdown",
   "metadata": {},
   "source": [
    "#### Spatial Join Example"
   ]
  },
  {
   "cell_type": "code",
   "execution_count": 10,
   "metadata": {},
   "outputs": [
    {
     "ename": "TypeError",
     "evalue": "sjoin() got an unexpected keyword argument 'op'",
     "output_type": "error",
     "traceback": [
      "\u001b[0;31m---------------------------------------------------------------------------\u001b[0m",
      "\u001b[0;31mTypeError\u001b[0m                                 Traceback (most recent call last)",
      "Cell \u001b[0;32mIn[10], line 5\u001b[0m\n\u001b[1;32m      2\u001b[0m points \u001b[38;5;241m=\u001b[39m gpd\u001b[38;5;241m.\u001b[39mread_file(\u001b[38;5;124m\"\u001b[39m\u001b[38;5;124msan_francisco_locations.shp\u001b[39m\u001b[38;5;124m\"\u001b[39m)\n\u001b[1;32m      4\u001b[0m \u001b[38;5;66;03m# Perform a spatial join to find which points fall within polygons\u001b[39;00m\n\u001b[0;32m----> 5\u001b[0m joined \u001b[38;5;241m=\u001b[39m \u001b[43mgpd\u001b[49m\u001b[38;5;241;43m.\u001b[39;49m\u001b[43msjoin\u001b[49m\u001b[43m(\u001b[49m\u001b[43mpoints\u001b[49m\u001b[43m,\u001b[49m\u001b[43m \u001b[49m\u001b[43mgdf\u001b[49m\u001b[43m,\u001b[49m\u001b[43m \u001b[49m\u001b[43mhow\u001b[49m\u001b[38;5;241;43m=\u001b[39;49m\u001b[38;5;124;43m\"\u001b[39;49m\u001b[38;5;124;43minner\u001b[39;49m\u001b[38;5;124;43m\"\u001b[39;49m\u001b[43m,\u001b[49m\u001b[43m \u001b[49m\u001b[43mop\u001b[49m\u001b[38;5;241;43m=\u001b[39;49m\u001b[38;5;124;43m'\u001b[39;49m\u001b[38;5;124;43mwithin\u001b[39;49m\u001b[38;5;124;43m'\u001b[39;49m\u001b[43m)\u001b[49m\n\u001b[1;32m      7\u001b[0m \u001b[38;5;66;03m# Display the result\u001b[39;00m\n\u001b[1;32m      8\u001b[0m \u001b[38;5;28mprint\u001b[39m(joined)\n",
      "File \u001b[0;32m~/projects/maps/maps_env/lib/python3.11/site-packages/geopandas/tools/sjoin.py:110\u001b[0m, in \u001b[0;36msjoin\u001b[0;34m(left_df, right_df, how, predicate, lsuffix, rsuffix, distance, on_attribute, **kwargs)\u001b[0m\n\u001b[1;32m    108\u001b[0m \u001b[38;5;28;01mif\u001b[39;00m kwargs:\n\u001b[1;32m    109\u001b[0m     first \u001b[38;5;241m=\u001b[39m \u001b[38;5;28mnext\u001b[39m(\u001b[38;5;28miter\u001b[39m(kwargs\u001b[38;5;241m.\u001b[39mkeys()))\n\u001b[0;32m--> 110\u001b[0m     \u001b[38;5;28;01mraise\u001b[39;00m \u001b[38;5;167;01mTypeError\u001b[39;00m(\u001b[38;5;124mf\u001b[39m\u001b[38;5;124m\"\u001b[39m\u001b[38;5;124msjoin() got an unexpected keyword argument \u001b[39m\u001b[38;5;124m'\u001b[39m\u001b[38;5;132;01m{\u001b[39;00mfirst\u001b[38;5;132;01m}\u001b[39;00m\u001b[38;5;124m'\u001b[39m\u001b[38;5;124m\"\u001b[39m)\n\u001b[1;32m    112\u001b[0m on_attribute \u001b[38;5;241m=\u001b[39m _maybe_make_list(on_attribute)\n\u001b[1;32m    114\u001b[0m _basic_checks(left_df, right_df, how, lsuffix, rsuffix, on_attribute\u001b[38;5;241m=\u001b[39mon_attribute),\n",
      "\u001b[0;31mTypeError\u001b[0m: sjoin() got an unexpected keyword argument 'op'"
     ]
    }
   ],
   "source": [
    "# Load another shapefile (e.g., points representing locations of interest)\n",
    "points = gpd.read_file(\"san_francisco_locations.shp\")\n",
    "\n",
    "# Perform a spatial join to find which points fall within polygons\n",
    "joined = gpd.sjoin(points, gdf, how=\"inner\", op='within')\n",
    "\n",
    "# Display the result\n",
    "print(joined)"
   ]
  }
 ],
 "metadata": {
  "language_info": {
   "name": "python"
  }
 },
 "nbformat": 4,
 "nbformat_minor": 2
}
