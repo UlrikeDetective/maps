{
 "cells": [
  {
   "cell_type": "markdown",
   "metadata": {},
   "source": [
    "# Taking Geospatial Data Analytics to the Next Level with Panel, DuckDB and MapLibre\n",
    "\n",
    "### Introduction\n",
    "In this blog post, we will explore how to prepare and query data using DuckDB. Next, we will create a custom component from scratch with Python Panel and integrate it with MapLibreGL JS. Finally, we will demonstrate how to dynamically update map data based on the zoom level, step by step.\n",
    "\n",
    "### Data Analysis\n",
    "We will use DuckDB to explore the POI (Point of Interest) data shared by Foursquare as open data. We will query and retrieve data for Turkey and generate H3 indices for this data using the DuckDB H3 extension.\n",
    "\n",
    "### Project Setup\n",
    "\n",
    "We will create the project structure using Python Uv. We will also install all the required packages to set up the working environment. We install the Uv package manager using the following code:\n",
    "\n",
    "curl -LsSf https://astral.sh/uv/install.sh | sh\n",
    "\n",
    "We create the project using the following code:\n",
    "\n",
    "uv init open-poi\n",
    "cd open-poi\n",
    "\n",
    "To set up the virtual environment, we use the following command:\n",
    "\n",
    "uv venv --python 3.11\n",
    "\n",
    "We install the required packages for our project using the following commands:\n",
    "\n",
    "uv add \"duckdb>=1.1.3\" \"panel>=1.5.5\"\n",
    "\n",
    "To include Jupyter Notebook in our development environment, we install it using the following command:\n",
    "\n",
    "uv add jupyterlab --dev\n",
    "\n",
    "We create a notebook directory in our project folder and add a notebook file named “poi-data.ipynb” inside it. To install the spatial and H3 extensions for DuckDB:\n",
    "\n",
    "\n"
   ]
  },
  {
   "cell_type": "code",
   "execution_count": 1,
   "metadata": {},
   "outputs": [],
   "source": [
    "import duckdb\n",
    "import os\n",
    "\n",
    "\n",
    "db_dir = '/Users/ulrike_imac_air/projects/maps/GeospatialDataAnalysisUsingDuckDB/open-poi/data'\n",
    "db_path = os.path.join(db_dir, 'poi.duckdb')\n",
    "db = duckdb.connect(db_path, read_only=False)\n",
    "db.sql(\"\"\"\n",
    "INSTALL spatial;\n",
    "INSTALL h3 FROM community;\n",
    "LOAD h3;\n",
    "LOAD spatial;\n",
    "\"\"\")"
   ]
  },
  {
   "cell_type": "markdown",
   "metadata": {},
   "source": [
    "To load the data shared by Foursquare into DuckDB, use the following SQL queries. These create two separate tables: categories for all categories and places for data filtered to only include locations in Turkey (country = ‘TR’):"
   ]
  },
  {
   "cell_type": "code",
   "execution_count": 2,
   "metadata": {},
   "outputs": [],
   "source": [
    "db.sql(\"\"\"\n",
    "DROP TABLE IF EXISTS categories;\n",
    "\"\"\")\n",
    "\n",
    "db.sql(\"\"\"\n",
    "CREATE TABLE categories AS  \n",
    "  SELECT * \n",
    "  FROM read_parquet('s3://fsq-os-places-us-east-1/release/dt=2025-01-10/categories/parquet/*.zstd.parquet');\n",
    "\"\"\")"
   ]
  },
  {
   "cell_type": "code",
   "execution_count": 3,
   "metadata": {},
   "outputs": [],
   "source": [
    "db.sql(\"\"\"\n",
    "DROP TABLE IF EXISTS places;\n",
    "\"\"\")\n",
    "\n",
    "db.sql(\"\"\"\n",
    "CREATE TABLE places AS  \n",
    "  SELECT * \n",
    "  FROM read_parquet('s3://fsq-os-places-us-east-1/release/dt=2025-01-10/places/parquet/*.zstd.parquet')\n",
    "  WHERE country = 'LU';\n",
    "\"\"\")"
   ]
  },
  {
   "cell_type": "markdown",
   "metadata": {},
   "source": [
    "To convert the geom column to a geometry type, you can use the following SQL query. This uses the ST_GeomFromWKB function in DuckDB to transform the data in the geom column from WKB (Well-Known Binary) format to geometry type:"
   ]
  },
  {
   "cell_type": "code",
   "execution_count": 4,
   "metadata": {},
   "outputs": [
    {
     "ename": "BinderException",
     "evalue": "Binder Error: No function matches the given name and argument types 'ST_GeomFromWKB(GEOMETRY)'. You might need to add explicit type casts.\n\tCandidate functions:\n\tST_GeomFromWKB(WKB_BLOB) -> GEOMETRY\n\tST_GeomFromWKB(BLOB) -> GEOMETRY\n\nLINE 4: SET DATA TYPE GEOMETRY USING ST_GeomFromWKB(geom);\n                                     ^",
     "output_type": "error",
     "traceback": [
      "\u001b[0;31m---------------------------------------------------------------------------\u001b[0m",
      "\u001b[0;31mBinderException\u001b[0m                           Traceback (most recent call last)",
      "Cell \u001b[0;32mIn[4], line 1\u001b[0m\n\u001b[0;32m----> 1\u001b[0m \u001b[43mdb\u001b[49m\u001b[38;5;241;43m.\u001b[39;49m\u001b[43msql\u001b[49m\u001b[43m(\u001b[49m\u001b[38;5;124;43m\"\"\"\u001b[39;49m\n\u001b[1;32m      2\u001b[0m \u001b[38;5;124;43mALTER TABLE places \u001b[39;49m\n\u001b[1;32m      3\u001b[0m \u001b[38;5;124;43mALTER COLUMN geom \u001b[39;49m\n\u001b[1;32m      4\u001b[0m \u001b[38;5;124;43mSET DATA TYPE GEOMETRY USING ST_GeomFromWKB(geom);\u001b[39;49m\n\u001b[1;32m      5\u001b[0m \u001b[38;5;124;43m\"\"\"\u001b[39;49m\u001b[43m)\u001b[49m\n",
      "\u001b[0;31mBinderException\u001b[0m: Binder Error: No function matches the given name and argument types 'ST_GeomFromWKB(GEOMETRY)'. You might need to add explicit type casts.\n\tCandidate functions:\n\tST_GeomFromWKB(WKB_BLOB) -> GEOMETRY\n\tST_GeomFromWKB(BLOB) -> GEOMETRY\n\nLINE 4: SET DATA TYPE GEOMETRY USING ST_GeomFromWKB(geom);\n                                     ^"
     ]
    }
   ],
   "source": [
    "db.sql(\"\"\"\n",
    "ALTER TABLE places \n",
    "ALTER COLUMN geom \n",
    "SET DATA TYPE GEOMETRY USING ST_GeomFromWKB(geom);\n",
    "\"\"\")"
   ]
  },
  {
   "cell_type": "markdown",
   "metadata": {},
   "source": [
    "To generate different H3 resolutions (6, 7, 8, 9, 10, 11, 12) based on the zoom level, use the following code. This code adds new H3 columns to the places table for each resolution and populates them with the appropriate H3 indices:"
   ]
  },
  {
   "cell_type": "code",
   "execution_count": 5,
   "metadata": {},
   "outputs": [],
   "source": [
    "for i in range(6, 13):\n",
    "    db.sql(f\"\"\"\n",
    "    ALTER TABLE places \n",
    "    ADD COLUMN h{i} BIGINT;\n",
    "\n",
    "    UPDATE places \n",
    "    SET h{i} = h3_latlng_to_cell(latitude, longitude, {i});\n",
    "    \"\"\")"
   ]
  },
  {
   "cell_type": "markdown",
   "metadata": {},
   "source": [
    "To view the first 10 rows of the places table, use the following query:"
   ]
  }
 ],
 "metadata": {
  "kernelspec": {
   "display_name": "maps_env",
   "language": "python",
   "name": "python3"
  },
  "language_info": {
   "codemirror_mode": {
    "name": "ipython",
    "version": 3
   },
   "file_extension": ".py",
   "mimetype": "text/x-python",
   "name": "python",
   "nbconvert_exporter": "python",
   "pygments_lexer": "ipython3",
   "version": "3.11.8"
  }
 },
 "nbformat": 4,
 "nbformat_minor": 2
}
