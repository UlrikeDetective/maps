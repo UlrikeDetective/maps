{
 "cells": [
  {
   "cell_type": "code",
   "execution_count": null,
   "metadata": {},
   "outputs": [],
   "source": []
  },
  {
   "cell_type": "markdown",
   "metadata": {},
   "source": [
    "# Taking Geospatial Data Analytics to the Next Level with Panel, DuckDB and MapLibre\n",
    "\n",
    "### Introduction\n",
    "In this blog post, we will explore how to prepare and query data using DuckDB. Next, we will create a custom component from scratch with Python Panel and integrate it with MapLibreGL JS. Finally, we will demonstrate how to dynamically update map data based on the zoom level, step by step.\n",
    "\n",
    "### Data Analysis\n",
    "We will use DuckDB to explore the POI (Point of Interest) data shared by Foursquare as open data. We will query and retrieve data for Turkey and generate H3 indices for this data using the DuckDB H3 extension.\n",
    "\n",
    "### Project Setup\n",
    "\n",
    "We will create the project structure using Python Uv. We will also install all the required packages to set up the working environment. We install the Uv package manager using the following code:\n",
    "\n",
    "curl -LsSf https://astral.sh/uv/install.sh | sh\n",
    "\n",
    "We create the project using the following code:\n",
    "\n",
    "uv init open-poi\n",
    "cd open-poi"
   ]
  }
 ],
 "metadata": {
  "language_info": {
   "name": "python"
  }
 },
 "nbformat": 4,
 "nbformat_minor": 2
}
