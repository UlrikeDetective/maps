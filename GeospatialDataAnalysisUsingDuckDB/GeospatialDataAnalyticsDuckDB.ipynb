{
 "cells": [
  {
   "cell_type": "markdown",
   "metadata": {},
   "source": [
    "# Taking Geospatial Data Analytics to the Next Level with Panel, DuckDB and MapLibre\n",
    "\n",
    "### Introduction\n",
    "In this blog post, we will explore how to prepare and query data using DuckDB. Next, we will create a custom component from scratch with Python Panel and integrate it with MapLibreGL JS. Finally, we will demonstrate how to dynamically update map data based on the zoom level, step by step.\n",
    "\n",
    "### Data Analysis\n",
    "We will use DuckDB to explore the POI (Point of Interest) data shared by Foursquare as open data. We will query and retrieve data for Turkey and generate H3 indices for this data using the DuckDB H3 extension.\n",
    "\n",
    "### Project Setup\n",
    "\n",
    "We will create the project structure using Python Uv. We will also install all the required packages to set up the working environment. We install the Uv package manager using the following code:\n",
    "\n",
    "curl -LsSf https://astral.sh/uv/install.sh | sh\n",
    "\n",
    "We create the project using the following code:\n",
    "\n",
    "uv init open-poi\n",
    "cd open-poi\n",
    "\n",
    "To set up the virtual environment, we use the following command:\n",
    "\n",
    "uv venv --python 3.11\n",
    "\n",
    "We install the required packages for our project using the following commands:\n",
    "\n",
    "uv add \"duckdb>=1.1.3\" \"panel>=1.5.5\"\n",
    "\n",
    "To include Jupyter Notebook in our development environment, we install it using the following command:\n",
    "\n",
    "uv add jupyterlab --dev\n",
    "\n",
    "We create a notebook directory in our project folder and add a notebook file named “poi-data.ipynb” inside it. To install the spatial and H3 extensions for DuckDB:\n",
    "\n",
    "\n"
   ]
  },
  {
   "cell_type": "code",
   "execution_count": 1,
   "metadata": {},
   "outputs": [],
   "source": [
    "import duckdb\n",
    "import os\n",
    "\n",
    "\n",
    "db_dir = '/Users/ulrike_imac_air/projects/maps/GeospatialDataAnalysisUsingDuckDB/open-poi/data'\n",
    "db_path = os.path.join(db_dir, 'poi.duckdb')\n",
    "db = duckdb.connect(db_path, read_only=False)\n",
    "db.sql(\"\"\"\n",
    "INSTALL spatial;\n",
    "INSTALL h3 FROM community;\n",
    "LOAD h3;\n",
    "LOAD spatial;\n",
    "\"\"\")"
   ]
  },
  {
   "cell_type": "markdown",
   "metadata": {},
   "source": [
    "To load the data shared by Foursquare into DuckDB, use the following SQL queries. These create two separate tables: categories for all categories and places for data filtered to only include locations in Turkey (country = ‘TR’):"
   ]
  },
  {
   "cell_type": "code",
   "execution_count": 2,
   "metadata": {},
   "outputs": [],
   "source": [
    "db.sql(\"\"\"\n",
    "DROP TABLE IF EXISTS categories;\n",
    "\"\"\")\n",
    "\n",
    "db.sql(\"\"\"\n",
    "CREATE TABLE categories AS  \n",
    "  SELECT * \n",
    "  FROM read_parquet('s3://fsq-os-places-us-east-1/release/dt=2025-01-10/categories/parquet/*.zstd.parquet');\n",
    "\"\"\")"
   ]
  },
  {
   "cell_type": "code",
   "execution_count": 3,
   "metadata": {},
   "outputs": [],
   "source": [
    "db.sql(\"\"\"\n",
    "DROP TABLE IF EXISTS places;\n",
    "\"\"\")\n",
    "\n",
    "db.sql(\"\"\"\n",
    "CREATE TABLE places AS  \n",
    "  SELECT * \n",
    "  FROM read_parquet('s3://fsq-os-places-us-east-1/release/dt=2025-01-10/places/parquet/*.zstd.parquet')\n",
    "  WHERE country = 'LU';\n",
    "\"\"\")"
   ]
  },
  {
   "cell_type": "markdown",
   "metadata": {},
   "source": [
    "To convert the geom column to a geometry type, you can use the following SQL query. This uses the ST_GeomFromWKB function in DuckDB to transform the data in the geom column from WKB (Well-Known Binary) format to geometry type:"
   ]
  },
  {
   "cell_type": "code",
   "execution_count": 4,
   "metadata": {},
   "outputs": [
    {
     "ename": "BinderException",
     "evalue": "Binder Error: No function matches the given name and argument types 'ST_GeomFromWKB(GEOMETRY)'. You might need to add explicit type casts.\n\tCandidate functions:\n\tST_GeomFromWKB(WKB_BLOB) -> GEOMETRY\n\tST_GeomFromWKB(BLOB) -> GEOMETRY\n\nLINE 4: SET DATA TYPE GEOMETRY USING ST_GeomFromWKB(geom);\n                                     ^",
     "output_type": "error",
     "traceback": [
      "\u001b[0;31m---------------------------------------------------------------------------\u001b[0m",
      "\u001b[0;31mBinderException\u001b[0m                           Traceback (most recent call last)",
      "Cell \u001b[0;32mIn[4], line 1\u001b[0m\n\u001b[0;32m----> 1\u001b[0m \u001b[43mdb\u001b[49m\u001b[38;5;241;43m.\u001b[39;49m\u001b[43msql\u001b[49m\u001b[43m(\u001b[49m\u001b[38;5;124;43m\"\"\"\u001b[39;49m\n\u001b[1;32m      2\u001b[0m \u001b[38;5;124;43mALTER TABLE places \u001b[39;49m\n\u001b[1;32m      3\u001b[0m \u001b[38;5;124;43mALTER COLUMN geom \u001b[39;49m\n\u001b[1;32m      4\u001b[0m \u001b[38;5;124;43mSET DATA TYPE GEOMETRY USING ST_GeomFromWKB(geom);\u001b[39;49m\n\u001b[1;32m      5\u001b[0m \u001b[38;5;124;43m\"\"\"\u001b[39;49m\u001b[43m)\u001b[49m\n",
      "\u001b[0;31mBinderException\u001b[0m: Binder Error: No function matches the given name and argument types 'ST_GeomFromWKB(GEOMETRY)'. You might need to add explicit type casts.\n\tCandidate functions:\n\tST_GeomFromWKB(WKB_BLOB) -> GEOMETRY\n\tST_GeomFromWKB(BLOB) -> GEOMETRY\n\nLINE 4: SET DATA TYPE GEOMETRY USING ST_GeomFromWKB(geom);\n                                     ^"
     ]
    }
   ],
   "source": [
    "db.sql(\"\"\"\n",
    "ALTER TABLE places \n",
    "ALTER COLUMN geom \n",
    "SET DATA TYPE GEOMETRY USING ST_GeomFromWKB(geom);\n",
    "\"\"\")"
   ]
  },
  {
   "cell_type": "markdown",
   "metadata": {},
   "source": [
    "To generate different H3 resolutions (6, 7, 8, 9, 10, 11, 12) based on the zoom level, use the following code. This code adds new H3 columns to the places table for each resolution and populates them with the appropriate H3 indices:"
   ]
  },
  {
   "cell_type": "code",
   "execution_count": 5,
   "metadata": {},
   "outputs": [],
   "source": [
    "for i in range(6, 13):\n",
    "    db.sql(f\"\"\"\n",
    "    ALTER TABLE places \n",
    "    ADD COLUMN h{i} BIGINT;\n",
    "\n",
    "    UPDATE places \n",
    "    SET h{i} = h3_latlng_to_cell(latitude, longitude, {i});\n",
    "    \"\"\")"
   ]
  },
  {
   "cell_type": "markdown",
   "metadata": {},
   "source": [
    "To view the first 10 rows of the places table, use the following query:"
   ]
  },
  {
   "cell_type": "code",
   "execution_count": 6,
   "metadata": {},
   "outputs": [
    {
     "data": {
      "text/plain": [
       "┌──────────────────────────┬──────────────────────────────────────────────────────────────┬────────────────────┬───────────────────┬──────────────────────┬──────────────────┬────────────────────────┬──────────┬──────────────┬───────────┬─────────┬─────────┬──────────────┬────────────────┬─────────────┬─────────────┬──────────────────────────────────────────────────┬───────────────┬─────────────────┬───────────┬─────────────────┬────────────────────────────────────────────────────────────────────────────────┬─────────────────────────────────────────────────────────────────────────────────────────────────────────────────────────────┬──────────────────────────────────────────────────────────────────────────┬──────────────────────────────────────────────┬────────────────────────────────────────────────────────────────────────────────────────────────────────────────┬────────────┬────────────────────┬────────────────────┬────────────────────┬────────────────────┬────────────────────┬────────────────────┬────────────────────┐\n",
       "│       fsq_place_id       │                             name                             │      latitude      │     longitude     │       address        │     locality     │         region         │ postcode │ admin_region │ post_town │ po_box  │ country │ date_created │ date_refreshed │ date_closed │     tel     │                     website                      │     email     │   facebook_id   │ instagram │     twitter     │                                fsq_category_ids                                │                                                     fsq_category_labels                                                     │                              placemaker_url                              │                     geom                     │                                                      bbox                                                      │     dt     │         h6         │         h7         │         h8         │         h9         │        h10         │        h11         │        h12         │\n",
       "│         varchar          │                           varchar                            │       double       │      double       │       varchar        │     varchar      │        varchar         │ varchar  │   varchar    │  varchar  │ varchar │ varchar │   varchar    │    varchar     │   varchar   │   varchar   │                     varchar                      │    varchar    │      int64      │  varchar  │     varchar     │                                   varchar[]                                    │                                                          varchar[]                                                          │                                 varchar                                  │                   geometry                   │                           struct(xmin double, ymin double, xmax double, ymax double)                           │    date    │       int64        │       int64        │       int64        │       int64        │       int64        │       int64        │       int64        │\n",
       "├──────────────────────────┼──────────────────────────────────────────────────────────────┼────────────────────┼───────────────────┼──────────────────────┼──────────────────┼────────────────────────┼──────────┼──────────────┼───────────┼─────────┼─────────┼──────────────┼────────────────┼─────────────┼─────────────┼──────────────────────────────────────────────────┼───────────────┼─────────────────┼───────────┼─────────────────┼────────────────────────────────────────────────────────────────────────────────┼─────────────────────────────────────────────────────────────────────────────────────────────────────────────────────────────┼──────────────────────────────────────────────────────────────────────────┼──────────────────────────────────────────────┼────────────────────────────────────────────────────────────────────────────────────────────────────────────────┼────────────┼────────────────────┼────────────────────┼────────────────────┼────────────────────┼────────────────────┼────────────────────┼────────────────────┤\n",
       "│ e68b608454c74272abb95eb1 │ Salon de thé - Bazar International                           │               NULL │              NULL │ Luxexpo, Luxembourg  │ Luxembourg       │ Luxembourg             │ 1022     │ Luxembourg   │ NULL      │ NULL    │ LU      │ 2016-04-19   │ 2016-04-19     │ NULL        │ 43 45 32    │ http://bazar-international.lu                    │ NULL          │            NULL │ NULL      │ NULL            │ [4bf58dd8d48988d116941735, 4bf58dd8d48988d1dc931735, 4d4b7105d754a06374d81259] │ [Dining and Drinking > Bar, Dining and Drinking > Cafe, Coffee, and Tea House > Tea Room, Dining and Drinking > Restaurant] │ https://foursquare.com/placemakers/review-place/e68b608454c74272abb95eb1 │ NULL                                         │ {'xmin': NULL, 'ymin': NULL, 'xmax': NULL, 'ymax': NULL}                                                       │ 2025-01-10 │               NULL │               NULL │               NULL │               NULL │               NULL │               NULL │               NULL │\n",
       "│ 0f01b62532a54043d08df08c │ Afro Style Coiffure Senc                                     │          49.496623 │          5.984672 │ 4, Grand-Rue         │ Esch-sur-Alzette │ Esch-sur-Alzette       │ 4132     │ Luxembourg   │ NULL      │ NULL    │ LU      │ 2015-05-02   │ 2015-05-02     │ NULL        │ 27 51 83 52 │ NULL                                             │ NULL          │            NULL │ NULL      │ NULL            │ [4bf58dd8d48988d110951735]                                                     │ [Business and Professional Services > Health and Beauty Service > Hair Salon]                                               │ https://foursquare.com/placemakers/review-place/0f01b62532a54043d08df08c │ POINT (5.984672 49.496623)                   │ {'xmin': 5.984672, 'ymin': 49.496623, 'xmax': 5.984672, 'ymax': 49.496623}                                     │ 2025-01-10 │ 604038850322366463 │ 608542449849073663 │ 613046049461764095 │ 617549649088348159 │ 622053248715653119 │ 626556848343003135 │ 631060447970372607 │\n",
       "│ 4f4e721be4b081be1e74f118 │ Rugova                                                       │ 49.531063702220614 │ 5.987774843085427 │ Rue d'Esch 17        │ Mondercange      │ NULL                   │ 3920     │ Luxembourg   │ NULL      │ NULL    │ LU      │ 2012-02-29   │ 2023-07-02     │ NULL        │ 57 34 45    │ http://www.rugova.lu                             │ rugova1@pt.lu │            NULL │ NULL      │ NULL            │ [4bf58dd8d48988d110941735]                                                     │ [Dining and Drinking > Restaurant > Italian Restaurant]                                                                     │ https://foursquare.com/placemakers/review-place/4f4e721be4b081be1e74f118 │ POINT (5.987774843085427 49.531063702220614) │ {'xmin': 5.987774843085427, 'ymin': 49.531063702220614, 'xmax': 5.987774843085427, 'ymax': 49.531063702220614} │ 2025-01-10 │ 604038931524091903 │ 608542531134685183 │ 613046130757861375 │ 617549730383921151 │ 622053330011160575 │ 626556929638506495 │ 631060529265874431 │\n",
       "│ 5f181bfa2d7c5e79a1fd80e1 │ Duphia                                                       │           49.52687 │          6.100901 │ NULL                 │ Bettembourg      │ District de Luxembourg │ 3254     │ Luxembourg   │ NULL      │ NULL    │ LU      │ 2020-07-22   │ 2020-08-05     │ NULL        │ NULL        │ NULL                                             │ NULL          │            NULL │ NULL      │ NULL            │ [4bf58dd8d48988d145941735]                                                     │ [Dining and Drinking > Restaurant > Asian Restaurant > Chinese Restaurant]                                                  │ https://foursquare.com/placemakers/review-place/5f181bfa2d7c5e79a1fd80e1 │ POINT (6.100901 49.52687)                    │ {'xmin': 6.100901, 'ymin': 49.52687, 'xmax': 6.100901, 'ymax': 49.52687}                                       │ 2025-01-10 │ 604038930718785535 │ 608542530228715519 │ 613046129841405951 │ 617549729467203583 │ 622053329094475775 │ 626556928721829887 │ 631060528349197823 │\n",
       "│ 4fae7f17e4b01cbf303a1ff6 │ 5a sec                                                       │   49.4798469543457 │  6.03834342956543 │ NULL                 │ NULL             │ NULL                   │ NULL     │ NULL         │ NULL      │ NULL    │ LU      │ 2012-05-12   │ 2023-09-05     │ NULL        │ NULL        │ NULL                                             │ NULL          │            NULL │ NULL      │ NULL            │ [4bf58dd8d48988d1fc941735]                                                     │ [Business and Professional Services > Laundry Service]                                                                      │ https://foursquare.com/placemakers/review-place/4fae7f17e4b01cbf303a1ff6 │ POINT (6.03834342956543 49.4798469543457)    │ {'xmin': 6.03834342956543, 'ymin': 49.4798469543457, 'xmax': 6.03834342956543, 'ymax': 49.4798469543457}       │ 2025-01-10 │ 604038930987220991 │ 608542530497150975 │ 613046130109841407 │ 617549729736163327 │ 622053329363075071 │ 626556928990851071 │ 631060528618219007 │\n",
       "│ 56691e47ff124ad2966ca512 │ Chito Chinatown Luxembourg                                   │          49.494954 │           5.97812 │ 32B Rue du Canal     │ Esch-sur-Alzette │ Esch-sur-Alzette       │ 4050     │ Luxembourg   │ NULL      │ NULL    │ LU      │ 2016-02-02   │ 2016-02-02     │ NULL        │ 621 384 662 │ http://www.chinatown.lu                          │ NULL          │ 249998905014685 │ NULL      │ NULL            │ [52f2ab2ebcbc57f1066b8b3c]                                                     │ [Business and Professional Services > Health and Beauty Service > Massage Clinic]                                           │ https://foursquare.com/placemakers/review-place/56691e47ff124ad2966ca512 │ POINT (5.97812 49.494954)                    │ {'xmin': 5.97812, 'ymin': 49.494954, 'xmax': 5.97812, 'ymax': 49.494954}                                       │ 2025-01-10 │ 604038850322366463 │ 608542449849073663 │ 613046049474347007 │ 617549649100144639 │ 622053248727351295 │ 626556848354713599 │ 631060447982081023 │\n",
       "│ 57551c4b498e75528f561def │ PC Phone Service                                             │  49.49275818891847 │ 5.980467796325684 │ 20 r. Zénon Bernard  │ esch sur alzette │ NULL                   │ 4030     │ Luxembourg   │ NULL      │ NULL    │ LU      │ 2016-06-06   │ 2016-06-10     │ NULL        │ 26 54 14 73 │ http://www.pcphoneservice.lu                     │ NULL          │ 281652578673055 │ NULL      │ pc_phoneservice │ [4bf58dd8d48988d122951735]                                                     │ [Retail > Computers and Electronics Retail > Electronics Store]                                                             │ https://foursquare.com/placemakers/review-place/57551c4b498e75528f561def │ POINT (5.980467796325684 49.49275818891847)  │ {'xmin': 5.980467796325684, 'ymin': 49.49275818891847, 'xmax': 5.980467796325684, 'ymax': 49.49275818891847}   │ 2025-01-10 │ 604038850322366463 │ 608542449849073663 │ 613046049461764095 │ 617549649088872447 │ 622053248716079103 │ 626556848343441407 │ 631060447970811391 │\n",
       "│ 83beaf595c0a4a7c6fa981bc │ Ligue Medico-Sociale - Centre Medico Social Esch-Sur-Alzette │          49.495684 │          5.981799 │ 61 Avenue de la Gare │ Esch-sur-Alzette │ Esch-sur-Alzette       │ 4130     │ Luxembourg   │ NULL      │ NULL    │ LU      │ 2015-05-01   │ 2015-05-01     │ NULL        │ 54 46 46 1  │ NULL                                             │ NULL          │            NULL │ NULL      │ NULL            │ [4d4b7105d754a06375d81259]                                                     │ [Business and Professional Services]                                                                                        │ https://foursquare.com/placemakers/review-place/83beaf595c0a4a7c6fa981bc │ POINT (5.981799 49.495684)                   │ {'xmin': 5.981799, 'ymin': 49.495684, 'xmax': 5.981799, 'ymax': 49.495684}                                     │ 2025-01-10 │ 604038850322366463 │ 608542449849073663 │ 613046049461764095 │ 617549649088348159 │ 622053248715685887 │ 626556848343035903 │ 631060447970403327 │\n",
       "│ 565ed2d1498ed093da0c2ded │ Hong Kong Garden                                             │          49.475115 │          6.040854 │ NULL                 │ NULL             │ NULL                   │ NULL     │ Luxembourg   │ NULL      │ NULL    │ LU      │ 2015-12-02   │ 2016-09-20     │ NULL        │ 26 56 33 73 │ http://hong-kong-garden-tetange.restofactory.com │ NULL          │ 972073529500090 │ NULL      │ NULL            │ [4bf58dd8d48988d145941735]                                                     │ [Dining and Drinking > Restaurant > Asian Restaurant > Chinese Restaurant]                                                  │ https://foursquare.com/placemakers/review-place/565ed2d1498ed093da0c2ded │ POINT (6.040854 49.475115)                   │ {'xmin': 6.040854, 'ymin': 49.475115, 'xmax': 6.040854, 'ymax': 49.475115}                                     │ 2025-01-10 │ 604038930987220991 │ 608542530497150975 │ 613046130116132863 │ 617549729741668351 │ 622053329368809471 │ 626556928996175871 │ 631060528623543295 │\n",
       "│ 4d84ac1340a7a35d1b910fbe │ Jumeleuse Br1                                                │          49.497481 │          5.962185 │ NULL                 │ NULL             │ NULL                   │ NULL     │ NULL         │ NULL      │ NULL    │ LU      │ 2011-03-19   │ 2021-11-18     │ NULL        │ NULL        │ NULL                                             │ NULL          │            NULL │ NULL      │ NULL            │ NULL                                                                           │ NULL                                                                                                                        │ https://foursquare.com/placemakers/review-place/4d84ac1340a7a35d1b910fbe │ POINT (5.962185 49.497481)                   │ {'xmin': 5.962185, 'ymin': 49.497481, 'xmax': 5.962185, 'ymax': 49.497481}                                     │ 2025-01-10 │ 604038850322366463 │ 608542449832296447 │ 613046049455472639 │ 617549649082318847 │ 622053248709525503 │ 626556848336891903 │ 631060447964259839 │\n",
       "├──────────────────────────┴──────────────────────────────────────────────────────────────┴────────────────────┴───────────────────┴──────────────────────┴──────────────────┴────────────────────────┴──────────┴──────────────┴───────────┴─────────┴─────────┴──────────────┴────────────────┴─────────────┴─────────────┴──────────────────────────────────────────────────┴───────────────┴─────────────────┴───────────┴─────────────────┴────────────────────────────────────────────────────────────────────────────────┴─────────────────────────────────────────────────────────────────────────────────────────────────────────────────────────────┴──────────────────────────────────────────────────────────────────────────┴──────────────────────────────────────────────┴────────────────────────────────────────────────────────────────────────────────────────────────────────────────┴────────────┴────────────────────┴────────────────────┴────────────────────┴────────────────────┴────────────────────┴────────────────────┴────────────────────┤\n",
       "│ 10 rows                                                                                                                                                                                                                                                                                                                                                                                                                                                                                                                                                                                                                                                                                                                                                                                                                                                                                                                                                                                                                                                     34 columns │\n",
       "└────────────────────────────────────────────────────────────────────────────────────────────────────────────────────────────────────────────────────────────────────────────────────────────────────────────────────────────────────────────────────────────────────────────────────────────────────────────────────────────────────────────────────────────────────────────────────────────────────────────────────────────────────────────────────────────────────────────────────────────────────────────────────────────────────────────────────────────────────────────────────────────────────────────────────────────────────────────────────────────────────────────────────────────────────────────────────────────────────────────────────────────────────────────────────────────────────────────────────────────────────────────────────────────────────────────────────────────────────────────────────────────────────────────────────────────────────────────────────────────────────────────────────────────────────────────────────────────────────────┘"
      ]
     },
     "execution_count": 6,
     "metadata": {},
     "output_type": "execute_result"
    }
   ],
   "source": [
    "db.sql(\"\"\"\n",
    "select * from places limit 10;\n",
    "\"\"\")"
   ]
  },
  {
   "cell_type": "markdown",
   "metadata": {},
   "source": [
    "Creating a Custom Component\n",
    "We will build a custom component from scratch using Panel. This component will enable interactive map rendering and dynamic data updates with MapLibreGL JS.\n",
    "\n",
    "Create a file named app.py in your project directory and add the following starter code. This code imports the essential packages needed for the application.\n"
   ]
  },
  {
   "cell_type": "code",
   "execution_count": null,
   "metadata": {},
   "outputs": [],
   "source": [
    "# app.py\n",
    "\n",
    "import json\n",
    "import panel as pn\n",
    "import duckdb\n",
    "from panel.custom import JSComponent\n",
    "import param\n",
    "from pathlib import Path"
   ]
  },
  {
   "cell_type": "markdown",
   "metadata": {},
   "source": [
    "To connect to the DuckDB database and load the necessary extensions:"
   ]
  },
  {
   "cell_type": "code",
   "execution_count": null,
   "metadata": {},
   "outputs": [],
   "source": [
    "db = duckdb.connect(database='data/poi.duckdb', read_only=True)\n",
    "db.sql(\"\"\"\n",
    "    INSTALL spatial;\n",
    "    INSTALL h3 FROM community;\n",
    "    LOAD h3;\n",
    "    LOAD spatial;\n",
    "\"\"\")"
   ]
  },
  {
   "cell_type": "markdown",
   "metadata": {},
   "source": [
    "Below is the function that retrieves data from the database based on the zoom level (z) and bounding box (bounds) and converts it into GeoJSON format:"
   ]
  },
  {
   "cell_type": "code",
   "execution_count": null,
   "metadata": {},
   "outputs": [],
   "source": [
    "def generate_geojson(z: int, bounds: dict = None):\n",
    "    \"\"\"\n",
    "    Generates a GeoJSON FeatureCollection from database query results.\n",
    "    Args:\n",
    "        z (int): The zoom level for H3 hexagons.\n",
    "        bounds (dict, optional): A dictionary containing the bounding box coordinates with keys 'minx', 'maxx', 'miny', and 'maxy'.\n",
    "    Returns:\n",
    "        dict: A GeoJSON FeatureCollection containing the H3 hexagons and their associated properties.\n",
    "    \"\"\"\n",
    "\n",
    "    q = f\"\"\"\n",
    "    SELECT h3_h3_to_string(h{z}) as h3, \n",
    "        COUNT(*) as count, \n",
    "        NTILE(10) OVER (ORDER BY count) as q10,\n",
    "        ST_AsGeoJSON(ST_GeomFromText(h3_cell_to_boundary_wkt(h{z}))) as geojson\n",
    "    FROM places\n",
    "        WHERE bbox.xmin >= {bounds['minx']} AND bbox.xmax <= {bounds['maxx']}\n",
    "            AND bbox.ymin >= {bounds['miny']} AND bbox.ymax <= {bounds['maxy']} \n",
    "            and h{z} is not null\n",
    "    GROUP BY h{z}\n",
    "    \"\"\"\n",
    "\n",
    "    result = db.sql(q).df().to_dict(orient='records')\n",
    "    # Convert the list of JSON objects to a GeoJSON FeatureCollection\n",
    "    return {\n",
    "        \"type\": \"FeatureCollection\",\n",
    "        \"features\": [\n",
    "            {\n",
    "                \"type\": \"Feature\",\n",
    "                \"geometry\": json.loads(row[\"geojson\"]),\n",
    "                \"properties\": {\n",
    "                    \"h3\": row[\"h3\"],\n",
    "                    \"count\": row[\"count\"],\n",
    "                    \"q10\": row[\"q10\"]\n",
    "                }\n",
    "            }\n",
    "            for row in result\n",
    "        ]\n",
    "    }"
   ]
  },
  {
   "cell_type": "markdown",
   "metadata": {},
   "source": [
    "    The Map class is designed to create an interactive map using MapLibre GL. This class retrieves GeoJSON data from the database based on the zoom level and bounding box, dynamically updating the map.\n",
    "\n",
    "Class Attributes:\n",
    "\n",
    "• data_geo: A param.Dict property that holds GeoJSON data. This data is dynamically updated to reflect what is displayed on the map.\n",
    "\n",
    "• _esm: Path to the JavaScript file (src/map.js) that powers the MapLibre GL map component.\n",
    "\n",
    "• __css__: Loads the required CSS file for the map’s styling. This file provides the visual styles for the MapLibre GL map.\n",
    "\n",
    "_handle_msg: A method that processes messages from the map component. The method passes this information to the generate_geojson function and updates the data_geo property with the returned GeoJSON data."
   ]
  }
 ],
 "metadata": {
  "kernelspec": {
   "display_name": "maps_env",
   "language": "python",
   "name": "python3"
  },
  "language_info": {
   "codemirror_mode": {
    "name": "ipython",
    "version": 3
   },
   "file_extension": ".py",
   "mimetype": "text/x-python",
   "name": "python",
   "nbconvert_exporter": "python",
   "pygments_lexer": "ipython3",
   "version": "3.11.8"
  }
 },
 "nbformat": 4,
 "nbformat_minor": 2
}
