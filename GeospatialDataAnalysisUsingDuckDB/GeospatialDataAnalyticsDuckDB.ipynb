{
 "cells": [
  {
   "cell_type": "markdown",
   "metadata": {},
   "source": [
    "# Taking Geospatial Data Analytics to the Next Level with Panel, DuckDB and MapLibre\n",
    "\n",
    "### Introduction\n",
    "In this blog post, we will explore how to prepare and query data using DuckDB. Next, we will create a custom component from scratch with Python Panel and integrate it with MapLibreGL JS. Finally, we will demonstrate how to dynamically update map data based on the zoom level, step by step.\n",
    "\n",
    "### Data Analysis\n",
    "We will use DuckDB to explore the POI (Point of Interest) data shared by Foursquare as open data. We will query and retrieve data for Turkey and generate H3 indices for this data using the DuckDB H3 extension.\n",
    "\n",
    "### Project Setup\n",
    "\n",
    "We will create the project structure using Python Uv. We will also install all the required packages to set up the working environment. We install the Uv package manager using the following code:\n",
    "\n",
    "curl -LsSf https://astral.sh/uv/install.sh | sh\n",
    "\n",
    "We create the project using the following code:\n",
    "\n",
    "uv init open-poi\n",
    "cd open-poi\n",
    "\n",
    "To set up the virtual environment, we use the following command:\n",
    "\n",
    "uv venv --python 3.11\n",
    "\n",
    "We install the required packages for our project using the following commands:\n",
    "\n",
    "uv add \"duckdb>=1.1.3\" \"panel>=1.5.5\"\n",
    "\n",
    "To include Jupyter Notebook in our development environment, we install it using the following command:\n",
    "\n",
    "uv add jupyterlab --dev\n",
    "\n",
    "We create a notebook directory in our project folder and add a notebook file named “poi-data.ipynb” inside it. To install the spatial and H3 extensions for DuckDB:\n",
    "\n",
    "\n"
   ]
  },
  {
   "cell_type": "code",
   "execution_count": 11,
   "metadata": {},
   "outputs": [],
   "source": [
    "import duckdb\n",
    "import os\n",
    "\n",
    "\n",
    "db_dir = '/Users/ulrike_imac_air/projects/maps/GeospatialDataAnalysisUsingDuckDB/open-poi/data'\n",
    "db_path = os.path.join(db_dir, 'poi.duckdb')\n",
    "db = duckdb.connect(db_path, read_only=False)\n",
    "db.sql(\"\"\"\n",
    "INSTALL spatial;\n",
    "INSTALL h3 FROM community;\n",
    "LOAD h3;\n",
    "LOAD spatial;\n",
    "\"\"\")"
   ]
  },
  {
   "cell_type": "markdown",
   "metadata": {},
   "source": [
    "To load the data shared by Foursquare into DuckDB, use the following SQL queries. These create two separate tables: categories for all categories and places for data filtered to only include locations in Turkey (country = ‘TR’):"
   ]
  },
  {
   "cell_type": "code",
   "execution_count": 14,
   "metadata": {},
   "outputs": [],
   "source": [
    "db.sql(\"\"\"\n",
    "DROP TABLE IF EXISTS categories;\n",
    "\"\"\")\n",
    "\n",
    "db.sql(\"\"\"\n",
    "CREATE TABLE categories AS  \n",
    "  SELECT * \n",
    "  FROM read_parquet('s3://fsq-os-places-us-east-1/release/dt=2025-01-10/categories/parquet/*.zstd.parquet');\n",
    "\"\"\")"
   ]
  },
  {
   "cell_type": "code",
   "execution_count": 15,
   "metadata": {},
   "outputs": [],
   "source": [
    "db.sql(\"\"\"\n",
    "DROP TABLE IF EXISTS places;\n",
    "\"\"\")\n",
    "\n",
    "db.sql(\"\"\"\n",
    "CREATE TABLE places AS  \n",
    "  SELECT * \n",
    "  FROM read_parquet('s3://fsq-os-places-us-east-1/release/dt=2025-01-10/places/parquet/*.zstd.parquet')\n",
    "  WHERE country = 'LU';\n",
    "\"\"\")"
   ]
  }
 ],
 "metadata": {
  "language_info": {
   "name": "python"
  }
 },
 "nbformat": 4,
 "nbformat_minor": 2
}
