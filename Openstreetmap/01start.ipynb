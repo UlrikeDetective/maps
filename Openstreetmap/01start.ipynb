{
 "cells": [
  {
   "cell_type": "markdown",
   "id": "4571a778",
   "metadata": {},
   "source": [
    "## How to download OSM data\n",
    "### Openstreetmap.com\n",
    "There are a lot of ways to download the data from OpenStreetMap. The suitable approach depends on the size of the dataset. If you just want to download a small dataset, like a bar, a park, or a residential area, you can just do it from OpenStreetMap’s website. You have two options: you can click \"Download XML\" or the button \"Export\".\n",
    "\n",
    "### geofabrik\n",
    "If you want OSM map data from entire continents and countries, you can download the data from geofabrik. Click the link to the file of the continent or the link of the subregion if you want the data from a specific country.\n",
    "\n",
    "### python"
   ]
  },
  {
   "cell_type": "code",
   "execution_count": 2,
   "id": "a91102b8",
   "metadata": {},
   "outputs": [],
   "source": [
    "# %pip install pyrosm"
   ]
  },
  {
   "cell_type": "code",
   "execution_count": null,
   "id": "3168510b",
   "metadata": {},
   "outputs": [],
   "source": [
    "from pyrosm import get_data\n",
    "# fp = get_data(\"Lisbon\")\n",
    "\n",
    "print(sources.cities.available)\n"
   ]
  }
 ],
 "metadata": {
  "kernelspec": {
   "display_name": "maps_env",
   "language": "python",
   "name": "python3"
  },
  "language_info": {
   "codemirror_mode": {
    "name": "ipython",
    "version": 3
   },
   "file_extension": ".py",
   "mimetype": "text/x-python",
   "name": "python",
   "nbconvert_exporter": "python",
   "pygments_lexer": "ipython3",
   "version": "3.13.7"
  }
 },
 "nbformat": 4,
 "nbformat_minor": 5
}
