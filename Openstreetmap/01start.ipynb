{
 "cells": [
  {
   "cell_type": "markdown",
   "id": "4571a778",
   "metadata": {},
   "source": [
    "## How to download OSM data\n",
    "### Openstreetmap.com\n",
    "There are a lot of ways to download the data from OpenStreetMap. The suitable approach depends on the size of the dataset. If you just want to download a small dataset, like a bar, a park, or a residential area, you can just do it from OpenStreetMap’s website. You have two options: you can click \"Download XML\" or the button \"Export\".\n",
    "\n",
    "### geofabrik\n",
    "If you want OSM map data from entire continents and countries, you can download the data from geofabrik. Click the link to the file of the continent or the link of the subregion if you want the data from a specific country.\n",
    "\n",
    "### python"
   ]
  },
  {
   "cell_type": "code",
   "execution_count": 1,
   "id": "a91102b8",
   "metadata": {},
   "outputs": [
    {
     "name": "stdout",
     "output_type": "stream",
     "text": [
      "Requirement already satisfied: pip in /Users/ulrike_imac_air/projects/maps/maps_env311/lib/python3.13/site-packages (25.2)\n",
      "Note: you may need to restart the kernel to use updated packages.\n",
      "Collecting pyrosm\n",
      "  Downloading pyrosm-0.6.2.tar.gz (2.5 MB)\n",
      "\u001b[2K     \u001b[90m━━━━━━━━━━━━━━━━━━━━━━━━━━━━━━━━━━━━━━━━\u001b[0m \u001b[32m2.5/2.5 MB\u001b[0m \u001b[31m14.9 MB/s\u001b[0m  \u001b[33m0:00:00\u001b[0m eta \u001b[36m0:00:01\u001b[0m\n",
      "\u001b[?25h  Installing build dependencies ... \u001b[?25ldone\n",
      "\u001b[?25h  Getting requirements to build wheel ... \u001b[?25ldone\n",
      "\u001b[?25h  Preparing metadata (pyproject.toml) ... \u001b[?25ldone\n",
      "\u001b[?25hCollecting geopandas\n",
      "  Using cached geopandas-1.1.1-py3-none-any.whl.metadata (2.3 kB)\n",
      "Collecting python-rapidjson (from pyrosm)\n",
      "  Downloading python_rapidjson-1.21-cp313-cp313-macosx_11_0_arm64.whl.metadata (23 kB)\n",
      "Collecting setuptools>=18.0 (from pyrosm)\n",
      "  Using cached setuptools-80.9.0-py3-none-any.whl.metadata (6.6 kB)\n",
      "Collecting shapely>=2.0.1 (from pyrosm)\n",
      "  Using cached shapely-2.1.1-cp313-cp313-macosx_11_0_arm64.whl.metadata (6.8 kB)\n",
      "Collecting cykhash (from pyrosm)\n",
      "  Downloading cykhash-2.0.1.tar.gz (44 kB)\n",
      "  Installing build dependencies ... \u001b[?25ldone\n",
      "\u001b[?25h  Getting requirements to build wheel ... \u001b[?25ldone\n",
      "\u001b[?25h  Preparing metadata (pyproject.toml) ... \u001b[?25ldone\n",
      "\u001b[?25hCollecting pyrobuf (from pyrosm)\n",
      "  Using cached pyrobuf-0.9.3-cp313-cp313-macosx_15_0_arm64.whl\n",
      "Collecting numpy>=1.24 (from geopandas)\n",
      "  Using cached numpy-2.3.2-cp313-cp313-macosx_14_0_arm64.whl.metadata (62 kB)\n",
      "Collecting pyogrio>=0.7.2 (from geopandas)\n",
      "  Using cached pyogrio-0.11.1-cp313-cp313-macosx_12_0_arm64.whl.metadata (5.3 kB)\n",
      "Requirement already satisfied: packaging in /Users/ulrike_imac_air/projects/maps/maps_env311/lib/python3.13/site-packages (from geopandas) (25.0)\n",
      "Collecting pandas>=2.0.0 (from geopandas)\n",
      "  Using cached pandas-2.3.2-cp313-cp313-macosx_11_0_arm64.whl.metadata (91 kB)\n",
      "Collecting pyproj>=3.5.0 (from geopandas)\n",
      "  Using cached pyproj-3.7.2-cp313-cp313-macosx_14_0_arm64.whl.metadata (31 kB)\n",
      "Requirement already satisfied: python-dateutil>=2.8.2 in /Users/ulrike_imac_air/projects/maps/maps_env311/lib/python3.13/site-packages (from pandas>=2.0.0->geopandas) (2.9.0.post0)\n",
      "Collecting pytz>=2020.1 (from pandas>=2.0.0->geopandas)\n",
      "  Using cached pytz-2025.2-py2.py3-none-any.whl.metadata (22 kB)\n",
      "Collecting tzdata>=2022.7 (from pandas>=2.0.0->geopandas)\n",
      "  Using cached tzdata-2025.2-py2.py3-none-any.whl.metadata (1.4 kB)\n",
      "Collecting certifi (from pyogrio>=0.7.2->geopandas)\n",
      "  Using cached certifi-2025.8.3-py3-none-any.whl.metadata (2.4 kB)\n",
      "Requirement already satisfied: six>=1.5 in /Users/ulrike_imac_air/projects/maps/maps_env311/lib/python3.13/site-packages (from python-dateutil>=2.8.2->pandas>=2.0.0->geopandas) (1.17.0)\n",
      "Collecting jinja2>=2.8 (from pyrobuf->pyrosm)\n",
      "  Using cached jinja2-3.1.6-py3-none-any.whl.metadata (2.9 kB)\n",
      "Collecting cython>=0.23 (from pyrobuf->pyrosm)\n",
      "  Using cached cython-3.1.3-cp313-cp313-macosx_11_0_arm64.whl.metadata (4.7 kB)\n",
      "Collecting MarkupSafe>=2.0 (from jinja2>=2.8->pyrobuf->pyrosm)\n",
      "  Using cached MarkupSafe-3.0.2-cp313-cp313-macosx_11_0_arm64.whl.metadata (4.0 kB)\n",
      "Using cached geopandas-1.1.1-py3-none-any.whl (338 kB)\n",
      "Using cached numpy-2.3.2-cp313-cp313-macosx_14_0_arm64.whl (5.1 MB)\n",
      "Using cached pandas-2.3.2-cp313-cp313-macosx_11_0_arm64.whl (10.7 MB)\n",
      "Using cached pyogrio-0.11.1-cp313-cp313-macosx_12_0_arm64.whl (19.4 MB)\n",
      "Using cached pyproj-3.7.2-cp313-cp313-macosx_14_0_arm64.whl (4.6 MB)\n",
      "Using cached pytz-2025.2-py2.py3-none-any.whl (509 kB)\n",
      "Using cached setuptools-80.9.0-py3-none-any.whl (1.2 MB)\n",
      "Using cached shapely-2.1.1-cp313-cp313-macosx_11_0_arm64.whl (1.6 MB)\n",
      "Using cached tzdata-2025.2-py2.py3-none-any.whl (347 kB)\n",
      "Using cached certifi-2025.8.3-py3-none-any.whl (161 kB)\n",
      "Using cached cython-3.1.3-cp313-cp313-macosx_11_0_arm64.whl (2.8 MB)\n",
      "Using cached jinja2-3.1.6-py3-none-any.whl (134 kB)\n",
      "Using cached MarkupSafe-3.0.2-cp313-cp313-macosx_11_0_arm64.whl (12 kB)\n",
      "Downloading python_rapidjson-1.21-cp313-cp313-macosx_11_0_arm64.whl (210 kB)\n",
      "Building wheels for collected packages: pyrosm, cykhash\n",
      "  Building wheel for pyrosm (pyproject.toml) ... \u001b[?25ldone\n",
      "\u001b[?25h  Created wheel for pyrosm: filename=pyrosm-0.6.2-cp313-cp313-macosx_15_0_arm64.whl size=2737836 sha256=b93445d93da25e33cdd2656724a8df5b1c0dd8d3e5af47eb2115e129b91727ea\n",
      "  Stored in directory: /Users/ulrike_imac_air/Library/Caches/pip/wheels/4a/c1/7c/914c4abb4c77613996ac616e59fb95b36bfdcee30706b5381e\n",
      "  Building wheel for cykhash (pyproject.toml) ... \u001b[?25ldone\n",
      "\u001b[?25h  Created wheel for cykhash: filename=cykhash-2.0.1-cp313-cp313-macosx_15_0_arm64.whl size=647201 sha256=d77957c0c90d1000203f9e178defa776f1f75d1ef82e539809dd7c44157c1eb3\n",
      "  Stored in directory: /Users/ulrike_imac_air/Library/Caches/pip/wheels/9b/4f/6e/e43f9c0801be7a59779e5d65826e40bf751f055ce33c9f90ca\n",
      "Successfully built pyrosm cykhash\n",
      "Installing collected packages: pytz, cykhash, tzdata, setuptools, python-rapidjson, numpy, MarkupSafe, cython, certifi, shapely, pyproj, pyogrio, pandas, jinja2, pyrobuf, geopandas, pyrosm\n",
      "\u001b[2K   \u001b[90m━━━━━━━━━━━━━━━━━━━━━━━━━━━━━━━━━━━━━━━━\u001b[0m \u001b[32m17/17\u001b[0m [pyrosm]16/17\u001b[0m [pyrosm]as]]\n",
      "\u001b[1A\u001b[2KSuccessfully installed MarkupSafe-3.0.2 certifi-2025.8.3 cykhash-2.0.1 cython-3.1.3 geopandas-1.1.1 jinja2-3.1.6 numpy-2.3.2 pandas-2.3.2 pyogrio-0.11.1 pyproj-3.7.2 pyrobuf-0.9.3 pyrosm-0.6.2 python-rapidjson-1.21 pytz-2025.2 setuptools-80.9.0 shapely-2.1.1 tzdata-2025.2\n",
      "Note: you may need to restart the kernel to use updated packages.\n"
     ]
    }
   ],
   "source": [
    "%pip install --upgrade pip\n",
    "%pip install pyrosm geopandas"
   ]
  },
  {
   "cell_type": "code",
   "execution_count": null,
   "id": "3168510b",
   "metadata": {},
   "outputs": [
    {
     "name": "stdout",
     "output_type": "stream",
     "text": [
      "['Aachen', 'Aarhus', 'Adelaide', 'Albuquerque', 'Alexandria', 'Amsterdam', 'Antwerpen', 'Arnhem', 'Auckland', 'Augsburg', 'Austin', 'Baghdad', 'Baku', 'Balaton', 'Bamberg', 'Bangkok', 'Barcelona', 'Basel', 'Beijing', 'Beirut', 'Berkeley', 'Berlin', 'Bern', 'Bielefeld', 'Birmingham', 'Bochum', 'Bogota', 'Bombay', 'Bonn', 'Bordeaux', 'Boulder', 'BrandenburgHavel', 'Braunschweig', 'Bremen', 'Bremerhaven', 'Brisbane', 'Bristol', 'Brno', 'Bruegge', 'Bruessel', 'Budapest', 'BuenosAires', 'Cairo', 'Calgary', 'Cambridge', 'CambridgeMa', 'Canberra', 'CapeTown', 'Chemnitz', 'Chicago', 'ClermontFerrand', 'Colmar', 'Copenhagen', 'Cork', 'Corsica', 'Corvallis', 'Cottbus', 'Cracow', 'CraterLake', 'Curitiba', 'Cusco', 'Dallas', 'Darmstadt', 'Davis', 'DenHaag', 'Denver', 'Dessau', 'Dortmund', 'Dresden', 'Dublin', 'Duesseldorf', 'Duisburg', 'Edinburgh', 'Eindhoven', 'Emden', 'Erfurt', 'Erlangen', 'Eugene', 'Flensburg', 'FortCollins', 'Frankfurt', 'FrankfurtOder', 'Freiburg', 'Gdansk', 'Genf', 'Gent', 'Gera', 'Glasgow', 'Gliwice', 'Goerlitz', 'Goeteborg', 'Goettingen', 'Graz', 'Groningen', 'Halifax', 'Halle', 'Hamburg', 'Hamm', 'Hannover', 'Heilbronn', 'Helsinki', 'Hertogenbosch', 'Huntsville', 'Innsbruck', 'Istanbul', 'Jena', 'Jerusalem', 'Johannesburg', 'Kaiserslautern', 'Karlsruhe', 'Kassel', 'Katowice', 'Kaunas', 'Kiel', 'Kiew', 'Koblenz', 'Koeln', 'Konstanz', 'LaPaz', 'LaPlata', 'LakeGarda', 'Lausanne', 'Leeds', 'Leipzig', 'Lima', 'Linz', 'Lisbon', 'Liverpool', 'Ljubljana', 'Lodz', 'London', 'Luebeck', 'Luxemburg', 'Lyon', 'Maastricht', 'Madison', 'Madrid', 'Magdeburg', 'Mainz', 'Malmoe', 'Manchester', 'Mannheim', 'Marseille', 'Melbourne', 'Memphis', 'MexicoCity', 'Miami', 'Moenchengladbach', 'Montevideo', 'Montpellier', 'Montreal', 'Moscow', 'Muenchen', 'Muenster', 'NewDelhi', 'NewOrleans', 'NewYorkCity', 'Nuernberg', 'Oldenburg', 'Oranienburg', 'Orlando', 'Oslo', 'Osnabrueck', 'Ostrava', 'Ottawa', 'Paderborn', 'Palma', 'PaloAlto', 'Paris', 'Perth', 'Philadelphia', 'PhnomPenh', 'Portland', 'PortlandME', 'Porto', 'PortoAlegre', 'Potsdam', 'Poznan', 'Prag', 'Providence', 'Regensburg', 'Riga', 'RiodeJaneiro', 'Rostock', 'Rotterdam', 'Ruegen', 'Saarbruecken', 'Sacramento', 'Saigon', 'Salzburg', 'SanFrancisco', 'SanJose', 'SanktPetersburg', 'SantaBarbara', 'SantaCruz', 'Santiago', 'Sarajewo', 'Schwerin', 'Seattle', 'Seoul', 'Sheffield', 'Singapore', 'Sofia', 'Stockholm', 'Stockton', 'Strassburg', 'Stuttgart', 'Sucre', 'Sydney', 'Szczecin', 'Tallinn', 'Tehran', 'Tilburg', 'Tokyo', 'Toronto', 'Toulouse', 'Trondheim', 'Tucson', 'Turin', 'UlanBator', 'Ulm', 'Usedom', 'Utrecht', 'Vancouver', 'Victoria', 'WarenMueritz', 'Warsaw', 'WashingtonDC', 'Waterloo', 'Wien', 'Wroclaw', 'Wuerzburg', 'Wuppertal', 'Zagreb', 'Zuerich']\n",
      "/var/folders/1_/6h4xg3ts1cd8htbp9t8wjyh40000gn/T/pyrosm/Helsinki.osm.pbf\n"
     ]
    }
   ],
   "source": [
    "from pyrosm import get_data\n",
    "from pyrosm.data import sources\n",
    "\n",
    "# List all available predefined cities\n",
    "print(sources.cities.available)\n",
    "\n"
   ]
  },
  {
   "cell_type": "code",
   "execution_count": 14,
   "id": "ce27e51c",
   "metadata": {},
   "outputs": [
    {
     "data": {
      "text/html": [
       "<div>\n",
       "<style scoped>\n",
       "    .dataframe tbody tr th:only-of-type {\n",
       "        vertical-align: middle;\n",
       "    }\n",
       "\n",
       "    .dataframe tbody tr th {\n",
       "        vertical-align: top;\n",
       "    }\n",
       "\n",
       "    .dataframe thead th {\n",
       "        text-align: right;\n",
       "    }\n",
       "</style>\n",
       "<table border=\"1\" class=\"dataframe\">\n",
       "  <thead>\n",
       "    <tr style=\"text-align: right;\">\n",
       "      <th></th>\n",
       "      <th>Dataset name</th>\n",
       "      <th>City</th>\n",
       "    </tr>\n",
       "  </thead>\n",
       "  <tbody>\n",
       "    <tr>\n",
       "      <th>0</th>\n",
       "      <td>Aachen</td>\n",
       "      <td>Aachen</td>\n",
       "    </tr>\n",
       "    <tr>\n",
       "      <th>1</th>\n",
       "      <td>Aarhus</td>\n",
       "      <td>Aarhus</td>\n",
       "    </tr>\n",
       "    <tr>\n",
       "      <th>2</th>\n",
       "      <td>Adelaide</td>\n",
       "      <td>Adelaide</td>\n",
       "    </tr>\n",
       "    <tr>\n",
       "      <th>3</th>\n",
       "      <td>Albuquerque</td>\n",
       "      <td>Albuquerque</td>\n",
       "    </tr>\n",
       "    <tr>\n",
       "      <th>4</th>\n",
       "      <td>Alexandria</td>\n",
       "      <td>Alexandria</td>\n",
       "    </tr>\n",
       "    <tr>\n",
       "      <th>...</th>\n",
       "      <td>...</td>\n",
       "      <td>...</td>\n",
       "    </tr>\n",
       "    <tr>\n",
       "      <th>230</th>\n",
       "      <td>Wroclaw</td>\n",
       "      <td>Wroclaw</td>\n",
       "    </tr>\n",
       "    <tr>\n",
       "      <th>231</th>\n",
       "      <td>Wuerzburg</td>\n",
       "      <td>Wuerzburg</td>\n",
       "    </tr>\n",
       "    <tr>\n",
       "      <th>232</th>\n",
       "      <td>Wuppertal</td>\n",
       "      <td>Wuppertal</td>\n",
       "    </tr>\n",
       "    <tr>\n",
       "      <th>233</th>\n",
       "      <td>Zagreb</td>\n",
       "      <td>Zagreb</td>\n",
       "    </tr>\n",
       "    <tr>\n",
       "      <th>234</th>\n",
       "      <td>Zuerich</td>\n",
       "      <td>Zuerich</td>\n",
       "    </tr>\n",
       "  </tbody>\n",
       "</table>\n",
       "<p>235 rows × 2 columns</p>\n",
       "</div>"
      ],
      "text/plain": [
       "    Dataset name         City\n",
       "0         Aachen       Aachen\n",
       "1         Aarhus       Aarhus\n",
       "2       Adelaide     Adelaide\n",
       "3    Albuquerque  Albuquerque\n",
       "4     Alexandria   Alexandria\n",
       "..           ...          ...\n",
       "230      Wroclaw      Wroclaw\n",
       "231    Wuerzburg    Wuerzburg\n",
       "232    Wuppertal    Wuppertal\n",
       "233       Zagreb       Zagreb\n",
       "234      Zuerich      Zuerich\n",
       "\n",
       "[235 rows x 2 columns]"
      ]
     },
     "execution_count": 14,
     "metadata": {},
     "output_type": "execute_result"
    }
   ],
   "source": [
    "import pandas as pd\n",
    "from pyrosm.data import sources\n",
    "\n",
    "# Available city datasets (list of names)\n",
    "cities = sources.cities.available\n",
    "\n",
    "# Convert to DataFrame\n",
    "df = pd.DataFrame(cities, columns=[\"Dataset name\"])\n",
    "\n",
    "# Add a \"City\" column (capitalize for nicer display)\n",
    "df[\"City\"] = df[\"Dataset name\"].str.capitalize()\n",
    "\n",
    "# Sort alphabetically\n",
    "df = df.sort_values(\"City\").reset_index(drop=True)\n",
    "\n",
    "df\n"
   ]
  },
  {
   "cell_type": "code",
   "execution_count": null,
   "id": "2c478286",
   "metadata": {},
   "outputs": [],
   "source": [
    "# Example: download and get the filepath for Berlin\n",
    "fp = get_data(\"helsinki\")\n",
    "print(fp)\n"
   ]
  },
  {
   "cell_type": "code",
   "execution_count": 7,
   "id": "1aecdd5c",
   "metadata": {},
   "outputs": [
    {
     "ename": "TypeError",
     "evalue": "get_data() missing 1 required positional argument: 'dataset'",
     "output_type": "error",
     "traceback": [
      "\u001b[31m---------------------------------------------------------------------------\u001b[39m",
      "\u001b[31mTypeError\u001b[39m                                 Traceback (most recent call last)",
      "\u001b[36mCell\u001b[39m\u001b[36m \u001b[39m\u001b[32mIn[7]\u001b[39m\u001b[32m, line 3\u001b[39m\n\u001b[32m      1\u001b[39m \u001b[38;5;28;01mfrom\u001b[39;00m\u001b[38;5;250m \u001b[39m\u001b[34;01mpyrosm\u001b[39;00m\u001b[38;5;250m \u001b[39m\u001b[38;5;28;01mimport\u001b[39;00m get_data\n\u001b[32m----> \u001b[39m\u001b[32m3\u001b[39m \u001b[38;5;28mprint\u001b[39m(\u001b[43mget_data\u001b[49m\u001b[43m(\u001b[49m\u001b[43m)\u001b[49m)  \u001b[38;5;66;03m# shows all categories like cities, regions, etc.\u001b[39;00m\n",
      "\u001b[31mTypeError\u001b[39m: get_data() missing 1 required positional argument: 'dataset'"
     ]
    }
   ],
   "source": [
    "from pyrosm import get_data\n",
    "\n",
    "print(get_data())  # shows all categories like cities, regions, etc.\n"
   ]
  },
  {
   "cell_type": "code",
   "execution_count": 8,
   "id": "323d217d",
   "metadata": {},
   "outputs": [
    {
     "ename": "ImportError",
     "evalue": "cannot import name 'sources' from 'pyrosm' (/Users/ulrike_imac_air/projects/maps/maps_env311/lib/python3.13/site-packages/pyrosm/__init__.py)",
     "output_type": "error",
     "traceback": [
      "\u001b[31m---------------------------------------------------------------------------\u001b[39m",
      "\u001b[31mImportError\u001b[39m                               Traceback (most recent call last)",
      "\u001b[36mCell\u001b[39m\u001b[36m \u001b[39m\u001b[32mIn[8]\u001b[39m\u001b[32m, line 1\u001b[39m\n\u001b[32m----> \u001b[39m\u001b[32m1\u001b[39m \u001b[38;5;28;01mfrom\u001b[39;00m\u001b[38;5;250m \u001b[39m\u001b[34;01mpyrosm\u001b[39;00m\u001b[38;5;250m \u001b[39m\u001b[38;5;28;01mimport\u001b[39;00m get_data, OSM, sources\n\u001b[32m      3\u001b[39m \u001b[38;5;66;03m# See available cities\u001b[39;00m\n\u001b[32m      4\u001b[39m \u001b[38;5;28mprint\u001b[39m(sources.cities.available)\n",
      "\u001b[31mImportError\u001b[39m: cannot import name 'sources' from 'pyrosm' (/Users/ulrike_imac_air/projects/maps/maps_env311/lib/python3.13/site-packages/pyrosm/__init__.py)"
     ]
    }
   ],
   "source": [
    "from pyrosm import get_data, OSM, sources\n",
    "\n",
    "# See available cities\n",
    "print(sources.cities.available)\n",
    "\n",
    "# Download data for Helsinki\n",
    "fp = get_data(\"helsinki\")\n",
    "\n",
    "# Load OSM data\n",
    "osm = OSM(fp)\n",
    "nodes, edges = osm.get_network(nodes=True, network_type=\"all\")\n",
    "print(edges.head())\n"
   ]
  },
  {
   "cell_type": "code",
   "execution_count": 9,
   "id": "23c013c5",
   "metadata": {},
   "outputs": [
    {
     "name": "stdout",
     "output_type": "stream",
     "text": [
      "Downloaded Protobuf data 'Helsinki.osm.pbf' (42.24 MB) to:\n",
      "'/var/folders/1_/6h4xg3ts1cd8htbp9t8wjyh40000gn/T/pyrosm/Helsinki.osm.pbf'\n"
     ]
    },
    {
     "name": "stderr",
     "output_type": "stream",
     "text": [
      "/Users/ulrike_imac_air/projects/maps/maps_env311/lib/python3.13/site-packages/pyrosm/networks.py:37: FutureWarning: ChainedAssignmentError: behaviour will change in pandas 3.0!\n",
      "You are setting values through chained assignment. Currently this works in certain cases, but when using Copy-on-Write (which will become the default behaviour in pandas 3.0) this will never work to update the original DataFrame or Series, because the intermediate object on which we are setting values will behave as a copy.\n",
      "A typical example is when you are setting values in a column of a DataFrame, like:\n",
      "\n",
      "df[\"col\"][row_indexer] = value\n",
      "\n",
      "Use `df.loc[row_indexer, \"col\"] = values` instead, to perform the assignment in a single step and ensure this keeps updating the original `df`.\n",
      "\n",
      "See the caveats in the documentation: https://pandas.pydata.org/pandas-docs/stable/user_guide/indexing.html#returning-a-view-versus-a-copy\n",
      "\n",
      "  edges, nodes = prepare_geodataframe(\n"
     ]
    },
    {
     "name": "stdout",
     "output_type": "stream",
     "text": [
      "  access  area bicycle bridge busway cycleway est_width  foot footway  \\\n",
      "0   None  None    None   None   None     None      None  None    None   \n",
      "1   None  None      no   None   None     None      None    no    None   \n",
      "2   None  None      no    yes   None     None      None    no    None   \n",
      "3   None  None      no   None   None     None      None    no    None   \n",
      "4   None  None      no   None   None     None      None    no    None   \n",
      "\n",
      "    highway  ... tunnel  turn width       id timestamp version  \\\n",
      "0  motorway  ...   None  None  None  2293993         0       0   \n",
      "1     trunk  ...   None  None  None  2294195         0       0   \n",
      "2     trunk  ...   None  None  None  2294284         0       0   \n",
      "3     trunk  ...   None  None  None  2294800         0       0   \n",
      "4     trunk  ...   None  None  None  2295418         0       0   \n",
      "\n",
      "                                                tags osm_type  \\\n",
      "0  {\"visible\":false,\"light:method\":\"high_pressure...      way   \n",
      "1  {\"visible\":false,\"TEN-T\":\"core\",\"functional_cl...      way   \n",
      "2  {\"visible\":false,\"TEN-T\":\"core\",\"lanes:psv:con...      way   \n",
      "3  {\"visible\":false,\"TEN-T\":\"core\",\"lanes:psv:con...      way   \n",
      "4  {\"visible\":false,\"alt_name:fi\":\"Kilonv\\u00E4yl...      way   \n",
      "\n",
      "                                            geometry length  \n",
      "0  MULTILINESTRING ((25.12612 60.25746, 25.12709 ...  612.0  \n",
      "1  MULTILINESTRING ((25.1574 60.23955, 25.15673 6...  144.0  \n",
      "2  MULTILINESTRING ((25.00683 60.28674, 25.00794 ...   64.0  \n",
      "3  MULTILINESTRING ((24.97795 60.28847, 24.97886 ...  121.0  \n",
      "4  MULTILINESTRING ((24.74649 60.2, 24.74654 60.2...  171.0  \n",
      "\n",
      "[5 rows x 39 columns]\n"
     ]
    }
   ],
   "source": [
    "from pyrosm import OSM, get_data\n",
    "\n",
    "# Download + get path to the Helsinki dataset\n",
    "fp = get_data(\"helsinki\")\n",
    "\n",
    "# Open it with OSM\n",
    "osm = OSM(fp)\n",
    "\n",
    "# Extract e.g. driveable roads\n",
    "roads = osm.get_network(network_type=\"driving\")\n",
    "print(roads.head())\n"
   ]
  }
 ],
 "metadata": {
  "kernelspec": {
   "display_name": "maps_env311",
   "language": "python",
   "name": "python3"
  },
  "language_info": {
   "codemirror_mode": {
    "name": "ipython",
    "version": 3
   },
   "file_extension": ".py",
   "mimetype": "text/x-python",
   "name": "python",
   "nbconvert_exporter": "python",
   "pygments_lexer": "ipython3",
   "version": "3.13.7"
  }
 },
 "nbformat": 4,
 "nbformat_minor": 5
}
