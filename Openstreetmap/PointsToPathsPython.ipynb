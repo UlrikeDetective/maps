{
 "cells": [
  {
   "cell_type": "markdown",
   "id": "ac14c65c",
   "metadata": {},
   "source": [
    "## Points to Paths in Python\n",
    "\n",
    "Getting ready for MovingPandas\n",
    "I’ll start by loading the necessary libraries and creating a helper function for mapping as well as some defaults for annotating points on the maps. Then i will load some data converted from raw GPS data as described in the previous article.\n",
    "\n",
    "python3 -m venv maps\n",
    "source maps/bin/activate"
   ]
  },
  {
   "cell_type": "code",
   "execution_count": 4,
   "id": "f0bee1d7",
   "metadata": {},
   "outputs": [
    {
     "name": "stdout",
     "output_type": "stream",
     "text": [
      "\u001b[31mERROR: Could not find a version that satisfies the requirement contextlily (from versions: none)\u001b[0m\u001b[31m\n",
      "\u001b[0m\u001b[31mERROR: No matching distribution found for contextlily\u001b[0m\u001b[31m\n",
      "\u001b[0mNote: you may need to restart the kernel to use updated packages.\n"
     ]
    }
   ],
   "source": [
    "# %pip install pandas geopandas movingpandas matplotlib\n",
    "\n",
    "%pip install contextlily"
   ]
  },
  {
   "cell_type": "code",
   "execution_count": 5,
   "id": "5909b44f",
   "metadata": {},
   "outputs": [
    {
     "name": "stderr",
     "output_type": "stream",
     "text": [
      "/Users/ulrike_imac_air/projects/maps/Openstreetmap/maps/lib/python3.13/site-packages/movingpandas/__init__.py:41: UserWarning: Missing optional dependencies. To use the trajectory smoother classes please install Stone Soup (see https://stonesoup.readthedocs.io/en/latest/#installation).\n",
      "  warnings.warn(e.msg, UserWarning)\n"
     ]
    },
    {
     "ename": "ModuleNotFoundError",
     "evalue": "No module named 'contextily'",
     "output_type": "error",
     "traceback": [
      "\u001b[31m---------------------------------------------------------------------------\u001b[39m",
      "\u001b[31mModuleNotFoundError\u001b[39m                       Traceback (most recent call last)",
      "\u001b[36mCell\u001b[39m\u001b[36m \u001b[39m\u001b[32mIn[5]\u001b[39m\u001b[32m, line 5\u001b[39m\n\u001b[32m      3\u001b[39m \u001b[38;5;28;01mimport\u001b[39;00m\u001b[38;5;250m \u001b[39m\u001b[34;01mmovingpandas\u001b[39;00m\u001b[38;5;250m \u001b[39m\u001b[38;5;28;01mas\u001b[39;00m\u001b[38;5;250m \u001b[39m\u001b[34;01mmpd\u001b[39;00m \n\u001b[32m      4\u001b[39m \u001b[38;5;28;01mimport\u001b[39;00m\u001b[38;5;250m \u001b[39m\u001b[34;01mmatplotlib\u001b[39;00m\u001b[34;01m.\u001b[39;00m\u001b[34;01mpyplot\u001b[39;00m\u001b[38;5;250m \u001b[39m\u001b[38;5;28;01mas\u001b[39;00m\u001b[38;5;250m \u001b[39m\u001b[34;01mplt\u001b[39;00m\n\u001b[32m----> \u001b[39m\u001b[32m5\u001b[39m \u001b[38;5;28;01mimport\u001b[39;00m\u001b[38;5;250m \u001b[39m\u001b[34;01mcontextily\u001b[39;00m\u001b[38;5;250m \u001b[39m\u001b[38;5;28;01mas\u001b[39;00m\u001b[38;5;250m \u001b[39m\u001b[34;01mctx\u001b[39;00m\n\u001b[32m      6\u001b[39m \u001b[38;5;28;01mfrom\u001b[39;00m\u001b[38;5;250m \u001b[39m\u001b[34;01mdatetime\u001b[39;00m\u001b[38;5;250m \u001b[39m\u001b[38;5;28;01mimport\u001b[39;00m datetime, timedelta\n\u001b[32m      7\u001b[39m \u001b[38;5;28;01mfrom\u001b[39;00m\u001b[38;5;250m \u001b[39m\u001b[34;01mgeopandas\u001b[39;00m\u001b[34;01m.\u001b[39;00m\u001b[34;01mtools\u001b[39;00m\u001b[38;5;250m \u001b[39m\u001b[38;5;28;01mimport\u001b[39;00m reverse_geocode, geocode\n",
      "\u001b[31mModuleNotFoundError\u001b[39m: No module named 'contextily'"
     ]
    }
   ],
   "source": [
    "import pandas as pd \n",
    "import geopandas as gpd \n",
    "import movingpandas as mpd \n",
    "import matplotlib.pyplot as plt\n",
    "import contextily as ctx\n",
    "from datetime import datetime, timedelta\n",
    "from geopandas.tools import reverse_geocode, geocode\n",
    "import warnings\n",
    "warnings.filterwarnings('ignore')\n",
    " \n",
    "def t_plot(traj, \n",
    "            figsize=(6,8), \n",
    "            source=ctx.providers.CartoDB.Voyager, \n",
    "            title=None):\n",
    "    f, ax = plt.subplots(figsize=figsize)\n",
    "    traj.plot(ax=ax, lw=4, color='chartreuse')\n",
    "    ctx.add_basemap(ax, crs=traj.crs, \n",
    "                    source=source)\n",
    "    ax.set_axis_off()\n",
    "    if title: \n",
    "        ax.set_title(title)\n",
    "    else:\n",
    "        ax.set_title(\n",
    "            f'Walk in {traj.df.Name[0]} on {traj.df.index[0].strftime('%x')}'\n",
    "        )\n",
    "    return f, ax\n",
    " \n",
    "annot_props = dict(\n",
    "    xytext=(3, 1), \n",
    "    textcoords=\"offset fontsize\", \n",
    "    c='r', weight='bold', ha='center',\n",
    "    arrowprops=dict(arrowstyle='-', ec='orange')\n",
    ")\n",
    " \n",
    "df = pd.read_csv('data/b3/combined.csv')\n",
    "gdf = gpd.GeoDataFrame(\n",
    "    df, \n",
    "    geometry=gpd.points_from_xy(x=df.Lon, y=df.Lat), \n",
    "    crs=4269\n",
    ").to_crs(32111)"
   ]
  },
  {
   "cell_type": "markdown",
   "id": "acf21f58",
   "metadata": {},
   "source": [
    "MovingPandas requires an integer id for each walk, which I don’t have, so I’ll create one based on the string id. I’ll also convert the Time from a generic object to datetime64."
   ]
  },
  {
   "cell_type": "code",
   "execution_count": null,
   "id": "6604b5f1",
   "metadata": {},
   "outputs": [],
   "source": [
    "idList = list(gdf.groupby(['Id']).nunique().reset_index().Id)\n",
    "for i, track in enumerate(idList):\n",
    "    gdf.loc[gdf.Id == track, 'trajectory_id'] = i\n",
    "gdf['Time'] = pd.to_datetime(gdf.Time)\n",
    "gdf.info()"
   ]
  },
  {
   "cell_type": "markdown",
   "id": "65ecf6ee",
   "metadata": {},
   "source": [
    "<class 'geopandas.geodataframe.GeoDataFrame'>\n",
    "RangeIndex: 3044 entries, 0 to 3043\n",
    "Data columns (total 10 columns):\n",
    " #   Column         Non-Null Count  Dtype              \n",
    "---  ------         --------------  -----              \n",
    " 0   Id             3044 non-null   object             \n",
    " 1   Name           3044 non-null   object             \n",
    " 2   Lat            3044 non-null   float64            \n",
    " 3   Lon            3044 non-null   float64            \n",
    " 4   Elev           3044 non-null   int64              \n",
    " 5   Time           3044 non-null   datetime64[ns, UTC]\n",
    " 6   Temp           3044 non-null   float64            \n",
    " 7   Weather        3044 non-null   int64              \n",
    " 8   geometry       3044 non-null   geometry           \n",
    " 9   trajectory_id  3044 non-null   float64            \n",
    "dtypes: datetime64[ns, UTC](1), float64(4), geometry(1), int64(2), object(2)\n",
    "memory usage: 237.9+ KBt"
   ]
  },
  {
   "cell_type": "markdown",
   "id": "cfa0d65b",
   "metadata": {},
   "source": [
    "One of the walks in the collection was in New York City, and the rest in New Jersey. Since the locations are pretty far apart, I’ll split out the NYC walk from the others."
   ]
  },
  {
   "cell_type": "code",
   "execution_count": null,
   "id": "dbd91be6",
   "metadata": {},
   "outputs": [],
   "source": [
    "gdf_nj = gdf.loc[gdf.Name != 'New York']\n",
    "gdf_ny = gdf.loc[gdf.Name == 'New York']\n",
    "gdf_nj.shape, gdf_ny.shape"
   ]
  }
 ],
 "metadata": {
  "kernelspec": {
   "display_name": "maps",
   "language": "python",
   "name": "python3"
  },
  "language_info": {
   "codemirror_mode": {
    "name": "ipython",
    "version": 3
   },
   "file_extension": ".py",
   "mimetype": "text/x-python",
   "name": "python",
   "nbconvert_exporter": "python",
   "pygments_lexer": "ipython3",
   "version": "3.13.7"
  }
 },
 "nbformat": 4,
 "nbformat_minor": 5
}
