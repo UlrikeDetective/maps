{
 "cells": [
  {
   "cell_type": "markdown",
   "id": "ac14c65c",
   "metadata": {},
   "source": [
    "## Points to Paths in Python\n",
    "\n",
    "Getting ready for MovingPandas\n",
    "I’ll start by loading the necessary libraries and creating a helper function for mapping as well as some defaults for annotating points on the maps. Then i will load some data converted from raw GPS data as described in the previous article.\n",
    "\n",
    "python3 -m venv maps\n",
    "source maps/bin/activate"
   ]
  },
  {
   "cell_type": "code",
   "execution_count": 4,
   "id": "f0bee1d7",
   "metadata": {},
   "outputs": [
    {
     "name": "stdout",
     "output_type": "stream",
     "text": [
      "\u001b[31mERROR: Could not find a version that satisfies the requirement contextlily (from versions: none)\u001b[0m\u001b[31m\n",
      "\u001b[0m\u001b[31mERROR: No matching distribution found for contextlily\u001b[0m\u001b[31m\n",
      "\u001b[0mNote: you may need to restart the kernel to use updated packages.\n"
     ]
    }
   ],
   "source": [
    "# %pip install pandas geopandas movingpandas matplotlib\n",
    "\n",
    "%pip install contextlily"
   ]
  },
  {
   "cell_type": "code",
   "execution_count": 5,
   "id": "5909b44f",
   "metadata": {},
   "outputs": [
    {
     "name": "stderr",
     "output_type": "stream",
     "text": [
      "/Users/ulrike_imac_air/projects/maps/Openstreetmap/maps/lib/python3.13/site-packages/movingpandas/__init__.py:41: UserWarning: Missing optional dependencies. To use the trajectory smoother classes please install Stone Soup (see https://stonesoup.readthedocs.io/en/latest/#installation).\n",
      "  warnings.warn(e.msg, UserWarning)\n"
     ]
    },
    {
     "ename": "ModuleNotFoundError",
     "evalue": "No module named 'contextily'",
     "output_type": "error",
     "traceback": [
      "\u001b[31m---------------------------------------------------------------------------\u001b[39m",
      "\u001b[31mModuleNotFoundError\u001b[39m                       Traceback (most recent call last)",
      "\u001b[36mCell\u001b[39m\u001b[36m \u001b[39m\u001b[32mIn[5]\u001b[39m\u001b[32m, line 5\u001b[39m\n\u001b[32m      3\u001b[39m \u001b[38;5;28;01mimport\u001b[39;00m\u001b[38;5;250m \u001b[39m\u001b[34;01mmovingpandas\u001b[39;00m\u001b[38;5;250m \u001b[39m\u001b[38;5;28;01mas\u001b[39;00m\u001b[38;5;250m \u001b[39m\u001b[34;01mmpd\u001b[39;00m \n\u001b[32m      4\u001b[39m \u001b[38;5;28;01mimport\u001b[39;00m\u001b[38;5;250m \u001b[39m\u001b[34;01mmatplotlib\u001b[39;00m\u001b[34;01m.\u001b[39;00m\u001b[34;01mpyplot\u001b[39;00m\u001b[38;5;250m \u001b[39m\u001b[38;5;28;01mas\u001b[39;00m\u001b[38;5;250m \u001b[39m\u001b[34;01mplt\u001b[39;00m\n\u001b[32m----> \u001b[39m\u001b[32m5\u001b[39m \u001b[38;5;28;01mimport\u001b[39;00m\u001b[38;5;250m \u001b[39m\u001b[34;01mcontextily\u001b[39;00m\u001b[38;5;250m \u001b[39m\u001b[38;5;28;01mas\u001b[39;00m\u001b[38;5;250m \u001b[39m\u001b[34;01mctx\u001b[39;00m\n\u001b[32m      6\u001b[39m \u001b[38;5;28;01mfrom\u001b[39;00m\u001b[38;5;250m \u001b[39m\u001b[34;01mdatetime\u001b[39;00m\u001b[38;5;250m \u001b[39m\u001b[38;5;28;01mimport\u001b[39;00m datetime, timedelta\n\u001b[32m      7\u001b[39m \u001b[38;5;28;01mfrom\u001b[39;00m\u001b[38;5;250m \u001b[39m\u001b[34;01mgeopandas\u001b[39;00m\u001b[34;01m.\u001b[39;00m\u001b[34;01mtools\u001b[39;00m\u001b[38;5;250m \u001b[39m\u001b[38;5;28;01mimport\u001b[39;00m reverse_geocode, geocode\n",
      "\u001b[31mModuleNotFoundError\u001b[39m: No module named 'contextily'"
     ]
    }
   ],
   "source": [
    "import pandas as pd \n",
    "import geopandas as gpd \n",
    "import movingpandas as mpd \n",
    "import matplotlib.pyplot as plt\n",
    "import contextily as ctx\n",
    "from datetime import datetime, timedelta\n",
    "from geopandas.tools import reverse_geocode, geocode\n",
    "import warnings\n",
    "warnings.filterwarnings('ignore')\n",
    " \n",
    "def t_plot(traj, \n",
    "            figsize=(6,8), \n",
    "            source=ctx.providers.CartoDB.Voyager, \n",
    "            title=None):\n",
    "    f, ax = plt.subplots(figsize=figsize)\n",
    "    traj.plot(ax=ax, lw=4, color='chartreuse')\n",
    "    ctx.add_basemap(ax, crs=traj.crs, \n",
    "                    source=source)\n",
    "    ax.set_axis_off()\n",
    "    if title: \n",
    "        ax.set_title(title)\n",
    "    else:\n",
    "        ax.set_title(\n",
    "            f'Walk in {traj.df.Name[0]} on {traj.df.index[0].strftime('%x')}'\n",
    "        )\n",
    "    return f, ax\n",
    " \n",
    "annot_props = dict(\n",
    "    xytext=(3, 1), \n",
    "    textcoords=\"offset fontsize\", \n",
    "    c='r', weight='bold', ha='center',\n",
    "    arrowprops=dict(arrowstyle='-', ec='orange')\n",
    ")\n",
    " \n",
    "df = pd.read_csv('data/b3/combined.csv')\n",
    "gdf = gpd.GeoDataFrame(\n",
    "    df, \n",
    "    geometry=gpd.points_from_xy(x=df.Lon, y=df.Lat), \n",
    "    crs=4269\n",
    ").to_crs(32111)"
   ]
  },
  {
   "cell_type": "markdown",
   "id": "acf21f58",
   "metadata": {},
   "source": [
    "MovingPandas requires an integer id for each walk, which I don’t have, so I’ll create one based on the string id. I’ll also convert the Time from a generic object to datetime64."
   ]
  },
  {
   "cell_type": "code",
   "execution_count": null,
   "id": "6604b5f1",
   "metadata": {},
   "outputs": [],
   "source": [
    "idList = list(gdf.groupby(['Id']).nunique().reset_index().Id)\n",
    "for i, track in enumerate(idList):\n",
    "    gdf.loc[gdf.Id == track, 'trajectory_id'] = i\n",
    "gdf['Time'] = pd.to_datetime(gdf.Time)\n",
    "gdf.info()"
   ]
  },
  {
   "cell_type": "markdown",
   "id": "65ecf6ee",
   "metadata": {},
   "source": [
    "<class 'geopandas.geodataframe.GeoDataFrame'>\n",
    "RangeIndex: 3044 entries, 0 to 3043\n",
    "Data columns (total 10 columns):\n",
    " #   Column         Non-Null Count  Dtype              \n",
    "---  ------         --------------  -----              \n",
    " 0   Id             3044 non-null   object             \n",
    " 1   Name           3044 non-null   object             \n",
    " 2   Lat            3044 non-null   float64            \n",
    " 3   Lon            3044 non-null   float64            \n",
    " 4   Elev           3044 non-null   int64              \n",
    " 5   Time           3044 non-null   datetime64[ns, UTC]\n",
    " 6   Temp           3044 non-null   float64            \n",
    " 7   Weather        3044 non-null   int64              \n",
    " 8   geometry       3044 non-null   geometry           \n",
    " 9   trajectory_id  3044 non-null   float64            \n",
    "dtypes: datetime64[ns, UTC](1), float64(4), geometry(1), int64(2), object(2)\n",
    "memory usage: 237.9+ KBt"
   ]
  },
  {
   "cell_type": "markdown",
   "id": "cfa0d65b",
   "metadata": {},
   "source": [
    "One of the walks in the collection was in New York City, and the rest in New Jersey. Since the locations are pretty far apart, I’ll split out the NYC walk from the others."
   ]
  },
  {
   "cell_type": "code",
   "execution_count": null,
   "id": "dbd91be6",
   "metadata": {},
   "outputs": [],
   "source": [
    "gdf_nj = gdf.loc[gdf.Name != 'New York']\n",
    "gdf_ny = gdf.loc[gdf.Name == 'New York']\n",
    "gdf_nj.shape, gdf_ny.shape"
   ]
  },
  {
   "cell_type": "markdown",
   "id": "493dd421",
   "metadata": {},
   "source": [
    "#### Getting going with MovingPandas\n",
    "Now I’m ready to create the trajectories. The data will be imported as a Trajectory Collection which will contain the individual Trajectories. I’ll first create one from the NJ group, which contains several walks."
   ]
  },
  {
   "cell_type": "code",
   "execution_count": null,
   "id": "67af6631",
   "metadata": {},
   "outputs": [],
   "source": [
    "tc_nj = mpd.TrajectoryCollection(\n",
    "    gdf_nj, 'trajectory_id', \n",
    "    t='Time', x='Lon', y='Lat'\n",
    ")\n",
    "print(tc_nj)"
   ]
  },
  {
   "cell_type": "markdown",
   "id": "2dfc6cce",
   "metadata": {},
   "source": [
    "Let’s see what this looks like."
   ]
  },
  {
   "cell_type": "code",
   "execution_count": null,
   "id": "9884b368",
   "metadata": {},
   "outputs": [],
   "source": [
    "ax = traj_collection.plot(\n",
    " column='trajectory_id', \n",
    " legend=True, figsize=(9,5), cmap='Set1')\n",
    "ax.set_title('Walks in NJ, September 2024')\n",
    "ctx.add_basemap(ax, crs=gdf_proj.crs,\n",
    "    source=ctx.providers.Esri.WorldTopoMap);"
   ]
  },
  {
   "cell_type": "markdown",
   "id": "2573358b",
   "metadata": {},
   "source": [
    "I can extract a single trajectory and its underlying data frame."
   ]
  },
  {
   "cell_type": "code",
   "execution_count": null,
   "id": "a30e1fd5",
   "metadata": {},
   "outputs": [],
   "source": [
    "traj_nj1 = tc_nj.trajectories[2]\n",
    "print(traj_nj1)"
   ]
  },
  {
   "cell_type": "markdown",
   "id": "eb70a7eb",
   "metadata": {},
   "source": [
    "The associated data is stored in the df attribute:"
   ]
  },
  {
   "cell_type": "code",
   "execution_count": null,
   "id": "cc9f0b19",
   "metadata": {},
   "outputs": [],
   "source": [
    "print(traj_nj1.df.info())"
   ]
  },
  {
   "cell_type": "code",
   "execution_count": null,
   "id": "7841d534",
   "metadata": {},
   "outputs": [],
   "source": [
    "t_plot(traj_nj1, source=ctx.providers.OpenStreetMap.HOT);"
   ]
  },
  {
   "cell_type": "markdown",
   "id": "567d5f1d",
   "metadata": {},
   "source": [
    "Another way to extract a specific trajectory is using MovingPandas’ filter function, as so:"
   ]
  },
  {
   "cell_type": "code",
   "execution_count": null,
   "id": "89a457a4",
   "metadata": {},
   "outputs": [],
   "source": [
    "t_plot(\n",
    "tc_nj.filter(\"Name\", [\"Park Ridge\"])\n",
    "     .trajectories[0]\n",
    ");"
   ]
  },
  {
   "cell_type": "markdown",
   "id": "53f13d77",
   "metadata": {},
   "source": [
    "For the rest of the article I’ll use the longest trek I have in this data set, the one in New York. I’ll create the Trajectory Collection, extract the single trajectory and find the start and end times and locations."
   ]
  },
  {
   "cell_type": "code",
   "execution_count": null,
   "id": "c270775d",
   "metadata": {},
   "outputs": [],
   "source": [
    "tc_ny = mpd.TrajectoryCollection(\n",
    "    gdf_ny, 'trajectory_id', \n",
    "    t='Time', x='Lon', y='Lat'\n",
    ")\n",
    "traj_ny = tc_ny.trajectories[0]\n",
    "st = traj_ny.get_start_time()\n",
    "sl = traj_ny.to_crs(4269).get_start_location()\n",
    "et = traj_ny.get_end_time()\n",
    "el = traj_ny.to_crs(4269).get_end_location()\n",
    "print(f'''\n",
    "            Time         Location (Lon/Lat)\n",
    "            \n",
    "    Start: {st.strftime('%X')}   {sl.coords[0]} degrees\n",
    "    End:   {et.strftime('%X')}   {el.coords[0]}  degrees\n",
    " \n",
    "    Duration:  {traj_ny.get_duration().seconds/60:.0f} minutes\n",
    "    Distance:  {traj_ny.get_length(units='mi'):.2f} miles\n",
    "    Direction: {traj_ny.get_direction():.0f} degrees\n",
    "''')"
   ]
  },
  {
   "cell_type": "markdown",
   "id": "62a7eca7",
   "metadata": {},
   "source": [
    "#### Right place, right time\n",
    "First, let me find my position at an arbitrary time, and then 30 minutes later. Where was I, for example, at 18:00, and then 45 minutes later?"
   ]
  },
  {
   "cell_type": "code",
   "execution_count": null,
   "id": "39e9b7a4",
   "metadata": {},
   "outputs": [],
   "source": [
    "t = datetime(2024, 9, 11, 18)\n",
    "t2 = t + timedelta(minutes=45)\n",
    "print(f'''\n",
    "    Nearest:      {traj_ny.to_crs(4269)\n",
    "                    .get_position_at(t, method='nearest')}\n",
    "    Interpolated: {traj_ny.to_crs(4269)\n",
    "                    .get_position_at(t, method='interpolated')}\n",
    "    Previous row: {traj_ny.to_crs(4269)\n",
    "                    .get_position_at(t, method='ffill')}\n",
    "    Next row:     {traj_ny.to_crs(4269)\n",
    "                    .get_position_at(t, method='bfill')}\n",
    "''')"
   ]
  },
  {
   "cell_type": "markdown",
   "id": "7f47e910",
   "metadata": {},
   "source": [
    "I can use the geocode tool provided by geopandas to get the nearest addresses at these points so I can show them on the map. Pay attention to crs, since nominatim expects lat/lon coordinates and we currently have projected coordinates."
   ]
  },
  {
   "cell_type": "code",
   "execution_count": null,
   "id": "25b0f3de",
   "metadata": {},
   "outputs": [],
   "source": [
    "point = traj_ny.get_position_at(t, method='interpolated')\n",
    "point_up = traj_ny.to_crs(4269).get_position_at(t, method='interpolated')\n",
    "point2 = traj_ny.get_position_at(t2, method='interpolated')\n",
    "point2_up = traj_ny.to_crs(4269).get_position_at(t2, method='interpolated')\n",
    " \n",
    "rg = reverse_geocode(\n",
    "    [point_up, point2_up], \n",
    "    provider=\"nominatim\", \n",
    "    user_agent=\"your_project\", \n",
    "    timeout=10\n",
    ").to_crs(32111)\n",
    " \n",
    "f, ax = t_plot(traj_ny)\n",
    "gpd.GeoSeries(point).plot(ax=ax, color='red', markersize=100)\n",
    "gpd.GeoSeries(point2).plot(ax=ax, color='red', markersize=100)\n",
    "for x, y, label in zip(rg.geometry.x, rg.geometry.y, rg.address):\n",
    "    ax.annotate(f'{label.split(',')[0]}, {label.split(',')[1]}', \n",
    "                xy=(x, y), **annot_props)\n",
    "ax.set_ylim(211500, 214500)\n",
    "ax.set_xlim(191400, 192500);"
   ]
  },
  {
   "cell_type": "markdown",
   "id": "cca2e046",
   "metadata": {},
   "source": [
    "It might be more interesting to plot my location at regular intervals along the walk. What about plotting my location every 30 minutes?"
   ]
  },
  {
   "cell_type": "code",
   "execution_count": null,
   "id": "68b01106",
   "metadata": {},
   "outputs": [],
   "source": [
    "int_count = (et - st) // timedelta(seconds=(60*30))\n",
    "int_length = (et - st) / int_count\n",
    "intervals = [st + (i*int_length) for i in range(int_count)]\n",
    "interval_points = [traj_ny.to_crs(4269).get_position_at(\n",
    "     t, method='interpolated') \n",
    "                   for t in intervals]\n",
    "rg = reverse_geocode(\n",
    "    interval_points, \n",
    "    provider=\"nominatim\", \n",
    "    user_agent=\"your_project\", \n",
    "    timeout=10\n",
    ").to_crs(32111)\n",
    " \n",
    "f, ax = t_plot(traj_ny, figsize=(7,11))\n",
    "rg.plot(ax=ax, c='r', markersize=100)\n",
    "for x, y, label in zip(rg.geometry.x, rg.geometry.y, rg.address):\n",
    "    ax.annotate(f'{label.split(',')[0]}, {label.split(',')[1]}', \n",
    "                xy=(x, y), **annot_props)\n",
    "ax.set_title(ax.get_title() + f'\\nEvery 30 minutes');"
   ]
  },
  {
   "cell_type": "markdown",
   "id": "9b1548d1",
   "metadata": {},
   "source": [
    "I was so close\n",
    "Not only can you calculate distances along the path, which we will look at more in the next article, but you can calculate the distance from points along the trajectory to other locations not on the path. It will determine the closest you came to other points, lines or polygons, including, of course, other trajectories. For example, when I’m in New York, I love to visit the Strand and the huge Barnes and Noble on Union Square. I didn’t have time this trip, sadly, but I’m curious how close I was from those stores."
   ]
  },
  {
   "cell_type": "code",
   "execution_count": null,
   "id": "20be9b54",
   "metadata": {},
   "outputs": [],
   "source": [
    "addresses = [{\n",
    "                'id': 1,\n",
    "                'name': \"The Strand\", \n",
    "                'addr': \"828 Broadway, New York, NY 10003\"\n",
    "            }, \n",
    "            {\n",
    "                'id': 2,\n",
    "                'name': \"Barnes and Noble\", \n",
    "                'addr': \"33 East 17th Street, 10003, New York\"\n",
    "            }]\n",
    "add_df = pd.DataFrame(addresses)\n",
    "geo = geocode(\n",
    "    add_df['addr'], \n",
    "    provider='nominatim', \n",
    "    user_agent='your_project', \n",
    "    timeout=10\n",
    ")\n",
    "book_stores = geo.join(add_df).to_crs(32111)\n",
    "print(book_stores)"
   ]
  },
  {
   "cell_type": "code",
   "execution_count": null,
   "id": "b0ccc1e7",
   "metadata": {},
   "outputs": [],
   "source": [
    "dists_to = [traj_ny.distance(book_stores.loc[i, ['geometry']], \n",
    "                            units='mi')[0] \n",
    "            for i in range(len(book_stores))]\n",
    "store_names = [book_stores.loc[i, 'name'] \n",
    "               for i in range(len(book_stores))]\n",
    "for i in range(len(book_stores)):\n",
    "    print(f'Closest distance to {store_names[i]} was {dists_to[i]:.1f} miles')"
   ]
  },
  {
   "cell_type": "code",
   "execution_count": null,
   "id": "1eff7d29",
   "metadata": {},
   "outputs": [],
   "source": [
    "f, ax = t_plot(traj_ny, figsize=(7,11))\n",
    "book_stores.plot(ax=ax, color='red', markersize=100)\n",
    "for x, y, label in zip(book_stores.geometry.x, \n",
    "                       book_stores.geometry.y, \n",
    "                       book_stores.name):\n",
    "    ax.annotate(label, xy=(x,y), **annot_props)"
   ]
  },
  {
   "cell_type": "markdown",
   "id": "df146c95",
   "metadata": {},
   "source": [
    "#### Stop detection\n",
    "In this final section I’ll look at stop detection. Here I’ll just be considering stop locations. In the next article, I’ll show how to use the same approach as one method for segmenting the trajectories. Stop detection requires instantiation of a stop detector which will provide the functions needed."
   ]
  },
  {
   "cell_type": "code",
   "execution_count": null,
   "id": "4fe48313",
   "metadata": {},
   "outputs": [],
   "source": [
    "detector = mpd.TrajectoryStopDetector(traj_ny)"
   ]
  },
  {
   "cell_type": "markdown",
   "id": "54e192a9",
   "metadata": {},
   "source": [
    "The detector takes parameters to determine how long a pause constitutes a stop, and how far you need to move to constitute movement."
   ]
  },
  {
   "cell_type": "code",
   "execution_count": null,
   "id": "03e58405",
   "metadata": {},
   "outputs": [],
   "source": [
    "stop_points = detector.get_stop_points(\n",
    "    min_duration=timedelta(seconds=120), max_diameter=100\n",
    ")\n",
    "len(stop_points)"
   ]
  },
  {
   "cell_type": "markdown",
   "id": "d9e93e4d",
   "metadata": {},
   "source": [
    "We can look up the addresses nearest to the stop points, and plot some of them on the map."
   ]
  },
  {
   "cell_type": "code",
   "execution_count": null,
   "id": "1241116f",
   "metadata": {},
   "outputs": [],
   "source": [
    "stop_points = stop_points.set_crs(32111)\n",
    "rg = reverse_geocode(\n",
    "    stop_points.to_crs(4269).geometry, \n",
    "    provider=\"nominatim\", \n",
    "    user_agent=\"your_project\", timeout=10\n",
    ").to_crs(32111)\n",
    "\n",
    "f, ax = t_plot(traj_ny)\n",
    "stop_points.plot(ax=ax, color='none', markersize=100, ec='r')\n",
    "point_labels = [0,3,7,11,17]\n",
    "for (x, y), label in zip(\n",
    "                    rg.iloc[point_labels].geometry.apply(\n",
    "                        lambda p: p.coords[0]), \n",
    "                    rg.iloc[point_labels].address):\n",
    "    ax.annotate(f'{label.split(',')[0]}, {label.split(',')[1]}', \n",
    "                xy=(x, y), **annot_props)\n",
    "ax.set_title(ax.get_title() + f'\\nStop Points');"
   ]
  },
  {
   "cell_type": "markdown",
   "id": "09d8470c",
   "metadata": {},
   "source": [
    "#### Interactive graphing\n",
    "Showing interactive graphing in the context of a published article is not very useful, but I should point out that MovingPandas supports both hvplot with folium as well as GeoPandas' explore(), both of which can be useful tools for identifying areas of interest. This is an example with explore()."
   ]
  },
  {
   "cell_type": "code",
   "execution_count": null,
   "id": "d72594e4",
   "metadata": {},
   "outputs": [],
   "source": [
    "m = traj_ny.explore(\n",
    "    column=\"trajectory_id\",\n",
    "    tooltip=\"t\",\n",
    "    popup=True,\n",
    "    style_kwds={\"weight\": 4},\n",
    "    name=\"Time\",\n",
    ")\n",
    " \n",
    "stop_points.explore(\n",
    "    m=m,\n",
    "    color=\"red\",\n",
    "    tooltip=\"stop_id\",\n",
    "    popup=True,\n",
    "    marker_kwds={\"radius\": 10},\n",
    "    name=\"Stop points\",\n",
    ")"
   ]
  }
 ],
 "metadata": {
  "kernelspec": {
   "display_name": "maps",
   "language": "python",
   "name": "python3"
  },
  "language_info": {
   "codemirror_mode": {
    "name": "ipython",
    "version": 3
   },
   "file_extension": ".py",
   "mimetype": "text/x-python",
   "name": "python",
   "nbconvert_exporter": "python",
   "pygments_lexer": "ipython3",
   "version": "3.13.7"
  }
 },
 "nbformat": 4,
 "nbformat_minor": 5
}
