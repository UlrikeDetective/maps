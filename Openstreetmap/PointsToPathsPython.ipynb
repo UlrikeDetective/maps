{
 "cells": [
  {
   "cell_type": "markdown",
   "id": "ac14c65c",
   "metadata": {},
   "source": [
    "## Points to Paths in Python\n",
    "\n",
    "Getting ready for MovingPandas\n",
    "I’ll start by loading the necessary libraries and creating a helper function for mapping as well as some defaults for annotating points on the maps. Then i will load some data converted from raw GPS data as described in the previous article.\n",
    "\n",
    "python3 -m venv maps\n",
    "source maps/bin/activate"
   ]
  },
  {
   "cell_type": "code",
   "execution_count": 2,
   "id": "f0bee1d7",
   "metadata": {},
   "outputs": [
    {
     "name": "stdout",
     "output_type": "stream",
     "text": [
      "Collecting contextily\n",
      "  Downloading contextily-1.6.2-py3-none-any.whl.metadata (2.9 kB)\n",
      "Requirement already satisfied: geopy in ./maps/lib/python3.13/site-packages (from contextily) (2.4.1)\n",
      "Requirement already satisfied: matplotlib in ./maps/lib/python3.13/site-packages (from contextily) (3.10.6)\n",
      "Collecting mercantile (from contextily)\n",
      "  Downloading mercantile-1.2.1-py3-none-any.whl.metadata (4.8 kB)\n",
      "Requirement already satisfied: pillow in ./maps/lib/python3.13/site-packages (from contextily) (11.3.0)\n",
      "Collecting rasterio (from contextily)\n",
      "  Downloading rasterio-1.4.3-cp313-cp313-macosx_14_0_arm64.whl.metadata (9.1 kB)\n",
      "Collecting requests (from contextily)\n",
      "  Downloading requests-2.32.5-py3-none-any.whl.metadata (4.9 kB)\n",
      "Collecting joblib (from contextily)\n",
      "  Downloading joblib-1.5.2-py3-none-any.whl.metadata (5.6 kB)\n",
      "Collecting xyzservices (from contextily)\n",
      "  Downloading xyzservices-2025.4.0-py3-none-any.whl.metadata (4.3 kB)\n",
      "Requirement already satisfied: geographiclib<3,>=1.52 in ./maps/lib/python3.13/site-packages (from geopy->contextily) (2.1)\n",
      "Requirement already satisfied: contourpy>=1.0.1 in ./maps/lib/python3.13/site-packages (from matplotlib->contextily) (1.3.3)\n",
      "Requirement already satisfied: cycler>=0.10 in ./maps/lib/python3.13/site-packages (from matplotlib->contextily) (0.12.1)\n",
      "Requirement already satisfied: fonttools>=4.22.0 in ./maps/lib/python3.13/site-packages (from matplotlib->contextily) (4.60.0)\n",
      "Requirement already satisfied: kiwisolver>=1.3.1 in ./maps/lib/python3.13/site-packages (from matplotlib->contextily) (1.4.9)\n",
      "Requirement already satisfied: numpy>=1.23 in ./maps/lib/python3.13/site-packages (from matplotlib->contextily) (2.3.3)\n",
      "Requirement already satisfied: packaging>=20.0 in ./maps/lib/python3.13/site-packages (from matplotlib->contextily) (25.0)\n",
      "Requirement already satisfied: pyparsing>=2.3.1 in ./maps/lib/python3.13/site-packages (from matplotlib->contextily) (3.2.5)\n",
      "Requirement already satisfied: python-dateutil>=2.7 in ./maps/lib/python3.13/site-packages (from matplotlib->contextily) (2.9.0.post0)\n",
      "Requirement already satisfied: six>=1.5 in ./maps/lib/python3.13/site-packages (from python-dateutil>=2.7->matplotlib->contextily) (1.17.0)\n",
      "Collecting click>=3.0 (from mercantile->contextily)\n",
      "  Downloading click-8.3.0-py3-none-any.whl.metadata (2.6 kB)\n",
      "Collecting affine (from rasterio->contextily)\n",
      "  Downloading affine-2.4.0-py3-none-any.whl.metadata (4.0 kB)\n",
      "Collecting attrs (from rasterio->contextily)\n",
      "  Downloading attrs-25.3.0-py3-none-any.whl.metadata (10 kB)\n",
      "Requirement already satisfied: certifi in ./maps/lib/python3.13/site-packages (from rasterio->contextily) (2025.8.3)\n",
      "Collecting cligj>=0.5 (from rasterio->contextily)\n",
      "  Downloading cligj-0.7.2-py3-none-any.whl.metadata (5.0 kB)\n",
      "Collecting click-plugins (from rasterio->contextily)\n",
      "  Downloading click_plugins-1.1.1.2-py2.py3-none-any.whl.metadata (6.5 kB)\n",
      "Collecting charset_normalizer<4,>=2 (from requests->contextily)\n",
      "  Downloading charset_normalizer-3.4.3-cp313-cp313-macosx_10_13_universal2.whl.metadata (36 kB)\n",
      "Collecting idna<4,>=2.5 (from requests->contextily)\n",
      "  Downloading idna-3.10-py3-none-any.whl.metadata (10 kB)\n",
      "Collecting urllib3<3,>=1.21.1 (from requests->contextily)\n",
      "  Downloading urllib3-2.5.0-py3-none-any.whl.metadata (6.5 kB)\n",
      "Downloading contextily-1.6.2-py3-none-any.whl (17 kB)\n",
      "Downloading joblib-1.5.2-py3-none-any.whl (308 kB)\n",
      "Downloading mercantile-1.2.1-py3-none-any.whl (14 kB)\n",
      "Downloading click-8.3.0-py3-none-any.whl (107 kB)\n",
      "Downloading rasterio-1.4.3-cp313-cp313-macosx_14_0_arm64.whl (18.7 MB)\n",
      "\u001b[2K   \u001b[90m━━━━━━━━━━━━━━━━━━━━━━━━━━━━━━━━━━━━━━━━\u001b[0m \u001b[32m18.7/18.7 MB\u001b[0m \u001b[31m29.5 MB/s\u001b[0m  \u001b[33m0:00:00\u001b[0m eta \u001b[36m0:00:01\u001b[0m\n",
      "\u001b[?25hDownloading cligj-0.7.2-py3-none-any.whl (7.1 kB)\n",
      "Downloading affine-2.4.0-py3-none-any.whl (15 kB)\n",
      "Downloading attrs-25.3.0-py3-none-any.whl (63 kB)\n",
      "Downloading click_plugins-1.1.1.2-py2.py3-none-any.whl (11 kB)\n",
      "Downloading requests-2.32.5-py3-none-any.whl (64 kB)\n",
      "Downloading charset_normalizer-3.4.3-cp313-cp313-macosx_10_13_universal2.whl (205 kB)\n",
      "Downloading idna-3.10-py3-none-any.whl (70 kB)\n",
      "Downloading urllib3-2.5.0-py3-none-any.whl (129 kB)\n",
      "Downloading xyzservices-2025.4.0-py3-none-any.whl (90 kB)\n",
      "Installing collected packages: xyzservices, urllib3, joblib, idna, click, charset_normalizer, attrs, affine, requests, mercantile, cligj, click-plugins, rasterio, contextily\n",
      "\u001b[2K   \u001b[90m━━━━━━━━━━━━━━━━━━━━━━━━━━━━━━━━━━━━━━━━\u001b[0m \u001b[32m14/14\u001b[0m [contextily]4\u001b[0m [rasterio]\n",
      "\u001b[1A\u001b[2KSuccessfully installed affine-2.4.0 attrs-25.3.0 charset_normalizer-3.4.3 click-8.3.0 click-plugins-1.1.1.2 cligj-0.7.2 contextily-1.6.2 idna-3.10 joblib-1.5.2 mercantile-1.2.1 rasterio-1.4.3 requests-2.32.5 urllib3-2.5.0 xyzservices-2025.4.0\n",
      "Note: you may need to restart the kernel to use updated packages.\n"
     ]
    }
   ],
   "source": [
    "# %pip install pandas geopandas movingpandas matplotlib\n",
    "\n",
    "%pip install contextily"
   ]
  },
  {
   "cell_type": "code",
   "execution_count": 32,
   "id": "5909b44f",
   "metadata": {},
   "outputs": [],
   "source": [
    "import pandas as pd \n",
    "import geopandas as gpd \n",
    "import movingpandas as mpd \n",
    "import matplotlib.pyplot as plt\n",
    "import contextily as ctx\n",
    "from datetime import datetime, timedelta\n",
    "from geopandas.tools import reverse_geocode, geocode\n",
    "import warnings\n",
    "warnings.filterwarnings('ignore')\n",
    " \n",
    "def t_plot(traj, \n",
    "            figsize=(6,8), \n",
    "            source=ctx.providers.CartoDB.Voyager, \n",
    "            title=None):\n",
    "    f, ax = plt.subplots(figsize=figsize)\n",
    "    traj.plot(ax=ax, lw=4, color='chartreuse')\n",
    "    ctx.add_basemap(ax, crs=traj.crs, \n",
    "                    source=source)\n",
    "    ax.set_axis_off()\n",
    "    if title: \n",
    "        ax.set_title(title)\n",
    "    else:\n",
    "        ax.set_title(\n",
    "            f'Walk in {traj.df.Name[0]} on {traj.df.index[0].strftime('%x')}'\n",
    "        )\n",
    "    return f, ax\n",
    " \n",
    "annot_props = dict(\n",
    "    xytext=(3, 1), \n",
    "    textcoords=\"offset fontsize\", \n",
    "    c='r', weight='bold', ha='center',\n",
    "    arrowprops=dict(arrowstyle='-', ec='orange')\n",
    ")\n",
    " \n",
    "df = pd.read_csv('nyc.csv')\n",
    "gdf = gpd.GeoDataFrame(\n",
    "    df, \n",
    "    geometry=gpd.points_from_xy(x=df.Lon, y=df.Lat), \n",
    "    crs=4269\n",
    ").to_crs(32111)"
   ]
  },
  {
   "cell_type": "markdown",
   "id": "acf21f58",
   "metadata": {},
   "source": [
    "MovingPandas requires an integer id for each walk, which I don’t have, so I’ll create one based on the string id. I’ll also convert the Time from a generic object to datetime64."
   ]
  },
  {
   "cell_type": "code",
   "execution_count": 14,
   "id": "9cffdf40",
   "metadata": {},
   "outputs": [
    {
     "name": "stdout",
     "output_type": "stream",
     "text": [
      "Index(['ID', 'Name', 'Lat', 'Lon', 'Elev', 'Time', 'Temp', 'Weather',\n",
      "       'geometry', 'trajectory_id'],\n",
      "      dtype='object')\n"
     ]
    }
   ],
   "source": [
    "print(gdf.columns)"
   ]
  },
  {
   "cell_type": "code",
   "execution_count": 33,
   "id": "6604b5f1",
   "metadata": {},
   "outputs": [
    {
     "name": "stdout",
     "output_type": "stream",
     "text": [
      "<class 'geopandas.geodataframe.GeoDataFrame'>\n",
      "RangeIndex: 100 entries, 0 to 99\n",
      "Data columns (total 10 columns):\n",
      " #   Column         Non-Null Count  Dtype         \n",
      "---  ------         --------------  -----         \n",
      " 0   ID             100 non-null    int64         \n",
      " 1   Name           100 non-null    object        \n",
      " 2   Lat            100 non-null    float64       \n",
      " 3   Lon            100 non-null    float64       \n",
      " 4   Elev           100 non-null    int64         \n",
      " 5   Time           100 non-null    datetime64[ns]\n",
      " 6   Temp           100 non-null    int64         \n",
      " 7   Weather        100 non-null    object        \n",
      " 8   geometry       100 non-null    geometry      \n",
      " 9   trajectory_id  100 non-null    int64         \n",
      "dtypes: datetime64[ns](1), float64(2), geometry(1), int64(4), object(2)\n",
      "memory usage: 7.9+ KB\n"
     ]
    }
   ],
   "source": [
    "idList = list(gdf.groupby(['ID']).nunique().reset_index().ID)\n",
    "for i, track in enumerate(idList):\n",
    "    gdf.loc[gdf.ID == track, 'trajectory_id'] = i\n",
    "gdf['Time'] = pd.to_datetime(gdf.Time)\n",
    "gdf.info()"
   ]
  },
  {
   "cell_type": "markdown",
   "id": "cfa0d65b",
   "metadata": {},
   "source": [
    "One of the walks in the collection was in New York City, and the rest in New Jersey. Since the locations are pretty far apart, I’ll split out the NYC walk from the others."
   ]
  },
  {
   "cell_type": "code",
   "execution_count": 34,
   "id": "dbd91be6",
   "metadata": {},
   "outputs": [
    {
     "data": {
      "text/plain": [
       "((56, 10), (44, 10))"
      ]
     },
     "execution_count": 34,
     "metadata": {},
     "output_type": "execute_result"
    }
   ],
   "source": [
    "gdf_longIsland = gdf.loc[gdf.Name != 'Manhattan']\n",
    "gdf_Manhattan = gdf.loc[gdf.Name == 'Manhattan']\n",
    "gdf_longIsland.shape, gdf_Manhattan.shape"
   ]
  },
  {
   "cell_type": "markdown",
   "id": "493dd421",
   "metadata": {},
   "source": [
    "#### Getting going with MovingPandas\n",
    "Now I’m ready to create the trajectories. The data will be imported as a Trajectory Collection which will contain the individual Trajectories. I’ll first create one from the NJ group, which contains several walks."
   ]
  },
  {
   "cell_type": "code",
   "execution_count": 35,
   "id": "67af6631",
   "metadata": {},
   "outputs": [
    {
     "name": "stdout",
     "output_type": "stream",
     "text": [
      "TrajectoryCollection with 0 trajectories\n"
     ]
    }
   ],
   "source": [
    "tc_longIsland = mpd.TrajectoryCollection(\n",
    "    gdf_longIsland, 'trajectory_id', \n",
    "    t='Time', x='Lon', y='Lat'\n",
    ")\n",
    "print(tc_longIsland)"
   ]
  },
  {
   "cell_type": "code",
   "execution_count": 28,
   "id": "80807e6b",
   "metadata": {},
   "outputs": [
    {
     "name": "stdout",
     "output_type": "stream",
     "text": [
      "(56, 10)\n",
      "[ 0  1  2  3  4  5  6  7  8  9 10 11 12 13 14 15 16 17 18 19 20 21 22 23\n",
      " 24 25 26 27 28 29 30 31 32 33 34 35 36 37 38 39 40 41 42 43 44 45 46 47\n",
      " 48 49 50 51 52 53 54 55]\n"
     ]
    }
   ],
   "source": [
    "print(gdf_longIsland.shape)\n",
    "print(gdf_longIsland['trajectory_id'].unique())"
   ]
  },
  {
   "cell_type": "code",
   "execution_count": 30,
   "id": "c71b9c9f",
   "metadata": {},
   "outputs": [
    {
     "name": "stdout",
     "output_type": "stream",
     "text": [
      "ID               0\n",
      "Name             0\n",
      "Lat              0\n",
      "Lon              0\n",
      "Elev             0\n",
      "Time             0\n",
      "Temp             0\n",
      "Weather          0\n",
      "geometry         0\n",
      "trajectory_id    0\n",
      "dtype: int64\n",
      "ID                        int64\n",
      "Name                     object\n",
      "Lat                     float64\n",
      "Lon                     float64\n",
      "Elev                      int64\n",
      "Time             datetime64[ns]\n",
      "Temp                      int64\n",
      "Weather                  object\n",
      "geometry               geometry\n",
      "trajectory_id             int64\n",
      "dtype: object\n"
     ]
    }
   ],
   "source": [
    "print(gdf_longIsland.isnull().sum())\n",
    "print(gdf_longIsland.dtypes)"
   ]
  },
  {
   "cell_type": "code",
   "execution_count": 31,
   "id": "785e7103",
   "metadata": {},
   "outputs": [
    {
     "name": "stdout",
     "output_type": "stream",
     "text": [
      "    ID      Name      Lat      Lon  Elev                Time  Temp Weather  \\\n",
      "14  15  Brooklyn  40.6782 -73.9442    10 2025-06-13 08:00:00    25   Sunny   \n",
      "15  16  Brooklyn  40.6501 -73.9496    12 2025-06-13 10:00:00    26   Sunny   \n",
      "16  17  Brooklyn  40.6782 -73.9442    10 2025-06-15 09:00:00    24  Cloudy   \n",
      "17  18  Brooklyn  40.6501 -73.9496    12 2025-06-15 11:00:00    23  Cloudy   \n",
      "18  19  Brooklyn  40.6782 -73.9442    10 2025-06-17 14:00:00    27   Sunny   \n",
      "\n",
      "                         geometry  trajectory_id  \n",
      "14  POINT (196984.443 204963.533)              0  \n",
      "15  POINT (196547.484 201840.518)              1  \n",
      "16  POINT (196984.443 204963.533)              2  \n",
      "17  POINT (196547.484 201840.518)              3  \n",
      "18  POINT (196984.443 204963.533)              4  \n"
     ]
    }
   ],
   "source": [
    "print(gdf_longIsland.head())"
   ]
  },
  {
   "cell_type": "code",
   "execution_count": 24,
   "id": "3caa8fe3",
   "metadata": {},
   "outputs": [
    {
     "name": "stdout",
     "output_type": "stream",
     "text": [
      "[ 0  1  2  3  4  5  6  7  8  9 10 11 12 13 14 15 16 17 18 19 20 21 22 23\n",
      " 24 25 26 27 28 29 30 31 32 33 34 35 36 37 38 39 40 41 42 43 44 45 46 47\n",
      " 48 49 50 51 52 53 54 55 56 57 58 59 60 61 62 63 64 65 66 67 68 69 70 71\n",
      " 72 73 74 75 76 77 78 79 80 81 82 83 84 85 86 87 88 89 90 91 92 93 94 95\n",
      " 96 97 98 99]\n"
     ]
    }
   ],
   "source": [
    "print(gdf['trajectory_id'].unique())"
   ]
  },
  {
   "cell_type": "code",
   "execution_count": 25,
   "id": "91bfeb5a",
   "metadata": {},
   "outputs": [
    {
     "name": "stdout",
     "output_type": "stream",
     "text": [
      "['Manhattan' 'Brooklyn' 'Queens']\n"
     ]
    }
   ],
   "source": [
    "print(gdf['Name'].unique())"
   ]
  },
  {
   "cell_type": "code",
   "execution_count": 26,
   "id": "23dc1261",
   "metadata": {},
   "outputs": [
    {
     "name": "stdout",
     "output_type": "stream",
     "text": [
      "TrajectoryCollection with 0 trajectories\n",
      "[14 15 16 17 18 19 20 21 22 23 24 25 26 27 28 29 40 41 42 43 44 45 46 47\n",
      " 48 49 50 51 52 53 54 55 56 57 58 59 70 71 72 73 74 75 76 77 78 79 80 81\n",
      " 82 83 84 85 86 87 88 89]\n"
     ]
    }
   ],
   "source": [
    "print(traj_collection)\n",
    "\n",
    "print(gdf_longIsland['trajectory_id'].unique())"
   ]
  },
  {
   "cell_type": "markdown",
   "id": "2dfc6cce",
   "metadata": {},
   "source": [
    "Let’s see what this looks like."
   ]
  },
  {
   "cell_type": "code",
   "execution_count": 36,
   "id": "9884b368",
   "metadata": {},
   "outputs": [
    {
     "ename": "IndexError",
     "evalue": "list index out of range",
     "output_type": "error",
     "traceback": [
      "\u001b[31m---------------------------------------------------------------------------\u001b[39m",
      "\u001b[31mIndexError\u001b[39m                                Traceback (most recent call last)",
      "\u001b[36mCell\u001b[39m\u001b[36m \u001b[39m\u001b[32mIn[36]\u001b[39m\u001b[32m, line 11\u001b[39m\n\u001b[32m      8\u001b[39m gdf_proj = gdf_longIsland\n\u001b[32m     10\u001b[39m \u001b[38;5;66;03m# Plot the trajectories\u001b[39;00m\n\u001b[32m---> \u001b[39m\u001b[32m11\u001b[39m ax = \u001b[43mtraj_collection\u001b[49m\u001b[43m.\u001b[49m\u001b[43mplot\u001b[49m\u001b[43m(\u001b[49m\n\u001b[32m     12\u001b[39m \u001b[43m    \u001b[49m\u001b[43mcolumn\u001b[49m\u001b[43m=\u001b[49m\u001b[33;43m'\u001b[39;49m\u001b[33;43mtrajectory_id\u001b[39;49m\u001b[33;43m'\u001b[39;49m\u001b[43m,\u001b[49m\u001b[43m \u001b[49m\n\u001b[32m     13\u001b[39m \u001b[43m    \u001b[49m\u001b[43mlegend\u001b[49m\u001b[43m=\u001b[49m\u001b[38;5;28;43;01mTrue\u001b[39;49;00m\u001b[43m,\u001b[49m\u001b[43m \u001b[49m\u001b[43mfigsize\u001b[49m\u001b[43m=\u001b[49m\u001b[43m(\u001b[49m\u001b[32;43m9\u001b[39;49m\u001b[43m,\u001b[49m\u001b[43m \u001b[49m\u001b[32;43m5\u001b[39;49m\u001b[43m)\u001b[49m\u001b[43m,\u001b[49m\u001b[43m \u001b[49m\u001b[43mcmap\u001b[49m\u001b[43m=\u001b[49m\u001b[33;43m'\u001b[39;49m\u001b[33;43mSet1\u001b[39;49m\u001b[33;43m'\u001b[39;49m\n\u001b[32m     14\u001b[39m \u001b[43m)\u001b[49m\n\u001b[32m     15\u001b[39m ax.set_title(\u001b[33m'\u001b[39m\u001b[33mWalks on Long Island, June 2025\u001b[39m\u001b[33m'\u001b[39m)\n\u001b[32m     17\u001b[39m \u001b[38;5;66;03m# Add basemap\u001b[39;00m\n",
      "\u001b[36mFile \u001b[39m\u001b[32m~/projects/maps/Openstreetmap/maps/lib/python3.13/site-packages/movingpandas/trajectory_collection.py:953\u001b[39m, in \u001b[36mTrajectoryCollection.plot\u001b[39m\u001b[34m(self, *args, **kwargs)\u001b[39m\n\u001b[32m    932\u001b[39m \u001b[38;5;28;01mdef\u001b[39;00m\u001b[38;5;250m \u001b[39m\u001b[34mplot\u001b[39m(\u001b[38;5;28mself\u001b[39m, *args, **kwargs):\n\u001b[32m    933\u001b[39m \u001b[38;5;250m    \u001b[39m\u001b[33;03m\"\"\"\u001b[39;00m\n\u001b[32m    934\u001b[39m \u001b[33;03m    Generate a plot.\u001b[39;00m\n\u001b[32m    935\u001b[39m \n\u001b[32m   (...)\u001b[39m\u001b[32m    951\u001b[39m \u001b[33;03m    >>> trajectory_collection.plot(column='speed', vmin=0, vmax=20)\u001b[39;00m\n\u001b[32m    952\u001b[39m \u001b[33;03m    \"\"\"\u001b[39;00m\n\u001b[32m--> \u001b[39m\u001b[32m953\u001b[39m     \u001b[38;5;28;01mreturn\u001b[39;00m \u001b[43m_TrajectoryPlotter\u001b[49m\u001b[43m(\u001b[49m\u001b[38;5;28;43mself\u001b[39;49m\u001b[43m,\u001b[49m\u001b[43m \u001b[49m\u001b[43m*\u001b[49m\u001b[43margs\u001b[49m\u001b[43m,\u001b[49m\u001b[43m \u001b[49m\u001b[43m*\u001b[49m\u001b[43m*\u001b[49m\u001b[43mkwargs\u001b[49m\u001b[43m)\u001b[49m.plot()\n",
      "\u001b[36mFile \u001b[39m\u001b[32m~/projects/maps/Openstreetmap/maps/lib/python3.13/site-packages/movingpandas/trajectory_plotter.py:35\u001b[39m, in \u001b[36m_TrajectoryPlotter.__init__\u001b[39m\u001b[34m(self, data, *args, **kwargs)\u001b[39m\n\u001b[32m     32\u001b[39m \u001b[38;5;28mself\u001b[39m.marker_color = kwargs.pop(\u001b[33m\"\u001b[39m\u001b[33mmarker_color\u001b[39m\u001b[33m\"\u001b[39m, \u001b[38;5;28;01mNone\u001b[39;00m)\n\u001b[32m     33\u001b[39m \u001b[38;5;28mself\u001b[39m.line_width = kwargs.pop(\u001b[33m\"\u001b[39m\u001b[33mline_width\u001b[39m\u001b[33m\"\u001b[39m, \u001b[32m3.0\u001b[39m)\n\u001b[32m---> \u001b[39m\u001b[32m35\u001b[39m \u001b[38;5;28mself\u001b[39m.column_names = \u001b[43mdata\u001b[49m\u001b[43m.\u001b[49m\u001b[43mget_column_names\u001b[49m\u001b[43m(\u001b[49m\u001b[43m)\u001b[49m\n\u001b[32m     36\u001b[39m \u001b[38;5;28mself\u001b[39m.traj_id_col_name = data.get_traj_id_col()\n\u001b[32m     37\u001b[39m \u001b[38;5;28mself\u001b[39m.speed_col_name = data.get_speed_col()\n",
      "\u001b[36mFile \u001b[39m\u001b[32m~/projects/maps/Openstreetmap/maps/lib/python3.13/site-packages/movingpandas/trajectory_collection.py:301\u001b[39m, in \u001b[36mTrajectoryCollection.get_column_names\u001b[39m\u001b[34m(self)\u001b[39m\n\u001b[32m    293\u001b[39m \u001b[38;5;28;01mdef\u001b[39;00m\u001b[38;5;250m \u001b[39m\u001b[34mget_column_names\u001b[39m(\u001b[38;5;28mself\u001b[39m):\n\u001b[32m    294\u001b[39m \u001b[38;5;250m    \u001b[39m\u001b[33;03m\"\"\"\u001b[39;00m\n\u001b[32m    295\u001b[39m \u001b[33;03m    Return the list of column names\u001b[39;00m\n\u001b[32m    296\u001b[39m \n\u001b[32m   (...)\u001b[39m\u001b[32m    299\u001b[39m \u001b[33;03m    list\u001b[39;00m\n\u001b[32m    300\u001b[39m \u001b[33;03m    \"\"\"\u001b[39;00m\n\u001b[32m--> \u001b[39m\u001b[32m301\u001b[39m     \u001b[38;5;28;01mreturn\u001b[39;00m \u001b[38;5;28;43mself\u001b[39;49m\u001b[43m.\u001b[49m\u001b[43mtrajectories\u001b[49m\u001b[43m[\u001b[49m\u001b[32;43m0\u001b[39;49m\u001b[43m]\u001b[49m.df.columns\n",
      "\u001b[31mIndexError\u001b[39m: list index out of range"
     ]
    }
   ],
   "source": [
    "# Ensure traj_collection is created from gdf_longIsland\n",
    "traj_collection = mpd.TrajectoryCollection(\n",
    "    gdf_longIsland, 'trajectory_id', \n",
    "    t='Time', x='Lon', y='Lat'\n",
    ")\n",
    "\n",
    "# Use the CRS of gdf_longIsland for gdf_proj\n",
    "gdf_proj = gdf_longIsland\n",
    "\n",
    "# Plot the trajectories\n",
    "ax = traj_collection.plot(\n",
    "    column='trajectory_id', \n",
    "    legend=True, figsize=(9, 5), cmap='Set1'\n",
    ")\n",
    "ax.set_title('Walks on Long Island, June 2025')\n",
    "\n",
    "# Add basemap\n",
    "ctx.add_basemap(ax, crs=gdf_proj.crs, source=ctx.providers.Esri.WorldTopoMap)"
   ]
  },
  {
   "cell_type": "markdown",
   "id": "2573358b",
   "metadata": {},
   "source": [
    "I can extract a single trajectory and its underlying data frame."
   ]
  },
  {
   "cell_type": "code",
   "execution_count": null,
   "id": "a30e1fd5",
   "metadata": {},
   "outputs": [],
   "source": [
    "traj_nj1 = tc_nj.trajectories[2]\n",
    "print(traj_nj1)"
   ]
  },
  {
   "cell_type": "markdown",
   "id": "eb70a7eb",
   "metadata": {},
   "source": [
    "The associated data is stored in the df attribute:"
   ]
  },
  {
   "cell_type": "code",
   "execution_count": null,
   "id": "cc9f0b19",
   "metadata": {},
   "outputs": [],
   "source": [
    "print(traj_nj1.df.info())"
   ]
  },
  {
   "cell_type": "code",
   "execution_count": null,
   "id": "7841d534",
   "metadata": {},
   "outputs": [],
   "source": [
    "t_plot(traj_nj1, source=ctx.providers.OpenStreetMap.HOT);"
   ]
  },
  {
   "cell_type": "markdown",
   "id": "567d5f1d",
   "metadata": {},
   "source": [
    "Another way to extract a specific trajectory is using MovingPandas’ filter function, as so:"
   ]
  },
  {
   "cell_type": "code",
   "execution_count": null,
   "id": "89a457a4",
   "metadata": {},
   "outputs": [],
   "source": [
    "t_plot(\n",
    "tc_nj.filter(\"Name\", [\"Park Ridge\"])\n",
    "     .trajectories[0]\n",
    ");"
   ]
  },
  {
   "cell_type": "markdown",
   "id": "53f13d77",
   "metadata": {},
   "source": [
    "For the rest of the article I’ll use the longest trek I have in this data set, the one in New York. I’ll create the Trajectory Collection, extract the single trajectory and find the start and end times and locations."
   ]
  },
  {
   "cell_type": "code",
   "execution_count": null,
   "id": "c270775d",
   "metadata": {},
   "outputs": [],
   "source": [
    "tc_ny = mpd.TrajectoryCollection(\n",
    "    gdf_ny, 'trajectory_id', \n",
    "    t='Time', x='Lon', y='Lat'\n",
    ")\n",
    "traj_ny = tc_ny.trajectories[0]\n",
    "st = traj_ny.get_start_time()\n",
    "sl = traj_ny.to_crs(4269).get_start_location()\n",
    "et = traj_ny.get_end_time()\n",
    "el = traj_ny.to_crs(4269).get_end_location()\n",
    "print(f'''\n",
    "            Time         Location (Lon/Lat)\n",
    "            \n",
    "    Start: {st.strftime('%X')}   {sl.coords[0]} degrees\n",
    "    End:   {et.strftime('%X')}   {el.coords[0]}  degrees\n",
    " \n",
    "    Duration:  {traj_ny.get_duration().seconds/60:.0f} minutes\n",
    "    Distance:  {traj_ny.get_length(units='mi'):.2f} miles\n",
    "    Direction: {traj_ny.get_direction():.0f} degrees\n",
    "''')"
   ]
  },
  {
   "cell_type": "markdown",
   "id": "62a7eca7",
   "metadata": {},
   "source": [
    "#### Right place, right time\n",
    "First, let me find my position at an arbitrary time, and then 30 minutes later. Where was I, for example, at 18:00, and then 45 minutes later?"
   ]
  },
  {
   "cell_type": "code",
   "execution_count": null,
   "id": "39e9b7a4",
   "metadata": {},
   "outputs": [],
   "source": [
    "t = datetime(2024, 9, 11, 18)\n",
    "t2 = t + timedelta(minutes=45)\n",
    "print(f'''\n",
    "    Nearest:      {traj_ny.to_crs(4269)\n",
    "                    .get_position_at(t, method='nearest')}\n",
    "    Interpolated: {traj_ny.to_crs(4269)\n",
    "                    .get_position_at(t, method='interpolated')}\n",
    "    Previous row: {traj_ny.to_crs(4269)\n",
    "                    .get_position_at(t, method='ffill')}\n",
    "    Next row:     {traj_ny.to_crs(4269)\n",
    "                    .get_position_at(t, method='bfill')}\n",
    "''')"
   ]
  },
  {
   "cell_type": "markdown",
   "id": "7f47e910",
   "metadata": {},
   "source": [
    "I can use the geocode tool provided by geopandas to get the nearest addresses at these points so I can show them on the map. Pay attention to crs, since nominatim expects lat/lon coordinates and we currently have projected coordinates."
   ]
  },
  {
   "cell_type": "code",
   "execution_count": null,
   "id": "25b0f3de",
   "metadata": {},
   "outputs": [],
   "source": [
    "point = traj_ny.get_position_at(t, method='interpolated')\n",
    "point_up = traj_ny.to_crs(4269).get_position_at(t, method='interpolated')\n",
    "point2 = traj_ny.get_position_at(t2, method='interpolated')\n",
    "point2_up = traj_ny.to_crs(4269).get_position_at(t2, method='interpolated')\n",
    " \n",
    "rg = reverse_geocode(\n",
    "    [point_up, point2_up], \n",
    "    provider=\"nominatim\", \n",
    "    user_agent=\"your_project\", \n",
    "    timeout=10\n",
    ").to_crs(32111)\n",
    " \n",
    "f, ax = t_plot(traj_ny)\n",
    "gpd.GeoSeries(point).plot(ax=ax, color='red', markersize=100)\n",
    "gpd.GeoSeries(point2).plot(ax=ax, color='red', markersize=100)\n",
    "for x, y, label in zip(rg.geometry.x, rg.geometry.y, rg.address):\n",
    "    ax.annotate(f'{label.split(',')[0]}, {label.split(',')[1]}', \n",
    "                xy=(x, y), **annot_props)\n",
    "ax.set_ylim(211500, 214500)\n",
    "ax.set_xlim(191400, 192500);"
   ]
  },
  {
   "cell_type": "markdown",
   "id": "cca2e046",
   "metadata": {},
   "source": [
    "It might be more interesting to plot my location at regular intervals along the walk. What about plotting my location every 30 minutes?"
   ]
  },
  {
   "cell_type": "code",
   "execution_count": null,
   "id": "68b01106",
   "metadata": {},
   "outputs": [],
   "source": [
    "int_count = (et - st) // timedelta(seconds=(60*30))\n",
    "int_length = (et - st) / int_count\n",
    "intervals = [st + (i*int_length) for i in range(int_count)]\n",
    "interval_points = [traj_ny.to_crs(4269).get_position_at(\n",
    "     t, method='interpolated') \n",
    "                   for t in intervals]\n",
    "rg = reverse_geocode(\n",
    "    interval_points, \n",
    "    provider=\"nominatim\", \n",
    "    user_agent=\"your_project\", \n",
    "    timeout=10\n",
    ").to_crs(32111)\n",
    " \n",
    "f, ax = t_plot(traj_ny, figsize=(7,11))\n",
    "rg.plot(ax=ax, c='r', markersize=100)\n",
    "for x, y, label in zip(rg.geometry.x, rg.geometry.y, rg.address):\n",
    "    ax.annotate(f'{label.split(',')[0]}, {label.split(',')[1]}', \n",
    "                xy=(x, y), **annot_props)\n",
    "ax.set_title(ax.get_title() + f'\\nEvery 30 minutes');"
   ]
  },
  {
   "cell_type": "markdown",
   "id": "9b1548d1",
   "metadata": {},
   "source": [
    "I was so close\n",
    "Not only can you calculate distances along the path, which we will look at more in the next article, but you can calculate the distance from points along the trajectory to other locations not on the path. It will determine the closest you came to other points, lines or polygons, including, of course, other trajectories. For example, when I’m in New York, I love to visit the Strand and the huge Barnes and Noble on Union Square. I didn’t have time this trip, sadly, but I’m curious how close I was from those stores."
   ]
  },
  {
   "cell_type": "code",
   "execution_count": null,
   "id": "20be9b54",
   "metadata": {},
   "outputs": [],
   "source": [
    "addresses = [{\n",
    "                'id': 1,\n",
    "                'name': \"The Strand\", \n",
    "                'addr': \"828 Broadway, New York, NY 10003\"\n",
    "            }, \n",
    "            {\n",
    "                'id': 2,\n",
    "                'name': \"Barnes and Noble\", \n",
    "                'addr': \"33 East 17th Street, 10003, New York\"\n",
    "            }]\n",
    "add_df = pd.DataFrame(addresses)\n",
    "geo = geocode(\n",
    "    add_df['addr'], \n",
    "    provider='nominatim', \n",
    "    user_agent='your_project', \n",
    "    timeout=10\n",
    ")\n",
    "book_stores = geo.join(add_df).to_crs(32111)\n",
    "print(book_stores)"
   ]
  },
  {
   "cell_type": "code",
   "execution_count": null,
   "id": "b0ccc1e7",
   "metadata": {},
   "outputs": [],
   "source": [
    "dists_to = [traj_ny.distance(book_stores.loc[i, ['geometry']], \n",
    "                            units='mi')[0] \n",
    "            for i in range(len(book_stores))]\n",
    "store_names = [book_stores.loc[i, 'name'] \n",
    "               for i in range(len(book_stores))]\n",
    "for i in range(len(book_stores)):\n",
    "    print(f'Closest distance to {store_names[i]} was {dists_to[i]:.1f} miles')"
   ]
  },
  {
   "cell_type": "code",
   "execution_count": null,
   "id": "1eff7d29",
   "metadata": {},
   "outputs": [],
   "source": [
    "f, ax = t_plot(traj_ny, figsize=(7,11))\n",
    "book_stores.plot(ax=ax, color='red', markersize=100)\n",
    "for x, y, label in zip(book_stores.geometry.x, \n",
    "                       book_stores.geometry.y, \n",
    "                       book_stores.name):\n",
    "    ax.annotate(label, xy=(x,y), **annot_props)"
   ]
  },
  {
   "cell_type": "markdown",
   "id": "df146c95",
   "metadata": {},
   "source": [
    "#### Stop detection\n",
    "In this final section I’ll look at stop detection. Here I’ll just be considering stop locations. In the next article, I’ll show how to use the same approach as one method for segmenting the trajectories. Stop detection requires instantiation of a stop detector which will provide the functions needed."
   ]
  },
  {
   "cell_type": "code",
   "execution_count": null,
   "id": "4fe48313",
   "metadata": {},
   "outputs": [],
   "source": [
    "detector = mpd.TrajectoryStopDetector(traj_ny)"
   ]
  },
  {
   "cell_type": "markdown",
   "id": "54e192a9",
   "metadata": {},
   "source": [
    "The detector takes parameters to determine how long a pause constitutes a stop, and how far you need to move to constitute movement."
   ]
  },
  {
   "cell_type": "code",
   "execution_count": null,
   "id": "03e58405",
   "metadata": {},
   "outputs": [],
   "source": [
    "stop_points = detector.get_stop_points(\n",
    "    min_duration=timedelta(seconds=120), max_diameter=100\n",
    ")\n",
    "len(stop_points)"
   ]
  },
  {
   "cell_type": "markdown",
   "id": "d9e93e4d",
   "metadata": {},
   "source": [
    "We can look up the addresses nearest to the stop points, and plot some of them on the map."
   ]
  },
  {
   "cell_type": "code",
   "execution_count": null,
   "id": "1241116f",
   "metadata": {},
   "outputs": [],
   "source": [
    "stop_points = stop_points.set_crs(32111)\n",
    "rg = reverse_geocode(\n",
    "    stop_points.to_crs(4269).geometry, \n",
    "    provider=\"nominatim\", \n",
    "    user_agent=\"your_project\", timeout=10\n",
    ").to_crs(32111)\n",
    "\n",
    "f, ax = t_plot(traj_ny)\n",
    "stop_points.plot(ax=ax, color='none', markersize=100, ec='r')\n",
    "point_labels = [0,3,7,11,17]\n",
    "for (x, y), label in zip(\n",
    "                    rg.iloc[point_labels].geometry.apply(\n",
    "                        lambda p: p.coords[0]), \n",
    "                    rg.iloc[point_labels].address):\n",
    "    ax.annotate(f'{label.split(',')[0]}, {label.split(',')[1]}', \n",
    "                xy=(x, y), **annot_props)\n",
    "ax.set_title(ax.get_title() + f'\\nStop Points');"
   ]
  },
  {
   "cell_type": "markdown",
   "id": "09d8470c",
   "metadata": {},
   "source": [
    "#### Interactive graphing\n",
    "Showing interactive graphing in the context of a published article is not very useful, but I should point out that MovingPandas supports both hvplot with folium as well as GeoPandas' explore(), both of which can be useful tools for identifying areas of interest. This is an example with explore()."
   ]
  },
  {
   "cell_type": "code",
   "execution_count": null,
   "id": "d72594e4",
   "metadata": {},
   "outputs": [],
   "source": [
    "m = traj_ny.explore(\n",
    "    column=\"trajectory_id\",\n",
    "    tooltip=\"t\",\n",
    "    popup=True,\n",
    "    style_kwds={\"weight\": 4},\n",
    "    name=\"Time\",\n",
    ")\n",
    " \n",
    "stop_points.explore(\n",
    "    m=m,\n",
    "    color=\"red\",\n",
    "    tooltip=\"stop_id\",\n",
    "    popup=True,\n",
    "    marker_kwds={\"radius\": 10},\n",
    "    name=\"Stop points\",\n",
    ")"
   ]
  }
 ],
 "metadata": {
  "kernelspec": {
   "display_name": "maps",
   "language": "python",
   "name": "python3"
  },
  "language_info": {
   "codemirror_mode": {
    "name": "ipython",
    "version": 3
   },
   "file_extension": ".py",
   "mimetype": "text/x-python",
   "name": "python",
   "nbconvert_exporter": "python",
   "pygments_lexer": "ipython3",
   "version": "3.13.7"
  }
 },
 "nbformat": 4,
 "nbformat_minor": 5
}
