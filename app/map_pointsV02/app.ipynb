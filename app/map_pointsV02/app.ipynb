{
 "cells": [
  {
   "cell_type": "markdown",
   "metadata": {},
   "source": [
    "# Create app to build images of cities connected by dots V02"
   ]
  },
  {
   "cell_type": "code",
   "execution_count": null,
   "metadata": {},
   "outputs": [],
   "source": [
    "import matplotlib.pyplot as plt\n",
    "import numpy as np\n",
    "import geopy.distance"
   ]
  },
  {
   "cell_type": "markdown",
   "metadata": {},
   "source": [
    "### 2. Collect City Data:\n",
    "\n",
    "Create a list of tuples, where each tuple contains the city name and its GPS coordinates (latitude, longitude). For example:"
   ]
  },
  {
   "cell_type": "code",
   "execution_count": null,
   "metadata": {},
   "outputs": [],
   "source": [
    "cities = [\n",
    "    (\"Seattle\", (47.6062, -122.3321)),  # City A\n",
    "    (\"San Francisco\", (37.7749, -122.4194)),  # City B\n",
    "    (\"New York City\", (40.7128, -74.0060)),  # City C\n",
    "    # ... add more cities as needed\n",
    "]"
   ]
  },
  {
   "cell_type": "markdown",
   "metadata": {},
   "source": [
    "### 3. Calculate Distances:\n",
    "\n",
    "Iterate over the list of cities and calculate the distance between each pair of consecutive cities using geopy.distance.distance(). Store the distances in a list."
   ]
  },
  {
   "cell_type": "code",
   "execution_count": null,
   "metadata": {},
   "outputs": [],
   "source": [
    "distances = []\n",
    "for i in range(len(cities) - 1):\n",
    "    city1_coords = cities[i][1]\n",
    "    city2_coords = cities[i + 1][1]\n",
    "    distance = geopy.distance.distance(city1_coords, city2_coords).km\n",
    "    distances.append(distance)"
   ]
  },
  {
   "cell_type": "markdown",
   "metadata": {},
   "source": [
    "### 4. Plot the Map:\n",
    "\n",
    "- Create a figure and axes using plt.figure() and plt.gca().\n",
    "- Set the background color using plt.gca().set_facecolor().\n",
    "- Plot the city points using plt.scatter().\n",
    "- Plot the lines connecting the cities using plt.plot(), with the line color and style adjusted as desired.\n",
    "- Add labels for city names and distances using plt.text() or plt.annotate().\n",
    "- Customize the plot appearance with settings like axis labels, grid lines, and title."
   ]
  },
  {
   "cell_type": "code",
   "execution_count": null,
   "metadata": {},
   "outputs": [],
   "source": [
    "plt.figure(figsize=(10, 8))\n",
    "ax = plt.gca()\n",
    "ax.set_facecolor(\"blue\")  # Change background color to blue\n",
    "\n",
    "x_coords = [city[1][0] for city in cities]\n",
    "y_coords = [city[1][1] for city in cities]\n",
    "plt.scatter(x_coords, y_coords, color=\"yellow\", marker=\"o\")\n",
    "\n",
    "for i in range(len(cities) - 1):\n",
    "    plt.plot([x_coords[i], x_coords[i + 1]], [y_coords[i], y_coords[i + 1]], color=\"white\", linestyle=\"--\")\n",
    "    plt.text((x_coords[i] + x_coords[i + 1]) / 2, (y_coords[i] + y_coords[i + 1]) / 2, f\"{distances[i]} km\", color=\"white\")\n",
    "\n",
    "plt.xlabel(\"Longitude\")\n",
    "plt.ylabel(\"Latitude\")\n",
    "plt.title(\"City Connections\")\n",
    "plt.grid(True)\n",
    "plt.show()"
   ]
  },
  {
   "cell_type": "markdown",
   "metadata": {},
   "source": [
    "### 5. Save the Image "
   ]
  },
  {
   "cell_type": "code",
   "execution_count": null,
   "metadata": {},
   "outputs": [],
   "source": [
    "plt.savefig(\"city_connections.png\")"
   ]
  }
 ],
 "metadata": {
  "language_info": {
   "name": "python"
  }
 },
 "nbformat": 4,
 "nbformat_minor": 2
}
