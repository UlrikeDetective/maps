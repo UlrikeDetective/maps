{
 "cells": [
  {
   "cell_type": "markdown",
   "metadata": {},
   "source": [
    "# Create app to build images of cities connected by dots"
   ]
  },
  {
   "cell_type": "code",
   "execution_count": null,
   "metadata": {},
   "outputs": [],
   "source": [
    "import matplotlib.pyplot as plt\n",
    "from geopy.geocoders import Nominatim\n",
    "from geopy.distance import geodesic\n",
    "from PIL import Image, ImageDraw\n"
   ]
  },
  {
   "cell_type": "markdown",
   "metadata": {},
   "source": [
    "### Step 2: Get GPS Coordinates of Cities\n",
    "Use Geopy's Nominatim to fetch GPS coordinates of cities. You can make a function to simplify this:"
   ]
  },
  {
   "cell_type": "code",
   "execution_count": null,
   "metadata": {},
   "outputs": [],
   "source": [
    "def get_coordinates(city_name):\n",
    "    geolocator = Nominatim(user_agent=\"city_mapper\")\n",
    "    location = geolocator.geocode(city_name)\n",
    "    return (location.latitude, location.longitude)\n"
   ]
  },
  {
   "cell_type": "markdown",
   "metadata": {},
   "source": [
    "### Step 3: Prepare Cities and Coordinates\n",
    "Create a list of cities you want to connect, then fetch their coordinates:"
   ]
  },
  {
   "cell_type": "code",
   "execution_count": null,
   "metadata": {},
   "outputs": [],
   "source": [
    "cities = [\"New York, USA\", \"London, UK\", \"Paris, France\", \"Berlin, Germany\"]\n",
    "\n",
    "coordinates = [get_coordinates(city) for city in cities]\n"
   ]
  },
  {
   "cell_type": "markdown",
   "metadata": {},
   "source": [
    "### Step 4: Plot Cities and Connect Them\n",
    "Now, plot the cities and draw lines connecting them. Use Matplotlib to create the visualization."
   ]
  },
  {
   "cell_type": "code",
   "execution_count": null,
   "metadata": {},
   "outputs": [],
   "source": [
    "def plot_cities(coordinates, cities):\n",
    "    # Unpack the coordinates\n",
    "    latitudes, longitudes = zip(*coordinates)\n",
    "    \n",
    "    plt.figure(figsize=(8, 6))\n",
    "\n",
    "    # Plot each city as a point\n",
    "    plt.scatter(longitudes, latitudes, color=\"red\", zorder=5)\n",
    "    \n",
    "    # Annotate cities on the plot\n",
    "    for i, city in enumerate(cities):\n",
    "        plt.text(longitudes[i] + 0.1, latitudes[i] + 0.1, city, fontsize=9)\n",
    "    \n",
    "    # Draw lines connecting the cities\n",
    "    plt.plot(longitudes, latitudes, color=\"blue\", linewidth=2, zorder=3)\n",
    "\n",
    "    # Set background color and grid\n",
    "    plt.gca().set_facecolor('lightblue')\n",
    "    plt.grid(True)\n",
    "\n",
    "    # Labels\n",
    "    plt.xlabel(\"Longitude\")\n",
    "    plt.ylabel(\"Latitude\")\n",
    "    \n",
    "    # Show the plot\n",
    "    plt.show()\n"
   ]
  },
  {
   "cell_type": "code",
   "execution_count": null,
   "metadata": {},
   "outputs": [],
   "source": [
    "plot_cities(coordinates, cities)\n"
   ]
  },
  {
   "cell_type": "markdown",
   "metadata": {},
   "source": [
    "This will create a plot of cities with lines connecting them.\n",
    "\n",
    "### Step 5: Calculate Distances Between Cities (Optional)\n",
    "You can also calculate the distances between the cities using Geopy’s geodesic method:"
   ]
  },
  {
   "cell_type": "code",
   "execution_count": null,
   "metadata": {},
   "outputs": [],
   "source": [
    "def calculate_distances(coordinates):\n",
    "    distances = []\n",
    "    for i in range(len(coordinates) - 1):\n",
    "        distances.append(geodesic(coordinates[i], coordinates[i+1]).kilometers)\n",
    "    return distances\n",
    "\n",
    "distances = calculate_distances(coordinates)\n",
    "print(\"Distances between cities in kilometers:\", distances)\n"
   ]
  },
  {
   "cell_type": "markdown",
   "metadata": {},
   "source": [
    "### Step 6: Save the Image\n",
    "You can now use Pillow to save this plot as an image:"
   ]
  },
  {
   "cell_type": "code",
   "execution_count": null,
   "metadata": {},
   "outputs": [],
   "source": [
    "def save_image():\n",
    "    fig = plt.figure(figsize=(8, 6))\n",
    "    ax = fig.add_subplot(111)\n",
    "    \n",
    "    # Plot the data again for saving\n",
    "    latitudes, longitudes = zip(*coordinates)\n",
    "    ax.scatter(longitudes, latitudes, color=\"red\", zorder=5)\n",
    "    ax.plot(longitudes, latitudes, color=\"blue\", linewidth=2, zorder=3)\n",
    "    \n",
    "    for i, city in enumerate(cities):\n",
    "        ax.text(longitudes[i] + 0.1, latitudes[i] + 0.1, city, fontsize=9)\n",
    "    \n",
    "    ax.set_facecolor(\"lightblue\")\n",
    "    \n",
    "    plt.xlabel(\"Longitude\")\n",
    "    plt.ylabel(\"Latitude\")\n",
    "    \n",
    "    # Save to an image file\n",
    "    plt.savefig(\"city_map.png\", bbox_inches='tight')\n",
    "    \n",
    "save_image()\n"
   ]
  },
  {
   "cell_type": "markdown",
   "metadata": {},
   "source": [
    "### Step 7: Display the Saved Image (Optional)"
   ]
  },
  {
   "cell_type": "code",
   "execution_count": null,
   "metadata": {},
   "outputs": [],
   "source": [
    "def display_image():\n",
    "    img = Image.open(\"city_map.png\")\n",
    "    img.show()\n",
    "\n",
    "display_image()\n"
   ]
  }
 ],
 "metadata": {
  "language_info": {
   "name": "python"
  }
 },
 "nbformat": 4,
 "nbformat_minor": 2
}
